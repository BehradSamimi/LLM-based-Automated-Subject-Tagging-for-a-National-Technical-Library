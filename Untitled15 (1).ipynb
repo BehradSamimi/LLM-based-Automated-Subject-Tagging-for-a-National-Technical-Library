{
  "nbformat": 4,
  "nbformat_minor": 0,
  "metadata": {
    "colab": {
      "provenance": []
    },
    "kernelspec": {
      "name": "python3",
      "display_name": "Python 3"
    },
    "language_info": {
      "name": "python"
    }
  },
  "cells": [
    {
      "cell_type": "code",
      "execution_count": null,
      "metadata": {
        "colab": {
          "base_uri": "https://localhost:8080/"
        },
        "id": "yzhF71b__cT0",
        "outputId": "ab03cc84-faaf-40a3-f8b2-f42a962653ac"
      },
      "outputs": [
        {
          "output_type": "stream",
          "name": "stdout",
          "text": [
            "Repository already cloned.\n"
          ]
        }
      ],
      "source": [
        "# Import necessary libraries\n",
        "import os\n",
        "import pandas as pd\n",
        "import json\n",
        "from git import Repo\n",
        "\n",
        "# Clone the GitHub repository\n",
        "git_url = \"https://github.com/jd-coderepos/llms4subjects.git\"\n",
        "repo_dir = \"llms4subjects\"\n",
        "\n",
        "if not os.path.exists(repo_dir):\n",
        "    print(\"Cloning repository...\")\n",
        "    Repo.clone_from(git_url, repo_dir)\n",
        "else:\n",
        "    print(\"Repository already cloned.\")\n",
        "\n",
        "# Path to the target folder\n",
        "data_folder = os.path.join(repo_dir, \"shared-task-datasets\", \"TIBKAT\", \"tib-core-subjects\", \"data\", \"train\", \"Book\", \"en\")\n",
        "\n",
        "# Verify the folder exists\n",
        "if not os.path.exists(data_folder):\n",
        "    raise FileNotFoundError(f\"The folder {data_folder} does not exist.\")\n"
      ]
    },
    {
      "cell_type": "code",
      "source": [
        "def get_raw_dict_book(book, file_name):\n",
        "  raw = {}\n",
        "  data = {}\n",
        "  label = {}\n",
        "  for item in book[\"@graph\"]:\n",
        "    if \"title\" in item:\n",
        "      data[\"file_name\"] = file_name\n",
        "      data[\"title\"] = item[\"title\"]\n",
        "      data[\"abstract\"] = item[\"abstract\"]\n",
        "      if (\"creator\" in item):\n",
        "        gnd_creator = []\n",
        "        if (isinstance(item[\"creator\"], list)):\n",
        "          gnd_creator = item[\"creator\"]\n",
        "        else:\n",
        "          gnd_creator = [item[\"creator\"]]\n",
        "        name_creator = []\n",
        "        for gnd in gnd_creator:\n",
        "          for finder in book[\"@graph\"]:\n",
        "            if \"@id\" in finder and finder[\"@id\"] == gnd:\n",
        "              name_creator.append(finder[\"sameAs\"])\n",
        "        data[\"creator\"] = name_creator\n",
        "      if (\"publisher\" in item):\n",
        "        data[\"publisher\"] = item[\"publisher\"]\n",
        "      if (\"@id\" in item[\"dcterms:subject\"]):\n",
        "        item[\"dcterms:subject\"] = [item[\"dcterms:subject\"]]\n",
        "      label[\"dcterms:subject\"] = [x[\"@id\"] for x in item[\"dcterms:subject\"]]\n",
        "      dcterms_name = []\n",
        "      for dcterms in label[\"dcterms:subject\"]:\n",
        "        for finder in book[\"@graph\"]:\n",
        "          if \"@id\" in finder and finder[\"@id\"] == dcterms:\n",
        "            dcterms_name.append(finder[\"sameAs\"])\n",
        "      label[\"dcterms:subject_name\"] = dcterms_name\n",
        "      raw.update(data)\n",
        "      raw.update(label)\n",
        "  return raw\n"
      ],
      "metadata": {
        "id": "ksce_rE3LPB7"
      },
      "execution_count": null,
      "outputs": []
    },
    {
      "cell_type": "code",
      "source": [
        "all_data = []\n",
        "# Iterate through all JSON-LD files in the folder\n",
        "for i, file_name in enumerate(os.listdir(data_folder)):\n",
        "    if file_name.endswith(\".jsonld\"):\n",
        "        if (i % 100 == 0):\n",
        "          print(f\"Processing file {i}: {file_name}\")\n",
        "        file_path = os.path.join(data_folder, file_name)\n",
        "        with open(file_path, \"r\", encoding=\"utf-8\") as f:\n",
        "            try:\n",
        "                # Load JSON-LD data\n",
        "                json_data = json.load(f)\n",
        "                preprocessed_data = get_raw_dict_book(json_data, file_name)\n",
        "                all_data.append(preprocessed_data)\n",
        "            except json.JSONDecodeError as e:\n",
        "                print(f\"Error decoding {file_name}: {e}\")\n"
      ],
      "metadata": {
        "colab": {
          "base_uri": "https://localhost:8080/"
        },
        "id": "G0kv9hlhFchE",
        "outputId": "4f24e372-747c-4a0d-a364-bc48eeb6894b"
      },
      "execution_count": null,
      "outputs": [
        {
          "output_type": "stream",
          "name": "stdout",
          "text": [
            "Processing file 0: 3A1651890803.jsonld\n",
            "Processing file 100: 3A1773891405.jsonld\n",
            "Processing file 200: 3A1759376485.jsonld\n",
            "Processing file 300: 3A881110248.jsonld\n",
            "Processing file 400: 3A1655439022.jsonld\n",
            "Processing file 500: 3A270026681.jsonld\n",
            "Processing file 600: 3A599204176.jsonld\n",
            "Processing file 700: 3A1651945357.jsonld\n",
            "Processing file 800: 3A1002768756.jsonld\n",
            "Processing file 900: 3A830149295.jsonld\n",
            "Processing file 1000: 3A1645532321.jsonld\n",
            "Processing file 1100: 3A1751229890.jsonld\n",
            "Processing file 1200: 3A161862704X.jsonld\n",
            "Processing file 1300: 3A1769607722.jsonld\n",
            "Processing file 1400: 3A1645934705.jsonld\n",
            "Processing file 1500: 3A1819955753.jsonld\n",
            "Processing file 1600: 3A525106227.jsonld\n",
            "Processing file 1700: 3A1756965625.jsonld\n",
            "Processing file 1800: 3A898697190.jsonld\n",
            "Processing file 1900: 3A252540948.jsonld\n",
            "Processing file 2000: 3A525803793.jsonld\n",
            "Processing file 2100: 3A1765049679.jsonld\n",
            "Processing file 2200: 3A1654914541.jsonld\n",
            "Processing file 2300: 3A1841950742.jsonld\n",
            "Processing file 2400: 3A632906162.jsonld\n",
            "Processing file 2500: 3A810076691.jsonld\n",
            "Processing file 2600: 3A1651893381.jsonld\n",
            "Processing file 2700: 3A177840457X.jsonld\n",
            "Processing file 2800: 3A1688721134.jsonld\n",
            "Processing file 2900: 3A86539993X.jsonld\n",
            "Processing file 3000: 3A858886510.jsonld\n",
            "Processing file 3100: 3A1848873581.jsonld\n",
            "Processing file 3200: 3A1023442388.jsonld\n",
            "Processing file 3300: 3A1854030507.jsonld\n",
            "Processing file 3400: 3A165191995X.jsonld\n",
            "Processing file 3500: 3A1655460358.jsonld\n",
            "Processing file 3600: 3A766599426.jsonld\n",
            "Processing file 3700: 3A679410872.jsonld\n",
            "Processing file 3800: 3A332505774.jsonld\n",
            "Processing file 3900: 3A785603166.jsonld\n",
            "Processing file 4000: 3A1651550220.jsonld\n",
            "Processing file 4100: 3A893397105.jsonld\n",
            "Processing file 4200: 3A1809218101.jsonld\n",
            "Processing file 4300: 3A670552445.jsonld\n",
            "Processing file 4400: 3A1655619551.jsonld\n",
            "Processing file 4500: 3A1736775707.jsonld\n",
            "Processing file 4600: 3A662096878.jsonld\n",
            "Processing file 4700: 3A767826108.jsonld\n",
            "Processing file 4800: 3A1654326933.jsonld\n",
            "Processing file 4900: 3A803239459.jsonld\n",
            "Processing file 5000: 3A1655408771.jsonld\n",
            "Processing file 5100: 3A1693641240.jsonld\n",
            "Processing file 5200: 3A1658599098.jsonld\n",
            "Processing file 5300: 3A165911750X.jsonld\n",
            "Processing file 5400: 3A72759401X.jsonld\n",
            "Processing file 5500: 3A717531260.jsonld\n",
            "Processing file 5600: 3A1847471757.jsonld\n",
            "Processing file 5700: 3A613654676.jsonld\n",
            "Processing file 5800: 3A086180479.jsonld\n",
            "Processing file 5900: 3A1655010530.jsonld\n",
            "Processing file 6000: 3A517644339.jsonld\n",
            "Processing file 6100: 3A1616381868.jsonld\n",
            "Processing file 6200: 3A664772595.jsonld\n",
            "Processing file 6300: 3A1655489704.jsonld\n",
            "Processing file 6400: 3A665377940.jsonld\n",
            "Processing file 6500: 3A1601937881.jsonld\n",
            "Processing file 6600: 3A1655453041.jsonld\n",
            "Processing file 6700: 3A72897908X.jsonld\n",
            "Processing file 6800: 3A1760767611.jsonld\n",
            "Processing file 6900: 3A73639706X.jsonld\n",
            "Processing file 7000: 3A1748331574.jsonld\n",
            "Processing file 7100: 3A876675771.jsonld\n",
            "Processing file 7200: 3A368682161.jsonld\n",
            "Processing file 7300: 3A1655489534.jsonld\n",
            "Processing file 7400: 3A66172297X.jsonld\n",
            "Processing file 7500: 3A655744789.jsonld\n",
            "Processing file 7600: 3A60974402X.jsonld\n",
            "Processing file 7700: 3A607388595.jsonld\n",
            "Processing file 7800: 3A1841632767.jsonld\n",
            "Processing file 7900: 3A778222853.jsonld\n",
            "Processing file 8000: 3A836244842.jsonld\n",
            "Processing file 8100: 3A1666722286.jsonld\n",
            "Processing file 8200: 3A164596728X.jsonld\n",
            "Processing file 8300: 3A1694511111.jsonld\n",
            "Processing file 8400: 3A1843302284.jsonld\n",
            "Processing file 8500: 3A1794152644.jsonld\n",
            "Processing file 8600: 3A1789225345.jsonld\n",
            "Processing file 8700: 3A783802951.jsonld\n",
            "Processing file 8800: 3A1868953599.jsonld\n",
            "Processing file 8900: 3A1655433881.jsonld\n",
            "Processing file 9000: 3A1654770728.jsonld\n",
            "Processing file 9100: 3A1649519354.jsonld\n",
            "Processing file 9200: 3A1724342851.jsonld\n",
            "Processing file 9300: 3A593579682.jsonld\n",
            "Processing file 9400: 3A898677548.jsonld\n",
            "Processing file 9500: 3A1646618688.jsonld\n",
            "Processing file 9600: 3A1655082779.jsonld\n",
            "Processing file 9700: 3A1664468218.jsonld\n",
            "Processing file 9800: 3A897754255.jsonld\n",
            "Processing file 9900: 3A1015724949.jsonld\n",
            "Processing file 10000: 3A89705234X.jsonld\n",
            "Processing file 10100: 3A1662798105.jsonld\n",
            "Processing file 10200: 3A1809995590.jsonld\n",
            "Processing file 10300: 3A629811113.jsonld\n",
            "Processing file 10400: 3A717137724.jsonld\n",
            "Processing file 10500: 3A1759182745.jsonld\n",
            "Processing file 10600: 3A1023439603.jsonld\n",
            "Processing file 10700: 3A1750508362.jsonld\n",
            "Processing file 10800: 3A1657870138.jsonld\n",
            "Processing file 10900: 3A1655124374.jsonld\n",
            "Processing file 11000: 3A1866037617.jsonld\n",
            "Processing file 11100: 3A1799631370.jsonld\n",
            "Processing file 11200: 3A637837177.jsonld\n",
            "Processing file 11300: 3A1659066093.jsonld\n",
            "Processing file 11400: 3A1748333925.jsonld\n",
            "Processing file 11500: 3A165741096X.jsonld\n",
            "Processing file 11600: 3A1657049779.jsonld\n",
            "Processing file 11700: 3A1610527232.jsonld\n",
            "Processing file 11800: 3A729971783.jsonld\n",
            "Processing file 11900: 3A1655203495.jsonld\n",
            "Processing file 12000: 3A1653171197.jsonld\n",
            "Processing file 12100: 3A662187261.jsonld\n",
            "Processing file 12200: 3A715432575.jsonld\n",
            "Processing file 12300: 3A1657134342.jsonld\n",
            "Processing file 12400: 3A24297709X.jsonld\n",
            "Processing file 12500: 3A800370333.jsonld\n",
            "Processing file 12600: 3A1702004481.jsonld\n",
            "Processing file 12700: 3A1663929459.jsonld\n",
            "Processing file 12800: 3A025249045.jsonld\n",
            "Processing file 12900: 3A1653990155.jsonld\n",
            "Processing file 13000: 3A1768266700.jsonld\n",
            "Processing file 13100: 3A1657331024.jsonld\n",
            "Processing file 13200: 3A678198861.jsonld\n",
            "Processing file 13300: 3A1651544719.jsonld\n",
            "Processing file 13400: 3A688492630.jsonld\n",
            "Processing file 13500: 3A1667867318.jsonld\n",
            "Processing file 13600: 3A1655063995.jsonld\n",
            "Processing file 13700: 3A1659305675.jsonld\n",
            "Processing file 13800: 3A634872680.jsonld\n",
            "Processing file 13900: 3A638426774.jsonld\n",
            "Processing file 14000: 3A664543944.jsonld\n",
            "Processing file 14100: 3A1789225280.jsonld\n",
            "Processing file 14200: 3A1656109964.jsonld\n",
            "Processing file 14300: 3A52673289X.jsonld\n",
            "Processing file 14400: 3A697289516.jsonld\n",
            "Processing file 14500: 3A1762961563.jsonld\n",
            "Processing file 14600: 3A183844923X.jsonld\n",
            "Processing file 14700: 3A1887058362.jsonld\n",
            "Processing file 14800: 3A1655402668.jsonld\n",
            "Processing file 14900: 3A1824520689.jsonld\n",
            "Processing file 15000: 3A1857703308.jsonld\n",
            "Processing file 15100: 3A1008675202.jsonld\n",
            "Processing file 15200: 3A1858127572.jsonld\n",
            "Processing file 15300: 3A1795234113.jsonld\n",
            "Processing file 15400: 3A1657156745.jsonld\n",
            "Processing file 15500: 3A1656245639.jsonld\n",
            "Processing file 15600: 3A086764349.jsonld\n",
            "Processing file 15700: 3A1616510048.jsonld\n",
            "Processing file 15800: 3A1653668598.jsonld\n",
            "Processing file 15900: 3A862818575.jsonld\n",
            "Processing file 16000: 3A864436300.jsonld\n",
            "Processing file 16100: 3A1748332775.jsonld\n",
            "Processing file 16200: 3A582050766.jsonld\n",
            "Processing file 16300: 3A749194383.jsonld\n",
            "Processing file 16400: 3A1620224003.jsonld\n",
            "Processing file 16500: 3A1031835784.jsonld\n",
            "Processing file 16600: 3A1780559798.jsonld\n",
            "Processing file 16700: 3A1702002616.jsonld\n",
            "Processing file 16800: 3A1819247945.jsonld\n",
            "Processing file 16900: 3A1655423924.jsonld\n",
            "Processing file 17000: 3A1664247300.jsonld\n",
            "Processing file 17100: 3A1613341822.jsonld\n",
            "Processing file 17200: 3A77930327X.jsonld\n",
            "Processing file 17300: 3A1815038845.jsonld\n",
            "Processing file 17400: 3A178959927X.jsonld\n",
            "Processing file 17500: 3A1824578121.jsonld\n",
            "Processing file 17600: 3A1650434936.jsonld\n"
          ]
        }
      ]
    },
    {
      "cell_type": "code",
      "source": [
        "dataframe = pd.DataFrame(all_data)"
      ],
      "metadata": {
        "id": "lMId1-4QLCXa"
      },
      "execution_count": null,
      "outputs": []
    },
    {
      "cell_type": "code",
      "source": [
        "output_file = \"output_data.csv\"\n",
        "dataframe.to_csv(output_file, index=False)\n",
        "\n",
        "print(f\"Data saved to {output_file}\")\n"
      ],
      "metadata": {
        "colab": {
          "base_uri": "https://localhost:8080/"
        },
        "id": "__Za1iXoT2Ot",
        "outputId": "85c94183-5cf9-4488-bfee-675ffc0170a3"
      },
      "execution_count": null,
      "outputs": [
        {
          "output_type": "stream",
          "name": "stdout",
          "text": [
            "Data saved to output_data.csv\n"
          ]
        }
      ]
    },
    {
      "cell_type": "code",
      "source": [],
      "metadata": {
        "id": "tcQ2iXDLEg1i"
      },
      "execution_count": null,
      "outputs": []
    },
    {
      "cell_type": "code",
      "source": [],
      "metadata": {
        "id": "8nnKdujmO1-j"
      },
      "execution_count": null,
      "outputs": []
    }
  ]
}