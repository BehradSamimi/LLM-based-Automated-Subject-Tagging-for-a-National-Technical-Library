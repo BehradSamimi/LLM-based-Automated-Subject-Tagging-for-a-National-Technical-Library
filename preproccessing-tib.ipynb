{
  "nbformat": 4,
  "nbformat_minor": 0,
  "metadata": {
    "colab": {
      "provenance": []
    },
    "kernelspec": {
      "name": "python3",
      "display_name": "Python 3"
    },
    "language_info": {
      "name": "python"
    }
  },
  "cells": [
    {
      "cell_type": "code",
      "execution_count": null,
      "metadata": {
        "colab": {
          "base_uri": "https://localhost:8080/"
        },
        "id": "yzhF71b__cT0",
        "outputId": "8e8f2e1a-d1bc-4c96-94a9-6ba65ba42c6f"
      },
      "outputs": [
        {
          "output_type": "stream",
          "name": "stdout",
          "text": [
            "Cloning repository...\n"
          ]
        }
      ],
      "source": [
        "# Import necessary libraries\n",
        "import os\n",
        "import pandas as pd\n",
        "import json\n",
        "from git import Repo\n",
        "\n",
        "# Clone the GitHub repository\n",
        "git_url = \"https://github.com/jd-coderepos/llms4subjects.git\"\n",
        "repo_dir = \"llms4subjects\"\n",
        "\n",
        "if not os.path.exists(repo_dir):\n",
        "    print(\"Cloning repository...\")\n",
        "    Repo.clone_from(git_url, repo_dir)\n",
        "else:\n",
        "    print(\"Repository already cloned.\")\n",
        "\n",
        "# Path to the target folder\n",
        "data_folder = os.path.join(repo_dir, \"shared-task-datasets\", \"TIBKAT\", \"tib-core-subjects\", \"data\", \"train\", \"Book\", \"en\")\n",
        "\n",
        "# Verify the folder exists\n",
        "if not os.path.exists(data_folder):\n",
        "    raise FileNotFoundError(f\"The folder {data_folder} does not exist.\")\n"
      ]
    },
    {
      "cell_type": "code",
      "source": [
        "def get_raw_dict_book(book):\n",
        "  raw = {}\n",
        "  data = {}\n",
        "  label = {}\n",
        "  for item in book[\"@graph\"]:\n",
        "    print(item)\n",
        "    if \"title\" in item:\n",
        "      data[\"title\"] = item[\"title\"]\n",
        "      data[\"abstract\"] = item[\"abstract\"]\n",
        "      data[\"creator\"] = item[\"creator\"]\n",
        "      data[\"publisher\"] = item[\"publisher\"]\n",
        "      label[\"dcterms:subject\"] = item[\"dcterms:subject\"]\n",
        "      raw.update(data)\n",
        "      raw.update(label)\n",
        "  return raw\n"
      ],
      "metadata": {
        "id": "ksce_rE3LPB7"
      },
      "execution_count": null,
      "outputs": []
    },
    {
      "cell_type": "code",
      "source": [
        "all_data = []\n",
        "# Iterate through all JSON-LD files in the folder\n",
        "for i, file_name in enumerate(os.listdir(data_folder)):\n",
        "    if file_name.endswith(\".jsonld\"):\n",
        "        print(f\"Processing file {i}: {file_name}\")\n",
        "        if (i > 2):\n",
        "          break\n",
        "        file_path = os.path.join(data_folder, file_name)\n",
        "        with open(file_path, \"r\", encoding=\"utf-8\") as f:\n",
        "            try:\n",
        "                # Load JSON-LD data\n",
        "                json_data = json.load(f)\n",
        "                preprocessed_data = get_raw_dict_book(json_data)\n",
        "                print(preprocessed_data)\n",
        "                all_data.append(preprocessed_data)\n",
        "            except json.JSONDecodeError as e:\n",
        "                print(f\"Error decoding {file_name}: {e}\")\n"
      ],
      "metadata": {
        "colab": {
          "base_uri": "https://localhost:8080/"
        },
        "id": "G0kv9hlhFchE",
        "outputId": "62691522-77a7-4fa7-b936-a6ff52bffcd7"
      },
      "execution_count": null,
      "outputs": [
        {
          "output_type": "stream",
          "name": "stdout",
          "text": [
            "Processing file 0: 3A1651890803.jsonld\n",
            "{'@id': 'gnd:1028575963', 'sameAs': 'Wipf, Andreas'}\n",
            "{'@id': 'gnd:4047984-5', 'sameAs': 'Quantenfeldtheorie'}\n",
            "{'@id': 'gnd:4057000-9', 'sameAs': 'Statistische Physik'}\n",
            "{'@id': 'https://www.tib.eu/de/suchen/id/TIBKAT%3A1651890803', '@type': 'bibo:Book', 'P1053': 'Online-Ressource (XVIII, 390 p. 133 illus, digital)', 'description': 'Campusweiter Zugriff (Universität Hannover). - Vervielfältigungen (z.B. Kopien, Downloads) sind nur von einzelnen Kapiteln oder Seiten und nur zum eigenen wissenschaftlichen Gebrauch erlaubt. Keine Weitergabe an Dritte. Kein systematisches Downloaden durch Robots.', 'identifier': ['(doi)10.1007/978-3-642-33105-3', '(isbn13)9783642331053', '(firstid)BSZ:375375627', '(ppn)1651890803'], 'publisher': 'Springer', 'subject': ['(classificationName=linseach:mapping)mat', 'Physics', '(classificationName=msc)81S40', '(classificationName=ddc)530.143', 'Quantum theory', '(classificationName=rvk)UO 4000', '(classificationName=bk, id=106407937)33.06 - Mathematische Methoden der Physik', '(classificationName=rvk)UD 8220', 'Mathematical physics', '(classificationName=msc)82Dxx', '(classificationName=msc)82B10', '(classificationName=msc)82B28', '(classificationName=bk, id=106407465)33.24 - Quantenfeldtheorie', '(classificationName=msc)*81-01', '(classificationName=msc)82C10', '(classificationName=msc)82B80', '(classificationName=linseach:mapping)phy', '(classificationName=loc)QC5.53', '(classificationName=ddc)530.15'], 'title': 'Statistical Approach to Quantum Field Theory : An Introduction', 'abstract': 'Over the past few decades the powerful methods of statistical physics and Euclidean quantum field theory have moved closer together, with common tools based on the use of path integrals. The interpretation of Euclidean field theories as particular systems of statistical physics has opened up new avenues for understanding strongly coupled quantum systems or quantum field theories at zero or finite temperatures. Accordingly, the first chapters of this book contain a self-contained introduction to path integrals in Euclidean quantum mechanics and statistical mechanics. The resulting high-dimensional integrals can be estimated with the help of Monte Carlo simulations based on Markov processes. The most commonly used algorithms are presented in detail so as to prepare the reader for the use of high-performance computers as an “experimental” tool for this burgeoning field of theoretical physics.Several chapters are then devoted to an introduction to simple lattice field theories and a variety of spin systems with discrete and continuous spins, where the ubiquitous Ising model serves as an ideal guide for introducing the fascinating area of phase transitions. As an alternative to the lattice formulation of quantum field theories, variants of the flexible renormalization group methods are discussed in detail. Since, according to our present-day knowledge, all fundamental interactions in nature are described by gauge theories, the remaining chapters of the book deal with gauge theories without and with matter.This text is based on course-tested notes for graduate students and, as such, its style is essentially pedagogical, requiring only some basics of mathematics, statistical physics, and quantum field theory. Yet it also contains some more sophisticated concepts which may be useful to researchers in the field. Each chapter ends with a number of problems - guiding the reader to a deeper understanding of some of the material presented in the main text - and, in most cases, also features some listings of short, useful computer programs.', 'contributor': 'Technische Informationsbibliothek (TIB)', 'creator': 'gnd:1028575963', 'isPartOf': ['(collectioncode)ZDB-2-PHA', '(collectioncode)ZDB-2-LNP'], 'issued': '2013', 'language': 'http://id.loc.gov/vocabulary/iso639-1/en', 'license': 'commercial licence', 'medium': 'rda:termList/RDACarrierType/1018', 'dcterms:subject': [{'@id': 'gnd:4047984-5'}, {'@id': 'gnd:4057000-9'}], 'tableOfContents': 'http://www.gbv.de/dms/bowker/toc/9783642331046.pdf', 'volume': '864', 'isLike': 'doi:10.1007/978-3-642-33105-3', 'P30128': ['SpringerLink', 'Lecture Notes in Physics', 'Bücher'], 'P60163': 'Berlin'}\n",
            "{'title': 'Statistical Approach to Quantum Field Theory : An Introduction', 'abstract': 'Over the past few decades the powerful methods of statistical physics and Euclidean quantum field theory have moved closer together, with common tools based on the use of path integrals. The interpretation of Euclidean field theories as particular systems of statistical physics has opened up new avenues for understanding strongly coupled quantum systems or quantum field theories at zero or finite temperatures. Accordingly, the first chapters of this book contain a self-contained introduction to path integrals in Euclidean quantum mechanics and statistical mechanics. The resulting high-dimensional integrals can be estimated with the help of Monte Carlo simulations based on Markov processes. The most commonly used algorithms are presented in detail so as to prepare the reader for the use of high-performance computers as an “experimental” tool for this burgeoning field of theoretical physics.Several chapters are then devoted to an introduction to simple lattice field theories and a variety of spin systems with discrete and continuous spins, where the ubiquitous Ising model serves as an ideal guide for introducing the fascinating area of phase transitions. As an alternative to the lattice formulation of quantum field theories, variants of the flexible renormalization group methods are discussed in detail. Since, according to our present-day knowledge, all fundamental interactions in nature are described by gauge theories, the remaining chapters of the book deal with gauge theories without and with matter.This text is based on course-tested notes for graduate students and, as such, its style is essentially pedagogical, requiring only some basics of mathematics, statistical physics, and quantum field theory. Yet it also contains some more sophisticated concepts which may be useful to researchers in the field. Each chapter ends with a number of problems - guiding the reader to a deeper understanding of some of the material presented in the main text - and, in most cases, also features some listings of short, useful computer programs.', 'creator': 'gnd:1028575963', 'publisher': 'Springer', 'dcterms:subject': [{'@id': 'gnd:4047984-5'}, {'@id': 'gnd:4057000-9'}]}\n",
            "Processing file 1: 3A1744942730.jsonld\n",
            "{'@id': 'gnd:1110055234', 'sameAs': 'Mierke, Claudia'}\n",
            "{'@id': 'gnd:4006891-2', 'sameAs': 'Biophysik'}\n",
            "{'@id': 'gnd:4067537-3', 'sameAs': 'Zelle'}\n",
            "{'@id': 'gnd:4070177-3', 'sameAs': 'Cytologie'}\n",
            "{'@id': 'gnd:4217961-0', 'sameAs': 'Mechanische Eigenschaft'}\n",
            "{'@id': 'https://www.tib.eu/de/suchen/id/TIBKAT%3A1744942730', '@type': 'bibo:Book', 'P1053': 'xxvii, 900 Seiten', 'description': 'Illustrationen, Diagramme', 'identifier': ['(isbn13)9783030585310', '(firstid)KXP:1744942730', '(doi)10.1007/978-3-030-58532-7', '(ppn)1744942730'], 'publisher': 'Springer', 'subject': ['Biological physics.', 'Cell physiology.', 'Immunology.', '(classificationName=rvk)WE 2300', '(classificationName=linseach:mapping)bio', '(classificationName=linseach:mapping)phy', '(classificationName=bk, id=106419978)42.12 - Biophysik', '(classificationName=bk, id=106423274)33.62 - Mechanische Eigenschaften, akustische Eigenschaften, thermische Eigenschaften', '(classificationName=bk, id=106421433)42.15 - Zellbiologie', 'Biophysics.', 'Biomedical engineering.', '(classificationName=ddc)571.4'], 'title': 'Cellular mechanics and biophysics : structure and function of basic cellular components regulating cell mechanics', 'abstract': 'This book focuses on the mechanical properties of cells, discussing the basic concepts and processes in the fields of immunology, biology, and biochemistry. It introduces and explains state-of-the-art biophysical methods and examines the role of mechanical properties in the cell/protein interaction with the connective tissue microenvironment. The book presents a unique perspective on cellular mechanics and biophysics by combining the mechanical, biological, physical, biochemical, medical, microbiological, viral, and immunological views, highlighting the importance of the mechanical properties of cells and biophysical measurement methods. The book guides readers through the complex and growing field of cellular mechanics and biophysics, connecting and discussing research findings from different fields such as biology, cell biology, immunology, physics, and medicine. Featuring suggestions for further reading throughout and addressing a wide selection of biophysical topics, this book is an indispensable guide for graduate and advanced undergraduate students in the fields of cellular mechanics and biophysics.', 'contributor': 'Technische Informationsbibliothek (TIB)', 'creator': 'gnd:1110055234', 'issued': '2020', 'language': 'http://id.loc.gov/vocabulary/iso639-1/en', 'license': 'commercial licence', 'medium': 'rda:termList/RDACarrierType/1044', 'dcterms:subject': [{'@id': 'gnd:4217961-0'}, {'@id': 'gnd:4006891-2'}, {'@id': 'gnd:4070177-3'}, {'@id': 'gnd:4067537-3'}], 'tableOfContents': 'https://www.gbv.de/dms/tib-ub-hannover/1744942730.pdf', 'isLike': 'doi:10.1007/978-3-030-58532-7', 'P30128': 'Biological and medical physics, biomedical engineering', 'P60163': 'Cham, Switzerland'}\n",
            "{'title': 'Cellular mechanics and biophysics : structure and function of basic cellular components regulating cell mechanics', 'abstract': 'This book focuses on the mechanical properties of cells, discussing the basic concepts and processes in the fields of immunology, biology, and biochemistry. It introduces and explains state-of-the-art biophysical methods and examines the role of mechanical properties in the cell/protein interaction with the connective tissue microenvironment. The book presents a unique perspective on cellular mechanics and biophysics by combining the mechanical, biological, physical, biochemical, medical, microbiological, viral, and immunological views, highlighting the importance of the mechanical properties of cells and biophysical measurement methods. The book guides readers through the complex and growing field of cellular mechanics and biophysics, connecting and discussing research findings from different fields such as biology, cell biology, immunology, physics, and medicine. Featuring suggestions for further reading throughout and addressing a wide selection of biophysical topics, this book is an indispensable guide for graduate and advanced undergraduate students in the fields of cellular mechanics and biophysics.', 'creator': 'gnd:1110055234', 'publisher': 'Springer', 'dcterms:subject': [{'@id': 'gnd:4217961-0'}, {'@id': 'gnd:4006891-2'}, {'@id': 'gnd:4070177-3'}, {'@id': 'gnd:4067537-3'}]}\n",
            "Processing file 2: 3A1742315283.jsonld\n",
            "{'@id': 'gnd:1238054854', 'sameAs': 'Marchildon, Louis'}\n",
            "{'@id': 'gnd:4017894-8', 'sameAs': 'Forschung'}\n",
            "{'@id': 'gnd:4038971-6', 'sameAs': 'Methode'}\n",
            "{'@id': 'gnd:4066562-8', 'sameAs': 'Wissenschaft'}\n",
            "{'@id': 'https://www.tib.eu/de/suchen/id/TIBKAT%3A1742315283', '@type': 'bibo:Book', 'P1053': 'x, 158 Seiten', 'description': 'Illustrationen, Diagramme', 'identifier': ['(ppn)1742315283', '(isbn13)9789811232831', '(isbn13)9789811231179', '(firstid)KXP:1742315283'], 'publisher': 'World Scientific', 'subject': ['(classificationName=loc)Q126.9', '(classificationName=bk, id=106403168)02.01 - Geschichte der Wissenschaft und Kultur', '(classificationName=linseach:mapping)rest', 'Geschichte', '(classificationName=bk, id=106403230)02.13 - Wissenschaftspraxis', 'Science', '(classificationName=ddc)509'], 'title': 'From Thales to gravitational waves : the scientific perspective', 'abstract': '\"Science has its roots in human curiosity. It is not only an accumulation of knowledge, nor the locus of absolute certainties. It is also a process of exploration and research. Today, scientific investigation leads to theoretical and technological feats so astonishing that we sometimes lose track of the journey that brought us there. Or we forget what constitutes the very foundations of scientific thought, thanks to which Copernicus set the Earth in its right place in our models of the Universe, Charles Darwin elucidated the mechanism of the evolution of living species, and Albert Einstein brought out the intimate connection between energy, space, and time. This book is a reliable guide to acquaint oneself with the scientific process. It also constitutes an antidote to the pseudo-scientific ramblings that are now contaminating our culture and our reason\"--', 'contributor': 'Technische Informationsbibliothek (TIB)', 'creator': 'gnd:1238054854', 'issued': '2021', 'language': 'http://id.loc.gov/vocabulary/iso639-1/en', 'license': 'commercial licence', 'medium': 'rda:termList/RDACarrierType/1044', 'dcterms:subject': [{'@id': 'gnd:4017894-8'}, {'@id': 'gnd:4038971-6'}, {'@id': 'gnd:4066562-8'}], 'tableOfContents': 'https://www.gbv.de/dms/tib-ub-hannover/1742315283.pdf', 'P60163': 'New Jersey'}\n",
            "{'title': 'From Thales to gravitational waves : the scientific perspective', 'abstract': '\"Science has its roots in human curiosity. It is not only an accumulation of knowledge, nor the locus of absolute certainties. It is also a process of exploration and research. Today, scientific investigation leads to theoretical and technological feats so astonishing that we sometimes lose track of the journey that brought us there. Or we forget what constitutes the very foundations of scientific thought, thanks to which Copernicus set the Earth in its right place in our models of the Universe, Charles Darwin elucidated the mechanism of the evolution of living species, and Albert Einstein brought out the intimate connection between energy, space, and time. This book is a reliable guide to acquaint oneself with the scientific process. It also constitutes an antidote to the pseudo-scientific ramblings that are now contaminating our culture and our reason\"--', 'creator': 'gnd:1238054854', 'publisher': 'World Scientific', 'dcterms:subject': [{'@id': 'gnd:4017894-8'}, {'@id': 'gnd:4038971-6'}, {'@id': 'gnd:4066562-8'}]}\n",
            "Processing file 3: 3A543964272.jsonld\n"
          ]
        }
      ]
    },
    {
      "cell_type": "code",
      "source": [
        "print(all_data)"
      ],
      "metadata": {
        "colab": {
          "base_uri": "https://localhost:8080/"
        },
        "id": "qmTCpU9eK7Z-",
        "outputId": "fe24f593-6539-46f5-f2e8-5e3203d338a2"
      },
      "execution_count": null,
      "outputs": [
        {
          "output_type": "stream",
          "name": "stdout",
          "text": [
            "[{'title': 'Statistical Approach to Quantum Field Theory : An Introduction', 'abstract': 'Over the past few decades the powerful methods of statistical physics and Euclidean quantum field theory have moved closer together, with common tools based on the use of path integrals. The interpretation of Euclidean field theories as particular systems of statistical physics has opened up new avenues for understanding strongly coupled quantum systems or quantum field theories at zero or finite temperatures. Accordingly, the first chapters of this book contain a self-contained introduction to path integrals in Euclidean quantum mechanics and statistical mechanics. The resulting high-dimensional integrals can be estimated with the help of Monte Carlo simulations based on Markov processes. The most commonly used algorithms are presented in detail so as to prepare the reader for the use of high-performance computers as an “experimental” tool for this burgeoning field of theoretical physics.Several chapters are then devoted to an introduction to simple lattice field theories and a variety of spin systems with discrete and continuous spins, where the ubiquitous Ising model serves as an ideal guide for introducing the fascinating area of phase transitions. As an alternative to the lattice formulation of quantum field theories, variants of the flexible renormalization group methods are discussed in detail. Since, according to our present-day knowledge, all fundamental interactions in nature are described by gauge theories, the remaining chapters of the book deal with gauge theories without and with matter.This text is based on course-tested notes for graduate students and, as such, its style is essentially pedagogical, requiring only some basics of mathematics, statistical physics, and quantum field theory. Yet it also contains some more sophisticated concepts which may be useful to researchers in the field. Each chapter ends with a number of problems - guiding the reader to a deeper understanding of some of the material presented in the main text - and, in most cases, also features some listings of short, useful computer programs.', 'creator': 'gnd:1028575963', 'publisher': 'Springer', 'dcterms:subject': [{'@id': 'gnd:4047984-5'}, {'@id': 'gnd:4057000-9'}]}, {'title': 'Cellular mechanics and biophysics : structure and function of basic cellular components regulating cell mechanics', 'abstract': 'This book focuses on the mechanical properties of cells, discussing the basic concepts and processes in the fields of immunology, biology, and biochemistry. It introduces and explains state-of-the-art biophysical methods and examines the role of mechanical properties in the cell/protein interaction with the connective tissue microenvironment. The book presents a unique perspective on cellular mechanics and biophysics by combining the mechanical, biological, physical, biochemical, medical, microbiological, viral, and immunological views, highlighting the importance of the mechanical properties of cells and biophysical measurement methods. The book guides readers through the complex and growing field of cellular mechanics and biophysics, connecting and discussing research findings from different fields such as biology, cell biology, immunology, physics, and medicine. Featuring suggestions for further reading throughout and addressing a wide selection of biophysical topics, this book is an indispensable guide for graduate and advanced undergraduate students in the fields of cellular mechanics and biophysics.', 'creator': 'gnd:1110055234', 'publisher': 'Springer', 'dcterms:subject': [{'@id': 'gnd:4217961-0'}, {'@id': 'gnd:4006891-2'}, {'@id': 'gnd:4070177-3'}, {'@id': 'gnd:4067537-3'}]}, {'title': 'From Thales to gravitational waves : the scientific perspective', 'abstract': '\"Science has its roots in human curiosity. It is not only an accumulation of knowledge, nor the locus of absolute certainties. It is also a process of exploration and research. Today, scientific investigation leads to theoretical and technological feats so astonishing that we sometimes lose track of the journey that brought us there. Or we forget what constitutes the very foundations of scientific thought, thanks to which Copernicus set the Earth in its right place in our models of the Universe, Charles Darwin elucidated the mechanism of the evolution of living species, and Albert Einstein brought out the intimate connection between energy, space, and time. This book is a reliable guide to acquaint oneself with the scientific process. It also constitutes an antidote to the pseudo-scientific ramblings that are now contaminating our culture and our reason\"--', 'creator': 'gnd:1238054854', 'publisher': 'World Scientific', 'dcterms:subject': [{'@id': 'gnd:4017894-8'}, {'@id': 'gnd:4038971-6'}, {'@id': 'gnd:4066562-8'}]}]\n"
          ]
        }
      ]
    },
    {
      "cell_type": "code",
      "source": [
        "dataframe = pd.DataFrame(all_data)"
      ],
      "metadata": {
        "id": "lMId1-4QLCXa"
      },
      "execution_count": null,
      "outputs": []
    },
    {
      "cell_type": "code",
      "source": [
        "output_file = \"output_data.csv\"\n",
        "dataframe.to_csv(output_file, index=False)\n",
        "\n",
        "print(f\"Data saved to {output_file}\")\n"
      ],
      "metadata": {
        "colab": {
          "base_uri": "https://localhost:8080/"
        },
        "id": "__Za1iXoT2Ot",
        "outputId": "3f387438-ccdd-4087-9366-2ebe70a41979"
      },
      "execution_count": null,
      "outputs": [
        {
          "output_type": "stream",
          "name": "stdout",
          "text": [
            "Data saved to output_data.csv\n"
          ]
        }
      ]
    },
    {
      "cell_type": "code",
      "source": [],
      "metadata": {
        "id": "tcQ2iXDLEg1i"
      },
      "execution_count": null,
      "outputs": []
    },
    {
      "cell_type": "code",
      "source": [],
      "metadata": {
        "id": "8nnKdujmO1-j"
      },
      "execution_count": null,
      "outputs": []
    }
  ]
}
