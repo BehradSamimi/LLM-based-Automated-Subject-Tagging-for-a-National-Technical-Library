{
  "cells": [
    {
      "cell_type": "markdown",
      "metadata": {
        "id": "view-in-github",
        "colab_type": "text"
      },
      "source": [
        "<a href=\"https://colab.research.google.com/github/BehradSamimi/semEval-task5-2025/blob/main/gnd_subjects_description.ipynb\" target=\"_parent\"><img src=\"https://colab.research.google.com/assets/colab-badge.svg\" alt=\"Open In Colab\"/></a>"
      ]
    },
    {
      "cell_type": "code",
      "execution_count": 2,
      "metadata": {
        "id": "sziituDBGmTl"
      },
      "outputs": [],
      "source": [
        "import requests\n",
        "import json\n",
        "import pandas as pd\n",
        "\n",
        "# URL of the raw JSON file in the GitHub repository\n",
        "\n",
        "url1 = \"https://raw.githubusercontent.com/jd-coderepos/llms4subjects/refs/heads/main/shared-task-datasets/GND/dataset/gnd-classification-for-gnd-subjects.json\"\n",
        "url2 = \"https://raw.githubusercontent.com/jd-coderepos/llms4subjects/refs/heads/main/shared-task-datasets/GND/dataset/GND-Subjects-all.json\"\n",
        "url3 = \"https://raw.githubusercontent.com/jd-coderepos/llms4subjects/refs/heads/main/shared-task-datasets/GND/dataset/GND-Subjects-tib-core.json\"\n",
        "urls = [url1, url2, url3]\n",
        "\n",
        "data = []\n",
        "for url in urls:\n",
        "  try:\n",
        "      # Send a GET request to fetch the content of the JSON file\n",
        "      response = requests.get(url)\n",
        "      response.raise_for_status()  # Raise an error for HTTP status codes 4xx/5xx\n",
        "\n",
        "      # Parse the JSON content\n",
        "      data.append(response.json())\n",
        "\n",
        "  except requests.exceptions.RequestException as e:\n",
        "      print(f\"Error fetching the JSON file: {e}\")\n",
        "  except json.JSONDecodeError:\n",
        "      print(\"Error decoding JSON. Please check the file format.\")\n",
        "\n",
        "gnd_subject_names = pd.DataFrame(data[0])\n",
        "gnd_subject_all = pd.DataFrame(data[1])\n",
        "gnd_subject_tib_core = pd.DataFrame(data[2])\n",
        "\n"
      ]
    },
    {
      "cell_type": "code",
      "execution_count": 3,
      "metadata": {
        "colab": {
          "base_uri": "https://localhost:8080/"
        },
        "id": "QjSRusd8Hid-",
        "outputId": "ece1763b-fc9a-4871-a93e-5333144be453"
      },
      "outputs": [
        {
          "output_type": "stream",
          "name": "stdout",
          "text": [
            "  Code                                              Name  TIB Core\n",
            "0   00                     Unspezifische Allgemeinwörter      True\n",
            "1  00m  Maschinell eingespielte Datensätze (Platzhalter)      True\n",
            "2  00p          Sachlich nicht klassifizierbare Personen      True\n",
            "3    1    Allgemeines, Interdisziplinäre Allgemeinwörter      True\n",
            "4    2                             Schrift, Buch, Presse     False\n",
            "(483, 3)\n",
            "            Code Classification Number            Classification Name  \\\n",
            "0  gnd:4003694-7                    00  Unspezifische Allgemeinwörter   \n",
            "1  gnd:4032393-6                    00  Unspezifische Allgemeinwörter   \n",
            "2  gnd:4038971-6                    00  Unspezifische Allgemeinwörter   \n",
            "3  gnd:4043744-9                    00  Unspezifische Allgemeinwörter   \n",
            "4  gnd:4048300-9                    00  Unspezifische Allgemeinwörter   \n",
            "\n",
            "           Name                                     Alternate Name  \\\n",
            "0   Ausbreitung                                                 []   \n",
            "1  Koordination                                    [Koordinierung]   \n",
            "2       Methode  [Methodik, Verfahren,Methode, Technik,Methode,...   \n",
            "3       Ordnung                                                 []   \n",
            "4        Rahmen                                                 []   \n",
            "\n",
            "      Related Subjects Source  \\\n",
            "0                   []    Du.   \n",
            "1                   []   M 1.   \n",
            "2       [Methodologie]      M   \n",
            "3  [Unordnung, Ordnen]   M 1.   \n",
            "4                   []      M   \n",
            "\n",
            "                                          Definition Source URL  \n",
            "0                                                NaN        NaN  \n",
            "1                    Verknüpfe mit Anwendungsgebiet        NaN  \n",
            "2                                                NaN        NaN  \n",
            "3  Allgemeinbegriff, verknüpfe mit Anwendungsgebiet        NaN  \n",
            "4  Etwas, was einer Sache ein bestimmtes (äußere...        NaN  \n",
            "(204739, 9)\n",
            "            Code Classification Number            Classification Name  \\\n",
            "0  gnd:4003694-7                    00  Unspezifische Allgemeinwörter   \n",
            "1  gnd:4032393-6                    00  Unspezifische Allgemeinwörter   \n",
            "2  gnd:4038971-6                    00  Unspezifische Allgemeinwörter   \n",
            "3  gnd:4043744-9                    00  Unspezifische Allgemeinwörter   \n",
            "4  gnd:4048300-9                    00  Unspezifische Allgemeinwörter   \n",
            "\n",
            "           Name                                     Alternate Name  \\\n",
            "0   Ausbreitung                                                 []   \n",
            "1  Koordination                                    [Koordinierung]   \n",
            "2       Methode  [Methodik, Verfahren,Methode, Technik,Methode,...   \n",
            "3       Ordnung                                                 []   \n",
            "4        Rahmen                                                 []   \n",
            "\n",
            "      Related Subjects Source  \\\n",
            "0                   []    Du.   \n",
            "1                   []   M 1.   \n",
            "2       [Methodologie]      M   \n",
            "3  [Unordnung, Ordnen]   M 1.   \n",
            "4                   []      M   \n",
            "\n",
            "                                          Definition Source URL  \n",
            "0                                                NaN        NaN  \n",
            "1                    Verknüpfe mit Anwendungsgebiet        NaN  \n",
            "2                                                NaN        NaN  \n",
            "3  Allgemeinbegriff, verknüpfe mit Anwendungsgebiet        NaN  \n",
            "4  Etwas, was einer Sache ein bestimmtes (äußere...        NaN  \n",
            "(79427, 9)\n"
          ]
        }
      ],
      "source": [
        "print(gnd_subject_names.head())\n",
        "print(gnd_subject_names.shape)\n",
        "print(gnd_subject_all.head())\n",
        "print(gnd_subject_all.shape)\n",
        "print(gnd_subject_tib_core.head())\n",
        "print(gnd_subject_tib_core.shape)\n"
      ]
    },
    {
      "cell_type": "code",
      "execution_count": 4,
      "metadata": {
        "colab": {
          "base_uri": "https://localhost:8080/"
        },
        "id": "S0T19uVGHsk8",
        "outputId": "774b2199-7933-42dd-a115-a8b3975f0fbd"
      },
      "outputs": [
        {
          "output_type": "stream",
          "name": "stdout",
          "text": [
            "  Code                                            Name  TIB Core\n",
            "0   00                   Unspezifische Allgemeinwörter      True\n",
            "3    1  Allgemeines, Interdisziplinäre Allgemeinwörter      True\n",
            "5  2.1                     Schrift, Handschriftenkunde     False\n",
            "7  2.2                    Buchwissenschaft, Buchhandel     False\n",
            "9  2.3                                          Presse     False\n",
            "(345, 3)\n",
            "      Code                                            Name  TIB Core\n",
            "0       00                   Unspezifische Allgemeinwörter      True\n",
            "3        1  Allgemeines, Interdisziplinäre Allgemeinwörter      True\n",
            "196  10.6a                   Telekommunikation und Verkehr      True\n",
            "197  10.6b   Fremdenverkehr, Hotel- und Gaststättengewerbe      True\n",
            "200  10.7a                   Umweltschutz, Umweltbelastung      True\n",
            "(66, 3)\n"
          ]
        }
      ],
      "source": [
        "filtered_gnd_subject_names = gnd_subject_names[gnd_subject_names['Code'].isin(gnd_subject_all['Classification Number'])]\n",
        "print(filtered_gnd_subject_names.head())\n",
        "print(filtered_gnd_subject_names.shape)\n",
        "filtered_gnd_subject_tib_core = filtered_gnd_subject_names[filtered_gnd_subject_names['TIB Core'] == True]\n",
        "print(filtered_gnd_subject_tib_core.head())\n",
        "print(filtered_gnd_subject_tib_core.shape)"
      ]
    },
    {
      "cell_type": "code",
      "source": [
        "frequencies_all =[]\n",
        "frequencies_tib_core =[]\n",
        "for code in filtered_gnd_subject_names['Code']:\n",
        "  gnd_codes = gnd_subject_all[gnd_subject_all['Classification Number'] == code]\n",
        "  frequencies_all.append(gnd_codes.shape[0])\n",
        "  if code in gnd_subject_tib_core['Classification Number'].values:\n",
        "    gnd_codes = gnd_subject_tib_core[gnd_subject_tib_core['Classification Number'] == code]\n",
        "    frequencies_tib_core.append(gnd_codes.shape[0])\n",
        "filtered_gnd_subject_names['Frequency'] = frequencies_all\n",
        "filtered_gnd_subject_names.head()\n",
        "filtered_gnd_subject_tib_core['Frequency'] = frequencies_tib_core\n",
        "filtered_gnd_subject_tib_core.head()\n"
      ],
      "metadata": {
        "colab": {
          "base_uri": "https://localhost:8080/",
          "height": 434
        },
        "id": "_UiE29jGvlsu",
        "outputId": "e77e1a21-7b62-42b8-eddf-7c1dd984c07c"
      },
      "execution_count": 4,
      "outputs": [
        {
          "output_type": "stream",
          "name": "stderr",
          "text": [
            "<ipython-input-4-7d9cab4f9d02>:9: SettingWithCopyWarning: \n",
            "A value is trying to be set on a copy of a slice from a DataFrame.\n",
            "Try using .loc[row_indexer,col_indexer] = value instead\n",
            "\n",
            "See the caveats in the documentation: https://pandas.pydata.org/pandas-docs/stable/user_guide/indexing.html#returning-a-view-versus-a-copy\n",
            "  filtered_gnd_subject_names['Frequency'] = frequencies_all\n",
            "<ipython-input-4-7d9cab4f9d02>:11: SettingWithCopyWarning: \n",
            "A value is trying to be set on a copy of a slice from a DataFrame.\n",
            "Try using .loc[row_indexer,col_indexer] = value instead\n",
            "\n",
            "See the caveats in the documentation: https://pandas.pydata.org/pandas-docs/stable/user_guide/indexing.html#returning-a-view-versus-a-copy\n",
            "  filtered_gnd_subject_tib_core['Frequency'] = frequencies_tib_core\n"
          ]
        },
        {
          "output_type": "execute_result",
          "data": {
            "text/plain": [
              "      Code                                            Name  TIB Core  \\\n",
              "0       00                   Unspezifische Allgemeinwörter      True   \n",
              "3        1  Allgemeines, Interdisziplinäre Allgemeinwörter      True   \n",
              "196  10.6a                   Telekommunikation und Verkehr      True   \n",
              "197  10.6b   Fremdenverkehr, Hotel- und Gaststättengewerbe      True   \n",
              "200  10.7a                   Umweltschutz, Umweltbelastung      True   \n",
              "\n",
              "     Frequency  \n",
              "0          243  \n",
              "3          708  \n",
              "196       2188  \n",
              "197        259  \n",
              "200        273  "
            ],
            "text/html": [
              "\n",
              "  <div id=\"df-8b3bda3a-0649-4eb4-bc0c-c87820310111\" class=\"colab-df-container\">\n",
              "    <div>\n",
              "<style scoped>\n",
              "    .dataframe tbody tr th:only-of-type {\n",
              "        vertical-align: middle;\n",
              "    }\n",
              "\n",
              "    .dataframe tbody tr th {\n",
              "        vertical-align: top;\n",
              "    }\n",
              "\n",
              "    .dataframe thead th {\n",
              "        text-align: right;\n",
              "    }\n",
              "</style>\n",
              "<table border=\"1\" class=\"dataframe\">\n",
              "  <thead>\n",
              "    <tr style=\"text-align: right;\">\n",
              "      <th></th>\n",
              "      <th>Code</th>\n",
              "      <th>Name</th>\n",
              "      <th>TIB Core</th>\n",
              "      <th>Frequency</th>\n",
              "    </tr>\n",
              "  </thead>\n",
              "  <tbody>\n",
              "    <tr>\n",
              "      <th>0</th>\n",
              "      <td>00</td>\n",
              "      <td>Unspezifische Allgemeinwörter</td>\n",
              "      <td>True</td>\n",
              "      <td>243</td>\n",
              "    </tr>\n",
              "    <tr>\n",
              "      <th>3</th>\n",
              "      <td>1</td>\n",
              "      <td>Allgemeines, Interdisziplinäre Allgemeinwörter</td>\n",
              "      <td>True</td>\n",
              "      <td>708</td>\n",
              "    </tr>\n",
              "    <tr>\n",
              "      <th>196</th>\n",
              "      <td>10.6a</td>\n",
              "      <td>Telekommunikation und Verkehr</td>\n",
              "      <td>True</td>\n",
              "      <td>2188</td>\n",
              "    </tr>\n",
              "    <tr>\n",
              "      <th>197</th>\n",
              "      <td>10.6b</td>\n",
              "      <td>Fremdenverkehr, Hotel- und Gaststättengewerbe</td>\n",
              "      <td>True</td>\n",
              "      <td>259</td>\n",
              "    </tr>\n",
              "    <tr>\n",
              "      <th>200</th>\n",
              "      <td>10.7a</td>\n",
              "      <td>Umweltschutz, Umweltbelastung</td>\n",
              "      <td>True</td>\n",
              "      <td>273</td>\n",
              "    </tr>\n",
              "  </tbody>\n",
              "</table>\n",
              "</div>\n",
              "    <div class=\"colab-df-buttons\">\n",
              "\n",
              "  <div class=\"colab-df-container\">\n",
              "    <button class=\"colab-df-convert\" onclick=\"convertToInteractive('df-8b3bda3a-0649-4eb4-bc0c-c87820310111')\"\n",
              "            title=\"Convert this dataframe to an interactive table.\"\n",
              "            style=\"display:none;\">\n",
              "\n",
              "  <svg xmlns=\"http://www.w3.org/2000/svg\" height=\"24px\" viewBox=\"0 -960 960 960\">\n",
              "    <path d=\"M120-120v-720h720v720H120Zm60-500h600v-160H180v160Zm220 220h160v-160H400v160Zm0 220h160v-160H400v160ZM180-400h160v-160H180v160Zm440 0h160v-160H620v160ZM180-180h160v-160H180v160Zm440 0h160v-160H620v160Z\"/>\n",
              "  </svg>\n",
              "    </button>\n",
              "\n",
              "  <style>\n",
              "    .colab-df-container {\n",
              "      display:flex;\n",
              "      gap: 12px;\n",
              "    }\n",
              "\n",
              "    .colab-df-convert {\n",
              "      background-color: #E8F0FE;\n",
              "      border: none;\n",
              "      border-radius: 50%;\n",
              "      cursor: pointer;\n",
              "      display: none;\n",
              "      fill: #1967D2;\n",
              "      height: 32px;\n",
              "      padding: 0 0 0 0;\n",
              "      width: 32px;\n",
              "    }\n",
              "\n",
              "    .colab-df-convert:hover {\n",
              "      background-color: #E2EBFA;\n",
              "      box-shadow: 0px 1px 2px rgba(60, 64, 67, 0.3), 0px 1px 3px 1px rgba(60, 64, 67, 0.15);\n",
              "      fill: #174EA6;\n",
              "    }\n",
              "\n",
              "    .colab-df-buttons div {\n",
              "      margin-bottom: 4px;\n",
              "    }\n",
              "\n",
              "    [theme=dark] .colab-df-convert {\n",
              "      background-color: #3B4455;\n",
              "      fill: #D2E3FC;\n",
              "    }\n",
              "\n",
              "    [theme=dark] .colab-df-convert:hover {\n",
              "      background-color: #434B5C;\n",
              "      box-shadow: 0px 1px 3px 1px rgba(0, 0, 0, 0.15);\n",
              "      filter: drop-shadow(0px 1px 2px rgba(0, 0, 0, 0.3));\n",
              "      fill: #FFFFFF;\n",
              "    }\n",
              "  </style>\n",
              "\n",
              "    <script>\n",
              "      const buttonEl =\n",
              "        document.querySelector('#df-8b3bda3a-0649-4eb4-bc0c-c87820310111 button.colab-df-convert');\n",
              "      buttonEl.style.display =\n",
              "        google.colab.kernel.accessAllowed ? 'block' : 'none';\n",
              "\n",
              "      async function convertToInteractive(key) {\n",
              "        const element = document.querySelector('#df-8b3bda3a-0649-4eb4-bc0c-c87820310111');\n",
              "        const dataTable =\n",
              "          await google.colab.kernel.invokeFunction('convertToInteractive',\n",
              "                                                    [key], {});\n",
              "        if (!dataTable) return;\n",
              "\n",
              "        const docLinkHtml = 'Like what you see? Visit the ' +\n",
              "          '<a target=\"_blank\" href=https://colab.research.google.com/notebooks/data_table.ipynb>data table notebook</a>'\n",
              "          + ' to learn more about interactive tables.';\n",
              "        element.innerHTML = '';\n",
              "        dataTable['output_type'] = 'display_data';\n",
              "        await google.colab.output.renderOutput(dataTable, element);\n",
              "        const docLink = document.createElement('div');\n",
              "        docLink.innerHTML = docLinkHtml;\n",
              "        element.appendChild(docLink);\n",
              "      }\n",
              "    </script>\n",
              "  </div>\n",
              "\n",
              "\n",
              "<div id=\"df-c508c359-1b7b-439a-95cb-a1fabb567a4d\">\n",
              "  <button class=\"colab-df-quickchart\" onclick=\"quickchart('df-c508c359-1b7b-439a-95cb-a1fabb567a4d')\"\n",
              "            title=\"Suggest charts\"\n",
              "            style=\"display:none;\">\n",
              "\n",
              "<svg xmlns=\"http://www.w3.org/2000/svg\" height=\"24px\"viewBox=\"0 0 24 24\"\n",
              "     width=\"24px\">\n",
              "    <g>\n",
              "        <path d=\"M19 3H5c-1.1 0-2 .9-2 2v14c0 1.1.9 2 2 2h14c1.1 0 2-.9 2-2V5c0-1.1-.9-2-2-2zM9 17H7v-7h2v7zm4 0h-2V7h2v10zm4 0h-2v-4h2v4z\"/>\n",
              "    </g>\n",
              "</svg>\n",
              "  </button>\n",
              "\n",
              "<style>\n",
              "  .colab-df-quickchart {\n",
              "      --bg-color: #E8F0FE;\n",
              "      --fill-color: #1967D2;\n",
              "      --hover-bg-color: #E2EBFA;\n",
              "      --hover-fill-color: #174EA6;\n",
              "      --disabled-fill-color: #AAA;\n",
              "      --disabled-bg-color: #DDD;\n",
              "  }\n",
              "\n",
              "  [theme=dark] .colab-df-quickchart {\n",
              "      --bg-color: #3B4455;\n",
              "      --fill-color: #D2E3FC;\n",
              "      --hover-bg-color: #434B5C;\n",
              "      --hover-fill-color: #FFFFFF;\n",
              "      --disabled-bg-color: #3B4455;\n",
              "      --disabled-fill-color: #666;\n",
              "  }\n",
              "\n",
              "  .colab-df-quickchart {\n",
              "    background-color: var(--bg-color);\n",
              "    border: none;\n",
              "    border-radius: 50%;\n",
              "    cursor: pointer;\n",
              "    display: none;\n",
              "    fill: var(--fill-color);\n",
              "    height: 32px;\n",
              "    padding: 0;\n",
              "    width: 32px;\n",
              "  }\n",
              "\n",
              "  .colab-df-quickchart:hover {\n",
              "    background-color: var(--hover-bg-color);\n",
              "    box-shadow: 0 1px 2px rgba(60, 64, 67, 0.3), 0 1px 3px 1px rgba(60, 64, 67, 0.15);\n",
              "    fill: var(--button-hover-fill-color);\n",
              "  }\n",
              "\n",
              "  .colab-df-quickchart-complete:disabled,\n",
              "  .colab-df-quickchart-complete:disabled:hover {\n",
              "    background-color: var(--disabled-bg-color);\n",
              "    fill: var(--disabled-fill-color);\n",
              "    box-shadow: none;\n",
              "  }\n",
              "\n",
              "  .colab-df-spinner {\n",
              "    border: 2px solid var(--fill-color);\n",
              "    border-color: transparent;\n",
              "    border-bottom-color: var(--fill-color);\n",
              "    animation:\n",
              "      spin 1s steps(1) infinite;\n",
              "  }\n",
              "\n",
              "  @keyframes spin {\n",
              "    0% {\n",
              "      border-color: transparent;\n",
              "      border-bottom-color: var(--fill-color);\n",
              "      border-left-color: var(--fill-color);\n",
              "    }\n",
              "    20% {\n",
              "      border-color: transparent;\n",
              "      border-left-color: var(--fill-color);\n",
              "      border-top-color: var(--fill-color);\n",
              "    }\n",
              "    30% {\n",
              "      border-color: transparent;\n",
              "      border-left-color: var(--fill-color);\n",
              "      border-top-color: var(--fill-color);\n",
              "      border-right-color: var(--fill-color);\n",
              "    }\n",
              "    40% {\n",
              "      border-color: transparent;\n",
              "      border-right-color: var(--fill-color);\n",
              "      border-top-color: var(--fill-color);\n",
              "    }\n",
              "    60% {\n",
              "      border-color: transparent;\n",
              "      border-right-color: var(--fill-color);\n",
              "    }\n",
              "    80% {\n",
              "      border-color: transparent;\n",
              "      border-right-color: var(--fill-color);\n",
              "      border-bottom-color: var(--fill-color);\n",
              "    }\n",
              "    90% {\n",
              "      border-color: transparent;\n",
              "      border-bottom-color: var(--fill-color);\n",
              "    }\n",
              "  }\n",
              "</style>\n",
              "\n",
              "  <script>\n",
              "    async function quickchart(key) {\n",
              "      const quickchartButtonEl =\n",
              "        document.querySelector('#' + key + ' button');\n",
              "      quickchartButtonEl.disabled = true;  // To prevent multiple clicks.\n",
              "      quickchartButtonEl.classList.add('colab-df-spinner');\n",
              "      try {\n",
              "        const charts = await google.colab.kernel.invokeFunction(\n",
              "            'suggestCharts', [key], {});\n",
              "      } catch (error) {\n",
              "        console.error('Error during call to suggestCharts:', error);\n",
              "      }\n",
              "      quickchartButtonEl.classList.remove('colab-df-spinner');\n",
              "      quickchartButtonEl.classList.add('colab-df-quickchart-complete');\n",
              "    }\n",
              "    (() => {\n",
              "      let quickchartButtonEl =\n",
              "        document.querySelector('#df-c508c359-1b7b-439a-95cb-a1fabb567a4d button');\n",
              "      quickchartButtonEl.style.display =\n",
              "        google.colab.kernel.accessAllowed ? 'block' : 'none';\n",
              "    })();\n",
              "  </script>\n",
              "</div>\n",
              "\n",
              "    </div>\n",
              "  </div>\n"
            ],
            "application/vnd.google.colaboratory.intrinsic+json": {
              "type": "dataframe",
              "variable_name": "filtered_gnd_subject_tib_core",
              "summary": "{\n  \"name\": \"filtered_gnd_subject_tib_core\",\n  \"rows\": 66,\n  \"fields\": [\n    {\n      \"column\": \"Code\",\n      \"properties\": {\n        \"dtype\": \"string\",\n        \"num_unique_values\": 66,\n        \"samples\": [\n          \"31.7\",\n          \"31.13\",\n          \"00\"\n        ],\n        \"semantic_type\": \"\",\n        \"description\": \"\"\n      }\n    },\n    {\n      \"column\": \"Name\",\n      \"properties\": {\n        \"dtype\": \"string\",\n        \"num_unique_values\": 66,\n        \"samples\": [\n          \"Fahrzeugbau, F\\u00f6rdertechnik, Raumfahrttechnik\",\n          \"Holzbearbeitung\",\n          \"Unspezifische Allgemeinw\\u00f6rter\"\n        ],\n        \"semantic_type\": \"\",\n        \"description\": \"\"\n      }\n    },\n    {\n      \"column\": \"TIB Core\",\n      \"properties\": {\n        \"dtype\": \"boolean\",\n        \"num_unique_values\": 1,\n        \"samples\": [\n          true\n        ],\n        \"semantic_type\": \"\",\n        \"description\": \"\"\n      }\n    },\n    {\n      \"column\": \"Frequency\",\n      \"properties\": {\n        \"dtype\": \"number\",\n        \"std\": 1775,\n        \"min\": 1,\n        \"max\": 9509,\n        \"num_unique_values\": 64,\n        \"samples\": [\n          4029\n        ],\n        \"semantic_type\": \"\",\n        \"description\": \"\"\n      }\n    }\n  ]\n}"
            }
          },
          "metadata": {},
          "execution_count": 4
        }
      ]
    },
    {
      "cell_type": "code",
      "source": [
        "for name in filtered_gnd_subject_names['Name']:\n",
        "  print(name)"
      ],
      "metadata": {
        "colab": {
          "base_uri": "https://localhost:8080/"
        },
        "id": "ydzeEvTa2lfX",
        "outputId": "fab85b7d-869c-4e0b-cfd6-44cb85363676"
      },
      "execution_count": 5,
      "outputs": [
        {
          "output_type": "stream",
          "name": "stdout",
          "text": [
            "Unspezifische Allgemeinwörter\n",
            "Allgemeines, Interdisziplinäre Allgemeinwörter\n",
            "Schrift, Handschriftenkunde\n",
            "Buchwissenschaft, Buchhandel\n",
            "Presse\n",
            "Allgemeine und vergleichende Religionswissenschaft, Nichtchristliche Religionen\n",
            "Personen zu allgemeiner und vergleichender Religionswissenschaft\n",
            "Bibel\n",
            "Altes Testament\n",
            "Neues Testament\n",
            "Kirchengeschichte\n",
            "Kirchengeschichte: Antike\n",
            "Kirchengeschichte: Mittelalter\n",
            "Kirchengeschichte: Neuzeit\n",
            "Systematische Theologie (Allgemeines), Fundamentaltheologie\n",
            "Dogmatik\n",
            "Theologische Anthropologie, Christliche Ethik\n",
            "Praktische Theologie\n",
            "Liturgik, Frömmigkeit\n",
            "Homiletik\n",
            "Katechetik, Christliche Erziehung, Kirchliche Bildungsarbeit\n",
            "Seelsorge\n",
            "Mission, Kirchliche Sozialarbeit\n",
            "Kirche und Konfession\n",
            "Katholische Kirche\n",
            "Evangelische Kirchen\n",
            "Ostkirchen und andere christliche Religionsgemeinschaften und Sekten\n",
            "Philosophie (Allgemeines)\n",
            "Philosophiegeschichte\n",
            "Erkenntnistheorie, Logik\n",
            "Metaphysik\n",
            "Ethik, Philosophische Anthropologie, Sozialphilosophie\n",
            "Ästhetik\n",
            "Kulturphilosophie\n",
            "Psychologie (Allgemeines), Experimentelle Psychologie\n",
            "Psychologische Diagnostik, Tests\n",
            "Entwicklungspsychologie, Vergleichende Psychologie\n",
            "Sozial-, Kultur- und Völkerpsychologie\n",
            "Tiefenpsychologie\n",
            "Angewandte Psychologie, Psychohygiene\n",
            "Parapsychologie\n",
            "Esoterik\n",
            "Kultur, Künste allgemein\n",
            "Geistes- und Kulturgeschichte\n",
            "Bildungswesen (Allgemeines)\n",
            "Geschichte des Bildungswesens\n",
            "Schule\n",
            "Berufsausbildung\n",
            "Unterricht\n",
            "Wissenschaft\n",
            "Hochschule\n",
            "Bibliothek, Information und Dokumentation\n",
            "Archiv, Museum\n",
            "Recht allgemein, Rechtsphilosophie\n",
            "Rechtsvergleich\n",
            "Rechtsgeschichte, Verfassungsgeschichte\n",
            "Rechtsgeschichte, Verfassungsgeschichte: Altertum\n",
            "Rechtsgeschichte, Verfassungsgeschichte: Mittelalter\n",
            "Rechtsgeschichte, Verfassungsgeschichte: Neuzeit\n",
            "Staatsrecht, Verfassungsrecht\n",
            "Allgemeines Verwaltungsrecht\n",
            "Dienstrecht (auch Richter)\n",
            "Kommunalrecht\n",
            "Baurecht, Raumordnung, Bodenrecht, Umweltrecht, Naturschutzrecht, Denkmalschutz\n",
            "Kulturrecht, Presserecht, Rundfunkrecht, Bildungswesen und Forschung\n",
            "Straßen- und Wegerecht, Verkehrsrecht, Telekommunikationsrecht\n",
            "Wehrrecht\n",
            "Polizeirecht, Ordnungsrecht\n",
            "Gesundheitsrecht\n",
            "Kriminologie\n",
            "Strafrecht\n",
            "Strafvollzug\n",
            "Rechtspflege, Prozessrecht\n",
            "Rechtsmedizin\n",
            "Finanzrecht\n",
            "Steuerrecht, Zollrecht\n",
            "Wirtschaftsrecht, Wirtschaftsaufsicht\n",
            "Gewerblicher Rechtsschutz, Urheberrecht\n",
            "Arbeitsrecht, Sozialrecht, Recht der Tarifverträge\n",
            "Berufsrecht\n",
            "Gebührenrecht\n",
            "Bürgerliches Recht\n",
            "Allgemeiner Teil des Bürgerlichen Rechts\n",
            "Schuldrecht\n",
            "Sachenrecht\n",
            "Familienrecht\n",
            "Erbrecht\n",
            "Religionsrecht, Kirchenrecht, Staatskirchenrecht\n",
            "Internationales Recht, Kollisionsrecht\n",
            "Personen zu Recht\n",
            "Öffentliche Verwaltung, Öffentlicher Dienst\n",
            "Geschichte der Öffentlichen Verwaltung\n",
            "Politik (Allgemeines), Politische Theorie\n",
            "Innenpolitik\n",
            "Parteien, Politische Organisationen\n",
            "Außenpolitik\n",
            "Militär\n",
            "Personen zu politischer Theorie, Militär\n",
            "Sozialgeschichte\n",
            "Sozialgeschichte: Altertum\n",
            "Sozialgeschichte: Mittelalter\n",
            "Sozialgeschichte: Neuzeit\n",
            "Sozialwissenschaften allgemein, Soziologische Theorien\n",
            "Methoden und Techniken der empirischen Sozialforschung, Statistik in den Sozialwissenschaften, Mathematische Statistik\n",
            "Soziales Leben, Bevölkerung (Allgemeines), Gesellschaft allgemein\n",
            "Bevölkerung, Sozialstruktur, Soziale Situation, Soziale Bewegungen\n",
            "Gruppe, Organisationssoziologie, Interaktion\n",
            "Sozialisation, Sozialverhalten\n",
            "Kommunikation, Meinungsbildung\n",
            "Arbeit\n",
            "Einzelne Berufe, Tätigkeiten, Funktionen; Religionszugehörigkeit, Weltanschauung\n",
            "Mitbestimmung, Gewerkschaften\n",
            "Sozialpolitik, Entwicklungshilfe\n",
            "Sozialversicherung und Gesetzliche Krankenversicherung\n",
            "Sozialarbeit, Sozialhilfe\n",
            "Personen zu Soziologie, Gesellschaft, Arbeit, Sozialgeschichte\n",
            "Wirtschaftsgeschichte\n",
            "Wirtschaftsgeschichte: Altertum\n",
            "Wirtschaftsgeschichte: Mittelalter\n",
            "Wirtschaftsgeschichte: Neuzeit\n",
            "Wirtschaft, Volkswirtschaft (Allgemeines)\n",
            "Volkswirtschaft\n",
            "Wirtschaftssystem\n",
            "Mathematische Methoden, Information, Entscheidung\n",
            "Haushalt, Verbraucher\n",
            "Mikroökonomie, Wettbewerb\n",
            "Konjunktur, Verteilung, Wirtschaftsstruktur\n",
            "Wirtschaftskreislauf, Konjunktur\n",
            "Verteilung\n",
            "Wirtschaftsstruktur\n",
            "Außenwirtschaft, Außenhandel\n",
            "Außenwirtschaft, Außenhandel gesamtwirtschaftlich\n",
            "Außenwirtschaft, Außenhandel betrieblich\n",
            "Öffentliche Aufgaben\n",
            "Öffentliche Wirtschaft, Abfallwirtschaft, Gesundheitsökonomie\n",
            "Energie- und Wasserwirtschaft\n",
            "Rohstoffwirtschaft\n",
            "Wirtschaftspolitik\n",
            "Finanzwirtschaft, Finanzpolitik\n",
            "Telekommunikation und Verkehr\n",
            "Fremdenverkehr, Hotel- und Gaststättengewerbe\n",
            "Umweltschutz, Umweltbelastung\n",
            "Raumordnung, Stadtplanung, Landschaftsgestaltung\n",
            "Öffentliche und private Bautätigkeit, Bau- und Bodenpolitik\n",
            "Bauwirtschaft, Baubetrieb und Bodenmarkt\n",
            "Geldtheorie, Geldpolitik, Währung\n",
            "Bank\n",
            "Kapitalmarkt, Börse, Kapitalanlage\n",
            "Genossenschaft, Gemeinwirtschaft, Alternative Wirtschaft\n",
            "Betriebswirtschaftslehre (Allgemeines), Unternehmen, Management\n",
            "Mathematische Methoden, Information, Entscheidung\n",
            "Beschaffung, Produktion\n",
            "Kosten\n",
            "Marketing, Wettbewerb\n",
            "Rechnungswesen, Steuer, Revision\n",
            "Investition, Finanzierung\n",
            "Personalpolitik, Arbeitsgestaltung\n",
            "Büro, Bürokommunikation\n",
            "Spezielle Informationssysteme, Programme\n",
            "Gewerbe allgemein, Industrie, Handwerk\n",
            "Industrie, Industriebetrieb, Handwerk\n",
            "Einzelne Branchen der Industrie und des Handwerks\n",
            "Handel allgemein, Dienstleistung allgemein\n",
            "Handel einzelner Branchen, Dienstleistung einzelner Branchen\n",
            "Versicherung\n",
            "Werbewirtschaft, Öffentlichkeitsarbeit\n",
            "Sprache (Allgemeines)\n",
            "Historische Sprachwissenschaft\n",
            "Sprachliche Technik\n",
            "Allgemeine Sprachtheorie\n",
            "Grammatik\n",
            "Phonetik, Phonologie\n",
            "Lexikologie\n",
            "Namenkunde\n",
            "Fachsprache\n",
            "Anonymes Werk als Sprachdenkmal\n",
            "Allgemeine Literaturwissenschaft\n",
            "Literarisches Leben\n",
            "Literaturgeschichte\n",
            "Anonyme literarische Werke\n",
            "Personen zu Literaturgeschichte (Schriftsteller)\n",
            "Literaturgattung\n",
            "Literarische Motive, Stoffe, Gestalten\n",
            "Personen als literarisches Motiv\n",
            "Geografische Namen als literarisches Motiv\n",
            "Bildende Kunst\n",
            "Kunstgeschichte\n",
            "Sachliche Motive in der Kunst\n",
            "Personen als künstlerisches Motiv\n",
            "Geografische Namen als künstlerisches Motiv\n",
            "Plastik\n",
            "Personen zu Plastik\n",
            "Malerei\n",
            "Zeichnung, Grafik\n",
            "Fotografie\n",
            "Kunsthandwerk\n",
            "Personen zu Kunsthandwerk\n",
            "Neue Formen der Kunst\n",
            "Musik (Allgemeines), Musikgeschichte\n",
            "Musikalische Form, Musikgattung\n",
            "Musikinstrumentenkunde, Musikinstrumentenbau\n",
            "Systematische und Angewandte Musikwissenschaft\n",
            "Personen zu Musik\n",
            "Theater, Tanz\n",
            "Kabarett, Zirkus, Varieté\n",
            "Film\n",
            "Personen zu Film\n",
            "Rundfunk, Neue Medien\n",
            "Personen zu Rundfunk, Neuen Medien\n",
            "Geschichte (Allgemeines)\n",
            "Quellen und Historische Hilfswissenschaften\n",
            "Archäologie, Vor- und Frühgeschichte\n",
            "Geschichte überregionaler Gebiete\n",
            "Geschichte überregionaler Gebiete: Altertum\n",
            "Geschichte überregionaler Gebiete: Mittelalter\n",
            "Geschichte überregionaler Gebiete: Neuzeit\n",
            "Geschichte überregionaler Gebiete: Zeitgeschichte\n",
            "Geschichte einzelner Länder und Völker\n",
            "Volkskunde, Völkerkunde (Allgemeines)\n",
            "Brauchtum, Volksglaube\n",
            "Sachkultur, Volkskunst\n",
            "Volksliteratur, Volksmusik\n",
            "Personen zu Volkskunde, Völkerkunde\n",
            "Natur, Naturwissenschaften allgemein\n",
            "Geowissenschaften\n",
            "Geografie, Heimat- und Länderkunde (Allgemeines)\n",
            "Physische Geografie\n",
            "Anthropogeografie\n",
            "Reise\n",
            "Personen zu Geodäsie, Kartografie\n",
            "Hydrologie, Meereskunde\n",
            "Allgemeine Geologie, Geophysik\n",
            "Historische Geologie\n",
            "Mineralogie, Boden-, Gesteins- und Lagerstättenkunde\n",
            "Paläontologie\n",
            "Meteorologie, Klimatologie, Hochatmosphäre, Magnetosphäre\n",
            "Astronomie, Weltraumforschung\n",
            "Physik (Allgemeines), Mathematische Physik\n",
            "Mechanik, Wärme, Akustik\n",
            "Elektrizität, Magnetismus, Optik\n",
            "Elementarteilchen, Kern-, Atom-, Molekularphysik\n",
            "Plasma, Gas, Flüssigkeit, Festkörper\n",
            "Personen zu Physik\n",
            "Chemie (Allgemeines)\n",
            "Theoretische und Physikalische Chemie\n",
            "Analytische Chemie und Untersuchungsmethoden\n",
            "Anorganische Chemie\n",
            "Organische Chemie\n",
            "Biologie allgemein\n",
            "Genetik, Evolution\n",
            "Biochemie, Biophysik, Zytologie\n",
            "Mikrobiologie\n",
            "Untersuchungsmethoden (Biologie)\n",
            "Botanik (Allgemeines)\n",
            "Allgemeine Botanik\n",
            "Pflanzenanatomie, Pflanzenphysiologie\n",
            "Pflanzensoziologie, Pflanzenökologie, Pflanzengeografie\n",
            "Spezielle Botanik\n",
            "Zoologie (Allgemeines)\n",
            "Allgemeine Zoologie\n",
            "Anatomie, Tierphysiologie\n",
            "Tiersoziologie, Tierökologie, Tiergeografie, Verhaltensforschung\n",
            "Spezielle Zoologie\n",
            "Anthropologie\n",
            "Medizin (Allgemeines)\n",
            "Medizingeschichte\n",
            "Anatomie\n",
            "Physiologie (Allgemeines), Physiologische Chemie\n",
            "Blut, Kardiovaskuläres System, Atmungsorgan\n",
            "Ernährung, Stoffwechsel, Inkretion\n",
            "Haut, Knochen, Nerven, Muskeln, Sinnesorgane\n",
            "Harn- und Geschlechtsorgane\n",
            "Allgemeine Pathologie, Onkologie, Experimentelle Medizin\n",
            "Allgemeine Diagnostik\n",
            "Medizinische Radiologie, Nuklearmedizin\n",
            "Allgemeine Therapie\n",
            "Pharmazie, Pharmakologie, Toxikologie\n",
            "Immunologie\n",
            "Innere Medizin\n",
            "Hämatologie, Kardiologie\n",
            "Pulmonologie\n",
            "Gastroenterologie, Endokrinopathie\n",
            "Urologie, Nephrologie, Andrologie\n",
            "Knochen, Gelenke, Muskeln\n",
            "Infektionen\n",
            "Chirurgie, Orthopädie\n",
            "Gynäkologie, Geburtshilfe\n",
            "Kinderheilkunde\n",
            "Neurologie, Psychiatrie\n",
            "Dermatologie, Venerologie\n",
            "Hals-Nasen-Ohren-Heilkunde\n",
            "Augenheilkunde\n",
            "Zahnmedizin\n",
            "Sexualmedizin\n",
            "Sondergebiete der Medizin\n",
            "Hygiene, Gesundheitswesen\n",
            "Tiermedizin\n",
            "Mathematik\n",
            "Stochastik, Operations Research\n",
            "Informatik, Datenverarbeitung\n",
            "Informatikprodukte (Hardware- und Softwareprodukte)\n",
            "Technik (Allgemeines)\n",
            "Technische Physik, Technische Mathematik\n",
            "Mess-, Steuerungs- und Regelungstechnik\n",
            "Werkstoffkunde, Werkstoffprüfung\n",
            "Technikgeschichte\n",
            "Sanitärtechnik, Umwelttechnik\n",
            "Architektur\n",
            "Ortsgebundene Bauwerke\n",
            "Bautechnik\n",
            "Bergbau, Hüttentechnik\n",
            "Energietechnik, Kerntechnik\n",
            "Maschinenbau\n",
            "Fahrzeugbau, Fördertechnik, Raumfahrttechnik\n",
            "Fertigungstechnik\n",
            "Feinwerktechnik\n",
            "Elektrotechnik, Elektrische Energietechnik\n",
            "Elektronik, Nachrichtentechnik\n",
            "Verfahrenstechnik, Technische Chemie\n",
            "Lebensmitteltechnologie\n",
            "Textiltechnik, Gummi- und Lederverarbeitung\n",
            "Holzbearbeitung\n",
            "Papierherstellung, Grafische Technik\n",
            "Glas, Keramik, Steine und Erden\n",
            "Militärtechnik\n",
            "Landwirtschaft allgemein\n",
            "Landwirtschaftsgeschichte\n",
            "Agrarpolitik, Agrarmarkt, Landwirtschaftliche Betriebslehre\n",
            "Ackerbau\n",
            "Gartenbau, Obstbau\n",
            "Phytomedizin\n",
            "Tierzucht, Tierhaltung\n",
            "Milchwirtschaft\n",
            "Forstwirtschaft\n",
            "Jagd\n",
            "Fischerei, Fischzucht\n",
            "Personen zu Landwirtschaft, Garten\n",
            "Hauswirtschaft, Körperpflege\n",
            "Kochen, Backen, Lebens- und Genussmittel, Küchengerät\n",
            "Mode, Kleidung\n",
            "Sport (Allgemeines)\n",
            "Geschichte des Sports\n",
            "Einzelne Sportarten\n",
            "Spiel, Unterhaltung\n",
            "Basteln, Handarbeiten, Heimwerken\n"
          ]
        }
      ]
    },
    {
      "cell_type": "code",
      "source": [
        "!pip install together"
      ],
      "metadata": {
        "colab": {
          "base_uri": "https://localhost:8080/"
        },
        "id": "2rfc9inT0_WJ",
        "outputId": "2667aaaa-7f70-4a9e-893a-07d3a2efb47f"
      },
      "execution_count": 1,
      "outputs": [
        {
          "output_type": "stream",
          "name": "stdout",
          "text": [
            "Requirement already satisfied: together in /usr/local/lib/python3.10/dist-packages (1.3.11)\n",
            "Requirement already satisfied: aiohttp<4.0.0,>=3.9.3 in /usr/local/lib/python3.10/dist-packages (from together) (3.11.10)\n",
            "Requirement already satisfied: click<9.0.0,>=8.1.7 in /usr/local/lib/python3.10/dist-packages (from together) (8.1.7)\n",
            "Requirement already satisfied: eval-type-backport<0.3.0,>=0.1.3 in /usr/local/lib/python3.10/dist-packages (from together) (0.2.0)\n",
            "Requirement already satisfied: filelock<4.0.0,>=3.13.1 in /usr/local/lib/python3.10/dist-packages (from together) (3.16.1)\n",
            "Requirement already satisfied: numpy>=1.23.5 in /usr/local/lib/python3.10/dist-packages (from together) (1.26.4)\n",
            "Requirement already satisfied: pillow<11.0.0,>=10.3.0 in /usr/local/lib/python3.10/dist-packages (from together) (10.4.0)\n",
            "Requirement already satisfied: pyarrow>=10.0.1 in /usr/local/lib/python3.10/dist-packages (from together) (17.0.0)\n",
            "Requirement already satisfied: pydantic<3.0.0,>=2.6.3 in /usr/local/lib/python3.10/dist-packages (from together) (2.10.3)\n",
            "Requirement already satisfied: requests<3.0.0,>=2.31.0 in /usr/local/lib/python3.10/dist-packages (from together) (2.32.3)\n",
            "Requirement already satisfied: rich<14.0.0,>=13.8.1 in /usr/local/lib/python3.10/dist-packages (from together) (13.9.4)\n",
            "Requirement already satisfied: tabulate<0.10.0,>=0.9.0 in /usr/local/lib/python3.10/dist-packages (from together) (0.9.0)\n",
            "Requirement already satisfied: tqdm<5.0.0,>=4.66.2 in /usr/local/lib/python3.10/dist-packages (from together) (4.67.1)\n",
            "Requirement already satisfied: typer<0.16,>=0.9 in /usr/local/lib/python3.10/dist-packages (from together) (0.15.1)\n",
            "Requirement already satisfied: aiohappyeyeballs>=2.3.0 in /usr/local/lib/python3.10/dist-packages (from aiohttp<4.0.0,>=3.9.3->together) (2.4.4)\n",
            "Requirement already satisfied: aiosignal>=1.1.2 in /usr/local/lib/python3.10/dist-packages (from aiohttp<4.0.0,>=3.9.3->together) (1.3.2)\n",
            "Requirement already satisfied: async-timeout<6.0,>=4.0 in /usr/local/lib/python3.10/dist-packages (from aiohttp<4.0.0,>=3.9.3->together) (4.0.3)\n",
            "Requirement already satisfied: attrs>=17.3.0 in /usr/local/lib/python3.10/dist-packages (from aiohttp<4.0.0,>=3.9.3->together) (24.3.0)\n",
            "Requirement already satisfied: frozenlist>=1.1.1 in /usr/local/lib/python3.10/dist-packages (from aiohttp<4.0.0,>=3.9.3->together) (1.5.0)\n",
            "Requirement already satisfied: multidict<7.0,>=4.5 in /usr/local/lib/python3.10/dist-packages (from aiohttp<4.0.0,>=3.9.3->together) (6.1.0)\n",
            "Requirement already satisfied: propcache>=0.2.0 in /usr/local/lib/python3.10/dist-packages (from aiohttp<4.0.0,>=3.9.3->together) (0.2.1)\n",
            "Requirement already satisfied: yarl<2.0,>=1.17.0 in /usr/local/lib/python3.10/dist-packages (from aiohttp<4.0.0,>=3.9.3->together) (1.18.3)\n",
            "Requirement already satisfied: annotated-types>=0.6.0 in /usr/local/lib/python3.10/dist-packages (from pydantic<3.0.0,>=2.6.3->together) (0.7.0)\n",
            "Requirement already satisfied: pydantic-core==2.27.1 in /usr/local/lib/python3.10/dist-packages (from pydantic<3.0.0,>=2.6.3->together) (2.27.1)\n",
            "Requirement already satisfied: typing-extensions>=4.12.2 in /usr/local/lib/python3.10/dist-packages (from pydantic<3.0.0,>=2.6.3->together) (4.12.2)\n",
            "Requirement already satisfied: charset-normalizer<4,>=2 in /usr/local/lib/python3.10/dist-packages (from requests<3.0.0,>=2.31.0->together) (3.4.0)\n",
            "Requirement already satisfied: idna<4,>=2.5 in /usr/local/lib/python3.10/dist-packages (from requests<3.0.0,>=2.31.0->together) (3.10)\n",
            "Requirement already satisfied: urllib3<3,>=1.21.1 in /usr/local/lib/python3.10/dist-packages (from requests<3.0.0,>=2.31.0->together) (2.2.3)\n",
            "Requirement already satisfied: certifi>=2017.4.17 in /usr/local/lib/python3.10/dist-packages (from requests<3.0.0,>=2.31.0->together) (2024.12.14)\n",
            "Requirement already satisfied: markdown-it-py>=2.2.0 in /usr/local/lib/python3.10/dist-packages (from rich<14.0.0,>=13.8.1->together) (3.0.0)\n",
            "Requirement already satisfied: pygments<3.0.0,>=2.13.0 in /usr/local/lib/python3.10/dist-packages (from rich<14.0.0,>=13.8.1->together) (2.18.0)\n",
            "Requirement already satisfied: shellingham>=1.3.0 in /usr/local/lib/python3.10/dist-packages (from typer<0.16,>=0.9->together) (1.5.4)\n",
            "Requirement already satisfied: mdurl~=0.1 in /usr/local/lib/python3.10/dist-packages (from markdown-it-py>=2.2.0->rich<14.0.0,>=13.8.1->together) (0.1.2)\n"
          ]
        }
      ]
    },
    {
      "cell_type": "code",
      "source": [
        "!export TOGETHER_API_KEY=\"386c02db88b02bec6cb585531559e7fbf7dcdb5b918378da07ce88dbc5671f11\""
      ],
      "metadata": {
        "id": "zrrCAYyn9Oa6"
      },
      "execution_count": null,
      "outputs": []
    },
    {
      "cell_type": "code",
      "source": [
        "\n",
        "from together import Together\n",
        "from tqdm import tqdm\n",
        "client = Together(api_key=\"386c02db88b02bec6cb585531559e7fbf7dcdb5b918378da07ce88dbc5671f11\")\n",
        "\n",
        "descriptions = []\n",
        "system_prompt = \"You are a helpful assistant with deep knowledge of various academic fields.\"\n",
        "\n",
        "for subject in tqdm(filtered_gnd_subject_names['Name']):\n",
        "  user_prompt = (\n",
        "        f\"Provide a short description of the subject '{subject}' in BOTH German and English. \"\n",
        "        \"Your response should first contain the German description, then the English description.\"\n",
        "    )\n",
        "\n",
        "  response = client.chat.completions.create(\n",
        "      model=\"deepseek-ai/DeepSeek-V3\",\n",
        "      messages=[\n",
        "          {\"role\": \"system\", \"content\": system_prompt},\n",
        "          {\"role\": \"user\", \"content\": user_prompt},\n",
        "      ],\n",
        "      stream=False\n",
        "  )\n",
        "  print(subject, response.choices[0].message.content)\n",
        "  descriptions.append(response.choices[0].message.content)"
      ],
      "metadata": {
        "colab": {
          "base_uri": "https://localhost:8080/"
        },
        "id": "qWPRCQqu5UKr",
        "outputId": "b98fd989-6b0a-4103-99b9-464e6ba6d9dc"
      },
      "execution_count": 5,
      "outputs": [
        {
          "output_type": "stream",
          "name": "stderr",
          "text": [
            "  0%|          | 1/345 [00:58<5:36:53, 58.76s/it]"
          ]
        },
        {
          "output_type": "stream",
          "name": "stdout",
          "text": [
            "Unspezifische Allgemeinwörter **German:**  \n",
            "'Unspezifische Allgemeinwörter' bezeichnen Wörter oder Begriffe, die sehr allgemein und weit gefasst sind und keine präzise oder konkrete Bedeutung haben. Sie werden oft verwendet, um eine vage oder unbestimmte Aussage zu treffen, ohne spezifische Details zu liefern. Beispiele hierfür sind Wörter wie \"Ding\", \"Sache\" oder \"Zeug\".  \n",
            "\n",
            "**English:**  \n",
            "'Unspezifische Allgemeinwörter' (non-specific general words) refer to words or terms that are very broad and general, lacking precise or concrete meaning. They are often used to make vague or indefinite statements without providing specific details. Examples include words like \"thing,\" \"stuff,\" or \"item.\"\n"
          ]
        },
        {
          "output_type": "stream",
          "name": "stderr",
          "text": [
            "\r  1%|          | 2/345 [01:06<2:44:42, 28.81s/it]"
          ]
        },
        {
          "output_type": "stream",
          "name": "stdout",
          "text": [
            "Allgemeines, Interdisziplinäre Allgemeinwörter **German Description:**  \n",
            "'Allgemeines, Interdisziplinäre Allgemeinwörter' bezieht sich auf grundlegendes Wissen und Begriffe, die über verschiedene Disziplinen hinweg relevant sind. Es umfasst allgemeine Konzepte, Terminologien und Zusammenhänge, die in unterschiedlichen Fachgebieten Anwendung finden und ein breites Verständnis fördern.  \n",
            "\n",
            "**English Description:**  \n",
            "'General, Interdisciplinary General Knowledge' refers to fundamental knowledge and terms that are relevant across various disciplines. It encompasses general concepts, terminologies, and connections that are applicable in different fields of study, promoting a broad understanding.\n"
          ]
        },
        {
          "output_type": "stream",
          "name": "stderr",
          "text": [
            "\r  1%|          | 3/345 [01:15<1:51:38, 19.59s/it]"
          ]
        },
        {
          "output_type": "stream",
          "name": "stdout",
          "text": [
            "Schrift, Handschriftenkunde **German:**  \n",
            "'Schrift, Handschriftenkunde' ist ein Fachgebiet, das sich mit der Erforschung und Analyse von handschriftlichen Dokumenten beschäftigt. Es umfasst die Untersuchung von Schriftarten, Schreibtechniken, Materialien sowie die historische und kulturelle Einordnung von Manuskripten. Die Handschriftenkunde spielt eine wichtige Rolle in der Geschichtswissenschaft, Philologie und Kunstgeschichte, da sie Aufschluss über die Entstehung, Verbreitung und Bedeutung von Texten gibt.\n",
            "\n",
            "**English:**  \n",
            "'Schrift, Handschriftenkunde' (Paleography and Manuscript Studies) is an academic discipline focused on the study and analysis of handwritten documents. It involves the examination of scripts, writing techniques, materials, and the historical and cultural context of manuscripts. This field is essential in historical research, philology, and art history, as it provides insights into the creation, dissemination, and significance of texts.\n"
          ]
        },
        {
          "output_type": "stream",
          "name": "stderr",
          "text": [
            "\r  1%|          | 4/345 [01:41<2:05:33, 22.09s/it]"
          ]
        },
        {
          "output_type": "stream",
          "name": "stdout",
          "text": [
            "Buchwissenschaft, Buchhandel **Deutsch:**  \n",
            "Buchwissenschaft und Buchhandel sind interdisziplinäre Fachgebiete, die sich mit der Erforschung, Produktion, Verbreitung und Rezeption von Büchern und anderen Medien beschäftigen. Die Buchwissenschaft untersucht historische, kulturelle und technologische Aspekte des Buchwesens, während der Buchhandel die wirtschaftlichen und praktischen Seiten des Vertriebs und der Vermarktung von Büchern behandelt. Beide Bereiche umfassen auch die Analyse von Verlagswesen, Schriftkultur und Leseverhalten.\n",
            "\n",
            "**English:**  \n",
            "Book studies and book trade are interdisciplinary fields that focus on the research, production, distribution, and reception of books and other media. Book studies explore historical, cultural, and technological aspects of the book as a medium, while the book trade deals with the economic and practical sides of book distribution and marketing. Both areas also include the analysis of publishing, written culture, and reading habits.\n"
          ]
        },
        {
          "output_type": "stream",
          "name": "stderr",
          "text": [
            "\r  1%|▏         | 5/345 [01:47<1:33:23, 16.48s/it]"
          ]
        },
        {
          "output_type": "stream",
          "name": "stdout",
          "text": [
            "Presse **German:**  \n",
            "Das Fach 'Presse' befasst sich mit der Erforschung und Analyse von Printmedien, deren Rolle in der Gesellschaft, ihrer historischen Entwicklung sowie ihrer Funktion in der Informationsverbreitung und Meinungsbildung. Es umfasst auch die praktische Arbeit im Journalismus, einschließlich Recherche, Schreiben und Gestaltung von Presseerzeugnissen.\n",
            "\n",
            "**English:**  \n",
            "The subject 'Press' deals with the study and analysis of print media, their role in society, their historical development, and their function in information dissemination and opinion formation. It also includes practical work in journalism, encompassing research, writing, and the design of press publications.\n"
          ]
        },
        {
          "output_type": "stream",
          "name": "stderr",
          "text": [
            "\r  2%|▏         | 6/345 [02:42<2:46:05, 29.40s/it]"
          ]
        },
        {
          "output_type": "stream",
          "name": "stdout",
          "text": [
            "Allgemeine und vergleichende Religionswissenschaft, Nichtchristliche Religionen **German Description:**  \n",
            "\"Allgemeine und vergleichende Religionswissenschaft, Nichtchristliche Religionen\" ist ein akademisches Fach, das sich mit der systematischen und vergleichenden Erforschung von Religionen weltweit beschäftigt, mit einem besonderen Fokus auf nichtchristliche Religionen. Es untersucht deren Entstehung, Entwicklung, Lehren, Praktiken und kulturelle Einflüsse. Das Fach kombiniert historische, anthropologische, soziologische und philologische Ansätze, um ein umfassendes Verständnis religiöser Phänomene zu ermöglichen.\n",
            "\n",
            "**English Description:**  \n",
            "\"General and Comparative Religious Studies, Non-Christian Religions\" is an academic discipline that focuses on the systematic and comparative study of religions worldwide, with a particular emphasis on non-Christian religions. It explores their origins, development, teachings, practices, and cultural impacts. The field integrates historical, anthropological, sociological, and philological approaches to provide a comprehensive understanding of religious phenomena.\n"
          ]
        },
        {
          "output_type": "stream",
          "name": "stderr",
          "text": [
            "\r  2%|▏         | 7/345 [02:49<2:05:24, 22.26s/it]"
          ]
        },
        {
          "output_type": "stream",
          "name": "stdout",
          "text": [
            "Personen zu allgemeiner und vergleichender Religionswissenschaft **German:**  \n",
            "Das Fach \"Personen zu allgemeiner und vergleichender Religionswissenschaft\" befasst sich mit der Erforschung bedeutender Persönlichkeiten, die einen prägenden Einfluss auf die Entwicklung der allgemeinen und vergleichenden Religionswissenschaft hatten. Es untersucht ihre Theorien, Methoden und Beiträge zum Verständnis religiöser Phänomene im globalen und historischen Kontext.  \n",
            "\n",
            "**English:**  \n",
            "The subject \"Figures in General and Comparative Religious Studies\" focuses on the study of significant individuals who have had a formative influence on the development of general and comparative religious studies. It explores their theories, methods, and contributions to understanding religious phenomena in a global and historical context.\n"
          ]
        },
        {
          "output_type": "stream",
          "name": "stderr",
          "text": [
            "\r  2%|▏         | 8/345 [03:16<2:12:22, 23.57s/it]"
          ]
        },
        {
          "output_type": "stream",
          "name": "stdout",
          "text": [
            "Bibel **German:**  \n",
            "Die Bibel ist die heilige Schrift des Christentums und besteht aus dem Alten und dem Neuen Testament. Sie enthält eine Sammlung von religiösen Texten, die als Gottes Wort angesehen werden, und umfasst Geschichten, Lehren, Prophezeiungen, Psalmen und Briefe. Die Bibel hat einen zentralen Einfluss auf Glauben, Kultur und Geschichte der westlichen Welt.\n",
            "\n",
            "**English:**  \n",
            "The Bible is the holy scripture of Christianity and is composed of the Old and New Testaments. It contains a collection of religious texts regarded as the Word of God, encompassing stories, teachings, prophecies, psalms, and letters. The Bible has had a profound influence on the faith, culture, and history of the Western world.\n"
          ]
        },
        {
          "output_type": "stream",
          "name": "stderr",
          "text": [
            "\r  3%|▎         | 9/345 [03:25<1:48:02, 19.29s/it]"
          ]
        },
        {
          "output_type": "stream",
          "name": "stdout",
          "text": [
            "Altes Testament **German:**  \n",
            "Das Alte Testament, auch als Hebräische Bibel bekannt, ist der erste Teil der christlichen Bibel und umfasst religiöse Schriften des Judentums. Es besteht aus verschiedenen Büchern, darunter die Tora (Gesetz), die Propheten und die Schriften. Diese Texte behandeln Themen wie Schöpfung, Geschichte, Gesetze, Weisheit und Prophetie und gelten als grundlegend für das Verständnis des jüdischen und christlichen Glaubens.\n",
            "\n",
            "**English:**  \n",
            "The Old Testament, also known as the Hebrew Bible, is the first part of the Christian Bible and comprises the religious scriptures of Judaism. It includes various books, such as the Torah (Law), the Prophets, and the Writings. These texts address themes like creation, history, laws, wisdom, and prophecy, and are considered foundational for understanding both Jewish and Christian faiths.\n"
          ]
        },
        {
          "output_type": "stream",
          "name": "stderr",
          "text": [
            "\r  3%|▎         | 10/345 [03:34<1:28:54, 15.92s/it]"
          ]
        },
        {
          "output_type": "stream",
          "name": "stdout",
          "text": [
            "Neues Testament **German:**  \n",
            "Das 'Neues Testament' ist der zweite Teil der christlichen Bibel und umfasst 27 Schriften, darunter die vier Evangelien, die Apostelgeschichte, Briefe und die Offenbarung des Johannes. Es beschreibt das Leben und die Lehren Jesu Christi, die Entstehung der frühen Kirche und die theologische Bedeutung seines Wirkens für die Gläubigen.  \n",
            "\n",
            "**English:**  \n",
            "The 'New Testament' is the second part of the Christian Bible and consists of 27 writings, including the four Gospels, the Acts of the Apostles, letters, and the Book of Revelation. It describes the life and teachings of Jesus Christ, the establishment of the early Church, and the theological significance of his work for believers.\n"
          ]
        },
        {
          "output_type": "stream",
          "name": "stderr",
          "text": [
            "\r  3%|▎         | 11/345 [03:41<1:13:56, 13.28s/it]"
          ]
        },
        {
          "output_type": "stream",
          "name": "stdout",
          "text": [
            "Kirchengeschichte **German Description:**  \n",
            "Kirchengeschichte ist das wissenschaftliche Fach, das sich mit der Geschichte des Christentums und der christlichen Kirchen von ihren Anfängen bis zur Gegenwart beschäftigt. Es untersucht die Entwicklung von Lehren, Institutionen, Praktiken und die Rolle der Kirche in der Gesellschaft sowie ihre Wechselwirkungen mit politischen, kulturellen und sozialen Entwicklungen.  \n",
            "\n",
            "**English Description:**  \n",
            "Church History is the academic discipline that studies the history of Christianity and Christian churches from their origins to the present day. It explores the development of doctrines, institutions, practices, and the role of the church in society, as well as its interactions with political, cultural, and social developments.\n"
          ]
        },
        {
          "output_type": "stream",
          "name": "stderr",
          "text": [
            "\r  3%|▎         | 12/345 [04:22<2:00:14, 21.67s/it]"
          ]
        },
        {
          "output_type": "stream",
          "name": "stdout",
          "text": [
            "Kirchengeschichte: Antike **Deutsch:**  \n",
            "\"Kirchengeschichte: Antike\" beschäftigt sich mit der Entwicklung des Christentums in der antiken Welt, von seinen Anfängen im 1. Jahrhundert n. Chr. bis zum Ende der Spätantike im 6. Jahrhundert. Dabei werden zentrale Themen wie die Ausbreitung des Christentums, die Entstehung kirchlicher Strukturen, theologische Debatten, die Rolle der Kirchenväter und das Verhältnis zwischen Kirche und Staat untersucht. Besondere Aufmerksamkeit gilt auch den ökumenischen Konzilien, der Herausbildung der christlichen Lehre sowie der Wechselwirkung zwischen Christentum und antiker Kultur.\n",
            "\n",
            "**English:**  \n",
            "\"Church History: Antiquity\" explores the development of Christianity in the ancient world, from its origins in the 1st century CE to the end of late antiquity in the 6th century. Key topics include the spread of Christianity, the emergence of church structures, theological debates, the role of the Church Fathers, and the relationship between church and state. Special attention is given to the ecumenical councils, the formation of Christian doctrine, and the interaction between Christianity and ancient culture.\n"
          ]
        },
        {
          "output_type": "stream",
          "name": "stderr",
          "text": [
            "\r  4%|▍         | 13/345 [04:42<1:57:04, 21.16s/it]"
          ]
        },
        {
          "output_type": "stream",
          "name": "stdout",
          "text": [
            "Kirchengeschichte: Mittelalter **German:**  \n",
            "\"Kirchengeschichte: Mittelalter\" befasst sich mit der Entwicklung der christlichen Kirche im europäischen Mittelalter (ca. 500–1500 n. Chr.). Dieser Zeitraum umfasst zentrale Themen wie die Ausbreitung des Christentums, die Rolle der Kirche in Gesellschaft und Politik, die Entstehung von Klöstern und Orden, die Kreuzzüge, die Auseinandersetzungen zwischen Papsttum und Kaisertum sowie theologische und kirchliche Reformbewegungen. Die Kirchengeschichte des Mittelalters zeigt, wie die Kirche als prägende Institution das kulturelle, geistige und soziale Leben Europas beeinflusste.  \n",
            "\n",
            "**English:**  \n",
            "\"Church History: Middle Ages\" focuses on the development of the Christian Church in medieval Europe (approx. 500–1500 AD). This period covers key themes such as the spread of Christianity, the role of the Church in society and politics, the rise of monasteries and religious orders, the Crusades, the conflicts between the papacy and the empire, as well as theological and ecclesiastical reform movements. The church history of the Middle Ages illustrates how the Church, as a formative institution, influenced the cultural, intellectual, and social life of Europe.\n"
          ]
        },
        {
          "output_type": "stream",
          "name": "stderr",
          "text": [
            "\r  4%|▍         | 14/345 [05:12<2:10:55, 23.73s/it]"
          ]
        },
        {
          "output_type": "stream",
          "name": "stdout",
          "text": [
            "Kirchengeschichte: Neuzeit **Kirchengeschichte: Neuzeit**  \n",
            "Die Kirchengeschichte der Neuzeit beschäftigt sich mit der Entwicklung der christlichen Kirchen vom 16. Jahrhundert bis zur Gegenwart. Sie umfasst zentrale Ereignisse wie die Reformation, die Gegenreformation, die Aufklärung, die Säkularisation sowie die Herausforderungen durch Modernisierung, Nationalismus und Globalisierung. Besonderes Augenmerk liegt auf den theologischen, politischen und sozialen Einflüssen, die das Christentum in dieser Epoche geprägt haben.\n",
            "\n",
            "**Church History: Modern Era**  \n",
            "Church History of the Modern Era focuses on the development of Christian churches from the 16th century to the present. It covers key events such as the Reformation, the Counter-Reformation, the Enlightenment, secularization, and the challenges posed by modernization, nationalism, and globalization. Special attention is given to the theological, political, and social influences that have shaped Christianity during this period.\n"
          ]
        },
        {
          "output_type": "stream",
          "name": "stderr",
          "text": [
            "\r  4%|▍         | 15/345 [05:32<2:04:54, 22.71s/it]"
          ]
        },
        {
          "output_type": "stream",
          "name": "stdout",
          "text": [
            "Systematische Theologie (Allgemeines), Fundamentaltheologie **German Description:**  \n",
            "Systematische Theologie (Allgemeines) und Fundamentaltheologie sind zentrale Disziplinen der Theologie, die sich mit der strukturierten Darstellung und Begründung des christlichen Glaubens befassen. Die Systematische Theologie umfasst die systematische Reflexion und Darstellung der Glaubenslehre, während die Fundamentaltheologie die Grundlagen des Glaubens, seine Vernunftgemäßheit und seine Glaubwürdigkeit untersucht. Beide Disziplinen zielen darauf ab, den Glauben in einen Dialog mit Philosophie, Wissenschaft und Kultur zu bringen.  \n",
            "\n",
            "**English Description:**  \n",
            "Systematic Theology (General) and Fundamental Theology are core disciplines of theology that focus on the structured presentation and justification of the Christian faith. Systematic Theology involves the systematic reflection and exposition of doctrinal teachings, while Fundamental Theology explores the foundations of faith, its rationality, and its credibility. Both disciplines aim to engage faith in dialogue with philosophy, science, and culture.\n"
          ]
        },
        {
          "output_type": "stream",
          "name": "stderr",
          "text": [
            "\r  5%|▍         | 16/345 [06:13<2:34:02, 28.09s/it]"
          ]
        },
        {
          "output_type": "stream",
          "name": "stdout",
          "text": [
            "Dogmatik **German:**  \n",
            "Dogmatik ist ein zentraler Bereich der Theologie, der sich systematisch mit den grundlegenden Lehren und Glaubenssätzen einer Religion, insbesondere des Christentums, auseinandersetzt. Sie analysiert und strukturiert zentrale Themen wie Gotteslehre, Christologie, Soteriologie und Ekklesiologie, um ein kohärentes Verständnis des Glaubens zu schaffen. Dogmatik dient dazu, die Offenbarung Gottes in Schrift und Tradition zu interpretieren und für die Gegenwart relevant zu machen.\n",
            "\n",
            "**English:**  \n",
            "Dogmatics is a core discipline within theology that systematically examines the fundamental doctrines and beliefs of a religion, particularly Christianity. It analyzes and structures key themes such as the doctrine of God, Christology, soteriology, and ecclesiology to create a coherent understanding of faith. Dogmatics aims to interpret God’s revelation in scripture and tradition and make it relevant for the present day.\n"
          ]
        },
        {
          "output_type": "stream",
          "name": "stderr",
          "text": [
            "\r  5%|▍         | 17/345 [06:20<2:00:06, 21.97s/it]"
          ]
        },
        {
          "output_type": "stream",
          "name": "stdout",
          "text": [
            "Theologische Anthropologie, Christliche Ethik **Deutsch:**  \n",
            "*Theologische Anthropologie, Christliche Ethik* ist ein theologisches Fach, das sich mit dem Verständnis des Menschen aus christlicher Perspektive beschäftigt. Es untersucht die Natur, Würde und Bestimmung des Menschen in Bezug auf Gott, Schöpfung und Erlösung. Gleichzeitig befasst es sich mit den moralischen und ethischen Grundsätzen, die sich aus dieser theologischen Sicht ergeben, und deren Anwendung auf individuelle und gesellschaftliche Fragestellungen.  \n",
            "\n",
            "**English:**  \n",
            "*Theological Anthropology, Christian Ethics* is a theological discipline that explores the understanding of humanity from a Christian perspective. It examines the nature, dignity, and purpose of humans in relation to God, creation, and salvation. At the same time, it addresses the moral and ethical principles derived from this theological framework and their application to individual and societal issues.\n"
          ]
        },
        {
          "output_type": "stream",
          "name": "stderr",
          "text": [
            "\r  5%|▌         | 18/345 [06:28<1:36:24, 17.69s/it]"
          ]
        },
        {
          "output_type": "stream",
          "name": "stdout",
          "text": [
            "Praktische Theologie **German:**  \n",
            "Praktische Theologie ist eine Disziplin der Theologie, die sich mit der Anwendung theologischer Erkenntnisse in der Praxis des Glaubenslebens beschäftigt. Sie umfasst Bereiche wie Seelsorge, Liturgie, Predigtlehre, Religionspädagogik und Gemeindeaufbau. Ihr Ziel ist es, Theorie und Praxis zu verbinden, um das kirchliche Handeln und das geistliche Leben der Gläubigen zu fördern und zu reflektieren.\n",
            "\n",
            "**English:**  \n",
            "Practical Theology is a discipline within theology that focuses on the application of theological insights in the practice of faith. It includes areas such as pastoral care, liturgy, homiletics, religious education, and community building. Its aim is to bridge theory and practice, fostering and reflecting on church activities and the spiritual lives of believers.\n"
          ]
        },
        {
          "output_type": "stream",
          "name": "stderr",
          "text": [
            "\r  6%|▌         | 19/345 [06:43<1:30:57, 16.74s/it]"
          ]
        },
        {
          "output_type": "stream",
          "name": "stdout",
          "text": [
            "Liturgik, Frömmigkeit **German:**  \n",
            "Liturgik und Frömmigkeit sind zentrale Themen der theologischen Forschung, die sich mit der Gestaltung und Bedeutung von Gottesdiensten sowie der persönlichen und gemeinschaftlichen Spiritualität beschäftigen. Die Liturgik erforscht die Struktur, Symbolik und historische Entwicklung liturgischer Handlungen, während die Frömmigkeit die individuelle und kollektive Glaubenspraxis sowie die emotionale und spirituelle Hingabe an Gott untersucht. Beide Bereiche sind eng miteinander verbunden und spielen eine wichtige Rolle im religiösen Leben und in der Theologie.\n",
            "\n",
            "**English:**  \n",
            "Liturgy and piety are central subjects of theological research, focusing on the design and significance of worship services as well as personal and communal spirituality. Liturgy explores the structure, symbolism, and historical development of liturgical practices, while piety examines individual and collective faith practices, along with emotional and spiritual devotion to God. Both areas are closely interconnected and play a significant role in religious life and theology.\n"
          ]
        },
        {
          "output_type": "stream",
          "name": "stderr",
          "text": [
            "\r  6%|▌         | 20/345 [06:51<1:17:33, 14.32s/it]"
          ]
        },
        {
          "output_type": "stream",
          "name": "stdout",
          "text": [
            "Homiletik **German:**  \n",
            "Homiletik ist die theologische Disziplin, die sich mit der Theorie und Praxis der Predigt befasst. Sie untersucht die Grundlagen, Methoden und Ziele der Verkündigung im kirchlichen Kontext und unterstützt Prediger dabei, ihre Botschaft klar, ansprechend und theologisch fundiert zu vermitteln.  \n",
            "\n",
            "**English:**  \n",
            "Homiletics is the theological discipline concerned with the theory and practice of preaching. It explores the principles, methods, and goals of delivering sermons within a religious context, helping preachers communicate their message clearly, engagingly, and with theological depth.\n"
          ]
        },
        {
          "output_type": "stream",
          "name": "stderr",
          "text": [
            "\r  6%|▌         | 21/345 [07:12<1:27:04, 16.12s/it]"
          ]
        },
        {
          "output_type": "stream",
          "name": "stdout",
          "text": [
            "Katechetik, Christliche Erziehung, Kirchliche Bildungsarbeit **German Description:**  \n",
            "\"Katechetik, Christliche Erziehung, Kirchliche Bildungsarbeit\" ist ein theologisches Fach, das sich mit der Vermittlung des christlichen Glaubens, der religiösen Bildung und der pädagogischen Arbeit in kirchlichen Kontexten befasst. Es umfasst die theoretischen Grundlagen sowie praktische Methoden der Glaubensvermittlung, insbesondere in der Kinder- und Jugendarbeit, aber auch in der Erwachsenenbildung. Ziel ist es, Glauben verständlich und lebensnah zu vermitteln und die spirituelle Entwicklung in verschiedenen Lebensphasen zu fördern.\n",
            "\n",
            "**English Description:**  \n",
            "\"Catechetics, Christian Education, Ecclesiastical Educational Work\" is a theological discipline focused on the communication of the Christian faith, religious education, and pedagogical activities within church contexts. It encompasses both theoretical foundations and practical methods of faith formation, particularly in children's and youth ministry, as well as adult education. The aim is to convey faith in an understandable and relatable way, fostering spiritual development across different stages of life.\n"
          ]
        },
        {
          "output_type": "stream",
          "name": "stderr",
          "text": [
            "\r  6%|▋         | 22/345 [08:35<3:15:53, 36.39s/it]"
          ]
        },
        {
          "output_type": "stream",
          "name": "stdout",
          "text": [
            "Seelsorge **Deutsch:**  \n",
            "Seelsorge bezeichnet die geistliche Begleitung und Unterstützung von Menschen in verschiedenen Lebenssituationen, oft in religiösem oder kirchlichem Kontext. Sie umfasst Gespräche, Beratung, Trost und spirituelle Orientierung, um individuelle Herausforderungen, Krisen oder Glaubensfragen zu bewältigen. Seelsorger arbeiten häufig in Gemeinden, Krankenhäusern, Gefängnissen oder anderen Einrichtungen, um Menschen seelisch und geistlich zu stärken.\n",
            "\n",
            "**English:**  \n",
            "Seelsorge, or pastoral care, refers to the spiritual guidance and support provided to individuals in various life situations, often within a religious or church context. It involves conversations, counseling, comfort, and spiritual direction to help people navigate personal challenges, crises, or questions of faith. Pastoral caregivers often work in communities, hospitals, prisons, or other institutions to offer emotional and spiritual strength to those in need.\n"
          ]
        },
        {
          "output_type": "stream",
          "name": "stderr",
          "text": [
            "\r  7%|▋         | 23/345 [08:44<2:31:00, 28.14s/it]"
          ]
        },
        {
          "output_type": "stream",
          "name": "stdout",
          "text": [
            "Mission, Kirchliche Sozialarbeit **German:**  \n",
            "Das Fach \"Mission, Kirchliche Sozialarbeit\" befasst sich mit der theologischen und praktischen Dimension der kirchlichen Mission sowie der sozialen Arbeit im kirchlichen Kontext. Es umfasst die Analyse und Gestaltung von missionarischen und sozialen Aktivitäten, die auf die Verkündigung des Evangeliums und die Unterstützung benachteiligter Menschen ausgerichtet sind. Dabei werden historische, ethische und soziologische Aspekte berücksichtigt, um eine ganzheitliche Sicht auf die Rolle der Kirche in der Gesellschaft zu entwickeln.\n",
            "\n",
            "**English:**  \n",
            "The subject \"Mission, Church Social Work\" explores the theological and practical dimensions of church mission and social work within a religious context. It involves the analysis and design of missionary and social activities aimed at proclaiming the Gospel and supporting disadvantaged individuals. Historical, ethical, and sociological aspects are considered to develop a holistic understanding of the church's role in society.\n"
          ]
        },
        {
          "output_type": "stream",
          "name": "stderr",
          "text": [
            "\r  7%|▋         | 24/345 [08:57<2:06:12, 23.59s/it]"
          ]
        },
        {
          "output_type": "stream",
          "name": "stdout",
          "text": [
            "Kirche und Konfession **Deutsch:**  \n",
            "Das Fach \"Kirche und Konfession\" befasst sich mit der Geschichte, Theologie und Struktur verschiedener christlicher Konfessionen sowie deren Rolle in Gesellschaft und Kultur. Es untersucht die Entstehung und Entwicklung von Kirchen, die Unterschiede zwischen Konfessionen wie Katholizismus, Protestantismus und Orthodoxie sowie deren Einfluss auf historische und zeitgenössische Ereignisse. Das Fach verbindet theologische, historische und soziologische Perspektiven, um ein umfassendes Verständnis des christlichen Glaubens und seiner institutionellen Ausprägungen zu fördern.  \n",
            "\n",
            "**English:**  \n",
            "The subject \"Church and Denomination\" explores the history, theology, and structure of various Christian denominations as well as their role in society and culture. It examines the origins and development of churches, the differences between denominations such as Catholicism, Protestantism, and Orthodoxy, and their influence on historical and contemporary events. The discipline combines theological, historical, and sociological perspectives to foster a comprehensive understanding of the Christian faith and its institutional expressions.\n"
          ]
        },
        {
          "output_type": "stream",
          "name": "stderr",
          "text": [
            "\r  7%|▋         | 25/345 [09:08<1:45:25, 19.77s/it]"
          ]
        },
        {
          "output_type": "stream",
          "name": "stdout",
          "text": [
            "Katholische Kirche **Deutsch:**  \n",
            "Die Katholische Kirche, auch bekannt als Römisch-Katholische Kirche, ist die größte christliche Glaubensgemeinschaft weltweit. Sie beruft sich auf die Traditionen und Lehren Jesu Christi, wie sie durch die Apostel überliefert wurden, und erkennt den Papst in Rom als ihr geistliches Oberhaupt an. Die Kirche ist geprägt durch ihre Sakramente, liturgischen Feiern und hierarchische Struktur, die Bischöfe, Priester und Diakone umfasst. Sie spielt eine zentrale Rolle in der Geschichte, Kultur und Ethik Europas und darüber hinaus.\n",
            "\n",
            "**English:**  \n",
            "The Catholic Church, also known as the Roman Catholic Church, is the largest Christian denomination in the world. It is rooted in the teachings and traditions of Jesus Christ as passed down through the apostles and recognizes the Pope in Rome as its spiritual leader. The Church is characterized by its sacraments, liturgical celebrations, and hierarchical structure, which includes bishops, priests, and deacons. It has played a central role in the history, culture, and ethics of Europe and beyond.\n"
          ]
        },
        {
          "output_type": "stream",
          "name": "stderr",
          "text": [
            "\r  8%|▊         | 26/345 [09:21<1:33:55, 17.67s/it]"
          ]
        },
        {
          "output_type": "stream",
          "name": "stdout",
          "text": [
            "Evangelische Kirchen **Deutsch:**  \n",
            "Die Evangelische Kirchen beschäftigen sich mit der Geschichte, Theologie, Struktur und Praxis der protestantischen Kirchen, die aus der Reformation im 16. Jahrhundert hervorgegangen sind. Das Fach umfasst die Untersuchung von Glaubensgrundsätzen, liturgischen Traditionen, kirchlichen Institutionen sowie die Rolle der evangelischen Kirchen in Gesellschaft und Kultur. Es bezieht auch ökumenische Beziehungen und aktuelle Herausforderungen wie Modernisierung und Säkularisierung ein.\n",
            "\n",
            "**English:**  \n",
            "Evangelische Kirchen (Protestant Churches) focuses on the history, theology, structure, and practices of Protestant churches that emerged from the Reformation in the 16th century. The subject explores core beliefs, liturgical traditions, church institutions, and the role of Protestant churches in society and culture. It also includes ecumenical relations and contemporary challenges such as modernization and secularization.\n"
          ]
        },
        {
          "output_type": "stream",
          "name": "stderr",
          "text": [
            "\r  8%|▊         | 27/345 [09:44<1:42:19, 19.31s/it]"
          ]
        },
        {
          "output_type": "stream",
          "name": "stdout",
          "text": [
            "Ostkirchen und andere christliche Religionsgemeinschaften und Sekten **German:**  \n",
            "Das Fach \"Ostkirchen und andere christliche Religionsgemeinschaften und Sekten\" befasst sich mit der Erforschung der östlichen christlichen Kirchen, wie den orthodoxen und orientalisch-orthodoxen Kirchen, sowie mit anderen christlichen Glaubensgemeinschaften und Sekten. Es untersucht deren Geschichte, Theologie, Liturgie, spirituelle Praktiken und ihre Beziehungen zu anderen christlichen Konfessionen. Besonderes Augenmerk liegt auf der Rolle dieser Gemeinschaften in kulturellen, politischen und sozialen Kontexten sowie auf ihren Einfluss auf die globale christliche Landschaft.  \n",
            "\n",
            "**English:**  \n",
            "The subject \"Eastern Churches and Other Christian Religious Communities and Sects\" focuses on the study of Eastern Christian churches, such as the Orthodox and Oriental Orthodox Churches, as well as other Christian religious groups and sects. It explores their history, theology, liturgy, spiritual practices, and their relationships with other Christian denominations. Special attention is given to the role of these communities in cultural, political, and social contexts, as well as their influence on the global Christian landscape.\n"
          ]
        },
        {
          "output_type": "stream",
          "name": "stderr",
          "text": [
            "\r  8%|▊         | 28/345 [09:53<1:26:00, 16.28s/it]"
          ]
        },
        {
          "output_type": "stream",
          "name": "stdout",
          "text": [
            "Philosophie (Allgemeines) **Deutsch:**  \n",
            "\"Philosophie (Allgemeines)\" befasst sich mit den grundlegenden Fragen des menschlichen Denkens, Seins und Handelns. Sie untersucht Themen wie Ethik, Erkenntnistheorie, Metaphysik, Logik und die Natur der Realität. Diese Disziplin zielt darauf ab, ein tieferes Verständnis der Welt, des Menschen und seiner Rolle in der Gesellschaft zu entwickeln, indem sie kritische Reflexion und systematische Argumentation fördert.\n",
            "\n",
            "**English:**  \n",
            "\"Philosophy (General)\" deals with the fundamental questions of human thought, existence, and action. It explores topics such as ethics, epistemology, metaphysics, logic, and the nature of reality. This discipline aims to develop a deeper understanding of the world, humanity, and our role in society by promoting critical reflection and systematic reasoning.\n"
          ]
        },
        {
          "output_type": "stream",
          "name": "stderr",
          "text": [
            "\r  8%|▊         | 29/345 [10:16<1:35:43, 18.17s/it]"
          ]
        },
        {
          "output_type": "stream",
          "name": "stdout",
          "text": [
            "Philosophiegeschichte **German:**  \n",
            "Philosophiegeschichte ist das Studium der Entwicklung philosophischer Ideen, Theorien und Denksysteme im Laufe der Zeit. Es untersucht die Werke bedeutender Philosophen, ihre Einflüsse und die historischen Kontexte, in denen sie entstanden sind. Diese Disziplin ermöglicht ein tieferes Verständnis der philosophischen Traditionen und ihrer Auswirkungen auf Kultur, Wissenschaft und Gesellschaft.\n",
            "\n",
            "**English:**  \n",
            "Philosophy of history, or \"Philosophiegeschichte,\" is the study of the evolution of philosophical ideas, theories, and systems of thought over time. It explores the works of significant philosophers, their influences, and the historical contexts in which they emerged. This discipline provides a deeper understanding of philosophical traditions and their impact on culture, science, and society.\n"
          ]
        },
        {
          "output_type": "stream",
          "name": "stderr",
          "text": [
            "\r  9%|▊         | 30/345 [10:31<1:30:20, 17.21s/it]"
          ]
        },
        {
          "output_type": "stream",
          "name": "stdout",
          "text": [
            "Erkenntnistheorie, Logik **German:**  \n",
            "Erkenntnistheorie und Logik sind zentrale Disziplinen der Philosophie. Die Erkenntnistheorie befasst sich mit der Natur, den Quellen und den Grenzen menschlichen Wissens. Sie untersucht Fragen wie: Was können wir wissen? Wie erlangen wir Wissen? Die Logik hingegen ist die Wissenschaft des korrekten Schließens und Argumentierens. Sie analysiert die Struktur von Argumenten und entwickelt formale Systeme, um die Gültigkeit von Schlussfolgerungen zu überprüfen. Beide Disziplinen sind eng miteinander verbunden und bilden die Grundlage für rationales Denken und wissenschaftliche Methodik.  \n",
            "\n",
            "**English:**  \n",
            "Epistemology and logic are core disciplines in philosophy. Epistemology deals with the nature, sources, and limits of human knowledge. It explores questions such as: What can we know? How do we acquire knowledge? Logic, on the other hand, is the science of correct reasoning and argumentation. It analyzes the structure of arguments and develops formal systems to evaluate the validity of conclusions. Both disciplines are closely interconnected and form the foundation for rational thinking and scientific methodology.\n"
          ]
        },
        {
          "output_type": "stream",
          "name": "stderr",
          "text": [
            "\r  9%|▉         | 31/345 [10:49<1:31:15, 17.44s/it]"
          ]
        },
        {
          "output_type": "stream",
          "name": "stdout",
          "text": [
            "Metaphysik **Deutsch:**  \n",
            "Metaphysik ist ein zentraler Bereich der Philosophie, der sich mit den grundlegenden Fragen der Wirklichkeit und Existenz beschäftigt. Sie untersucht die Natur des Seins, die Struktur der Realität, das Verhältnis zwischen Geist und Materie sowie Ursprung und Sinn des Universums. Traditionell umfasst sie Themen wie Ontologie (die Lehre vom Seienden), Kosmologie (die Lehre vom Universum) und Theologie (die Lehre von Gott). Metaphysik geht oft über die empirische Wissenschaft hinaus und sucht nach universellen Prinzipien und letztgültigen Erklärungen.\n",
            "\n",
            "**English:**  \n",
            "Metaphysics is a core area of philosophy that deals with fundamental questions about reality and existence. It explores the nature of being, the structure of reality, the relationship between mind and matter, and the origin and purpose of the universe. Traditionally, it encompasses topics such as ontology (the study of being), cosmology (the study of the universe), and theology (the study of God). Metaphysics often goes beyond empirical science, seeking universal principles and ultimate explanations.\n"
          ]
        },
        {
          "output_type": "stream",
          "name": "stderr",
          "text": [
            "\r  9%|▉         | 32/345 [11:24<1:59:17, 22.87s/it]"
          ]
        },
        {
          "output_type": "stream",
          "name": "stdout",
          "text": [
            "Ethik, Philosophische Anthropologie, Sozialphilosophie **German:**  \n",
            "Das Fach \"Ethik, Philosophische Anthropologie, Sozialphilosophie\" befasst sich mit grundlegenden Fragen des menschlichen Lebens und Zusammenlebens. Die Ethik untersucht moralische Prinzipien und Handlungsnormen, während die Philosophische Anthropologie das Wesen des Menschen und seine Stellung in der Welt erforscht. Die Sozialphilosophie analysiert Strukturen und Dynamiken gesellschaftlicher Beziehungen sowie Fragen der Gerechtigkeit, Freiheit und Gemeinschaft. Zusammen bilden diese Disziplinen ein umfassendes Verständnis des menschlichen Handelns und der menschlichen Existenz.\n",
            "\n",
            "**English:**  \n",
            "The subject \"Ethics, Philosophical Anthropology, Social Philosophy\" deals with fundamental questions of human life and coexistence. Ethics examines moral principles and norms of action, while Philosophical Anthropology explores the nature of humans and their place in the world. Social Philosophy analyzes the structures and dynamics of societal relationships, as well as issues of justice, freedom, and community. Together, these disciplines provide a comprehensive understanding of human action and existence.\n"
          ]
        },
        {
          "output_type": "stream",
          "name": "stderr",
          "text": [
            "\r 10%|▉         | 33/345 [11:34<1:39:23, 19.11s/it]"
          ]
        },
        {
          "output_type": "stream",
          "name": "stdout",
          "text": [
            "Ästhetik **German:**  \n",
            "Ästhetik ist ein Teilgebiet der Philosophie, das sich mit der Natur von Schönheit, Kunst und Geschmack beschäftigt. Sie untersucht, wie wir ästhetische Erfahrungen machen, wie wir Kunstwerke wahrnehmen und bewerten, sowie die Prinzipien, die unserer ästhetischen Urteilsbildung zugrunde liegen. Ästhetik umfasst sowohl theoretische Überlegungen als auch praktische Fragen zur Rolle von Kunst und Schönheit in der menschlichen Kultur.\n",
            "\n",
            "**English:**  \n",
            "Aesthetics is a branch of philosophy that deals with the nature of beauty, art, and taste. It explores how we experience aesthetic phenomena, how we perceive and evaluate artworks, and the principles underlying our aesthetic judgments. Aesthetics encompasses both theoretical reflections and practical questions about the role of art and beauty in human culture.\n"
          ]
        },
        {
          "output_type": "stream",
          "name": "stderr",
          "text": [
            "\r 10%|▉         | 34/345 [11:58<1:45:50, 20.42s/it]"
          ]
        },
        {
          "output_type": "stream",
          "name": "stdout",
          "text": [
            "Kulturphilosophie **German:**  \n",
            "Kulturphilosophie ist ein Teilgebiet der Philosophie, das sich mit der Reflexion über die Entstehung, Bedeutung und Entwicklung von Kultur beschäftigt. Sie untersucht die grundlegenden Prinzipien, Werte und Strukturen, die menschliche Kulturen prägen, sowie das Verhältnis des Individuums zur Kultur. Dabei werden Fragen nach dem Wesen der Kultur, ihrer Rolle in der menschlichen Existenz und ihrem Einfluss auf Gesellschaft, Kunst, Sprache und Technik gestellt. Kulturphilosophie verbindet dabei oft anthropologische, historische und ästhetische Perspektiven.\n",
            "\n",
            "**English:**  \n",
            "Cultural philosophy is a branch of philosophy that deals with the reflection on the origins, meaning, and development of culture. It explores the fundamental principles, values, and structures that shape human cultures, as well as the relationship between the individual and culture. It addresses questions about the nature of culture, its role in human existence, and its influence on society, art, language, and technology. Cultural philosophy often combines anthropological, historical, and aesthetic perspectives.\n"
          ]
        },
        {
          "output_type": "stream",
          "name": "stderr",
          "text": [
            "\r 10%|█         | 35/345 [12:12<1:35:45, 18.53s/it]"
          ]
        },
        {
          "output_type": "stream",
          "name": "stdout",
          "text": [
            "Psychologie (Allgemeines), Experimentelle Psychologie **German:**  \n",
            "Die 'Psychologie (Allgemeines), Experimentelle Psychologie' beschäftigt sich mit der wissenschaftlichen Erforschung menschlichen Verhaltens und Erlebens. Sie umfasst die Grundlagen der Psychologie sowie die Anwendung experimenteller Methoden, um psychologische Phänomene systematisch zu untersuchen. Dabei werden kontrollierte Experimente durchgeführt, um Hypothesen zu testen und kausale Zusammenhänge zu identifizieren.  \n",
            "\n",
            "**English:**  \n",
            "'Psychology (General), Experimental Psychology' focuses on the scientific study of human behavior and mental processes. It covers the fundamentals of psychology and the application of experimental methods to systematically investigate psychological phenomena. Controlled experiments are conducted to test hypotheses and identify causal relationships.\n"
          ]
        },
        {
          "output_type": "stream",
          "name": "stderr",
          "text": [
            "\r 10%|█         | 36/345 [12:38<1:46:20, 20.65s/it]"
          ]
        },
        {
          "output_type": "stream",
          "name": "stdout",
          "text": [
            "Psychologische Diagnostik, Tests **Deutsch:**  \n",
            "Das Fach „Psychologische Diagnostik, Tests“ befasst sich mit der Entwicklung, Anwendung und Auswertung psychologischer Testverfahren zur Messung von Persönlichkeitsmerkmalen, kognitiven Fähigkeiten, emotionalen Zuständen und Verhaltensweisen. Es umfasst die theoretischen Grundlagen der Testkonstruktion, Gütekriterien wie Reliabilität und Validität sowie ethische Aspekte der Diagnostik. Ziel ist es, fundierte Aussagen über individuelle oder gruppenbezogene psychologische Merkmale zu treffen, die in klinischen, pädagogischen oder beruflichen Kontexten eingesetzt werden können.  \n",
            "\n",
            "**English:**  \n",
            "The subject \"Psychological Diagnostics, Tests\" focuses on the development, application, and interpretation of psychological tests designed to measure personality traits, cognitive abilities, emotional states, and behaviors. It covers the theoretical foundations of test construction, quality criteria such as reliability and validity, and ethical considerations in diagnostics. The aim is to provide well-founded insights into individual or group-related psychological characteristics, which can be applied in clinical, educational, or occupational contexts.\n"
          ]
        },
        {
          "output_type": "stream",
          "name": "stderr",
          "text": [
            "\r 11%|█         | 37/345 [12:49<1:31:44, 17.87s/it]"
          ]
        },
        {
          "output_type": "stream",
          "name": "stdout",
          "text": [
            "Entwicklungspsychologie, Vergleichende Psychologie **German:**  \n",
            "Entwicklungspsychologie und Vergleichende Psychologie sind zwei zentrale Bereiche der Psychologie. Die Entwicklungspsychologie beschäftigt sich mit der Erforschung der psychischen Veränderungen und Entwicklungsprozesse des Menschen über die gesamte Lebensspanne hinweg – von der Kindheit bis ins hohe Alter. Die Vergleichende Psychologie hingegen untersucht das Verhalten und die mentalen Prozesse verschiedener Tierarten im Vergleich zum Menschen, um Gemeinsamkeiten und Unterschiede zu identifizieren und evolutionäre Zusammenhänge zu verstehen. Beide Disziplinen tragen wesentlich zum Verständnis der menschlichen Natur und ihrer Entwicklung bei.  \n",
            "\n",
            "**English:**  \n",
            "Developmental Psychology and Comparative Psychology are two core areas of psychology. Developmental Psychology focuses on the study of psychological changes and developmental processes in humans across the entire lifespan – from childhood to old age. Comparative Psychology, on the other hand, examines the behavior and mental processes of different animal species in comparison to humans, aiming to identify similarities and differences and to understand evolutionary relationships. Both disciplines contribute significantly to the understanding of human nature and its development.\n"
          ]
        },
        {
          "output_type": "stream",
          "name": "stderr",
          "text": [
            "\r 11%|█         | 38/345 [13:04<1:26:31, 16.91s/it]"
          ]
        },
        {
          "output_type": "stream",
          "name": "stdout",
          "text": [
            "Sozial-, Kultur- und Völkerpsychologie **German:**  \n",
            "Sozial-, Kultur- und Völkerpsychologie ist ein interdisziplinäres Fach, das sich mit dem Einfluss sozialer und kultureller Faktoren auf das menschliche Verhalten, Denken und Fühlen beschäftigt. Es untersucht, wie Individuen in sozialen Gruppen interagieren, wie kulturelle Normen und Werte die Psyche prägen und wie sich psychologische Prozesse zwischen verschiedenen ethnischen und nationalen Gruppen unterscheiden. Diese Disziplin verbindet Erkenntnisse aus Psychologie, Soziologie, Anthropologie und Ethnologie, um ein umfassendes Verständnis menschlicher Verhaltensweisen in unterschiedlichen gesellschaftlichen und kulturellen Kontexten zu entwickeln.\n",
            "\n",
            "**English:**  \n",
            "Social, Cultural, and Cross-Cultural Psychology is an interdisciplinary field that explores the influence of social and cultural factors on human behavior, thinking, and emotions. It examines how individuals interact within social groups, how cultural norms and values shape the psyche, and how psychological processes differ across various ethnic and national groups. This discipline integrates insights from psychology, sociology, anthropology, and ethnology to develop a comprehensive understanding of human behavior in diverse societal and cultural contexts.\n"
          ]
        },
        {
          "output_type": "stream",
          "name": "stderr",
          "text": [
            "\r 11%|█▏        | 39/345 [13:14<1:16:00, 14.90s/it]"
          ]
        },
        {
          "output_type": "stream",
          "name": "stdout",
          "text": [
            "Tiefenpsychologie **German Description:**  \n",
            "Tiefenpsychologie ist ein Bereich der Psychologie, der sich mit unbewussten Prozessen und inneren Konflikten beschäftigt, die das menschliche Verhalten und Erleben beeinflussen. Sie umfasst verschiedene Theorien und Ansätze, wie z.B. die Psychoanalyse nach Sigmund Freud, die Analytische Psychologie nach C.G. Jung und die Individualpsychologie nach Alfred Adler. Ziel der Tiefenpsychologie ist es, verdrängte oder unbewusste Inhalte ins Bewusstsein zu bringen, um psychische Probleme zu verstehen und zu behandeln.\n",
            "\n",
            "**English Description:**  \n",
            "Depth psychology is a branch of psychology that focuses on unconscious processes and internal conflicts that influence human behavior and experience. It encompasses various theories and approaches, such as Sigmund Freud's psychoanalysis, C.G. Jung's analytical psychology, and Alfred Adler's individual psychology. The goal of depth psychology is to bring repressed or unconscious material into awareness in order to understand and address psychological issues.\n"
          ]
        },
        {
          "output_type": "stream",
          "name": "stderr",
          "text": [
            "\r 12%|█▏        | 40/345 [13:22<1:05:16, 12.84s/it]"
          ]
        },
        {
          "output_type": "stream",
          "name": "stdout",
          "text": [
            "Angewandte Psychologie, Psychohygiene **German:**  \n",
            "'Angewandte Psychologie, Psychohygiene' ist ein Fachgebiet, das sich mit der praktischen Anwendung psychologischer Erkenntnisse in verschiedenen Lebensbereichen beschäftigt. Es umfasst Methoden zur Förderung der mentalen Gesundheit, der Stressbewältigung und der Prävention psychischer Erkrankungen. Psychohygiene bezieht sich dabei auf Maßnahmen zur Erhaltung und Stärkung der psychischen Widerstandsfähigkeit und des emotionalen Wohlbefindens.  \n",
            "\n",
            "**English:**  \n",
            "'Applied Psychology, Mental Hygiene' is a field that focuses on the practical application of psychological insights in various areas of life. It includes methods for promoting mental health, stress management, and the prevention of psychological disorders. Mental hygiene refers to measures aimed at maintaining and strengthening psychological resilience and emotional well-being.\n"
          ]
        },
        {
          "output_type": "stream",
          "name": "stderr",
          "text": [
            "\r 12%|█▏        | 41/345 [13:30<58:04, 11.46s/it]  "
          ]
        },
        {
          "output_type": "stream",
          "name": "stdout",
          "text": [
            "Parapsychologie **Deutsch:**  \n",
            "Parapsychologie ist ein wissenschaftliches Forschungsgebiet, das psychische Phänomene untersucht, die sich mit herkömmlichen naturwissenschaftlichen Methoden nicht erklären lassen. Dazu gehören Themen wie Telepathie, Hellsehen, Präkognition, Psychokinese und Nahtoderfahrungen. Die Parapsychologie versucht, diese Phänomene empirisch zu erforschen und ihre Existenz sowie mögliche Erklärungen zu überprüfen.  \n",
            "\n",
            "**English:**  \n",
            "Parapsychology is a scientific field of study that investigates psychic phenomena which cannot be explained by conventional scientific methods. This includes topics such as telepathy, clairvoyance, precognition, psychokinesis, and near-death experiences. Parapsychology aims to empirically study these phenomena and examine their validity as well as potential explanations.\n"
          ]
        },
        {
          "output_type": "stream",
          "name": "stderr",
          "text": [
            "\r 12%|█▏        | 42/345 [13:38<52:46, 10.45s/it]"
          ]
        },
        {
          "output_type": "stream",
          "name": "stdout",
          "text": [
            "Esoterik **German:**  \n",
            "Esoterik beschäftigt sich mit verborgenem Wissen, spirituellen Praktiken und Lehren, die oft außerhalb der etablierten Religionen oder Wissenschaften stehen. Sie umfasst Themen wie Astrologie, Alchemie, Mystik, Magie und alternative Heilmethoden. Esoterik zielt darauf ab, tieferes Verständnis und Verbindung zu spirituellen oder universellen Wahrheiten herzustellen.\n",
            "\n",
            "**English:**  \n",
            "Esotericism deals with hidden knowledge, spiritual practices, and teachings that often exist outside established religions or sciences. It encompasses topics such as astrology, alchemy, mysticism, magic, and alternative healing methods. Esotericism aims to foster a deeper understanding and connection to spiritual or universal truths.\n"
          ]
        },
        {
          "output_type": "stream",
          "name": "stderr",
          "text": [
            "\r 12%|█▏        | 43/345 [13:48<52:01, 10.34s/it]"
          ]
        },
        {
          "output_type": "stream",
          "name": "stdout",
          "text": [
            "Kultur, Künste allgemein **German Description:**  \n",
            "\"Kultur, Künste allgemein\" ist ein breit gefächertes Fachgebiet, das sich mit den verschiedenen Ausdrucksformen menschlicher Kreativität und kultureller Praxis beschäftigt. Es umfasst die Erforschung von Kunst, Literatur, Musik, Theater, Film und anderen kulturellen Phänomenen. Das Fach untersucht die historische Entwicklung, gesellschaftliche Bedeutung und theoretische Analyse kultureller und künstlerischer Werke sowie deren Einfluss auf Individuen und Gemeinschaften.  \n",
            "\n",
            "**English Description:**  \n",
            "\"Culture, Arts in General\" is a broad field of study that explores the diverse expressions of human creativity and cultural practices. It encompasses the examination of art, literature, music, theater, film, and other cultural phenomena. The subject investigates the historical development, societal significance, and theoretical analysis of cultural and artistic works, as well as their impact on individuals and communities.\n"
          ]
        },
        {
          "output_type": "stream",
          "name": "stderr",
          "text": [
            "\r 13%|█▎        | 44/345 [14:00<53:03, 10.58s/it]"
          ]
        },
        {
          "output_type": "stream",
          "name": "stdout",
          "text": [
            "Geistes- und Kulturgeschichte **Deutsch:**  \n",
            "\"Geistes- und Kulturgeschichte\" ist ein interdisziplinäres Fach, das sich mit der Entwicklung von Ideen, Werten, Weltanschauungen und kulturellen Praktiken im historischen Kontext beschäftigt. Es verbindet Ansätze aus der Philosophie, Literaturwissenschaft, Kunstgeschichte, Soziologie und anderen Geisteswissenschaften, um die Wechselwirkungen zwischen menschlichem Denken und kulturellen Ausdrucksformen zu erforschen. Der Fokus liegt oft auf Schlüsselperioden, bedeutenden Denkern und kulturellen Bewegungen, die das gesellschaftliche und geistige Leben geprägt haben.\n",
            "\n",
            "**English:**  \n",
            "\"Intellectual and Cultural History\" is an interdisciplinary field that examines the development of ideas, values, worldviews, and cultural practices within their historical contexts. It integrates approaches from philosophy, literary studies, art history, sociology, and other humanities disciplines to explore the interplay between human thought and cultural expressions. The focus is often on key periods, influential thinkers, and cultural movements that have shaped societal and intellectual life.\n"
          ]
        },
        {
          "output_type": "stream",
          "name": "stderr",
          "text": [
            "\r 13%|█▎        | 45/345 [14:08<49:03,  9.81s/it]"
          ]
        },
        {
          "output_type": "stream",
          "name": "stdout",
          "text": [
            "Bildungswesen (Allgemeines) **Deutsch:**  \n",
            "Das Bildungswesen (Allgemeines) beschäftigt sich mit der Struktur, Organisation und Entwicklung des gesamten Bildungssystems. Es umfasst Themen wie Bildungsziele, Lehrpläne, Schulformen, Bildungspolitik sowie die Rolle von Institutionen und Akteuren im Bildungsbereich. Es befasst sich auch mit Fragen der Bildungsgerechtigkeit, Qualitätssicherung und internationalen Vergleiche im Bildungswesen.\n",
            "\n",
            "**English:**  \n",
            "The subject of Education (General) deals with the structure, organization, and development of the entire education system. It encompasses topics such as educational goals, curricula, types of schools, education policy, and the role of institutions and stakeholders in the field of education. It also addresses issues of educational equity, quality assurance, and international comparisons in education.\n"
          ]
        },
        {
          "output_type": "stream",
          "name": "stderr",
          "text": [
            "\r 13%|█▎        | 46/345 [14:41<1:24:40, 16.99s/it]"
          ]
        },
        {
          "output_type": "stream",
          "name": "stdout",
          "text": [
            "Geschichte des Bildungswesens **German Description:**  \n",
            "Die 'Geschichte des Bildungswesens' ist ein Fachgebiet, das sich mit der Entwicklung und den Veränderungen von Bildungssystemen, -institutionen und -konzepten im historischen Kontext beschäftigt. Es untersucht, wie Bildung von der Antike bis zur Gegenwart organisiert, vermittelt und zugänglich gemacht wurde, und analysiert die sozialen, politischen und kulturellen Einflüsse auf die Bildungspolitik und -praxis. Dabei werden sowohl formale als auch informelle Bildungsprozesse betrachtet, um ein umfassendes Verständnis der Bildungsgeschichte zu schaffen.  \n",
            "\n",
            "**English Description:**  \n",
            "The 'History of Education' is an academic discipline that focuses on the development and changes of educational systems, institutions, and concepts within a historical context. It explores how education has been organized, delivered, and made accessible from ancient times to the present day, analyzing the social, political, and cultural influences on educational policies and practices. Both formal and informal educational processes are examined to provide a comprehensive understanding of the history of education.\n"
          ]
        },
        {
          "output_type": "stream",
          "name": "stderr",
          "text": [
            "\r 14%|█▎        | 47/345 [14:53<1:16:39, 15.44s/it]"
          ]
        },
        {
          "output_type": "stream",
          "name": "stdout",
          "text": [
            "Schule **German:**  \n",
            "\"Schule\" ist eine Bildungseinrichtung, in der Kinder, Jugendliche und manchmal auch Erwachsene unterrichtet werden. Sie vermittelt Wissen, Fähigkeiten und Werte in verschiedenen Fächern wie Mathematik, Deutsch, Naturwissenschaften und Sozialkunde. Die Schule hat das Ziel, Schüler auf das Leben vorzubereiten, ihre Persönlichkeit zu entwickeln und sie auf berufliche oder akademische Laufbahnen vorzubereiten.  \n",
            "\n",
            "**English:**  \n",
            "\"Schule\" (school) is an educational institution where children, adolescents, and sometimes adults are taught. It imparts knowledge, skills, and values in various subjects such as mathematics, language, science, and social studies. The goal of school is to prepare students for life, develop their personalities, and equip them for professional or academic careers.\n"
          ]
        },
        {
          "output_type": "stream",
          "name": "stderr",
          "text": [
            "\r 14%|█▍        | 48/345 [15:02<1:06:08, 13.36s/it]"
          ]
        },
        {
          "output_type": "stream",
          "name": "stdout",
          "text": [
            "Berufsausbildung **German:**  \n",
            "Die Berufsausbildung ist ein systematischer Bildungsprozess, der darauf abzielt, praktische Fertigkeiten und theoretisches Wissen in einem bestimmten Beruf zu vermitteln. Sie erfolgt in der Regel im dualen System, das eine Kombination aus betrieblicher Praxis und schulischer Bildung umfasst, und bereitet Auszubildende auf eine qualifizierte Tätigkeit im Arbeitsmarkt vor.  \n",
            "\n",
            "**English:**  \n",
            "Vocational training (Berufsausbildung) is a systematic educational process designed to provide practical skills and theoretical knowledge in a specific profession. It typically follows the dual system, which combines workplace training and classroom education, preparing trainees for a qualified role in the job market.\n"
          ]
        },
        {
          "output_type": "stream",
          "name": "stderr",
          "text": [
            "\r 14%|█▍        | 49/345 [15:26<1:22:02, 16.63s/it]"
          ]
        },
        {
          "output_type": "stream",
          "name": "stdout",
          "text": [
            "Unterricht **German:**  \n",
            "\"Unterricht\" bezieht sich auf den strukturierten Prozess des Lehrens und Lernens, der in Bildungseinrichtungen wie Schulen, Universitäten oder anderen Lernumgebungen stattfindet. Es umfasst die Vermittlung von Wissen, Fähigkeiten und Kompetenzen durch Lehrkräfte an Schüler oder Studierende. Unterricht kann in verschiedenen Formen erfolgen, beispielsweise als Frontalunterricht, Gruppenarbeit oder projektbasiertes Lernen, und zielt darauf ab, die Lernenden fachlich und persönlich zu fördern.\n",
            "\n",
            "**English:**  \n",
            "\"Unterricht\" refers to the structured process of teaching and learning that takes place in educational institutions such as schools, universities, or other learning environments. It involves the transfer of knowledge, skills, and competencies from teachers to students or learners. Lessons can take various forms, such as lecture-based teaching, group work, or project-based learning, and aim to support learners academically and personally.\n"
          ]
        },
        {
          "output_type": "stream",
          "name": "stderr",
          "text": [
            "\r 14%|█▍        | 50/345 [15:37<1:14:12, 15.09s/it]"
          ]
        },
        {
          "output_type": "stream",
          "name": "stdout",
          "text": [
            "Wissenschaft **Deutsch:**  \n",
            "Wissenschaft bezeichnet die systematische Erforschung, Untersuchung und Darstellung von Erkenntnissen in verschiedenen Disziplinen wie Naturwissenschaften, Geisteswissenschaften und Sozialwissenschaften. Sie basiert auf Methoden wie Beobachtung, Experiment, Analyse und Theoriebildung, um Wissen zu erweitern und zu verifizieren. Wissenschaft strebt danach, objektive und überprüfbare Aussagen über die Welt zu treffen.\n",
            "\n",
            "**English:**  \n",
            "Science (Wissenschaft) refers to the systematic exploration, investigation, and presentation of knowledge in various disciplines such as natural sciences, humanities, and social sciences. It is based on methods like observation, experimentation, analysis, and theory formation to expand and verify knowledge. Science aims to make objective and verifiable statements about the world.\n"
          ]
        },
        {
          "output_type": "stream",
          "name": "stderr",
          "text": [
            "\r 15%|█▍        | 51/345 [15:52<1:12:47, 14.86s/it]"
          ]
        },
        {
          "output_type": "stream",
          "name": "stdout",
          "text": [
            "Hochschule **German:**  \n",
            "Die Hochschule ist eine Bildungseinrichtung, die akademische und praxisorientierte Studiengänge anbietet. Sie umfasst Universitäten, Fachhochschulen und andere Institutionen, die Studierende auf berufliche Tätigkeiten oder wissenschaftliche Karrieren vorbereiten. Hochschulen zeichnen sich durch Forschung, Lehre und die Vermittlung von Fachwissen aus und spielen eine zentrale Rolle in der Wissensgesellschaft.\n",
            "\n",
            "**English:**  \n",
            "A Hochschule (higher education institution) is an educational establishment that offers academic and practice-oriented degree programs. It includes universities, universities of applied sciences, and other institutions that prepare students for professional careers or academic pursuits. Hochschulen are characterized by research, teaching, and the dissemination of expertise, playing a central role in the knowledge-based society.\n"
          ]
        },
        {
          "output_type": "stream",
          "name": "stderr",
          "text": [
            "\r 15%|█▌        | 52/345 [16:22<1:35:48, 19.62s/it]"
          ]
        },
        {
          "output_type": "stream",
          "name": "stdout",
          "text": [
            "Bibliothek, Information und Dokumentation **German:**  \n",
            "\"Bibliothek, Information und Dokumentation\" ist ein interdisziplinäres Fach, das sich mit der Sammlung, Organisation, Verwaltung und Bereitstellung von Informationen und Wissen beschäftigt. Es umfasst die Arbeit in Bibliotheken, Archiven und Dokumentationsstellen sowie die Anwendung von Technologien zur Informationsverarbeitung und -vermittlung. Ziel ist es, den Zugang zu Informationen effizient und benutzerfreundlich zu gestalten.\n",
            "\n",
            "**English:**  \n",
            "\"Library, Information, and Documentation\" is an interdisciplinary field that deals with the collection, organization, management, and provision of information and knowledge. It includes work in libraries, archives, and documentation centers, as well as the application of technologies for information processing and dissemination. The goal is to make access to information efficient and user-friendly.\n"
          ]
        },
        {
          "output_type": "stream",
          "name": "stderr",
          "text": [
            "\r 15%|█▌        | 53/345 [16:38<1:30:02, 18.50s/it]"
          ]
        },
        {
          "output_type": "stream",
          "name": "stdout",
          "text": [
            "Archiv, Museum **Deutsch:**  \n",
            "Das Fach \"Archiv, Museum\" befasst sich mit der Sammlung, Bewahrung, Erschließung und Vermittlung von Kulturgut und historischen Dokumenten. Es umfasst sowohl theoretische Grundlagen als auch praktische Methoden der Archiv- und Museumsarbeit, wie Bestandsverwaltung, Konservierung, Ausstellungsgestaltung und Öffentlichkeitsarbeit. Ziel ist es, das kulturelle Erbe zu schützen und einer breiten Öffentlichkeit zugänglich zu machen.\n",
            "\n",
            "**English:**  \n",
            "The subject \"Archive, Museum\" deals with the collection, preservation, organization, and communication of cultural heritage and historical documents. It encompasses both theoretical foundations and practical methods of archival and museum work, such as inventory management, conservation, exhibition design, and public outreach. The goal is to protect cultural heritage and make it accessible to a broad audience.\n"
          ]
        },
        {
          "output_type": "stream",
          "name": "stderr",
          "text": [
            "\r 16%|█▌        | 54/345 [17:42<2:34:44, 31.91s/it]"
          ]
        },
        {
          "output_type": "stream",
          "name": "stdout",
          "text": [
            "Recht allgemein, Rechtsphilosophie **German Description:**  \n",
            "'Recht allgemein, Rechtsphilosophie' befasst sich mit den grundlegenden Prinzipien, Theorien und Konzepten des Rechts sowie dessen philosophischen Grundlagen. Es untersucht die Natur des Rechts, seine Beziehung zu Moral und Gerechtigkeit, sowie die Rolle des Rechts in der Gesellschaft. Themen wie Rechtstheorie, Gerechtigkeit, Menschenrechte und die Legitimität von Gesetzen stehen im Mittelpunkt dieser Disziplin.\n",
            "\n",
            "**English Description:**  \n",
            "'General Law, Legal Philosophy' deals with the fundamental principles, theories, and concepts of law, as well as its philosophical foundations. It explores the nature of law, its relationship to morality and justice, and the role of law in society. Topics such as legal theory, justice, human rights, and the legitimacy of laws are central to this discipline.\n"
          ]
        },
        {
          "output_type": "stream",
          "name": "stderr",
          "text": [
            "\r 16%|█▌        | 55/345 [18:56<3:35:55, 44.67s/it]"
          ]
        },
        {
          "output_type": "stream",
          "name": "stdout",
          "text": [
            "Rechtsvergleich **German:**  \n",
            "Rechtsvergleich, auch als vergleichende Rechtswissenschaft bezeichnet, ist ein Fachgebiet, das sich mit der Analyse und dem Vergleich von Rechtssystemen, Gesetzen und Rechtspraktiken verschiedener Länder oder Rechtskreise beschäftigt. Ziel ist es, Gemeinsamkeiten, Unterschiede und Entwicklungen im Recht zu identifizieren, um ein besseres Verständnis der rechtlichen Vielfalt und ihrer Ursachen zu erlangen. Es spielt eine wichtige Rolle in der internationalen Rechtsharmonisierung und der Rechtsreform.\n",
            "\n",
            "**English:**  \n",
            "Comparative law, also known as Rechtsvergleich in German, is a field of study that focuses on the analysis and comparison of legal systems, laws, and legal practices across different countries or legal traditions. Its aim is to identify similarities, differences, and developments in law to gain a deeper understanding of legal diversity and its underlying causes. It plays a significant role in international legal harmonization and legal reform.\n"
          ]
        },
        {
          "output_type": "stream",
          "name": "stderr",
          "text": [
            "\r 16%|█▌        | 56/345 [19:07<2:46:10, 34.50s/it]"
          ]
        },
        {
          "output_type": "stream",
          "name": "stdout",
          "text": [
            "Rechtsgeschichte, Verfassungsgeschichte **Deutsch:**  \n",
            "Rechtsgeschichte und Verfassungsgeschichte sind Disziplinen, die sich mit der historischen Entwicklung von Rechtssystemen und Verfassungen beschäftigen. Die Rechtsgeschichte untersucht die Entstehung, Veränderung und Wirkung von Rechtsnormen und -institutionen im Laufe der Zeit, während die Verfassungsgeschichte speziell die Entwicklung verfassungsrechtlicher Grundlagen, Strukturen und Prinzipien analysiert. Beide Fächer verbinden juristische, historische und politische Perspektiven, um ein tieferes Verständnis für die rechtlichen und staatlichen Rahmenbedingungen in verschiedenen Epochen zu schaffen.\n",
            "\n",
            "**English:**  \n",
            "Legal history and constitutional history are disciplines that focus on the historical development of legal systems and constitutions. Legal history examines the emergence, transformation, and impact of legal norms and institutions over time, while constitutional history specifically analyzes the evolution of constitutional foundations, structures, and principles. Both fields combine legal, historical, and political perspectives to provide a deeper understanding of the legal and governmental frameworks in different historical periods.\n"
          ]
        },
        {
          "output_type": "stream",
          "name": "stderr",
          "text": [
            "\r 17%|█▋        | 57/345 [19:31<2:31:08, 31.49s/it]"
          ]
        },
        {
          "output_type": "stream",
          "name": "stdout",
          "text": [
            "Rechtsgeschichte, Verfassungsgeschichte: Altertum **German Description:**  \n",
            "\"Rechtsgeschichte, Verfassungsgeschichte: Altertum\" ist ein Fachgebiet, das sich mit der Entwicklung von Recht und Verfassung in antiken Kulturen beschäftigt. Es untersucht die rechtlichen Systeme, Gesetze und Verfassungsstrukturen früher Zivilisationen wie des antiken Griechenlands, Roms und anderer alter Hochkulturen. Dabei werden sowohl historische als auch juristische Perspektiven einbezogen, um die Entstehung und den Einfluss dieser frühen Rechtssysteme auf spätere Entwicklungen zu verstehen.\n",
            "\n",
            "**English Description:**  \n",
            "\"Legal History, Constitutional History: Antiquity\" is a field of study that explores the development of law and constitutional systems in ancient cultures. It examines the legal frameworks, laws, and constitutional structures of early civilizations such as ancient Greece, Rome, and other ancient societies. The subject combines historical and legal perspectives to understand the origins and influence of these early legal systems on later developments.\n"
          ]
        },
        {
          "output_type": "stream",
          "name": "stderr",
          "text": [
            "\r 17%|█▋        | 58/345 [19:43<2:02:28, 25.61s/it]"
          ]
        },
        {
          "output_type": "stream",
          "name": "stdout",
          "text": [
            "Rechtsgeschichte, Verfassungsgeschichte: Mittelalter **German:**  \n",
            "\"Rechtsgeschichte, Verfassungsgeschichte: Mittelalter\" ist ein Fach, das sich mit der Entwicklung des Rechts und der Verfassung im mittelalterlichen Europa befasst. Es untersucht die rechtlichen und politischen Strukturen, Institutionen und Normen, die vom frühen bis zum späten Mittelalter entstanden und prägend waren. Dabei werden sowohl kirchliche als auch weltliche Rechtsquellen, wie Gesetze, Urkunden und Gewohnheitsrechte, analysiert, um die Wechselwirkungen zwischen Recht, Macht und Gesellschaft zu verstehen.\n",
            "\n",
            "**English:**  \n",
            "\"Legal History, Constitutional History: Middle Ages\" is a subject that explores the development of law and constitutional structures in medieval Europe. It examines the legal and political frameworks, institutions, and norms that emerged and were influential from the early to the late Middle Ages. The course analyzes both ecclesiastical and secular legal sources, such as laws, charters, and customary rights, to understand the interplay between law, power, and society during this period.\n"
          ]
        },
        {
          "output_type": "stream",
          "name": "stderr",
          "text": [
            "\r 17%|█▋        | 59/345 [19:56<1:44:04, 21.84s/it]"
          ]
        },
        {
          "output_type": "stream",
          "name": "stdout",
          "text": [
            "Rechtsgeschichte, Verfassungsgeschichte: Neuzeit **German:**  \n",
            "\"Rechtsgeschichte, Verfassungsgeschichte: Neuzeit\" befasst sich mit der Entwicklung des Rechts und der Verfassungen in der Neuzeit, also etwa ab dem 16. Jahrhundert. Dieser Bereich untersucht die rechtlichen und institutionellen Veränderungen, die durch historische Ereignisse wie die Reformation, die Aufklärung, die Französische Revolution und die Entstehung moderner Nationalstaaten geprägt wurden. Dabei werden sowohl die theoretischen Grundlagen als auch die praktische Anwendung von Recht und Verfassung in verschiedenen Ländern analysiert.\n",
            "\n",
            "**English:**  \n",
            "\"Legal History, Constitutional History: Modern Era\" focuses on the development of law and constitutions in the modern period, starting approximately from the 16th century. This field examines the legal and institutional changes influenced by historical events such as the Reformation, the Enlightenment, the French Revolution, and the emergence of modern nation-states. It analyzes both the theoretical foundations and the practical application of law and constitutions in various countries.\n"
          ]
        },
        {
          "output_type": "stream",
          "name": "stderr",
          "text": [
            "\r 17%|█▋        | 60/345 [20:07<1:27:46, 18.48s/it]"
          ]
        },
        {
          "output_type": "stream",
          "name": "stdout",
          "text": [
            "Staatsrecht, Verfassungsrecht **German:**  \n",
            "Staatsrecht, auch Verfassungsrecht genannt, ist ein zentraler Teil des öffentlichen Rechts, der sich mit der Organisation, den Kompetenzen und der Funktionsweise des Staates sowie den grundlegenden Rechten und Pflichten der Bürger befasst. Es umfasst die rechtlichen Grundlagen des Staatsaufbaus, die Verfassung, die Gewaltenteilung, die Grundrechte und das Verhältnis zwischen Staat und Individuum. Das Staatsrecht ist essenziell für das Verständnis der rechtlichen und politischen Ordnung eines Landes.\n",
            "\n",
            "**English:**  \n",
            "Constitutional law, also known as public law, is a core area of legal studies that deals with the organization, powers, and functioning of the state, as well as the fundamental rights and duties of citizens. It encompasses the legal foundations of the state’s structure, the constitution, the separation of powers, fundamental rights, and the relationship between the state and individuals. Constitutional law is essential for understanding the legal and political order of a country.\n"
          ]
        },
        {
          "output_type": "stream",
          "name": "stderr",
          "text": [
            "\r 18%|█▊        | 61/345 [20:15<1:13:22, 15.50s/it]"
          ]
        },
        {
          "output_type": "stream",
          "name": "stdout",
          "text": [
            "Allgemeines Verwaltungsrecht **German:**  \n",
            "Allgemeines Verwaltungsrecht ist ein grundlegender Bereich des öffentlichen Rechts, der die allgemeinen Prinzipien, Verfahren und Rechtsbeziehungen zwischen der öffentlichen Verwaltung und den Bürgern regelt. Es umfasst Themen wie Verwaltungsakte, Verwaltungsverfahren, Verwaltungsvollstreckung sowie Rechtsschutzmöglichkeiten gegen behördliche Entscheidungen. Es bildet die Basis für spezielle Verwaltungsrechtsgebiete wie Bau-, Umwelt- oder Kommunalrecht.\n",
            "\n",
            "**English:**  \n",
            "General Administrative Law is a fundamental area of public law that governs the general principles, procedures, and legal relationships between public administration and citizens. It covers topics such as administrative acts, administrative procedures, administrative enforcement, and legal remedies against governmental decisions. It serves as the foundation for specialized areas of administrative law, such as construction, environmental, or municipal law.\n"
          ]
        },
        {
          "output_type": "stream",
          "name": "stderr",
          "text": [
            "\r 18%|█▊        | 62/345 [20:24<1:04:02, 13.58s/it]"
          ]
        },
        {
          "output_type": "stream",
          "name": "stdout",
          "text": [
            "Dienstrecht (auch Richter) **German Description:**  \n",
            "Das Dienstrecht, auch Richterdienstrecht, umfasst die gesetzlichen Regelungen, die das Arbeitsverhältnis von Beamten, Richtern und anderen öffentlich Bediensteten betreffen. Es regelt unter anderem die Rechte und Pflichten, die Besoldung, die Beförderung, die Disziplinarmaßnahmen und den Ruhestand. Besondere Bedeutung hat das Richterdienstrecht, das die Unabhängigkeit und die besondere Stellung der Richter im Rechtsstaat sicherstellt.  \n",
            "\n",
            "**English Description:**  \n",
            "Civil service law, also known as judicial service law, encompasses the legal regulations governing the employment relationship of civil servants, judges, and other public employees. It includes rules on rights and obligations, remuneration, promotion, disciplinary measures, and retirement. Special importance is given to judicial service law, which ensures the independence and unique position of judges within the rule of law.\n"
          ]
        },
        {
          "output_type": "stream",
          "name": "stderr",
          "text": [
            "\r 18%|█▊        | 63/345 [20:31<54:19, 11.56s/it]  "
          ]
        },
        {
          "output_type": "stream",
          "name": "stdout",
          "text": [
            "Kommunalrecht **German:**  \n",
            "Das Kommunalrecht ist ein Teilbereich des öffentlichen Rechts, der sich mit der Organisation, den Aufgaben und der Verwaltung von Gemeinden, Städten und Landkreisen befasst. Es regelt die rechtlichen Grundlagen der kommunalen Selbstverwaltung, die Rechte und Pflichten der kommunalen Organe sowie deren Handlungsspielräume. Das Kommunalrecht ist in Deutschland durch das Grundgesetz (Art. 28 GG) und die Gemeindeordnungen der Bundesländer geprägt.\n",
            "\n",
            "**English:**  \n",
            "Municipal law is a branch of public law that deals with the organization, responsibilities, and administration of municipalities, cities, and districts. It governs the legal foundations of local self-government, the rights and duties of municipal bodies, and their scope of action. In Germany, municipal law is shaped by the Basic Law (Art. 28 GG) and the municipal codes of the federal states.\n"
          ]
        },
        {
          "output_type": "stream",
          "name": "stderr",
          "text": [
            "\r 19%|█▊        | 64/345 [23:50<5:17:49, 67.86s/it]"
          ]
        },
        {
          "output_type": "stream",
          "name": "stdout",
          "text": [
            "Baurecht, Raumordnung, Bodenrecht, Umweltrecht, Naturschutzrecht, Denkmalschutz **German Description:**  \n",
            "Das Fachgebiet 'Baurecht, Raumordnung, Bodenrecht, Umweltrecht, Naturschutzrecht, Denkmalschutz' umfasst die rechtlichen Rahmenbedingungen für die Planung, Nutzung und den Schutz von Flächen, Gebäuden und natürlichen Ressourcen. Es beinhaltet Regelungen zur Bebauung von Grundstücken (Baurecht), zur übergeordneten räumlichen Entwicklung (Raumordnung), zur Nutzung und Eigentumsverhältnisse von Boden (Bodenrecht), zum Schutz der Umwelt (Umweltrecht), zur Erhaltung von Natur und Biodiversität (Naturschutzrecht) sowie zum Schutz von Kulturdenkmälern (Denkmalschutz). Diese Bereiche sind eng miteinander verknüpft und zielen auf eine nachhaltige und verantwortungsvolle Nutzung von Ressourcen ab.\n",
            "\n",
            "**English Description:**  \n",
            "The subject area 'Building Law, Spatial Planning, Land Law, Environmental Law, Nature Conservation Law, and Heritage Protection' encompasses the legal frameworks for the planning, use, and protection of land, buildings, and natural resources. It includes regulations for the development of land (Building Law), overarching spatial development (Spatial Planning), the use and ownership of land (Land Law), environmental protection (Environmental Law), the preservation of nature and biodiversity (Nature Conservation Law), and the protection of cultural heritage (Heritage Protection). These areas are closely interconnected and aim for the sustainable and responsible use of resources.\n"
          ]
        },
        {
          "output_type": "stream",
          "name": "stderr",
          "text": [
            "\r 19%|█▉        | 65/345 [24:30<4:37:27, 59.46s/it]"
          ]
        },
        {
          "output_type": "stream",
          "name": "stdout",
          "text": [
            "Kulturrecht, Presserecht, Rundfunkrecht, Bildungswesen und Forschung **German Description:**  \n",
            "Das Fachgebiet 'Kulturrecht, Presserecht, Rundfunkrecht, Bildungswesen und Forschung' umfasst die rechtlichen Grundlagen und Rahmenbedingungen für Kultur, Medien, Bildung und Wissenschaft. Es beinhaltet die Regelungen zum Schutz und zur Förderung von Kunst und Kultur, die rechtlichen Aspekte der Presse- und Rundfunkfreiheit sowie die gesetzlichen Bestimmungen im Bildungs- und Forschungsbereich. Dabei werden sowohl nationale als auch internationale Rechtsvorschriften betrachtet, die das Zusammenspiel zwischen staatlicher Regulierung und individuellen Freiheiten gestalten.\n",
            "\n",
            "**English Description:**  \n",
            "The subject 'Cultural Law, Press Law, Broadcasting Law, Education, and Research' covers the legal foundations and frameworks for culture, media, education, and science. It includes regulations for the protection and promotion of art and culture, legal aspects of press and broadcasting freedom, and statutory provisions in the fields of education and research. Both national and international legal norms are examined, addressing the interplay between state regulation and individual freedoms.\n"
          ]
        },
        {
          "output_type": "stream",
          "name": "stderr",
          "text": [
            "\r 19%|█▉        | 66/345 [24:40<3:27:19, 44.59s/it]"
          ]
        },
        {
          "output_type": "stream",
          "name": "stdout",
          "text": [
            "Straßen- und Wegerecht, Verkehrsrecht, Telekommunikationsrecht **German Description:**  \n",
            "Das Fach „Straßen- und Wegerecht, Verkehrsrecht, Telekommunikationsrecht“ befasst sich mit den rechtlichen Regelungen, die den Bau, die Nutzung und die Verwaltung von Straßen und Wegen betreffen. Es umfasst zudem das Verkehrsrecht, das die Ordnung und Sicherheit im Straßenverkehr regelt, sowie das Telekommunikationsrecht, das die rechtlichen Rahmenbedingungen für Telekommunikationsdienste und -netze festlegt. Dieses interdisziplinäre Fach verbindet Aspekte des öffentlichen Rechts, des Verwaltungsrechts und des Technikrechts.\n",
            "\n",
            "**English Description:**  \n",
            "The subject \"Road and Path Law, Traffic Law, Telecommunications Law\" deals with the legal regulations concerning the construction, use, and management of roads and paths. It also includes traffic law, which governs the order and safety of road traffic, as well as telecommunications law, which sets the legal framework for telecommunications services and networks. This interdisciplinary field combines aspects of public law, administrative law, and technical law.\n"
          ]
        },
        {
          "output_type": "stream",
          "name": "stderr",
          "text": [
            "\r 19%|█▉        | 67/345 [24:52<2:41:38, 34.89s/it]"
          ]
        },
        {
          "output_type": "stream",
          "name": "stdout",
          "text": [
            "Wehrrecht **German:**  \n",
            "Wehrrecht ist ein Teilbereich des öffentlichen Rechts, der sich mit den rechtlichen Grundlagen der Wehrpflicht, der Organisation der Streitkräfte sowie den Rechten und Pflichten von Soldaten befasst. Es umfasst sowohl nationale Gesetze als auch internationale Abkommen, die den Einsatz und die Struktur der Streitkräfte regeln.\n",
            "\n",
            "**English:**  \n",
            "Wehrrecht, or military law, is a branch of public law that deals with the legal foundations of conscription, the organization of armed forces, and the rights and duties of soldiers. It encompasses both national legislation and international agreements governing the deployment and structure of military forces.\n"
          ]
        },
        {
          "output_type": "stream",
          "name": "stderr",
          "text": [
            "\r 20%|█▉        | 68/345 [25:16<2:24:42, 31.34s/it]"
          ]
        },
        {
          "output_type": "stream",
          "name": "stdout",
          "text": [
            "Polizeirecht, Ordnungsrecht **German:**  \n",
            "Polizeirecht und Ordnungsrecht sind Teilgebiete des öffentlichen Rechts, die sich mit der Gefahrenabwehr und der Aufrechterhaltung der öffentlichen Sicherheit und Ordnung befassen. Das Polizeirecht regelt die Befugnisse und Aufgaben der Polizei, während das Ordnungsrecht allgemeine staatliche Maßnahmen zur Gefahrenabwehr umfasst. Beide Rechtsbereiche dienen dem Schutz der Bürger und der Gesellschaft vor Bedrohungen und Störungen.  \n",
            "\n",
            "**English:**  \n",
            "Police law and regulatory law are subfields of public law that deal with hazard prevention and the maintenance of public safety and order. Police law governs the powers and duties of the police, while regulatory law encompasses general state measures for hazard prevention. Both legal areas aim to protect citizens and society from threats and disturbances.\n"
          ]
        },
        {
          "output_type": "stream",
          "name": "stderr",
          "text": [
            "\r 20%|██        | 69/345 [25:26<1:55:59, 25.22s/it]"
          ]
        },
        {
          "output_type": "stream",
          "name": "stdout",
          "text": [
            "Gesundheitsrecht **German:**  \n",
            "Gesundheitsrecht ist ein Bereich des öffentlichen Rechts, der sich mit den rechtlichen Rahmenbedingungen des Gesundheitswesens befasst. Es umfasst Regelungen zur Krankenversicherung, zur ärztlichen Berufsausübung, zum Patientenrecht, zum Datenschutz im Gesundheitsbereich sowie zu den Beziehungen zwischen Ärzten, Krankenhäusern, Patienten und Versicherungen. Das Gesundheitsrecht ist interdisziplinär und verbindet rechtliche, ethische und medizinische Aspekte.\n",
            "\n",
            "**English:**  \n",
            "Health law is a branch of public law that deals with the legal framework of the healthcare system. It includes regulations on health insurance, medical practice, patient rights, data protection in healthcare, and the relationships between doctors, hospitals, patients, and insurers. Health law is interdisciplinary, combining legal, ethical, and medical aspects.\n"
          ]
        },
        {
          "output_type": "stream",
          "name": "stderr",
          "text": [
            "\r 20%|██        | 70/345 [25:35<1:32:54, 20.27s/it]"
          ]
        },
        {
          "output_type": "stream",
          "name": "stdout",
          "text": [
            "Kriminologie **German:**  \n",
            "Kriminologie ist die wissenschaftliche Disziplin, die sich mit der Erforschung von Kriminalität, ihren Ursachen, Erscheinungsformen und den gesellschaftlichen Reaktionen darauf beschäftigt. Sie umfasst die Analyse von Straftaten, Täterpersönlichkeiten, Opferrollen sowie die Entwicklung von Präventions- und Interventionsstrategien. Kriminologie verbindet Erkenntnisse aus verschiedenen Fachgebieten wie Soziologie, Psychologie, Rechtswissenschaft und Kriminalistik.\n",
            "\n",
            "**English:**  \n",
            "Criminology is the scientific discipline that focuses on the study of crime, its causes, manifestations, and societal responses to it. It involves the analysis of criminal offenses, offender profiles, victim roles, and the development of prevention and intervention strategies. Criminology integrates insights from various fields such as sociology, psychology, legal studies, and criminalistics.\n"
          ]
        },
        {
          "output_type": "stream",
          "name": "stderr",
          "text": [
            "\r 21%|██        | 71/345 [26:08<1:49:14, 23.92s/it]"
          ]
        },
        {
          "output_type": "stream",
          "name": "stdout",
          "text": [
            "Strafrecht **German:**  \n",
            "Strafrecht ist ein Teil des Rechtssystems, der sich mit der Definition von Straftaten, den rechtlichen Konsequenzen von Verbrechen und dem Verfahren zur Verfolgung und Bestrafung von Tätern befasst. Es umfasst sowohl das materielle Strafrecht, das festlegt, welche Handlungen strafbar sind, als auch das formelle Strafrecht, das die Prozessordnung und die Durchsetzung der Strafgesetze regelt. Ziel des Strafrechts ist der Schutz der Gesellschaft, die Wahrung der Rechtsordnung und die Resozialisierung von Straftätern.\n",
            "\n",
            "**English:**  \n",
            "Criminal law is a branch of the legal system that deals with the definition of crimes, the legal consequences of criminal acts, and the procedures for prosecuting and punishing offenders. It encompasses both substantive criminal law, which defines what constitutes a crime, and procedural criminal law, which governs the process of enforcing criminal laws. The primary goals of criminal law are to protect society, maintain legal order, and rehabilitate offenders.\n"
          ]
        },
        {
          "output_type": "stream",
          "name": "stderr",
          "text": [
            "\r 21%|██        | 72/345 [26:16<1:26:57, 19.11s/it]"
          ]
        },
        {
          "output_type": "stream",
          "name": "stdout",
          "text": [
            "Strafvollzug **German Description:**  \n",
            "Der Strafvollzug beschäftigt sich mit der Umsetzung und Gestaltung von Freiheitsstrafen in Justizvollzugsanstalten. Es geht um die rechtlichen Grundlagen, die Organisation des Vollzugs, die Behandlung und Resozialisierung von Gefangenen sowie die Sicherheit und Ordnung innerhalb der Anstalten. Ziel ist es, ein Gleichgewicht zwischen Strafe, Schutz der Gesellschaft und der Wiedereingliederung der Straftäter zu finden.\n",
            "\n",
            "**English Description:**  \n",
            "Prison administration, or \"Strafvollzug,\" deals with the implementation and management of custodial sentences in correctional facilities. It encompasses the legal framework, the organization of prison operations, the treatment and rehabilitation of inmates, as well as maintaining safety and order within the institutions. The aim is to balance punishment, societal protection, and the reintegration of offenders into society.\n"
          ]
        },
        {
          "output_type": "stream",
          "name": "stderr",
          "text": [
            "\r 21%|██        | 73/345 [26:24<1:11:47, 15.84s/it]"
          ]
        },
        {
          "output_type": "stream",
          "name": "stdout",
          "text": [
            "Rechtspflege, Prozessrecht **German Description:**  \n",
            "\"Rechtspflege, Prozessrecht\" befasst sich mit der Organisation und dem Ablauf von Gerichtsverfahren sowie der Durchsetzung von Rechtsansprüchen. Es umfasst sowohl das Zivilprozessrecht, Strafprozessrecht als auch das Verwaltungsprozessrecht. Das Fach beleuchtet die Rollen der beteiligten Akteure (wie Richter, Anwälte und Parteien), die Verfahrensgrundsätze sowie die rechtlichen Rahmenbedingungen, die eine faire und effiziente Rechtspflege gewährleisten sollen.\n",
            "\n",
            "**English Description:**  \n",
            "\"Rechtspflege, Prozessrecht\" (Administration of Justice, Procedural Law) deals with the organization and conduct of court proceedings as well as the enforcement of legal claims. It encompasses civil procedure law, criminal procedure law, and administrative procedure law. The subject examines the roles of the involved actors (such as judges, lawyers, and parties), the principles of procedure, and the legal frameworks that aim to ensure fair and efficient administration of justice.\n"
          ]
        },
        {
          "output_type": "stream",
          "name": "stderr",
          "text": [
            "\r 21%|██▏       | 74/345 [26:42<1:14:52, 16.58s/it]"
          ]
        },
        {
          "output_type": "stream",
          "name": "stdout",
          "text": [
            "Rechtsmedizin **German Description:**  \n",
            "Rechtsmedizin, auch Forensische Medizin genannt, ist ein interdisziplinäres Fach, das medizinische Kenntnisse mit rechtlichen Fragestellungen verbindet. Es beschäftigt sich mit der Aufklärung von Todesfällen, der Untersuchung von Verletzungen, der Beurteilung von Gewalteinwirkungen sowie der Klärung von rechtlich relevanten medizinischen Sachverhalten. Rechtsmediziner arbeiten eng mit Strafverfolgungsbehörden, Gerichten und anderen Institutionen zusammen, um objektive Beweise für juristische Verfahren zu liefern.\n",
            "\n",
            "**English Description:**  \n",
            "Forensic medicine, also known as legal medicine, is an interdisciplinary field that combines medical knowledge with legal issues. It deals with the investigation of deaths, the examination of injuries, the assessment of violent impacts, and the clarification of medically relevant legal matters. Forensic medical experts work closely with law enforcement agencies, courts, and other institutions to provide objective evidence for legal proceedings.\n"
          ]
        },
        {
          "output_type": "stream",
          "name": "stderr",
          "text": [
            "\r 22%|██▏       | 75/345 [26:55<1:09:05, 15.35s/it]"
          ]
        },
        {
          "output_type": "stream",
          "name": "stdout",
          "text": [
            "Finanzrecht **Deutsch:**  \n",
            "Finanzrecht ist ein Teilgebiet des öffentlichen Rechts, das sich mit den rechtlichen Regelungen rund um die Erhebung und Verwaltung von Steuern sowie anderen öffentlichen Abgaben befasst. Es umfasst sowohl materielle als auch formelle Aspekte, wie Steuergesetze, Steuerverwaltungsverfahren und Finanzgerichtsbarkeit. Das Finanzrecht regelt das Verhältnis zwischen dem Staat und den Steuerpflichtigen und sichert die gerechte und effiziente Erhebung von Finanzmitteln für die öffentliche Hand.\n",
            "\n",
            "**English:**  \n",
            "Financial law is a branch of public law that deals with the legal regulations surrounding the levying and administration of taxes and other public charges. It encompasses both substantive and procedural aspects, such as tax laws, tax administration procedures, and financial jurisdiction. Financial law governs the relationship between the state and taxpayers and ensures the fair and efficient collection of funds for the public sector.\n"
          ]
        },
        {
          "output_type": "stream",
          "name": "stderr",
          "text": [
            "\r 22%|██▏       | 76/345 [27:08<1:06:27, 14.82s/it]"
          ]
        },
        {
          "output_type": "stream",
          "name": "stdout",
          "text": [
            "Steuerrecht, Zollrecht **German Description:**  \n",
            "'Steuerrecht, Zollrecht' umfasst die rechtlichen Regelungen, die sich mit der Erhebung und Verwaltung von Steuern und Zöllen befassen. Das Steuerrecht regelt die Besteuerung von natürlichen und juristischen Personen sowie Unternehmen, während das Zollrecht die Ein- und Ausfuhr von Waren, die Zollabfertigung und die damit verbundenen Abgaben behandelt. Beide Rechtsgebiete sind eng miteinander verknüpft und spielen eine zentrale Rolle in der Finanzverwaltung und der Wirtschaftspolitik eines Staates.\n",
            "\n",
            "**English Description:**  \n",
            "'Steuerrecht, Zollrecht' (Tax Law, Customs Law) encompasses the legal regulations governing the collection and administration of taxes and customs duties. Tax law deals with the taxation of individuals, legal entities, and businesses, while customs law addresses the import and export of goods, customs clearance, and associated charges. Both areas of law are closely interconnected and play a central role in a state's financial administration and economic policy.\n"
          ]
        },
        {
          "output_type": "stream",
          "name": "stderr",
          "text": [
            "\r 22%|██▏       | 77/345 [27:19<1:00:52, 13.63s/it]"
          ]
        },
        {
          "output_type": "stream",
          "name": "stdout",
          "text": [
            "Wirtschaftsrecht, Wirtschaftsaufsicht **German:**  \n",
            "Wirtschaftsrecht und Wirtschaftsaufsicht beschäftigen sich mit den rechtlichen Rahmenbedingungen und der staatlichen Überwachung von wirtschaftlichen Aktivitäten. Das Wirtschaftsrecht umfasst Regelungen zu Handels-, Arbeits-, Wettbewerbs- und Steuerrecht, während die Wirtschaftsaufsicht die Einhaltung dieser Vorschriften durch Behörden kontrolliert. Ziel ist es, einen fairen Wettbewerb, Verbraucherschutz und die Stabilität des Wirtschaftssystems zu gewährleisten.\n",
            "\n",
            "**English:**  \n",
            "Business law and economic supervision deal with the legal framework and state oversight of economic activities. Business law includes regulations on commercial, labor, competition, and tax law, while economic supervision ensures compliance with these rules through regulatory authorities. The aim is to ensure fair competition, consumer protection, and the stability of the economic system.\n"
          ]
        },
        {
          "output_type": "stream",
          "name": "stderr",
          "text": [
            "\r 23%|██▎       | 78/345 [27:30<56:59, 12.81s/it]  "
          ]
        },
        {
          "output_type": "stream",
          "name": "stdout",
          "text": [
            "Gewerblicher Rechtsschutz, Urheberrecht **Gewerblicher Rechtsschutz, Urheberrecht**  \n",
            "*Gewerblicher Rechtsschutz und Urheberrecht* sind zentrale Bereiche des geistigen Eigentums. Der gewerbliche Rechtsschutz umfasst den Schutz von Erfindungen (Patente), Marken, Designs und Geschäftsgeheimnissen, während das Urheberrecht das geistige Schaffen in den Bereichen Literatur, Kunst, Musik und Software schützt. Beide Rechtsgebiete dienen der Sicherung und Förderung von Innovation und Kreativität in Wirtschaft und Kultur.\n",
            "\n",
            "**Industrial Property Protection, Copyright Law**  \n",
            "*Industrial property protection and copyright law* are key areas of intellectual property. Industrial property protection covers the safeguarding of inventions (patents), trademarks, designs, and trade secrets, while copyright law protects intellectual creations in the fields of literature, art, music, and software. Both legal areas aim to secure and promote innovation and creativity in the economy and culture.\n"
          ]
        },
        {
          "output_type": "stream",
          "name": "stderr",
          "text": [
            "\r 23%|██▎       | 79/345 [27:43<56:35, 12.76s/it]"
          ]
        },
        {
          "output_type": "stream",
          "name": "stdout",
          "text": [
            "Arbeitsrecht, Sozialrecht, Recht der Tarifverträge **German:**  \n",
            "Das Fachgebiet „Arbeitsrecht, Sozialrecht, Recht der Tarifverträge“ befasst sich mit den rechtlichen Rahmenbedingungen der Arbeitsbeziehungen zwischen Arbeitgebern und Arbeitnehmern. Es umfasst das individuelle und kollektive Arbeitsrecht, das Sozialrecht, welches die sozialen Sicherungssysteme regelt, sowie das Tarifvertragsrecht, das die Gestaltung von Tarifverträgen zwischen Gewerkschaften und Arbeitgeberverbänden behandelt. Es ist ein zentrales Gebiet des Wirtschafts- und Sozialrechts, das die Rechte und Pflichten aller beteiligten Parteien festlegt.\n",
            "\n",
            "**English:**  \n",
            "The subject \"Labor Law, Social Law, and Collective Bargaining Law\" deals with the legal frameworks governing employment relationships between employers and employees. It encompasses individual and collective labor law, social law, which regulates social security systems, and collective bargaining law, which governs the negotiation of collective agreements between trade unions and employers' associations. It is a central area of economic and social law that defines the rights and obligations of all involved parties.\n"
          ]
        },
        {
          "output_type": "stream",
          "name": "stderr",
          "text": [
            "\r 23%|██▎       | 80/345 [27:50<49:31, 11.21s/it]"
          ]
        },
        {
          "output_type": "stream",
          "name": "stdout",
          "text": [
            "Berufsrecht **German Description:**  \n",
            "Berufsrecht umfasst die Gesamtheit der rechtlichen Regelungen, die für die Ausübung eines bestimmten Berufs gelten. Dazu gehören Gesetze, Verordnungen, Berufsordnungen und Standesregeln, die beispielsweise Zugangsvoraussetzungen, Pflichten, Rechte und die berufliche Ethik der jeweiligen Berufsgruppe regeln. Es dient dem Schutz der Berufsausübenden, der Klienten oder Patienten sowie der Qualitätssicherung in der beruflichen Praxis.\n",
            "\n",
            "**English Description:**  \n",
            "Professional law (Berufsrecht) encompasses the entirety of legal regulations governing the practice of a specific profession. This includes laws, ordinances, professional codes, and ethical standards that define entry requirements, duties, rights, and the professional ethics of the respective occupational group. It serves to protect professionals, their clients or patients, and to ensure the quality of professional practice.\n"
          ]
        },
        {
          "output_type": "stream",
          "name": "stderr",
          "text": [
            "\r 23%|██▎       | 81/345 [27:59<46:32, 10.58s/it]"
          ]
        },
        {
          "output_type": "stream",
          "name": "stdout",
          "text": [
            "Gebührenrecht **German:**  \n",
            "Gebührenrecht ist ein Teilgebiet des öffentlichen Rechts, das sich mit der Erhebung von Gebühren und Beiträgen durch staatliche oder kommunale Stellen befasst. Es regelt die rechtlichen Grundlagen, die Höhe, die Berechnung sowie die Erhebungsmodalitäten von Gebühren für öffentliche Leistungen, wie z. B. Verwaltungsakte, Dienstleistungen oder Nutzungen von öffentlichen Einrichtungen. Das Gebührenrecht ist eng mit dem Haushalts- und Kommunalrecht verbunden und zielt darauf ab, eine angemessene Kostendeckung für öffentliche Aufgaben sicherzustellen.\n",
            "\n",
            "**English:**  \n",
            "Gebührenrecht, or \"fee law,\" is a branch of public law that deals with the imposition of fees and charges by state or municipal authorities. It establishes the legal framework for the amount, calculation, and collection of fees for public services, such as administrative acts, public utilities, or the use of public facilities. Fee law is closely related to budgetary and municipal law and aims to ensure appropriate cost recovery for public tasks.\n"
          ]
        },
        {
          "output_type": "stream",
          "name": "stderr",
          "text": [
            "\r 24%|██▍       | 82/345 [28:37<1:21:56, 18.69s/it]"
          ]
        },
        {
          "output_type": "stream",
          "name": "stdout",
          "text": [
            "Bürgerliches Recht **Deutsch:**  \n",
            "Das Bürgerliche Recht, auch Zivilrecht genannt, ist ein zentraler Bereich des Privatrechts und regelt die Rechtsbeziehungen zwischen privaten Personen, Unternehmen und anderen Rechtsträgern. Es umfasst unter anderem das Allgemeine Bürgerliche Gesetzbuch (ABGB) in Österreich bzw. das Bürgerliche Gesetzbuch (BGB) in Deutschland und befasst sich mit Themen wie Vertragsrecht, Eigentum, Familienrecht und Erbrecht. Es dient der Ordnung und dem Schutz individueller Rechte und Pflichten im privaten Bereich.\n",
            "\n",
            "**English:**  \n",
            "Civil law, also known as private law, is a fundamental area of law that governs the legal relationships between private individuals, companies, and other legal entities. It includes the General Civil Code (ABGB) in Austria or the Civil Code (BGB) in Germany and covers topics such as contract law, property law, family law, and inheritance law. It serves to regulate and protect individual rights and obligations in the private sphere.\n"
          ]
        },
        {
          "output_type": "stream",
          "name": "stderr",
          "text": [
            "\r 24%|██▍       | 83/345 [28:47<1:10:13, 16.08s/it]"
          ]
        },
        {
          "output_type": "stream",
          "name": "stdout",
          "text": [
            "Allgemeiner Teil des Bürgerlichen Rechts **German Description:**  \n",
            "Der \"Allgemeine Teil des Bürgerlichen Rechts\" ist ein grundlegender Bestandteil des deutschen Zivilrechts und bildet den ersten Teil des Bürgerlichen Gesetzbuches (BGB). Er befasst sich mit allgemeinen Prinzipien und Regelungen, die für das gesamte Zivilrecht gelten, wie beispielsweise Rechtsfähigkeit, Geschäftsfähigkeit, Willenserklärungen, Verträge, Stellvertretung und Verjährung. Der Allgemeine Teil dient als systematische Grundlage und vereinfacht die Anwendung des BGB, indem er wiederkehrende Fragen einheitlich regelt.\n",
            "\n",
            "**English Description:**  \n",
            "The \"General Part of Civil Law\" is a fundamental component of German civil law and constitutes the first part of the German Civil Code (BGB). It deals with general principles and regulations that apply to the entire field of civil law, such as legal capacity, contractual capacity, declarations of intent, contracts, representation, and statutes of limitations. The General Part serves as a systematic foundation and simplifies the application of the BGB by uniformly addressing recurring legal issues.\n"
          ]
        },
        {
          "output_type": "stream",
          "name": "stderr",
          "text": [
            "\r 24%|██▍       | 84/345 [29:02<1:09:00, 15.86s/it]"
          ]
        },
        {
          "output_type": "stream",
          "name": "stdout",
          "text": [
            "Schuldrecht **German:**  \n",
            "Schuldrecht ist ein zentraler Bereich des Zivilrechts, der die rechtlichen Beziehungen zwischen Gläubigern und Schuldnern regelt. Es umfasst die Entstehung, den Inhalt, die Erfüllung und die Beendigung von Schuldverhältnissen, wie sie beispielsweise aus Verträgen, unerlaubten Handlungen oder gesetzlichen Vorschriften resultieren. Das Schuldrecht ist im Bürgerlichen Gesetzbuch (BGB) in Deutschland kodifiziert und bildet die Grundlage für die Gestaltung und Durchsetzung privatrechtlicher Ansprüche.\n",
            "\n",
            "**English:**  \n",
            "Schuldrecht, or the law of obligations, is a fundamental area of civil law that governs the legal relationships between creditors and debtors. It encompasses the creation, content, fulfillment, and termination of obligations, which can arise from contracts, torts, or statutory provisions. In Germany, Schuldrecht is codified in the Civil Code (Bürgerliches Gesetzbuch, BGB) and provides the framework for the formation and enforcement of private law claims.\n"
          ]
        },
        {
          "output_type": "stream",
          "name": "stderr",
          "text": [
            "\r 25%|██▍       | 85/345 [29:13<1:01:43, 14.24s/it]"
          ]
        },
        {
          "output_type": "stream",
          "name": "stdout",
          "text": [
            "Sachenrecht **German:**  \n",
            "Sachenrecht ist ein Teilgebiet des Zivilrechts, das sich mit den Rechtsverhältnissen an körperlichen Gegenständen (Sachen) befasst. Es regelt insbesondere die Eigentumsverhältnisse, Besitzrechte sowie dingliche Rechte wie Grundpfandrechte oder Nießbrauch. Das Sachenrecht ist in Deutschland im Bürgerlichen Gesetzbuch (BGB) in den §§ 854–1296 kodifiziert und zeichnet sich durch die Grundsätze der Publizität, Spezialität und Bestimmtheit aus.\n",
            "\n",
            "**English:**  \n",
            "Sachenrecht, or property law, is a branch of civil law that deals with legal relationships concerning tangible objects (things). It primarily governs ownership, possession, and real rights such as mortgages or usufruct. In Germany, property law is codified in the Civil Code (BGB) under §§ 854–1296 and is characterized by principles such as publicity, specificity, and certainty.\n"
          ]
        },
        {
          "output_type": "stream",
          "name": "stderr",
          "text": [
            "\r 25%|██▍       | 86/345 [29:47<1:26:54, 20.13s/it]"
          ]
        },
        {
          "output_type": "stream",
          "name": "stdout",
          "text": [
            "Familienrecht **German Description:**  \n",
            "Das Familienrecht ist ein Teilgebiet des Zivilrechts und regelt die rechtlichen Beziehungen zwischen Familienmitgliedern. Es umfasst Themen wie Ehe, eingetragene Lebenspartnerschaften, Scheidung, Unterhalt, Sorgerecht, Adoption und Verwandtschaftsverhältnisse. Das Familienrecht hat zum Ziel, die Interessen aller Beteiligten, insbesondere der Kinder, zu schützen und faire Lösungen in familiären Konflikten zu gewährleisten.  \n",
            "\n",
            "**English Description:**  \n",
            "Family law is a branch of civil law that governs the legal relationships between family members. It covers issues such as marriage, registered partnerships, divorce, alimony, child custody, adoption, and kinship. The aim of family law is to protect the interests of all parties involved, particularly children, and to ensure fair resolutions in family disputes.\n"
          ]
        },
        {
          "output_type": "stream",
          "name": "stderr",
          "text": [
            "\r 25%|██▌       | 87/345 [30:32<1:59:19, 27.75s/it]"
          ]
        },
        {
          "output_type": "stream",
          "name": "stdout",
          "text": [
            "Erbrecht **Deutsch:**  \n",
            "Das Erbrecht ist ein Teilgebiet des Zivilrechts, das die Regelungen zur Übertragung des Vermögens einer verstorbenen Person (Erblasser) auf deren Erben festlegt. Es umfasst sowohl gesetzliche Bestimmungen als auch testamentarische Verfügungen und regelt Fragen wie Erbfolge, Pflichtteilsansprüche, Testamentsgestaltung sowie die Abwicklung des Nachlasses. Das Erbrecht ist im Bürgerlichen Gesetzbuch (BGB) verankert.\n",
            "\n",
            "**English:**  \n",
            "Inheritance law is a branch of civil law that governs the transfer of a deceased person’s (decedent’s) estate to their heirs. It encompasses both statutory provisions and testamentary dispositions, addressing issues such as succession, compulsory shares, the drafting of wills, and the administration of the estate. Inheritance law is codified in the German Civil Code (Bürgerliches Gesetzbuch, BGB).\n"
          ]
        },
        {
          "output_type": "stream",
          "name": "stderr",
          "text": [
            "\r 26%|██▌       | 88/345 [31:58<3:13:30, 45.18s/it]"
          ]
        },
        {
          "output_type": "stream",
          "name": "stdout",
          "text": [
            "Religionsrecht, Kirchenrecht, Staatskirchenrecht **German Description:**  \n",
            "Religionsrecht, Kirchenrecht und Staatskirchenrecht sind juristische Disziplinen, die sich mit dem Verhältnis zwischen Religion, Kirche und Staat befassen. Das Religionsrecht umfasst die rechtlichen Regelungen für religiöse Gemeinschaften und deren Praxis. Das Kirchenrecht bezieht sich auf die inneren Rechtsordnungen von Kirchen und religiösen Organisationen. Das Staatskirchenrecht regelt die Beziehungen zwischen dem Staat und religiösen Gemeinschaften, einschließlich der Grundsätze der Religionsfreiheit und der Trennung von Kirche und Staat. Diese Bereiche sind insbesondere in Ländern mit einer vielfältigen religiösen Landschaft von großer Bedeutung.\n",
            "\n",
            "**English Description:**  \n",
            "Religious law, ecclesiastical law, and state-church law are legal disciplines that deal with the relationship between religion, church, and the state. Religious law encompasses the legal regulations for religious communities and their practices. Ecclesiastical law refers to the internal legal systems of churches and religious organizations. State-church law governs the relationship between the state and religious communities, including principles of religious freedom and the separation of church and state. These areas are particularly significant in countries with diverse religious landscapes.\n"
          ]
        },
        {
          "output_type": "stream",
          "name": "stderr",
          "text": [
            "\r 26%|██▌       | 89/345 [32:20<2:43:41, 38.36s/it]"
          ]
        },
        {
          "output_type": "stream",
          "name": "stdout",
          "text": [
            "Internationales Recht, Kollisionsrecht **German Description:**  \n",
            "Das Fach 'Internationales Recht, Kollisionsrecht' befasst sich mit den rechtlichen Fragestellungen, die entstehen, wenn grenzüberschreitende Sachverhalte Berührungspunkte zu mehreren Rechtsordnungen aufweisen. Das Kollisionsrecht, auch Internationales Privatrecht genannt, regelt, welches nationale Recht in solchen Fällen anzuwenden ist. Es umfasst die Bestimmung der zuständigen Gerichte, die Anerkennung ausländischer Urteile sowie die Lösung von Konflikten zwischen unterschiedlichen Rechtsnormen. Das internationale Recht hingegen bezieht sich auf die zwischenstaatlichen Beziehungen und völkerrechtliche Verträge.\n",
            "\n",
            "**English Description:**  \n",
            "The subject 'International Law, Conflict of Laws' deals with legal issues that arise when cross-border cases involve multiple legal systems. Conflict of Laws, also known as Private International Law, determines which national law applies in such cases. It includes the identification of competent courts, the recognition of foreign judgments, and the resolution of conflicts between different legal norms. International Law, on the other hand, pertains to interstate relations and international treaties.\n"
          ]
        },
        {
          "output_type": "stream",
          "name": "stderr",
          "text": [
            "\r 26%|██▌       | 90/345 [32:30<2:06:13, 29.70s/it]"
          ]
        },
        {
          "output_type": "stream",
          "name": "stdout",
          "text": [
            "Personen zu Recht **German:**  \n",
            "\"Personen zu Recht\" ist ein juristisches Fach, das sich mit den rechtlichen Aspekten von Personen befasst, insbesondere mit deren Rechtsfähigkeit, Handlungsfähigkeit und den verschiedenen Rechtsbeziehungen, in die sie eintreten können. Es behandelt Themen wie die Unterscheidung zwischen natürlichen und juristischen Personen, deren Rechte und Pflichten sowie die gesetzlichen Regelungen, die sie betreffen.\n",
            "\n",
            "**English:**  \n",
            "\"Personen zu Recht\" (Persons in Law) is a legal subject that focuses on the legal aspects of persons, particularly their legal capacity, capacity to act, and the various legal relationships they can enter into. It covers topics such as the distinction between natural and legal persons, their rights and obligations, and the statutory regulations that apply to them.\n"
          ]
        },
        {
          "output_type": "stream",
          "name": "stderr",
          "text": [
            "\r 26%|██▋       | 91/345 [33:04<2:11:42, 31.11s/it]"
          ]
        },
        {
          "output_type": "stream",
          "name": "stdout",
          "text": [
            "Öffentliche Verwaltung, Öffentlicher Dienst **German Description:**  \n",
            "Das Fach \"Öffentliche Verwaltung, Öffentlicher Dienst\" befasst sich mit der Organisation, den Strukturen und den Prozessen der staatlichen und kommunalen Verwaltung. Es umfasst Themen wie Verwaltungsrecht, öffentliches Management, Politikimplementation sowie die Rolle des öffentlichen Dienstes in der Gesellschaft. Ziel ist es, Kenntnisse und Kompetenzen für eine effiziente und bürgernahe Verwaltung zu vermitteln, wobei auch ethische Aspekte und gesellschaftliche Verantwortung eine zentrale Rolle spielen.  \n",
            "\n",
            "**English Description:**  \n",
            "The subject \"Public Administration, Civil Service\" focuses on the organization, structures, and processes of governmental and municipal administration. It covers topics such as administrative law, public management, policy implementation, and the role of the civil service in society. The aim is to provide knowledge and skills for efficient and citizen-oriented administration, with ethical aspects and social responsibility playing a central role.\n"
          ]
        },
        {
          "output_type": "stream",
          "name": "stderr",
          "text": [
            "\r 27%|██▋       | 92/345 [33:15<1:46:00, 25.14s/it]"
          ]
        },
        {
          "output_type": "stream",
          "name": "stdout",
          "text": [
            "Geschichte der Öffentlichen Verwaltung **Deutsch:**  \n",
            "„Geschichte der Öffentlichen Verwaltung“ ist ein Fach, das die Entwicklung und Transformation von Verwaltungsstrukturen und -prozessen im öffentlichen Sektor im historischen Kontext untersucht. Es beleuchtet die Entstehung, Reformen und Herausforderungen öffentlicher Verwaltungen in verschiedenen Epochen und politischen Systemen. Themen umfassen die Entwicklung von Bürokratie, Verwaltungsreformen, den Einfluss von Gesetzen und die Rolle der Verwaltung in der Gesellschaft. Das Fach verbindet historische Analyse mit verwaltungswissenschaftlichen Erkenntnissen, um das Verständnis für die Funktionsweise und die Bedeutung der öffentlichen Verwaltung zu vertiefen.\n",
            "\n",
            "**English:**  \n",
            "\"History of Public Administration\" is a subject that explores the development and transformation of administrative structures and processes in the public sector within a historical context. It examines the emergence, reforms, and challenges of public administrations across different eras and political systems. Topics include the evolution of bureaucracy, administrative reforms, the impact of laws, and the role of administration in society. The subject combines historical analysis with insights from administrative science to deepen the understanding of the functioning and significance of public administration.\n"
          ]
        },
        {
          "output_type": "stream",
          "name": "stderr",
          "text": [
            "\r 27%|██▋       | 93/345 [33:23<1:23:48, 19.96s/it]"
          ]
        },
        {
          "output_type": "stream",
          "name": "stdout",
          "text": [
            "Politik (Allgemeines), Politische Theorie **German:**  \n",
            "Das Fach \"Politik (Allgemeines), Politische Theorie\" befasst sich mit den grundlegenden Prinzipien, Konzepten und Ideen, die politische Systeme und Prozesse prägen. Es untersucht die Entstehung, Entwicklung und Anwendung politischer Theorien sowie deren Einfluss auf gesellschaftliche Strukturen und Entscheidungsprozesse. Themen wie Macht, Gerechtigkeit, Demokratie, Herrschaft und Legitimität stehen im Mittelpunkt.\n",
            "\n",
            "**English:**  \n",
            "The subject \"Politics (General), Political Theory\" deals with the fundamental principles, concepts, and ideas that shape political systems and processes. It explores the origins, development, and application of political theories, as well as their impact on societal structures and decision-making processes. Key topics include power, justice, democracy, governance, and legitimacy.\n"
          ]
        },
        {
          "output_type": "stream",
          "name": "stderr",
          "text": [
            "\r 27%|██▋       | 94/345 [33:31<1:08:01, 16.26s/it]"
          ]
        },
        {
          "output_type": "stream",
          "name": "stdout",
          "text": [
            "Innenpolitik **German:**  \n",
            "Innenpolitik befasst sich mit den politischen Entscheidungen und Maßnahmen, die sich auf die inneren Angelegenheiten eines Staates beziehen. Dazu gehören Themen wie Bildung, Sicherheit, Gesundheit, Sozialpolitik, Recht und Ordnung sowie die Verwaltung des Landes. Ziel ist es, die Stabilität, das Wohlergehen und die Entwicklung der Gesellschaft innerhalb der nationalen Grenzen zu fördern.\n",
            "\n",
            "**English:**  \n",
            "Innenpolitik, or domestic policy, deals with political decisions and measures related to the internal affairs of a state. This includes issues such as education, security, healthcare, social policy, law and order, and national administration. The aim is to promote stability, well-being, and the development of society within the country’s borders.\n"
          ]
        },
        {
          "output_type": "stream",
          "name": "stderr",
          "text": [
            "\r 28%|██▊       | 95/345 [33:43<1:03:04, 15.14s/it]"
          ]
        },
        {
          "output_type": "stream",
          "name": "stdout",
          "text": [
            "Parteien, Politische Organisationen **German:**  \n",
            "Das Fach \"Parteien, Politische Organisationen\" befasst sich mit der Rolle, Struktur und Funktion von politischen Parteien und Organisationen in demokratischen Systemen. Es untersucht ihre Entstehung, Entwicklung, interne Dynamik sowie ihren Einfluss auf politische Entscheidungsprozesse und die Gesellschaft. Themen wie Parteiprogramme, Mitgliederstruktur, Finanzierung und die Interaktion mit anderen politischen Akteuren werden analysiert, um ein umfassendes Verständnis ihrer Bedeutung in der Politik zu vermitteln.\n",
            "\n",
            "**English:**  \n",
            "The subject \"Parties, Political Organizations\" focuses on the role, structure, and function of political parties and organizations in democratic systems. It explores their formation, development, internal dynamics, and their influence on political decision-making processes and society. Topics such as party platforms, membership structures, funding, and interactions with other political actors are analyzed to provide a comprehensive understanding of their significance in politics.\n"
          ]
        },
        {
          "output_type": "stream",
          "name": "stderr",
          "text": [
            "\r 28%|██▊       | 96/345 [33:50<52:10, 12.57s/it]  "
          ]
        },
        {
          "output_type": "stream",
          "name": "stdout",
          "text": [
            "Außenpolitik **Deutsch:**  \n",
            "Außenpolitik bezieht sich auf die Strategien, Ziele und Maßnahmen, die ein Staat in seinen Beziehungen zu anderen Ländern und internationalen Akteuren verfolgt. Sie umfasst Bereiche wie Diplomatie, internationale Zusammenarbeit, Sicherheitspolitik, Handel und kulturellen Austausch. Das Ziel ist es, nationale Interessen zu fördern, Frieden zu sichern und globale Herausforderungen gemeinsam zu bewältigen.\n",
            "\n",
            "**English:**  \n",
            "Foreign policy refers to the strategies, objectives, and actions that a state pursues in its relations with other countries and international actors. It encompasses areas such as diplomacy, international cooperation, security policy, trade, and cultural exchange. The aim is to promote national interests, ensure peace, and address global challenges collectively.\n"
          ]
        },
        {
          "output_type": "stream",
          "name": "stderr",
          "text": [
            "\r 28%|██▊       | 97/345 [33:58<46:30, 11.25s/it]"
          ]
        },
        {
          "output_type": "stream",
          "name": "stdout",
          "text": [
            "Militär **German:**  \n",
            "Das Fach 'Militär' beschäftigt sich mit der Erforschung von Streitkräften, deren Struktur, Strategien, Technologien und historischer Entwicklung. Es umfasst Aspekte wie taktische und operative Planung, militärische Ethik, Sicherheitspolitik sowie die Rolle des Militärs in Gesellschaft und internationalen Beziehungen.  \n",
            "\n",
            "**English:**  \n",
            "The subject of 'Military' focuses on the study of armed forces, their structure, strategies, technologies, and historical development. It encompasses aspects such as tactical and operational planning, military ethics, security policy, and the role of the military in society and international relations.\n"
          ]
        },
        {
          "output_type": "stream",
          "name": "stderr",
          "text": [
            "\r 28%|██▊       | 98/345 [34:08<44:27, 10.80s/it]"
          ]
        },
        {
          "output_type": "stream",
          "name": "stdout",
          "text": [
            "Personen zu politischer Theorie, Militär **German:**  \n",
            "Das Fach „Personen zu politischer Theorie, Militär“ beschäftigt sich mit bedeutenden Persönlichkeiten, die sowohl die politische Theorie als auch das Militärwesen geprägt haben. Es untersucht deren Ideen, Strategien und Einflüsse auf politische Systeme, Kriegsführung und gesellschaftliche Strukturen. Dabei werden historische und philosophische Ansätze analysiert, um das Zusammenspiel von Politik und Militär zu verstehen.\n",
            "\n",
            "**English:**  \n",
            "The subject \"Figures in Political Theory and Military\" focuses on influential individuals who have shaped both political theory and military affairs. It explores their ideas, strategies, and impacts on political systems, warfare, and societal structures. The field analyzes historical and philosophical approaches to understand the interplay between politics and the military.\n"
          ]
        },
        {
          "output_type": "stream",
          "name": "stderr",
          "text": [
            "\r 29%|██▊       | 99/345 [35:35<2:18:09, 33.70s/it]"
          ]
        },
        {
          "output_type": "stream",
          "name": "stdout",
          "text": [
            "Sozialgeschichte **German:**  \n",
            "Sozialgeschichte ist ein Teilgebiet der Geschichtswissenschaft, das sich mit der Entwicklung und Struktur von Gesellschaften im historischen Kontext beschäftigt. Sie untersucht soziale Gruppen, Klassen, Schichten und deren Beziehungen zueinander, sowie Themen wie Armut, Arbeit, Familie, Migration und soziale Ungleichheit. Ziel ist es, gesellschaftliche Veränderungen und deren Ursachen zu verstehen und zu analysieren.  \n",
            "\n",
            "**English:**  \n",
            "Social history is a subfield of historical studies that focuses on the development and structure of societies in their historical context. It examines social groups, classes, strata, and their interrelations, as well as themes such as poverty, labor, family, migration, and social inequality. The aim is to understand and analyze societal changes and their underlying causes.\n"
          ]
        },
        {
          "output_type": "stream",
          "name": "stderr",
          "text": [
            "\r 29%|██▉       | 100/345 [35:43<1:46:11, 26.01s/it]"
          ]
        },
        {
          "output_type": "stream",
          "name": "stdout",
          "text": [
            "Sozialgeschichte: Altertum **German Description:**  \n",
            "'Sozialgeschichte: Altertum' ist ein Fachgebiet, das sich mit der Erforschung der sozialen Strukturen, Hierarchien, Institutionen und Lebensbedingungen in antiken Gesellschaften beschäftigt. Es umfasst die Analyse von Themen wie Klassenunterschiede, Familienstrukturen, Sklaverei, Geschlechterrollen und Alltagsleben in Kulturen wie dem Alten Ägypten, Mesopotamien, Griechenland und Rom. Ziel ist es, ein umfassendes Verständnis der sozialen Dynamiken und ihrer Auswirkungen auf die Entwicklung der antiken Welt zu gewinnen.\n",
            "\n",
            "**English Description:**  \n",
            "'Social History: Antiquity' is a field of study that focuses on exploring the social structures, hierarchies, institutions, and living conditions in ancient societies. It includes the analysis of topics such as class distinctions, family structures, slavery, gender roles, and everyday life in cultures like Ancient Egypt, Mesopotamia, Greece, and Rome. The aim is to gain a comprehensive understanding of social dynamics and their impact on the development of the ancient world.\n"
          ]
        },
        {
          "output_type": "stream",
          "name": "stderr",
          "text": [
            "\r 29%|██▉       | 101/345 [35:51<1:23:08, 20.45s/it]"
          ]
        },
        {
          "output_type": "stream",
          "name": "stdout",
          "text": [
            "Sozialgeschichte: Mittelalter **Deutsch:**  \n",
            "Sozialgeschichte: Mittelalter erforscht die gesellschaftlichen Strukturen, Lebensbedingungen und sozialen Dynamiken im europäischen Mittelalter (ca. 500–1500 n. Chr.). Dabei werden Themen wie Feudalismus, Ständeordnung, Alltagsleben, Armut und Reichtum, Geschlechterrollen sowie die Beziehungen zwischen verschiedenen sozialen Gruppen untersucht. Diese Disziplin verbindet historische Quellenanalyse mit soziologischen und anthropologischen Ansätzen, um ein umfassendes Verständnis der mittelalterlichen Gesellschaft zu gewinnen.\n",
            "\n",
            "**English:**  \n",
            "Social History: Middle Ages examines the societal structures, living conditions, and social dynamics in medieval Europe (ca. 500–1500 AD). It explores themes such as feudalism, the estate system, everyday life, poverty and wealth, gender roles, and the relationships between different social groups. This discipline combines historical source analysis with sociological and anthropological approaches to provide a comprehensive understanding of medieval society.\n"
          ]
        },
        {
          "output_type": "stream",
          "name": "stderr",
          "text": [
            "\r 30%|██▉       | 102/345 [35:58<1:07:27, 16.66s/it]"
          ]
        },
        {
          "output_type": "stream",
          "name": "stdout",
          "text": [
            "Sozialgeschichte: Neuzeit **Deutsch:**  \n",
            "\"*Sozialgeschichte: Neuzeit*\" ist ein historisches Fachgebiet, das sich mit der Entwicklung sozialer Strukturen, Beziehungen und Prozesse in der Neuzeit (ca. 16. bis 20. Jahrhundert) beschäftigt. Es untersucht Themen wie soziale Klassen, Geschlechterrollen, Migration, Urbanisierung und die Auswirkungen von Industrialisierung und politischen Umbrüchen auf die Gesellschaft. Ziel ist es, ein tieferes Verständnis dafür zu gewinnen, wie soziale Veränderungen historische Entwicklungen geprägt haben.  \n",
            "\n",
            "**English:**  \n",
            "\"*Social History: Early Modern and Modern Period*\" is a field of historical study that focuses on the evolution of social structures, relationships, and processes during the early modern and modern eras (approximately 16th to 20th centuries). It explores themes such as social classes, gender roles, migration, urbanization, and the impact of industrialization and political upheavals on society. The aim is to gain a deeper understanding of how social changes have shaped historical developments.\n"
          ]
        },
        {
          "output_type": "stream",
          "name": "stderr",
          "text": [
            "\r 30%|██▉       | 103/345 [36:09<59:23, 14.72s/it]  "
          ]
        },
        {
          "output_type": "stream",
          "name": "stdout",
          "text": [
            "Sozialwissenschaften allgemein, Soziologische Theorien **German Description:**  \n",
            "\"Sozialwissenschaften allgemein, Soziologische Theorien\" ist ein Fachgebiet, das sich mit den grundlegenden Prinzipien, Konzepten und Ansätzen der Sozialwissenschaften beschäftigt. Es umfasst die Analyse und Interpretation gesellschaftlicher Strukturen, Prozesse und Phänomene sowie die kritische Auseinandersetzung mit klassischen und modernen soziologischen Theorien. Themen wie soziale Ordnung, Macht, Ungleichheit, Kultur und sozialer Wandel stehen im Mittelpunkt. Das Fach fördert ein vertieftes Verständnis für die Komplexität menschlicher Interaktionen und gesellschaftlicher Dynamiken.\n",
            "\n",
            "**English Description:**  \n",
            "\"Social Sciences in General, Sociological Theories\" is a field of study that explores the fundamental principles, concepts, and approaches of the social sciences. It involves the analysis and interpretation of societal structures, processes, and phenomena, as well as a critical examination of classical and modern sociological theories. Key topics include social order, power, inequality, culture, and social change. The subject fosters a deeper understanding of the complexity of human interactions and societal dynamics.\n"
          ]
        },
        {
          "output_type": "stream",
          "name": "stderr",
          "text": [
            "\r 30%|███       | 104/345 [36:20<55:22, 13.78s/it]"
          ]
        },
        {
          "output_type": "stream",
          "name": "stdout",
          "text": [
            "Methoden und Techniken der empirischen Sozialforschung, Statistik in den Sozialwissenschaften, Mathematische Statistik **German Description:**  \n",
            "Das Fach \"Methoden und Techniken der empirischen Sozialforschung, Statistik in den Sozialwissenschaften, Mathematische Statistik\" beschäftigt sich mit den theoretischen und praktischen Grundlagen der Datenerhebung, -analyse und -interpretation in den Sozialwissenschaften. Es umfasst die Anwendung statistischer Methoden, die Entwicklung von Forschungsdesigns sowie die Nutzung mathematischer Modelle zur Analyse sozialer Phänomene. Ziel ist es, Studierende zu befähigen, empirische Studien durchzuführen, Daten korrekt auszuwerten und fundierte Schlussfolgerungen zu ziehen.\n",
            "\n",
            "**English Description:**  \n",
            "The subject \"Methods and Techniques of Empirical Social Research, Statistics in the Social Sciences, Mathematical Statistics\" focuses on the theoretical and practical foundations of data collection, analysis, and interpretation in the social sciences. It includes the application of statistical methods, the development of research designs, and the use of mathematical models to analyze social phenomena. The aim is to equip students with the skills to conduct empirical studies, evaluate data accurately, and draw well-founded conclusions.\n"
          ]
        },
        {
          "output_type": "stream",
          "name": "stderr",
          "text": [
            "\r 30%|███       | 105/345 [36:41<1:03:20, 15.84s/it]"
          ]
        },
        {
          "output_type": "stream",
          "name": "stdout",
          "text": [
            "Soziales Leben, Bevölkerung (Allgemeines), Gesellschaft allgemein **German:**  \n",
            "Das Fach \"Soziales Leben, Bevölkerung (Allgemeines), Gesellschaft allgemein\" beschäftigt sich mit den grundlegenden Aspekten des menschlichen Zusammenlebens, der Struktur und Entwicklung von Bevölkerungen sowie den allgemeinen Prinzipien und Dynamiken von Gesellschaften. Es umfasst Themen wie soziale Beziehungen, demografische Prozesse, kulturelle Normen, soziale Institutionen und gesellschaftliche Veränderungen. Ziel ist es, ein umfassendes Verständnis der menschlichen Gemeinschaft und ihrer Wechselwirkungen zu vermitteln.\n",
            "\n",
            "**English:**  \n",
            "The subject \"Social Life, Population (General), Society in General\" focuses on the fundamental aspects of human coexistence, the structure and development of populations, and the general principles and dynamics of societies. It covers topics such as social relationships, demographic processes, cultural norms, social institutions, and societal changes. The aim is to provide a comprehensive understanding of human communities and their interactions.\n"
          ]
        },
        {
          "output_type": "stream",
          "name": "stderr",
          "text": [
            "\r 31%|███       | 106/345 [36:53<58:17, 14.63s/it]  "
          ]
        },
        {
          "output_type": "stream",
          "name": "stdout",
          "text": [
            "Bevölkerung, Sozialstruktur, Soziale Situation, Soziale Bewegungen **German:**  \n",
            "Das Fach \"Bevölkerung, Sozialstruktur, Soziale Situation, Soziale Bewegungen\" beschäftigt sich mit der Analyse der Zusammensetzung und Entwicklung von Bevölkerungen, der Struktur und Dynamik sozialer Gruppen sowie den Lebensbedingungen und Ungleichheiten innerhalb einer Gesellschaft. Es untersucht auch die Entstehung, Entwicklung und Auswirkungen sozialer Bewegungen, die gesellschaftliche Veränderungen anstreben. Dieser interdisziplinäre Ansatz verbindet Aspekte der Soziologie, Demografie, Politikwissenschaft und Geschichte, um ein umfassendes Verständnis sozialer Phänomene zu ermöglichen.\n",
            "\n",
            "**English:**  \n",
            "The subject \"Population, Social Structure, Social Situation, Social Movements\" focuses on analyzing the composition and development of populations, the structure and dynamics of social groups, as well as living conditions and inequalities within a society. It also explores the emergence, development, and impact of social movements that aim to bring about societal change. This interdisciplinary approach combines aspects of sociology, demography, political science, and history to provide a comprehensive understanding of social phenomena.\n"
          ]
        },
        {
          "output_type": "stream",
          "name": "stderr",
          "text": [
            "\r 31%|███       | 107/345 [37:04<53:45, 13.55s/it]"
          ]
        },
        {
          "output_type": "stream",
          "name": "stdout",
          "text": [
            "Gruppe, Organisationssoziologie, Interaktion **German:**  \n",
            "Das Fach 'Gruppe, Organisationssoziologie, Interaktion' beschäftigt sich mit den sozialen Strukturen und Prozessen in Gruppen und Organisationen sowie mit den Dynamiken menschlicher Interaktion. Es untersucht, wie Individuen in kollektiven Settings zusammenwirken, wie Organisationen funktionieren und gesteuert werden, und wie soziale Beziehungen und Kommunikation das Verhalten beeinflussen. Dabei werden theoretische Ansätze und empirische Methoden der Soziologie angewendet, um soziale Phänomene zu analysieren und zu erklären.\n",
            "\n",
            "**English:**  \n",
            "The subject 'Group, Organizational Sociology, Interaction' focuses on the social structures and processes within groups and organizations, as well as the dynamics of human interaction. It explores how individuals collaborate in collective settings, how organizations function and are managed, and how social relationships and communication influence behavior. Theoretical approaches and empirical methods from sociology are applied to analyze and explain social phenomena.\n"
          ]
        },
        {
          "output_type": "stream",
          "name": "stderr",
          "text": [
            "\r 31%|███▏      | 108/345 [37:12<47:29, 12.02s/it]"
          ]
        },
        {
          "output_type": "stream",
          "name": "stdout",
          "text": [
            "Sozialisation, Sozialverhalten **German:**  \n",
            "Das Fach 'Sozialisation, Sozialverhalten' beschäftigt sich mit den Prozessen, durch die Individuen gesellschaftliche Normen, Werte und Verhaltensweisen erlernen und internalisieren. Es untersucht die Wechselwirkungen zwischen Individuum und Gesellschaft sowie die Einflüsse von Familie, Bildung, Peergroups und Medien auf die Entwicklung des Sozialverhaltens. Zudem werden Themen wie Rollenverständnis, Identitätsbildung und soziale Integration behandelt.\n",
            "\n",
            "**English:**  \n",
            "The subject 'Socialization, Social Behavior' focuses on the processes through which individuals learn and internalize societal norms, values, and behaviors. It explores the interactions between individuals and society, as well as the influences of family, education, peer groups, and media on the development of social behavior. Topics such as role understanding, identity formation, and social integration are also addressed.\n"
          ]
        },
        {
          "output_type": "stream",
          "name": "stderr",
          "text": [
            "\r 32%|███▏      | 109/345 [37:23<45:39, 11.61s/it]"
          ]
        },
        {
          "output_type": "stream",
          "name": "stdout",
          "text": [
            "Kommunikation, Meinungsbildung **Deutsch:**  \n",
            "Das Fach \"Kommunikation, Meinungsbildung\" beschäftigt sich mit den Prozessen der Informationsvermittlung, dem Austausch von Ideen und der Entstehung von Meinungen in verschiedenen sozialen Kontexten. Es untersucht, wie Kommunikationstechnologien, Medien und soziale Interaktionen die öffentliche Meinung beeinflussen und welche Rolle dabei Faktoren wie Sprache, Kultur und Machtstrukturen spielen. Ziel ist es, ein Verständnis für die Mechanismen der Meinungsbildung zu entwickeln und die Fähigkeit zur kritischen Reflexion und effektiven Kommunikation zu fördern.\n",
            "\n",
            "**English:**  \n",
            "The subject \"Communication, Opinion Formation\" focuses on the processes of information exchange, the sharing of ideas, and the development of opinions in various social contexts. It explores how communication technologies, media, and social interactions influence public opinion, and the role of factors such as language, culture, and power structures. The aim is to develop an understanding of the mechanisms of opinion formation and to foster critical reflection and effective communication skills.\n"
          ]
        },
        {
          "output_type": "stream",
          "name": "stderr",
          "text": [
            "\r 32%|███▏      | 110/345 [37:31<41:36, 10.63s/it]"
          ]
        },
        {
          "output_type": "stream",
          "name": "stdout",
          "text": [
            "Arbeit **German:**  \n",
            "Das Fach 'Arbeit' befasst sich mit den verschiedenen Aspekten der Erwerbstätigkeit, Arbeitsbedingungen, Arbeitsrecht und der Rolle der Arbeit in der Gesellschaft. Es untersucht Themen wie Arbeitsmarkt, Arbeitsorganisation, Arbeitsbeziehungen und die Auswirkungen von Arbeit auf das Individuum und die Gemeinschaft. Ziel ist es, ein umfassendes Verständnis für die Bedeutung und Gestaltung von Arbeit in verschiedenen Kontexten zu entwickeln.\n",
            "\n",
            "**English:**  \n",
            "The subject 'Arbeit' (Work) deals with various aspects of employment, working conditions, labor law, and the role of work in society. It explores topics such as the labor market, work organization, labor relations, and the impact of work on individuals and communities. The aim is to develop a comprehensive understanding of the significance and design of work in different contexts.\n"
          ]
        },
        {
          "output_type": "stream",
          "name": "stderr",
          "text": [
            "\r 32%|███▏      | 111/345 [37:40<39:20, 10.09s/it]"
          ]
        },
        {
          "output_type": "stream",
          "name": "stdout",
          "text": [
            "Einzelne Berufe, Tätigkeiten, Funktionen; Religionszugehörigkeit, Weltanschauung **German:**  \n",
            "Das Fachgebiet 'Einzelne Berufe, Tätigkeiten, Funktionen; Religionszugehörigkeit, Weltanschauung' befasst sich mit der detaillierten Untersuchung spezifischer Berufe, beruflicher Tätigkeiten und Funktionen in verschiedenen gesellschaftlichen Bereichen. Zudem wird die Zugehörigkeit zu bestimmten Religionen und die Ausprägung von Weltanschauungen analysiert, um deren Einfluss auf das individuelle und kollektive Handeln zu verstehen.\n",
            "\n",
            "**English:**  \n",
            "The subject area 'Individual Professions, Activities, Functions; Religious Affiliation, Worldview' focuses on the detailed examination of specific professions, occupational activities, and functions within various societal sectors. Additionally, it explores affiliation with particular religions and the development of worldviews, aiming to understand their impact on individual and collective behavior.\n"
          ]
        },
        {
          "output_type": "stream",
          "name": "stderr",
          "text": [
            "\r 32%|███▏      | 112/345 [37:56<46:13, 11.90s/it]"
          ]
        },
        {
          "output_type": "stream",
          "name": "stdout",
          "text": [
            "Mitbestimmung, Gewerkschaften **German Description:**  \n",
            "\"Mitbestimmung, Gewerkschaften\" ist ein Themenbereich, der sich mit der Beteiligung von Arbeitnehmern an betrieblichen und unternehmerischen Entscheidungsprozessen sowie der Rolle von Gewerkschaften als Interessenvertretungen der Arbeitnehmerschaft befasst. Die Mitbestimmung umfasst gesetzliche Regelungen und praktische Instrumente, die Arbeitnehmern Einfluss auf Arbeitsbedingungen, Personalentscheidungen und Unternehmensstrategien ermöglichen. Gewerkschaften spielen dabei eine zentrale Rolle, indem sie kollektive Tarifverhandlungen führen, Arbeitnehmerrechte stärken und soziale Gerechtigkeit fördern. Das Thema ist eng mit Fragen der Arbeitsbeziehungen, des Arbeitsrechts und der Wirtschaftsdemokratie verbunden.\n",
            "\n",
            "**English Description:**  \n",
            "\"Mitbestimmung, Gewerkschaften\" (Co-determination, Trade Unions) is a subject area that deals with the participation of employees in workplace and corporate decision-making processes, as well as the role of trade unions as representatives of workers' interests. Co-determination includes legal frameworks and practical tools that allow employees to influence working conditions, personnel decisions, and corporate strategies. Trade unions play a central role by engaging in collective bargaining, strengthening workers' rights, and promoting social justice. The topic is closely linked to issues of labor relations, labor law, and economic democracy.\n"
          ]
        },
        {
          "output_type": "stream",
          "name": "stderr",
          "text": [
            "\r 33%|███▎      | 113/345 [38:08<45:56, 11.88s/it]"
          ]
        },
        {
          "output_type": "stream",
          "name": "stdout",
          "text": [
            "Sozialpolitik, Entwicklungshilfe **Deutsch:**  \n",
            "\"Sozialpolitik, Entwicklungshilfe\" ist ein interdisziplinäres Fach, das sich mit der Gestaltung sozialer Sicherungssysteme und der Unterstützung von Entwicklungsprozessen in nationalen und internationalen Kontexten beschäftigt. Es umfasst Themen wie Armutsbekämpfung, soziale Gerechtigkeit, Gesundheit, Bildung und nachhaltige Entwicklung. Ziel ist es, politische Maßnahmen zu analysieren und zu entwickeln, die die Lebensbedingungen benachteiligter Bevölkerungsgruppen verbessern und globale Ungleichheiten verringern.\n",
            "\n",
            "**English:**  \n",
            "\"Social Policy, Development Aid\" is an interdisciplinary field that focuses on the design of social security systems and the support of development processes in both national and international contexts. It covers topics such as poverty reduction, social justice, health, education, and sustainable development. The aim is to analyze and develop policies that improve the living conditions of disadvantaged populations and reduce global inequalities.\n"
          ]
        },
        {
          "output_type": "stream",
          "name": "stderr",
          "text": [
            "\r 33%|███▎      | 114/345 [38:20<45:51, 11.91s/it]"
          ]
        },
        {
          "output_type": "stream",
          "name": "stdout",
          "text": [
            "Sozialversicherung und Gesetzliche Krankenversicherung **German Description:**  \n",
            "'Sozialversicherung und Gesetzliche Krankenversicherung' ist ein Fachgebiet, das sich mit den Grundlagen, Strukturen und rechtlichen Rahmenbedingungen der sozialen Sicherungssysteme in Deutschland befasst. Es umfasst insbesondere die gesetzliche Krankenversicherung (GKV), die als zentraler Bestandteil der Sozialversicherung die medizinische Versorgung der Bevölkerung sicherstellt. Themen wie Beitragssysteme, Leistungsumfang, Finanzierung und Reformen der GKV werden ebenso behandelt wie die Wechselwirkungen mit anderen Sozialversicherungszweigen (z. B. Renten-, Arbeitslosen- und Pflegeversicherung).  \n",
            "\n",
            "**English Description:**  \n",
            "'Social Insurance and Statutory Health Insurance' is a subject area that focuses on the foundations, structures, and legal frameworks of social security systems in Germany. It particularly covers the statutory health insurance (SHI), which is a central component of social insurance and ensures healthcare provision for the population. Topics such as contribution systems, benefits, financing, and reforms of the SHI are explored, as well as its interactions with other branches of social insurance (e.g., pension, unemployment, and long-term care insurance).\n"
          ]
        },
        {
          "output_type": "stream",
          "name": "stderr",
          "text": [
            "\r 33%|███▎      | 115/345 [38:30<43:41, 11.40s/it]"
          ]
        },
        {
          "output_type": "stream",
          "name": "stdout",
          "text": [
            "Sozialarbeit, Sozialhilfe **German:**  \n",
            "Sozialarbeit und Sozialhilfe sind zentrale Bereiche der sozialen Dienste, die darauf abzielen, Menschen in schwierigen Lebenslagen zu unterstützen. Sozialarbeit umfasst die professionelle Betreuung und Beratung von Einzelpersonen, Familien oder Gruppen, um soziale Probleme zu bewältigen und die Lebensqualität zu verbessern. Sozialhilfe bezieht sich auf finanzielle und materielle Leistungen, die bedürftigen Personen zur Sicherung ihres Existenzminimums gewährt werden. Beide Bereiche sind eng miteinander verknüpft und basieren auf den Prinzipien der Solidarität und Chancengleichheit.\n",
            "\n",
            "**English:**  \n",
            "Social work and social assistance are key areas of social services aimed at supporting individuals in difficult life situations. Social work involves the professional care and counseling of individuals, families, or groups to address social issues and improve quality of life. Social assistance refers to financial and material benefits provided to those in need to ensure their basic subsistence. Both fields are closely interconnected and are based on the principles of solidarity and equal opportunity.\n"
          ]
        },
        {
          "output_type": "stream",
          "name": "stderr",
          "text": [
            "\r 34%|███▎      | 116/345 [38:37<38:24, 10.06s/it]"
          ]
        },
        {
          "output_type": "stream",
          "name": "stdout",
          "text": [
            "Personen zu Soziologie, Gesellschaft, Arbeit, Sozialgeschichte **German:**  \n",
            "Das Fach 'Personen zu Soziologie, Gesellschaft, Arbeit, Sozialgeschichte' beschäftigt sich mit bedeutenden Persönlichkeiten, die prägende Beiträge zur Soziologie, zur Analyse von Gesellschaftsstrukturen, zur Arbeitswelt und zur Sozialgeschichte geleistet haben. Es untersucht deren Theorien, Einflüsse und Wirkungen auf soziale Entwicklungen und gesellschaftliche Veränderungen.  \n",
            "\n",
            "**English:**  \n",
            "The subject 'Persons in Sociology, Society, Work, Social History' focuses on influential individuals who have made significant contributions to sociology, the analysis of societal structures, the world of work, and social history. It explores their theories, impacts, and roles in shaping social developments and societal transformations.\n"
          ]
        },
        {
          "output_type": "stream",
          "name": "stderr",
          "text": [
            "\r 34%|███▍      | 117/345 [39:03<55:52, 14.70s/it]"
          ]
        },
        {
          "output_type": "stream",
          "name": "stdout",
          "text": [
            "Wirtschaftsgeschichte **Deutsch:**  \n",
            "Wirtschaftsgeschichte ist ein interdisziplinäres Fach, das die historische Entwicklung von Wirtschaftssystemen, Handelsbeziehungen, Produktionsmethoden und finanziellen Strukturen untersucht. Es analysiert, wie wirtschaftliche Prozesse und Entscheidungen Gesellschaften, Kulturen und politische Systeme im Laufe der Zeit geprägt haben. Dabei werden sowohl mikroökonomische Aspekte (z. B. einzelne Unternehmen oder Haushalte) als auch makroökonomische Phänomene (z. B. globale Handelsnetzwerke oder Wirtschaftskrisen) betrachtet.  \n",
            "\n",
            "**English:**  \n",
            "Economic history is an interdisciplinary field that examines the historical development of economic systems, trade relations, production methods, and financial structures. It analyzes how economic processes and decisions have shaped societies, cultures, and political systems over time. The subject covers both microeconomic aspects (e.g., individual businesses or households) and macroeconomic phenomena (e.g., global trade networks or economic crises).\n"
          ]
        },
        {
          "output_type": "stream",
          "name": "stderr",
          "text": [
            "\r 34%|███▍      | 118/345 [39:15<52:31, 13.88s/it]"
          ]
        },
        {
          "output_type": "stream",
          "name": "stdout",
          "text": [
            "Wirtschaftsgeschichte: Altertum **German:**  \n",
            "\"Wirtschaftsgeschichte: Altertum\" befasst sich mit der wirtschaftlichen Entwicklung und den wirtschaftlichen Strukturen in antiken Kulturen, wie beispielsweise im Alten Ägypten, Mesopotamien, Griechenland und dem Römischen Reich. Das Fach untersucht Aspekte wie Handel, Landwirtschaft, Handwerk, Geldwesen und soziale Hierarchien, die die Wirtschaft der Antike geprägt haben. Es analysiert die Wechselwirkungen zwischen wirtschaftlichen Praktiken, politischen Systemen und kulturellen Einflüssen.\n",
            "\n",
            "**English:**  \n",
            "\"Economic History: Antiquity\" focuses on the economic development and structures of ancient civilizations, such as Ancient Egypt, Mesopotamia, Greece, and the Roman Empire. The subject explores aspects like trade, agriculture, craftsmanship, monetary systems, and social hierarchies that shaped the economies of antiquity. It examines the interplay between economic practices, political systems, and cultural influences.\n"
          ]
        },
        {
          "output_type": "stream",
          "name": "stderr",
          "text": [
            "\r 34%|███▍      | 119/345 [39:30<54:19, 14.42s/it]"
          ]
        },
        {
          "output_type": "stream",
          "name": "stdout",
          "text": [
            "Wirtschaftsgeschichte: Mittelalter **Deutsch:**  \n",
            "Die Wirtschaftsgeschichte des Mittelalters untersucht die wirtschaftlichen Strukturen, Entwicklungen und Praktiken in Europa zwischen dem 5. und dem 15. Jahrhundert. Dieser Forschungsbereich beleuchtet Themen wie die feudale Wirtschaftsordnung, die Rolle der Landwirtschaft, den Aufstieg der Städte, die Entstehung von Handelsnetzwerken sowie die Bedeutung von Zünften und Handwerk. Besonderes Augenmerk liegt auf dem Übergang von der Natural- zur Geldwirtschaft und den Auswirkungen von Ereignissen wie der Pest oder den Kreuzzügen auf die wirtschaftliche Entwicklung.\n",
            "\n",
            "**English:**  \n",
            "The economic history of the Middle Ages explores the economic structures, developments, and practices in Europe between the 5th and 15th centuries. This field of study examines topics such as the feudal economic system, the role of agriculture, the rise of cities, the emergence of trade networks, and the significance of guilds and crafts. Special attention is given to the transition from a barter economy to a monetary economy, as well as the impact of events like the Black Death or the Crusades on economic progress.\n"
          ]
        },
        {
          "output_type": "stream",
          "name": "stderr",
          "text": [
            "\r 35%|███▍      | 120/345 [39:39<47:25, 12.65s/it]"
          ]
        },
        {
          "output_type": "stream",
          "name": "stdout",
          "text": [
            "Wirtschaftsgeschichte: Neuzeit **Deutsch:**  \n",
            "Die Wirtschaftsgeschichte der Neuzeit untersucht die wirtschaftlichen Entwicklungen und Strukturen vom Beginn der Frühen Neuzeit (ca. 16. Jahrhundert) bis in die Gegenwart. Sie beleuchtet Themen wie die Entstehung des Kapitalismus, die Industrialisierung, Globalisierung, Handelspraktiken, Finanzsysteme und die Rolle von Technologie und Innovation. Durch die Analyse wirtschaftlicher Prozesse und Krisen bietet sie Einblicke in die Wechselwirkungen zwischen Wirtschaft, Politik, Gesellschaft und Kultur.\n",
            "\n",
            "**English:**  \n",
            "The economic history of the modern era examines economic developments and structures from the beginning of the early modern period (around the 16th century) to the present. It explores themes such as the emergence of capitalism, industrialization, globalization, trade practices, financial systems, and the role of technology and innovation. By analyzing economic processes and crises, it provides insights into the interactions between economy, politics, society, and culture.\n"
          ]
        },
        {
          "output_type": "stream",
          "name": "stderr",
          "text": [
            "\r 35%|███▌      | 121/345 [39:48<43:26, 11.64s/it]"
          ]
        },
        {
          "output_type": "stream",
          "name": "stdout",
          "text": [
            "Wirtschaft, Volkswirtschaft (Allgemeines) **Deutsch:**  \n",
            "Das Fach „Wirtschaft, Volkswirtschaft (Allgemeines)“ befasst sich mit den grundlegenden Prinzipien und Zusammenhängen der Wirtschaft auf makroökonomischer Ebene. Es behandelt Themen wie Wirtschaftssysteme, Marktmechanismen, gesamtwirtschaftliche Zusammenhänge, Wirtschaftspolitik sowie die Rolle des Staates in der Wirtschaft. Ziel ist es, ein Verständnis für ökonomische Prozesse, globale Wirtschaftsstrukturen und die Auswirkungen wirtschaftlicher Entscheidungen auf Gesellschaft und Umwelt zu vermitteln.\n",
            "\n",
            "**English:**  \n",
            "The subject \"Economics, General Economics\" focuses on the fundamental principles and interrelationships of the economy at a macroeconomic level. It covers topics such as economic systems, market mechanisms, aggregate economic relationships, economic policy, and the role of the state in the economy. The aim is to foster an understanding of economic processes, global economic structures, and the impacts of economic decisions on society and the environment.\n"
          ]
        },
        {
          "output_type": "stream",
          "name": "stderr",
          "text": [
            "\r 35%|███▌      | 122/345 [39:59<42:23, 11.41s/it]"
          ]
        },
        {
          "output_type": "stream",
          "name": "stdout",
          "text": [
            "Volkswirtschaft **German:**  \n",
            "Volkswirtschaft, auch Volkswirtschaftslehre genannt, ist ein Teilgebiet der Wirtschaftswissenschaften, das sich mit der Analyse und dem Verständnis wirtschaftlicher Prozesse auf gesamtwirtschaftlicher Ebene beschäftigt. Es untersucht Themen wie Produktion, Verteilung und Konsum von Gütern und Dienstleistungen sowie die Wechselwirkungen zwischen Märkten, Haushalten, Unternehmen und dem Staat. Ziel ist es, wirtschaftliche Zusammenhänge zu erklären und politische Handlungsempfehlungen abzuleiten.\n",
            "\n",
            "**English:**  \n",
            "Volkswirtschaft, or economics, is a branch of the social sciences that focuses on the analysis and understanding of economic processes at a macroeconomic level. It examines topics such as the production, distribution, and consumption of goods and services, as well as the interactions between markets, households, businesses, and the state. The goal is to explain economic relationships and derive policy recommendations.\n"
          ]
        },
        {
          "output_type": "stream",
          "name": "stderr",
          "text": [
            "\r 36%|███▌      | 123/345 [40:10<41:46, 11.29s/it]"
          ]
        },
        {
          "output_type": "stream",
          "name": "stdout",
          "text": [
            "Wirtschaftssystem **German:**  \n",
            "Das Wirtschaftssystem beschreibt die organisatorische und strukturelle Gestaltung einer Volkswirtschaft, einschließlich der Produktion, Verteilung und des Konsums von Gütern und Dienstleistungen. Es umfasst die Regeln, Institutionen und Mechanismen, die das wirtschaftliche Handeln bestimmen, wie z. B. Marktwirtschaft, Planwirtschaft oder Mischsysteme. Das Wirtschaftssystem legt fest, wie Ressourcen allokiert werden und wie ökonomische Entscheidungen getroffen werden.  \n",
            "\n",
            "**English:**  \n",
            "The economic system describes the organizational and structural framework of an economy, including the production, distribution, and consumption of goods and services. It encompasses the rules, institutions, and mechanisms that govern economic activity, such as market economies, planned economies, or mixed systems. The economic system determines how resources are allocated and how economic decisions are made.\n"
          ]
        },
        {
          "output_type": "stream",
          "name": "stderr",
          "text": [
            "\r 36%|███▌      | 124/345 [40:24<44:12, 12.00s/it]"
          ]
        },
        {
          "output_type": "stream",
          "name": "stdout",
          "text": [
            "Mathematische Methoden, Information, Entscheidung **German Description:**  \n",
            "\"Mathematische Methoden, Information, Entscheidung\" ist ein interdisziplinäres Fach, das mathematische Techniken und Modelle zur Analyse, Verarbeitung und Nutzung von Informationen sowie zur Unterstützung von Entscheidungsprozessen untersucht. Es umfasst Themen wie Optimierung, Wahrscheinlichkeitstheorie, Statistik, Informationstheorie und Entscheidungstheorie. Das Fach verbindet mathematische Grundlagen mit praktischen Anwendungen in Bereichen wie Wirtschaft, Technik und Datenwissenschaft.  \n",
            "\n",
            "**English Description:**  \n",
            "\"Mathematical Methods, Information, Decision\" is an interdisciplinary subject that explores mathematical techniques and models for analyzing, processing, and utilizing information, as well as for supporting decision-making processes. It covers topics such as optimization, probability theory, statistics, information theory, and decision theory. The subject bridges mathematical foundations with practical applications in fields like economics, engineering, and data science.\n"
          ]
        },
        {
          "output_type": "stream",
          "name": "stderr",
          "text": [
            "\r 36%|███▌      | 125/345 [40:44<53:28, 14.58s/it]"
          ]
        },
        {
          "output_type": "stream",
          "name": "stdout",
          "text": [
            "Haushalt, Verbraucher **German:**  \n",
            "Das Fach 'Haushalt, Verbraucher' beschäftigt sich mit der Planung, Organisation und Führung eines Haushalts sowie mit dem verantwortungsbewussten Konsumverhalten. Es umfasst Themen wie Haushaltsmanagement, Budgetplanung, Ernährung, Gesundheit, Nachhaltigkeit und Verbraucherrechte. Ziel ist es, Kompetenzen zu vermitteln, die zu einem effizienten und bewussten Umgang mit Ressourcen und finanziellen Mitteln führen.\n",
            "\n",
            "**English:**  \n",
            "The subject 'Household, Consumer' focuses on the planning, organization, and management of a household, as well as responsible consumer behavior. It covers topics such as household management, budgeting, nutrition, health, sustainability, and consumer rights. The aim is to develop skills that lead to efficient and conscious use of resources and financial means.\n"
          ]
        },
        {
          "output_type": "stream",
          "name": "stderr",
          "text": [
            "\r 37%|███▋      | 126/345 [41:00<55:07, 15.10s/it]"
          ]
        },
        {
          "output_type": "stream",
          "name": "stdout",
          "text": [
            "Mikroökonomie, Wettbewerb **Deutsch:**  \n",
            "Mikroökonomie, Wettbewerb ist ein Teilgebiet der Volkswirtschaftslehre, das sich mit dem Verhalten einzelner Wirtschaftsakteure (Haushalte, Unternehmen) sowie der Funktionsweise von Märkten beschäftigt. Der Schwerpunkt liegt dabei auf der Analyse von Wettbewerbsprozessen, Marktstrukturen und den Auswirkungen von Wettbewerb auf Preise, Qualität und Innovation. Es werden Konzepte wie perfekter Wettbewerb, Monopole, Oligopole und Marktmacht untersucht, um wirtschaftliche Entscheidungen und Marktergebnisse zu verstehen.\n",
            "\n",
            "**English:**  \n",
            "Microeconomics, Competition is a branch of economics that focuses on the behavior of individual economic agents (households, firms) and the functioning of markets. The emphasis is on analyzing competitive processes, market structures, and the effects of competition on prices, quality, and innovation. Concepts such as perfect competition, monopolies, oligopolies, and market power are explored to understand economic decision-making and market outcomes.\n"
          ]
        },
        {
          "output_type": "stream",
          "name": "stderr",
          "text": [
            "\r 37%|███▋      | 127/345 [41:42<1:23:54, 23.09s/it]"
          ]
        },
        {
          "output_type": "stream",
          "name": "stdout",
          "text": [
            "Konjunktur, Verteilung, Wirtschaftsstruktur **German Description:**  \n",
            "Das Fach „Konjunktur, Verteilung, Wirtschaftsstruktur“ beschäftigt sich mit den zyklischen Schwankungen der Wirtschaft (Konjunktur), der Verteilung von Einkommen und Vermögen sowie der strukturellen Zusammensetzung und Entwicklung von Volkswirtschaften. Es analysiert die Ursachen und Auswirkungen von Wirtschaftskrisen, die Rolle staatlicher Interventionen und die Dynamik von Märkten und Sektoren. Ziel ist es, Zusammenhänge zwischen wirtschaftlichen Phänomenen zu verstehen und politische Handlungsempfehlungen abzuleiten.\n",
            "\n",
            "**English Description:**  \n",
            "The subject \"Business Cycles, Distribution, Economic Structure\" focuses on the cyclical fluctuations of the economy (business cycles), the distribution of income and wealth, and the structural composition and development of economies. It examines the causes and effects of economic crises, the role of government interventions, and the dynamics of markets and sectors. The aim is to understand the relationships between economic phenomena and derive policy recommendations.\n"
          ]
        },
        {
          "output_type": "stream",
          "name": "stderr",
          "text": [
            "\r 37%|███▋      | 128/345 [41:56<1:13:24, 20.30s/it]"
          ]
        },
        {
          "output_type": "stream",
          "name": "stdout",
          "text": [
            "Wirtschaftskreislauf, Konjunktur **Deutsch:**  \n",
            "Der 'Wirtschaftskreislauf' beschreibt den Kreislauf von Gütern, Dienstleistungen und Geldströmen zwischen Haushalten, Unternehmen, dem Staat und dem Ausland. Er verdeutlicht, wie wirtschaftliche Aktivitäten miteinander verflochten sind. Die 'Konjunktur' bezieht sich auf die Schwankungen der Wirtschaftsaktivität über einen bestimmten Zeitraum, die durch Phasen wie Aufschwung, Boom, Abschwung und Tief gekennzeichnet sind. Beide Konzepte sind zentral für das Verständnis der Funktionsweise einer Volkswirtschaft.\n",
            "\n",
            "**English:**  \n",
            "The 'economic cycle' (Wirtschaftskreislauf) describes the flow of goods, services, and money between households, businesses, the government, and foreign entities. It illustrates how economic activities are interconnected. 'Business cycle' (Konjunktur) refers to the fluctuations in economic activity over a specific period, characterized by phases such as expansion, peak, contraction, and trough. Both concepts are essential for understanding the functioning of an economy.\n"
          ]
        },
        {
          "output_type": "stream",
          "name": "stderr",
          "text": [
            "\r 37%|███▋      | 129/345 [42:57<1:57:15, 32.57s/it]"
          ]
        },
        {
          "output_type": "stream",
          "name": "stdout",
          "text": [
            "Verteilung **Deutsch:**  \n",
            "\"Verteilung\" bezieht sich auf die Art und Weise, wie etwas über einen bestimmten Bereich, eine Gruppe oder eine Menge verteilt ist. In der Statistik beschreibt sie die Häufigkeit, mit der bestimmte Werte oder Merkmale auftreten. In der Mathematik kann sie sich auf die Aufteilung von Ressourcen oder Wahrscheinlichkeiten beziehen. Der Begriff wird auch in anderen Bereichen wie Wirtschaft, Physik und Biologie verwendet, um die Streuung oder Zuordnung von Elementen zu beschreiben.\n",
            "\n",
            "**English:**  \n",
            "\"Verteilung\" (distribution) refers to the way something is spread or allocated across a specific area, group, or quantity. In statistics, it describes the frequency with which certain values or characteristics occur. In mathematics, it can refer to the allocation of resources or probabilities. The term is also used in other fields such as economics, physics, and biology to describe the dispersion or allocation of elements.\n"
          ]
        },
        {
          "output_type": "stream",
          "name": "stderr",
          "text": [
            "\r 38%|███▊      | 130/345 [43:10<1:35:10, 26.56s/it]"
          ]
        },
        {
          "output_type": "stream",
          "name": "stdout",
          "text": [
            "Wirtschaftsstruktur **Deutsche Beschreibung:**  \n",
            "\"Wirtschaftsstruktur\" bezieht sich auf die Zusammensetzung und Organisation der verschiedenen Sektoren einer Volkswirtschaft. Sie umfasst die Analyse von Branchen, Unternehmen, Beschäftigungsverhältnissen und Produktionsprozessen sowie deren Wechselwirkungen. Die Wirtschaftsstruktur zeigt, wie Ressourcen verteilt und genutzt werden, und gibt Aufschluss über die wirtschaftliche Entwicklung und Wettbewerbsfähigkeit eines Landes oder einer Region.\n",
            "\n",
            "**English Description:**  \n",
            "\"Wirtschaftsstruktur\" (Economic Structure) refers to the composition and organization of the various sectors within an economy. It encompasses the analysis of industries, businesses, employment relationships, and production processes, as well as their interdependencies. The economic structure reveals how resources are allocated and utilized, providing insights into the economic development and competitiveness of a country or region.\n"
          ]
        },
        {
          "output_type": "stream",
          "name": "stderr",
          "text": [
            "\r 38%|███▊      | 131/345 [43:25<1:22:37, 23.17s/it]"
          ]
        },
        {
          "output_type": "stream",
          "name": "stdout",
          "text": [
            "Außenwirtschaft, Außenhandel **German Description:**  \n",
            "Das Fach 'Außenwirtschaft, Außenhandel' befasst sich mit den wirtschaftlichen Beziehungen zwischen verschiedenen Ländern. Es untersucht den internationalen Handel von Waren und Dienstleistungen, die Rolle von multinationalen Unternehmen sowie die Auswirkungen von Handelspolitik, Zöllen und Handelsabkommen. Zudem werden Themen wie Wechselkurse, Zahlungsbilanzen und globale Wirtschaftsstrategien behandelt. Es ist ein zentraler Bestandteil der Volkswirtschaftslehre und bietet Einblicke in die Dynamik der globalisierten Wirtschaft.\n",
            "\n",
            "**English Description:**  \n",
            "The subject 'International Economics, Foreign Trade' focuses on the economic relationships between different countries. It examines the international trade of goods and services, the role of multinational corporations, and the effects of trade policies, tariffs, and trade agreements. Additionally, topics such as exchange rates, balance of payments, and global economic strategies are covered. It is a core component of economics and provides insights into the dynamics of the globalized economy.\n"
          ]
        },
        {
          "output_type": "stream",
          "name": "stderr",
          "text": [
            "\r 38%|███▊      | 132/345 [43:34<1:07:00, 18.88s/it]"
          ]
        },
        {
          "output_type": "stream",
          "name": "stdout",
          "text": [
            "Außenwirtschaft, Außenhandel gesamtwirtschaftlich **German:**  \n",
            "Das Fach \"Außenwirtschaft, Außenhandel gesamtwirtschaftlich\" beschäftigt sich mit den wirtschaftlichen Beziehungen zwischen verschiedenen Ländern. Es untersucht die internationalen Handelsströme, die Auswirkungen von Importen und Exporten auf die Volkswirtschaft, sowie die Rolle von Handelsabkommen, Zöllen und Wechselkursen. Zudem werden gesamtwirtschaftliche Aspekte wie die Zahlungsbilanz, die internationale Wettbewerbsfähigkeit und die globalen Wirtschaftsverflechtungen analysiert.\n",
            "\n",
            "**English:**  \n",
            "The subject \"International Economics, Foreign Trade in a Macroeconomic Context\" focuses on the economic relationships between different countries. It examines international trade flows, the impact of imports and exports on the national economy, and the role of trade agreements, tariffs, and exchange rates. Additionally, macroeconomic aspects such as the balance of payments, international competitiveness, and global economic interdependencies are analyzed.\n"
          ]
        },
        {
          "output_type": "stream",
          "name": "stderr",
          "text": [
            "\r 39%|███▊      | 133/345 [43:43<56:34, 16.01s/it]  "
          ]
        },
        {
          "output_type": "stream",
          "name": "stdout",
          "text": [
            "Außenwirtschaft, Außenhandel betrieblich **German:**  \n",
            "Das Fach 'Außenwirtschaft, Außenhandel betrieblich' beschäftigt sich mit den betrieblichen Aspekten des internationalen Handels. Es umfasst die Analyse von globalen Märkten, die Gestaltung von Außenhandelsstrategien, die Bewältigung von handelspolitischen Rahmenbedingungen sowie die praktische Abwicklung von Export- und Importgeschäften. Dabei werden Themen wie Zollbestimmungen, internationale Zahlungsverkehrssysteme, Risikomanagement und die Rolle von internationalen Organisationen behandelt.  \n",
            "\n",
            "**English:**  \n",
            "The subject 'International Economics, Business Foreign Trade' focuses on the operational aspects of international trade. It includes the analysis of global markets, the design of foreign trade strategies, the management of trade policy frameworks, and the practical execution of export and import transactions. Topics such as customs regulations, international payment systems, risk management, and the role of international organizations are covered.\n"
          ]
        },
        {
          "output_type": "stream",
          "name": "stderr",
          "text": [
            "\r 39%|███▉      | 134/345 [43:51<47:13, 13.43s/it]"
          ]
        },
        {
          "output_type": "stream",
          "name": "stdout",
          "text": [
            "Öffentliche Aufgaben **German:**  \n",
            "Das Fach 'Öffentliche Aufgaben' befasst sich mit den Pflichten und Funktionen, die der Staat und andere öffentliche Einrichtungen zur Sicherstellung des Gemeinwohls übernehmen. Es umfasst Themen wie Verwaltung, Infrastruktur, soziale Dienstleistungen, Sicherheit und Umweltpolitik. Ziel ist es, die Organisation, Finanzierung und Effizienz öffentlicher Aufgaben zu analysieren und zu verbessern.  \n",
            "\n",
            "**English:**  \n",
            "The subject 'Public Tasks' deals with the duties and functions undertaken by the state and other public institutions to ensure the common good. It includes topics such as administration, infrastructure, social services, security, and environmental policy. The aim is to analyze and improve the organization, funding, and efficiency of public tasks.\n"
          ]
        },
        {
          "output_type": "stream",
          "name": "stderr",
          "text": [
            "\r 39%|███▉      | 135/345 [44:03<45:28, 13.00s/it]"
          ]
        },
        {
          "output_type": "stream",
          "name": "stdout",
          "text": [
            "Öffentliche Wirtschaft, Abfallwirtschaft, Gesundheitsökonomie **German Description:**  \n",
            "Das Fach 'Öffentliche Wirtschaft, Abfallwirtschaft, Gesundheitsökonomie' befasst sich mit der ökonomischen Analyse und Gestaltung öffentlicher Güter, Dienstleistungen und Infrastrukturen. Es umfasst die effiziente Bewirtschaftung von Ressourcen in der Abfallwirtschaft sowie die ökonomischen Aspekte des Gesundheitswesens, einschließlich Kosten-Nutzen-Analysen, Finanzierung und politischer Steuerung. Ziel ist es, nachhaltige und sozialverträgliche Lösungen für gesellschaftliche Herausforderungen zu entwickeln.  \n",
            "\n",
            "**English Description:**  \n",
            "The subject 'Public Economics, Waste Management, Health Economics' focuses on the economic analysis and design of public goods, services, and infrastructures. It includes the efficient management of resources in waste management, as well as the economic aspects of healthcare, encompassing cost-benefit analyses, financing, and policy regulation. The aim is to develop sustainable and socially acceptable solutions for societal challenges.\n"
          ]
        },
        {
          "output_type": "stream",
          "name": "stderr",
          "text": [
            "\r 39%|███▉      | 136/345 [44:11<40:49, 11.72s/it]"
          ]
        },
        {
          "output_type": "stream",
          "name": "stdout",
          "text": [
            "Energie- und Wasserwirtschaft **Deutsch:**  \n",
            "Die 'Energie- und Wasserwirtschaft' ist ein interdisziplinäres Fachgebiet, das sich mit der Erzeugung, Verteilung und Nutzung von Energie sowie der Bewirtschaftung von Wasserressourcen beschäftigt. Es umfasst technische, wirtschaftliche und ökologische Aspekte, um eine nachhaltige und effiziente Versorgung mit Energie und Wasser sicherzustellen. Themen wie erneuerbare Energien, Wasserkraft, Ressourcenmanagement und Umweltverträglichkeit spielen dabei eine zentrale Rolle.\n",
            "\n",
            "**English:**  \n",
            "'Energy and Water Management' is an interdisciplinary field that focuses on the generation, distribution, and utilization of energy, as well as the management of water resources. It encompasses technical, economic, and environmental aspects to ensure a sustainable and efficient supply of energy and water. Key topics include renewable energy, hydropower, resource management, and environmental compatibility.\n"
          ]
        },
        {
          "output_type": "stream",
          "name": "stderr",
          "text": [
            "\r 40%|███▉      | 137/345 [44:22<39:45, 11.47s/it]"
          ]
        },
        {
          "output_type": "stream",
          "name": "stdout",
          "text": [
            "Rohstoffwirtschaft **German:**  \n",
            "Rohstoffwirtschaft befasst sich mit der Gewinnung, Verarbeitung, Verteilung und Nutzung von natürlichen Ressourcen wie Mineralien, Metallen, Energieträgern und biologischen Rohstoffen. Sie umfasst ökonomische, ökologische und technologische Aspekte sowie die globalen Handelsströme und politischen Rahmenbedingungen, die den Rohstoffsektor beeinflussen. Ziel ist eine nachhaltige und effiziente Nutzung von Rohstoffen, um wirtschaftliche Entwicklung und Umweltverträglichkeit in Einklang zu bringen.\n",
            "\n",
            "**English:**  \n",
            "Resource economics (Rohstoffwirtschaft) deals with the extraction, processing, distribution, and utilization of natural resources such as minerals, metals, energy sources, and biological materials. It encompasses economic, environmental, and technological aspects, as well as global trade flows and political frameworks that influence the resource sector. The goal is to achieve sustainable and efficient resource management, balancing economic development with environmental compatibility.\n"
          ]
        },
        {
          "output_type": "stream",
          "name": "stderr",
          "text": [
            "\r 40%|████      | 138/345 [44:30<36:06, 10.47s/it]"
          ]
        },
        {
          "output_type": "stream",
          "name": "stdout",
          "text": [
            "Wirtschaftspolitik **Deutsch:**  \n",
            "Wirtschaftspolitik ist ein Teilgebiet der Volkswirtschaftslehre, das sich mit den Maßnahmen und Entscheidungen beschäftigt, die der Staat oder andere öffentliche Institutionen treffen, um wirtschaftliche Prozesse zu beeinflussen. Ziel ist es, wirtschaftliche Stabilität, Wachstum und soziale Gerechtigkeit zu fördern. Sie umfasst Bereiche wie Finanzpolitik, Geldpolitik, Arbeitsmarktpolitik und Strukturpolitik.\n",
            "\n",
            "**English:**  \n",
            "Economic policy is a subfield of economics that deals with the measures and decisions made by the state or other public institutions to influence economic processes. The goal is to promote economic stability, growth, and social equity. It encompasses areas such as fiscal policy, monetary policy, labor market policy, and structural policy.\n"
          ]
        },
        {
          "output_type": "stream",
          "name": "stderr",
          "text": [
            "\r 40%|████      | 139/345 [44:42<36:46, 10.71s/it]"
          ]
        },
        {
          "output_type": "stream",
          "name": "stdout",
          "text": [
            "Finanzwirtschaft, Finanzpolitik **German:**  \n",
            "Das Fach \"Finanzwirtschaft, Finanzpolitik\" befasst sich mit der Analyse und Gestaltung von Finanzströmen, Kapitalmärkten und staatlicher Finanzpolitik. Es umfasst Themen wie Unternehmensfinanzierung, Investitionsentscheidungen, Risikomanagement, Steuersysteme, öffentliche Haushalte und die Auswirkungen finanzpolitischer Maßnahmen auf Wirtschaft und Gesellschaft. Ziel ist es, fundierte Kenntnisse über finanzielle Prozesse und deren Steuerung zu vermitteln, um wirtschaftliche Stabilität und Wachstum zu fördern.\n",
            "\n",
            "**English:**  \n",
            "The subject \"Financial Economics, Fiscal Policy\" focuses on the analysis and management of financial flows, capital markets, and government fiscal policies. It covers topics such as corporate finance, investment decisions, risk management, tax systems, public budgets, and the impact of fiscal measures on the economy and society. The goal is to provide in-depth knowledge of financial processes and their regulation to promote economic stability and growth.\n"
          ]
        },
        {
          "output_type": "stream",
          "name": "stderr",
          "text": [
            "\r 41%|████      | 140/345 [44:51<35:01, 10.25s/it]"
          ]
        },
        {
          "output_type": "stream",
          "name": "stdout",
          "text": [
            "Telekommunikation und Verkehr **Deutsch:**  \n",
            "Das Fach \"Telekommunikation und Verkehr\" beschäftigt sich mit der Schnittstelle zwischen Kommunikationstechnologien und Verkehrssystemen. Es umfasst die Analyse, Planung und Optimierung von Informationsflüssen in Verkehrsnetzen sowie die Integration moderner Telekommunikationslösungen zur Verbesserung der Effizienz, Sicherheit und Nachhaltigkeit von Verkehrsinfrastrukturen. Themen wie intelligente Verkehrssysteme (ITS), Datenkommunikation, Echtzeitverkehrsmanagement und die Rolle der Digitalisierung im Verkehr stehen im Fokus.\n",
            "\n",
            "**English:**  \n",
            "The subject \"Telecommunications and Transport\" explores the intersection of communication technologies and transport systems. It involves the analysis, planning, and optimization of information flows within transport networks, as well as the integration of modern telecommunications solutions to enhance the efficiency, safety, and sustainability of transport infrastructures. Key topics include intelligent transport systems (ITS), data communication, real-time traffic management, and the role of digitalization in transport.\n"
          ]
        },
        {
          "output_type": "stream",
          "name": "stderr",
          "text": [
            "\r 41%|████      | 141/345 [45:03<36:56, 10.86s/it]"
          ]
        },
        {
          "output_type": "stream",
          "name": "stdout",
          "text": [
            "Fremdenverkehr, Hotel- und Gaststättengewerbe **German:**  \n",
            "Das Fach 'Fremdenverkehr, Hotel- und Gaststättengewerbe' beschäftigt sich mit der Planung, Organisation und Verwaltung von Dienstleistungen im Bereich des Tourismus sowie der Hotellerie und Gastronomie. Es umfasst Themen wie Kundenservice, Eventmanagement, betriebswirtschaftliche Aspekte, Marketing und die nachhaltige Entwicklung des Tourismussektors. Ziel ist es, Fachkräfte auszubilden, die in der dynamischen und internationalen Branche erfolgreich agieren können.\n",
            "\n",
            "**English:**  \n",
            "The subject 'Tourism, Hotel and Catering Industry' focuses on the planning, organization, and management of services in the tourism, hospitality, and catering sectors. It covers topics such as customer service, event management, business aspects, marketing, and the sustainable development of the tourism industry. The goal is to train professionals who can succeed in this dynamic and international field.\n"
          ]
        },
        {
          "output_type": "stream",
          "name": "stderr",
          "text": [
            "\r 41%|████      | 142/345 [45:12<34:44, 10.27s/it]"
          ]
        },
        {
          "output_type": "stream",
          "name": "stdout",
          "text": [
            "Umweltschutz, Umweltbelastung **German:**  \n",
            "\"Umweltschutz, Umweltbelastung\" befasst sich mit dem Schutz der natürlichen Umwelt vor schädlichen Einflüssen sowie der Analyse und Reduzierung von Umweltbelastungen. Das Thema umfasst Maßnahmen zur Erhaltung von Ökosystemen, die Minimierung von Schadstoffen und die Förderung nachhaltiger Praktiken, um die negativen Auswirkungen menschlicher Aktivitäten auf die Umwelt zu verringern.  \n",
            "\n",
            "**English:**  \n",
            "\"Umweltschutz, Umweltbelastung\" (Environmental Protection, Environmental Pollution) focuses on safeguarding the natural environment from harmful impacts and analyzing and reducing environmental pollution. The subject includes measures to preserve ecosystems, minimize pollutants, and promote sustainable practices to mitigate the negative effects of human activities on the environment.\n"
          ]
        },
        {
          "output_type": "stream",
          "name": "stderr",
          "text": [
            "\r 41%|████▏     | 143/345 [47:20<2:33:47, 45.68s/it]"
          ]
        },
        {
          "output_type": "stream",
          "name": "stdout",
          "text": [
            "Raumordnung, Stadtplanung, Landschaftsgestaltung **German Description:**  \n",
            "Raumordnung, Stadtplanung und Landschaftsgestaltung sind Disziplinen, die sich mit der räumlichen Entwicklung und Gestaltung von urbanen und ländlichen Räumen befassen. Die Raumordnung beinhaltet die übergeordnete Planung und Steuerung der Raumnutzung auf regionaler und nationaler Ebene. Die Stadtplanung konzentriert sich auf die Gestaltung und Organisation von städtischen Gebieten, einschließlich Infrastruktur, Wohnraum und öffentlichen Räumen. Die Landschaftsgestaltung beschäftigt sich mit der Planung und Gestaltung von Freiflächen, Grünanlagen und natürlichen Landschaften, um ökologische, ästhetische und funktionale Bedürfnisse in Einklang zu bringen.  \n",
            "\n",
            "**English Description:**  \n",
            "Spatial planning, urban planning, and landscape design are disciplines concerned with the development and design of urban and rural spaces. Spatial planning involves the overarching planning and management of land use at regional and national levels. Urban planning focuses on the design and organization of urban areas, including infrastructure, housing, and public spaces. Landscape design deals with the planning and design of open spaces, green areas, and natural landscapes to balance ecological, aesthetic, and functional needs.\n"
          ]
        },
        {
          "output_type": "stream",
          "name": "stderr",
          "text": [
            "\r 42%|████▏     | 144/345 [47:29<1:56:04, 34.65s/it]"
          ]
        },
        {
          "output_type": "stream",
          "name": "stdout",
          "text": [
            "Öffentliche und private Bautätigkeit, Bau- und Bodenpolitik **Deutsch:**  \n",
            "Das Fach \"Öffentliche und private Bautätigkeit, Bau- und Bodenpolitik\" befasst sich mit den verschiedenen Aspekten der Planung, Finanzierung und Umsetzung von Bauvorhaben im öffentlichen und privaten Sektor. Es untersucht die politischen, rechtlichen und wirtschaftlichen Rahmenbedingungen, die die Bautätigkeit beeinflussen, sowie die Rolle der Bodenpolitik bei der Gestaltung von städtischen und ländlichen Räumen. Themen wie Nachhaltigkeit, Wohnungsbau, Infrastrukturprojekte und kommunale Planungsverfahren stehen dabei im Mittelpunkt.\n",
            "\n",
            "**English:**  \n",
            "The subject \"Public and Private Construction Activity, Construction and Land Policy\" deals with various aspects of planning, financing, and implementing construction projects in both the public and private sectors. It explores the political, legal, and economic frameworks that influence construction activities, as well as the role of land policy in shaping urban and rural areas. Key topics include sustainability, housing development, infrastructure projects, and municipal planning processes.\n"
          ]
        },
        {
          "output_type": "stream",
          "name": "stderr",
          "text": [
            "\r 42%|████▏     | 145/345 [48:35<2:26:30, 43.95s/it]"
          ]
        },
        {
          "output_type": "stream",
          "name": "stdout",
          "text": [
            "Bauwirtschaft, Baubetrieb und Bodenmarkt **German Description:**  \n",
            "Das Fachgebiet \"Bauwirtschaft, Baubetrieb und Bodenmarkt\" befasst sich mit den wirtschaftlichen, betrieblichen und marktbezogenen Aspekten des Bauwesens. Es umfasst die Planung, Organisation und Steuerung von Bauprojekten, die Analyse von Bodenmärkten sowie die ökonomischen Rahmenbedingungen der Bauindustrie. Themen wie Projektmanagement, Kostenkontrolle, Nachhaltigkeit und Immobilienentwicklung spielen dabei eine zentrale Rolle.\n",
            "\n",
            "**English Description:**  \n",
            "The subject \"Construction Economics, Construction Management, and Land Markets\" focuses on the economic, operational, and market-related aspects of the construction industry. It covers the planning, organization, and control of construction projects, the analysis of land markets, and the economic frameworks of the construction sector. Key topics include project management, cost control, sustainability, and real estate development.\n"
          ]
        },
        {
          "output_type": "stream",
          "name": "stderr",
          "text": [
            "\r 42%|████▏     | 146/345 [48:44<1:50:49, 33.42s/it]"
          ]
        },
        {
          "output_type": "stream",
          "name": "stdout",
          "text": [
            "Geldtheorie, Geldpolitik, Währung **German:**  \n",
            "Das Fach 'Geldtheorie, Geldpolitik, Währung' beschäftigt sich mit der theoretischen und praktischen Analyse von Geld, seiner Rolle in der Wirtschaft sowie den Mechanismen der Geldpolitik. Es umfasst die Untersuchung von Währungssystemen, der Geldmenge, der Inflation, der Zinspolitik und der Rolle von Zentralbanken. Ziel ist es, die Funktionsweise monetärer Systeme und deren Einfluss auf die Volkswirtschaft zu verstehen.\n",
            "\n",
            "**English:**  \n",
            "The subject 'Monetary Theory, Monetary Policy, Currency' focuses on the theoretical and practical analysis of money, its role in the economy, and the mechanisms of monetary policy. It includes the study of currency systems, money supply, inflation, interest rate policies, and the role of central banks. The aim is to understand the functioning of monetary systems and their impact on the economy.\n"
          ]
        },
        {
          "output_type": "stream",
          "name": "stderr",
          "text": [
            "\r 43%|████▎     | 147/345 [48:49<1:22:48, 25.09s/it]"
          ]
        },
        {
          "output_type": "stream",
          "name": "stdout",
          "text": [
            "Bank **German:**  \n",
            "Ein Bank ist ein Finanzinstitut, das Dienstleistungen wie die Annahme von Einlagen, die Vergabe von Krediten, die Abwicklung von Zahlungen und die Bereitstellung von Anlageprodukten anbietet. Banken spielen eine zentrale Rolle im Wirtschaftssystem, indem sie Geldströme regulieren und die finanzielle Stabilität fördern.  \n",
            "\n",
            "**English:**  \n",
            "A bank is a financial institution that offers services such as accepting deposits, granting loans, processing payments, and providing investment products. Banks play a central role in the economic system by regulating money flows and promoting financial stability.\n"
          ]
        },
        {
          "output_type": "stream",
          "name": "stderr",
          "text": [
            "\r 43%|████▎     | 148/345 [48:59<1:06:52, 20.37s/it]"
          ]
        },
        {
          "output_type": "stream",
          "name": "stdout",
          "text": [
            "Kapitalmarkt, Börse, Kapitalanlage **German Description:**  \n",
            "Das Fachgebiet 'Kapitalmarkt, Börse, Kapitalanlage' befasst sich mit den Strukturen, Mechanismen und Instrumenten der Finanzmärkte. Es umfasst die Analyse von Wertpapieren, die Funktionsweise von Börsen, die Bewertung von Anlageoptionen sowie die Strategien zur Portfoliomanagement und Risikobewältigung. Ziel ist es, das Verständnis für die Dynamiken des Kapitalmarkts zu vertiefen und fundierte Anlageentscheidungen zu treffen.\n",
            "\n",
            "**English Description:**  \n",
            "The subject 'Capital Market, Stock Exchange, Capital Investment' focuses on the structures, mechanisms, and instruments of financial markets. It includes the analysis of securities, the functioning of stock exchanges, the evaluation of investment options, as well as strategies for portfolio management and risk mitigation. The aim is to deepen the understanding of capital market dynamics and make informed investment decisions.\n"
          ]
        },
        {
          "output_type": "stream",
          "name": "stderr",
          "text": [
            "\r 43%|████▎     | 149/345 [49:14<1:01:15, 18.75s/it]"
          ]
        },
        {
          "output_type": "stream",
          "name": "stdout",
          "text": [
            "Genossenschaft, Gemeinwirtschaft, Alternative Wirtschaft **German:**  \n",
            "Das Fach 'Genossenschaft, Gemeinwirtschaft, Alternative Wirtschaft' beschäftigt sich mit Wirtschaftsmodellen, die auf Kooperation, Gemeinwohl und Nachhaltigkeit ausgerichtet sind. Es untersucht Genossenschaften als kollektive Unternehmensformen, gemeinwirtschaftliche Ansätze, die auf soziale Gerechtigkeit abzielen, sowie alternative Wirtschaftskonzepte, die sich vom traditionellen Kapitalismus abgrenzen. Dabei werden historische, theoretische und praktische Aspekte beleuchtet, um die Rolle dieser Modelle in der modernen Wirtschaft zu verstehen.\n",
            "\n",
            "**English:**  \n",
            "The subject 'Cooperative, Social Economy, Alternative Economy' focuses on economic models centered around cooperation, common welfare, and sustainability. It explores cooperatives as collective business structures, social economy approaches aimed at social justice, and alternative economic concepts that diverge from traditional capitalism. The field examines historical, theoretical, and practical aspects to understand the role of these models in modern economies.\n"
          ]
        },
        {
          "output_type": "stream",
          "name": "stderr",
          "text": [
            "\r 43%|████▎     | 150/345 [49:23<51:39, 15.89s/it]  "
          ]
        },
        {
          "output_type": "stream",
          "name": "stdout",
          "text": [
            "Betriebswirtschaftslehre (Allgemeines), Unternehmen, Management **Deutsch:**  \n",
            "Die Betriebswirtschaftslehre (BWL) befasst sich mit der wissenschaftlichen Untersuchung von Unternehmen und deren Management. Sie umfasst die Planung, Organisation, Leitung und Kontrolle von betrieblichen Prozessen sowie die Analyse von wirtschaftlichen Entscheidungen. Allgemeine BWL behandelt grundlegende Konzepte wie Unternehmensführung, Strategieentwicklung, Finanzierung, Marketing und Personalmanagement. Ziel ist es, Unternehmen effizient und nachhaltig zu führen, um wirtschaftlichen Erfolg zu erzielen.\n",
            "\n",
            "**English:**  \n",
            "Business Administration (General), Enterprises, Management focuses on the scientific study of companies and their management. It encompasses the planning, organization, leadership, and control of business processes, as well as the analysis of economic decisions. General Business Administration covers fundamental concepts such as corporate governance, strategy development, finance, marketing, and human resource management. The aim is to manage companies efficiently and sustainably to achieve economic success.\n"
          ]
        },
        {
          "output_type": "stream",
          "name": "stderr",
          "text": [
            "\r 44%|████▍     | 151/345 [49:31<43:42, 13.52s/it]"
          ]
        },
        {
          "output_type": "stream",
          "name": "stdout",
          "text": [
            "Mathematische Methoden, Information, Entscheidung **German:**  \n",
            "\"Mathematische Methoden, Information, Entscheidung\" ist ein interdisziplinäres Fach, das mathematische Techniken und Modelle zur Analyse von Informationssystemen und Entscheidungsprozessen behandelt. Es verbindet Aspekte der Mathematik, Statistik, Informatik und Entscheidungstheorie, um komplexe Probleme in Bereichen wie Datenanalyse, Optimierung, maschinelles Lernen und Management zu lösen.  \n",
            "\n",
            "**English:**  \n",
            "\"Mathematical Methods, Information, Decision\" is an interdisciplinary subject that explores mathematical techniques and models for analyzing information systems and decision-making processes. It combines aspects of mathematics, statistics, computer science, and decision theory to solve complex problems in areas such as data analysis, optimization, machine learning, and management.\n"
          ]
        },
        {
          "output_type": "stream",
          "name": "stderr",
          "text": [
            "\r 44%|████▍     | 152/345 [50:58<1:54:47, 35.69s/it]"
          ]
        },
        {
          "output_type": "stream",
          "name": "stdout",
          "text": [
            "Beschaffung, Produktion **Deutsch:**  \n",
            "Das Fach \"Beschaffung, Produktion\" befasst sich mit den Prozessen der Materialbeschaffung, der Planung und Steuerung der Produktion sowie der effizienten Nutzung von Ressourcen in Unternehmen. Es umfasst Themen wie Lieferkettenmanagement, Einkauf, Lagerhaltung, Produktionsplanung und -steuerung sowie Qualitätsmanagement. Ziel ist es, die Wertschöpfungskette zu optimieren, Kosten zu senken und die Wettbewerbsfähigkeit zu stärken.\n",
            "\n",
            "**English:**  \n",
            "The subject \"Procurement, Production\" focuses on the processes of material procurement, planning and control of production, and the efficient use of resources in companies. It covers topics such as supply chain management, purchasing, inventory management, production planning and control, and quality management. The aim is to optimize the value chain, reduce costs, and enhance competitiveness.\n"
          ]
        },
        {
          "output_type": "stream",
          "name": "stderr",
          "text": [
            "\r 44%|████▍     | 153/345 [51:06<1:26:56, 27.17s/it]"
          ]
        },
        {
          "output_type": "stream",
          "name": "stdout",
          "text": [
            "Kosten **German:**  \n",
            "'Kosten' bezieht sich auf die finanziellen Aufwendungen oder Ausgaben, die im Zusammenhang mit der Produktion von Gütern, der Erbringung von Dienstleistungen oder der Durchführung von Projekten entstehen. Es umfasst sowohl fixe als auch variable Kosten und spielt eine zentrale Rolle in der Betriebswirtschaftslehre und im Rechnungswesen.  \n",
            "\n",
            "**English:**  \n",
            "'Kosten' refers to the financial expenditures or expenses incurred in the production of goods, the provision of services, or the execution of projects. It includes both fixed and variable costs and plays a central role in business administration and accounting.\n"
          ]
        },
        {
          "output_type": "stream",
          "name": "stderr",
          "text": [
            "\r 45%|████▍     | 154/345 [51:15<1:09:12, 21.74s/it]"
          ]
        },
        {
          "output_type": "stream",
          "name": "stdout",
          "text": [
            "Marketing, Wettbewerb **German:**  \n",
            "Das Fach \"Marketing, Wettbewerb\" beschäftigt sich mit den Strategien und Techniken, die Unternehmen anwenden, um ihre Produkte und Dienstleistungen erfolgreich auf dem Markt zu positionieren. Es umfasst die Analyse von Wettbewerbsbedingungen, die Entwicklung von Marketingkonzepten sowie die Umsetzung von Maßnahmen zur Kundengewinnung und -bindung. Ziel ist es, Wettbewerbsvorteile zu schaffen und die Marktposition eines Unternehmens nachhaltig zu stärken.\n",
            "\n",
            "**English:**  \n",
            "The subject \"Marketing, Competition\" focuses on the strategies and techniques that companies use to successfully position their products and services in the market. It includes the analysis of competitive conditions, the development of marketing concepts, and the implementation of measures to attract and retain customers. The goal is to create competitive advantages and sustainably strengthen a company's market position.\n"
          ]
        },
        {
          "output_type": "stream",
          "name": "stderr",
          "text": [
            "\r 45%|████▍     | 155/345 [51:23<56:10, 17.74s/it]  "
          ]
        },
        {
          "output_type": "stream",
          "name": "stdout",
          "text": [
            "Rechnungswesen, Steuer, Revision **German Description:**  \n",
            "Das Fachgebiet \"Rechnungswesen, Steuer, Revision\" umfasst die systematische Erfassung, Auswertung und Kontrolle von finanziellen und wirtschaftlichen Vorgängen in Unternehmen. Es beinhaltet die Buchhaltung, die Steuerplanung und -erklärung sowie die Prüfung und Revision von Geschäftsprozessen, um deren Richtigkeit, Effizienz und Compliance sicherzustellen. Dieses Fach ist essenziell für die transparente und gesetzeskonforme Führung von Unternehmen.\n",
            "\n",
            "**English Description:**  \n",
            "The subject \"Accounting, Taxation, Auditing\" involves the systematic recording, analysis, and control of financial and economic transactions within companies. It encompasses bookkeeping, tax planning and filing, as well as the examination and auditing of business processes to ensure accuracy, efficiency, and compliance. This field is essential for the transparent and legally compliant management of businesses.\n"
          ]
        },
        {
          "output_type": "stream",
          "name": "stderr",
          "text": [
            "\r 45%|████▌     | 156/345 [51:36<51:03, 16.21s/it]"
          ]
        },
        {
          "output_type": "stream",
          "name": "stdout",
          "text": [
            "Investition, Finanzierung **Investition, Finanzierung (Deutsch):**  \n",
            "Das Fach \"Investition, Finanzierung\" beschäftigt sich mit den grundlegenden Prinzipien und Methoden der Kapitalallokation und Finanzierung von Unternehmen. Es umfasst die Analyse von Investitionsentscheidungen, die Bewertung von Finanzierungsmöglichkeiten sowie die Optimierung der Kapitalstruktur. Themen wie Kapitalbudgetierung, Risikomanagement, Finanzierungsinstrumente und die Bewertung von Investitionsprojekten stehen im Mittelpunkt. Das Fach verbindet theoretische Konzepte mit praktischen Anwendungen, um fundierte finanzielle Entscheidungen zu unterstützen.\n",
            "\n",
            "**Investment, Financing (English):**  \n",
            "The subject \"Investment, Financing\" focuses on the fundamental principles and methods of capital allocation and corporate financing. It covers the analysis of investment decisions, the evaluation of financing options, and the optimization of capital structure. Key topics include capital budgeting, risk management, financing instruments, and the assessment of investment projects. The subject integrates theoretical concepts with practical applications to support informed financial decision-making.\n"
          ]
        },
        {
          "output_type": "stream",
          "name": "stderr",
          "text": [
            "\r 46%|████▌     | 157/345 [51:51<49:40, 15.85s/it]"
          ]
        },
        {
          "output_type": "stream",
          "name": "stdout",
          "text": [
            "Personalpolitik, Arbeitsgestaltung **German:**  \n",
            "'Personalpolitik, Arbeitsgestaltung' ist ein Fachbereich, der sich mit der strategischen Planung und Umsetzung von Maßnahmen zur Personalentwicklung und -führung in Unternehmen befasst. Dabei werden Themen wie Mitarbeiterrekrutierung, Arbeitsbedingungen, Motivation, Arbeitsorganisation und die Gestaltung von Arbeitsprozessen behandelt. Ziel ist es, sowohl die Effizienz der Arbeitsabläufe als auch die Zufriedenheit und Leistungsfähigkeit der Mitarbeiter zu optimieren.\n",
            "\n",
            "**English:**  \n",
            "'Personalpolitik, Arbeitsgestaltung' (Human Resources Policy, Work Design) is a subject area that focuses on the strategic planning and implementation of measures for employee development and management within organizations. It covers topics such as recruitment, working conditions, motivation, work organization, and the design of work processes. The aim is to optimize both the efficiency of workflows and the satisfaction and performance of employees.\n"
          ]
        },
        {
          "output_type": "stream",
          "name": "stderr",
          "text": [
            "\r 46%|████▌     | 158/345 [52:09<51:37, 16.56s/it]"
          ]
        },
        {
          "output_type": "stream",
          "name": "stdout",
          "text": [
            "Büro, Bürokommunikation **German Description:**  \n",
            "Das Fach 'Büro, Bürokommunikation' befasst sich mit den grundlegenden Kenntnissen und Fähigkeiten, die für die effiziente Organisation und Kommunikation in einem Büroumfeld erforderlich sind. Es umfasst Themen wie Büroorganisation, Schriftverkehr, elektronische Kommunikation, Terminplanung, Datenschutz und die Nutzung von Bürotechnologien. Ziel ist es, die Teilnehmer auf die Anforderungen moderner Büroarbeit vorzubereiten und ihre Kompetenzen in der professionellen Kommunikation und Verwaltung zu stärken.  \n",
            "\n",
            "**English Description:**  \n",
            "The subject 'Office, Office Communication' focuses on the essential knowledge and skills required for efficient organization and communication in an office environment. It covers topics such as office organization, correspondence, electronic communication, scheduling, data protection, and the use of office technologies. The aim is to prepare participants for the demands of modern office work and to enhance their competencies in professional communication and administration.\n"
          ]
        },
        {
          "output_type": "stream",
          "name": "stderr",
          "text": [
            "\r 46%|████▌     | 159/345 [52:17<43:11, 13.93s/it]"
          ]
        },
        {
          "output_type": "stream",
          "name": "stdout",
          "text": [
            "Spezielle Informationssysteme, Programme **German:**  \n",
            "Das Fach \"Spezielle Informationssysteme, Programme\" befasst sich mit der Entwicklung, Implementierung und Anwendung spezialisierter Informationssysteme und Softwareprogramme. Es umfasst die Analyse von Anforderungen, die Gestaltung von Systemarchitekturen sowie die Programmierung und Optimierung von Lösungen für spezifische Anwendungsbereiche. Studierende lernen, komplexe IT-Systeme zu entwerfen und an individuelle Bedürfnisse anzupassen.\n",
            "\n",
            "**English:**  \n",
            "The subject \"Special Information Systems, Programs\" focuses on the development, implementation, and application of specialized information systems and software programs. It includes requirements analysis, system architecture design, as well as programming and optimization of solutions for specific application areas. Students learn to design complex IT systems and tailor them to individual needs.\n"
          ]
        },
        {
          "output_type": "stream",
          "name": "stderr",
          "text": [
            "\r 46%|████▋     | 160/345 [52:26<38:47, 12.58s/it]"
          ]
        },
        {
          "output_type": "stream",
          "name": "stdout",
          "text": [
            "Gewerbe allgemein, Industrie, Handwerk **German Description:**  \n",
            "Das Fachgebiet \"Gewerbe allgemein, Industrie, Handwerk\" umfasst die grundlegenden Aspekte der gewerblichen, industriellen und handwerklichen Wirtschaftstätigkeit. Es behandelt Themen wie Unternehmensgründung, Betriebsführung, Produktionsprozesse, Marktstrukturen sowie rechtliche und wirtschaftliche Rahmenbedingungen. Ziel ist es, ein umfassendes Verständnis für die Funktionsweise und Bedeutung dieser Wirtschaftssektoren zu vermitteln.  \n",
            "\n",
            "**English Description:**  \n",
            "The subject \"Trade in General, Industry, Craft\" covers the fundamental aspects of commercial, industrial, and artisanal economic activities. It addresses topics such as business formation, management, production processes, market structures, as well as legal and economic frameworks. The aim is to provide a comprehensive understanding of the functioning and significance of these economic sectors.\n"
          ]
        },
        {
          "output_type": "stream",
          "name": "stderr",
          "text": [
            "\r 47%|████▋     | 161/345 [53:40<1:35:08, 31.02s/it]"
          ]
        },
        {
          "output_type": "stream",
          "name": "stdout",
          "text": [
            "Industrie, Industriebetrieb, Handwerk **German Description:**  \n",
            "Das Fach \"Industrie, Industriebetrieb, Handwerk\" befasst sich mit der Analyse und dem Verständnis von industriellen Prozessen, der Organisation von Industriebetrieben und der Rolle des Handwerks in der Wirtschaft. Es umfasst Themen wie Produktionsverfahren, Betriebswirtschaft, Technologien, Nachhaltigkeit und die Wechselwirkungen zwischen Industrie und Handwerk. Ziel ist es, Kenntnisse zu vermitteln, die für die effiziente Gestaltung und Führung von Unternehmen in diesen Bereichen erforderlich sind.\n",
            "\n",
            "**English Description:**  \n",
            "The subject \"Industry, Industrial Enterprise, Craft\" focuses on the analysis and understanding of industrial processes, the organization of industrial enterprises, and the role of crafts in the economy. It covers topics such as production methods, business management, technologies, sustainability, and the interactions between industry and craft. The aim is to provide knowledge essential for the efficient design and management of businesses in these fields.\n"
          ]
        },
        {
          "output_type": "stream",
          "name": "stderr",
          "text": [
            "\r 47%|████▋     | 162/345 [53:53<1:17:56, 25.56s/it]"
          ]
        },
        {
          "output_type": "stream",
          "name": "stdout",
          "text": [
            "Einzelne Branchen der Industrie und des Handwerks **German Description:**  \n",
            "Das Fach \"Einzelne Branchen der Industrie und des Handwerks\" beschäftigt sich mit der detaillierten Analyse und dem Verständnis verschiedener Wirtschaftszweige innerhalb des industriellen und handwerklichen Sektors. Es umfasst die Untersuchung von Produktionsprozessen, Marktbedingungen, technologischen Entwicklungen sowie branchenspezifischen Herausforderungen und Chancen. Ziel ist es, fundierte Kenntnisse über die Strukturen und Dynamiken einzelner Branchen zu vermitteln, um beispielsweise betriebswirtschaftliche Entscheidungen oder politische Maßnahmen zu unterstützen.\n",
            "\n",
            "**English Description:**  \n",
            "The subject \"Individual Branches of Industry and Craft\" focuses on the detailed analysis and understanding of various sectors within the industrial and craft domains. It includes the examination of production processes, market conditions, technological advancements, as well as industry-specific challenges and opportunities. The aim is to provide in-depth knowledge about the structures and dynamics of individual industries, enabling informed business decisions or policy-making.\n"
          ]
        },
        {
          "output_type": "stream",
          "name": "stderr",
          "text": [
            "\r 47%|████▋     | 163/345 [54:00<1:00:57, 20.10s/it]"
          ]
        },
        {
          "output_type": "stream",
          "name": "stdout",
          "text": [
            "Handel allgemein, Dienstleistung allgemein **German:**  \n",
            "Das Fach 'Handel allgemein, Dienstleistung allgemein' befasst sich mit den grundlegenden Prinzipien und Prozessen des Handels und der Dienstleistungsbranche. Es umfasst Themen wie Handelssysteme, Kundenbeziehungen, Marketing, Logistik und die Bereitstellung von Dienstleistungen. Ziel ist es, ein breites Verständnis für die Abläufe und Herausforderungen in diesen Wirtschaftsbereichen zu vermitteln.\n",
            "\n",
            "**English:**  \n",
            "The subject 'General Trade, General Services' deals with the fundamental principles and processes of trade and the service industry. It covers topics such as trade systems, customer relations, marketing, logistics, and the provision of services. The aim is to provide a broad understanding of the operations and challenges in these economic sectors.\n"
          ]
        },
        {
          "output_type": "stream",
          "name": "stderr",
          "text": [
            "\r 48%|████▊     | 164/345 [54:10<51:32, 17.08s/it]  "
          ]
        },
        {
          "output_type": "stream",
          "name": "stdout",
          "text": [
            "Handel einzelner Branchen, Dienstleistung einzelner Branchen **German:**  \n",
            "\"Handel einzelner Branchen, Dienstleistung einzelner Branchen\" befasst sich mit den spezifischen Handels- und Dienstleistungsaktivitäten in bestimmten Wirtschaftssektoren. Dabei werden branchenspezifische Besonderheiten, Herausforderungen und Strategien analysiert, um ein tiefes Verständnis für die Dynamik und Anforderungen einzelner Branchen zu entwickeln.  \n",
            "\n",
            "**English:**  \n",
            "\"Trade of Individual Industries, Services of Individual Industries\" focuses on the specific trade and service activities within particular economic sectors. It examines industry-specific characteristics, challenges, and strategies to develop a deep understanding of the dynamics and requirements of individual industries.\n"
          ]
        },
        {
          "output_type": "stream",
          "name": "stderr",
          "text": [
            "\r 48%|████▊     | 165/345 [54:27<51:13, 17.08s/it]"
          ]
        },
        {
          "output_type": "stream",
          "name": "stdout",
          "text": [
            "Versicherung **German:**  \n",
            "\"Versicherung\" ist ein Fachgebiet, das sich mit der Absicherung von Risiken beschäftigt. Es umfasst die Analyse, Bewertung und Verwaltung von Risiken sowie die Gestaltung von Versicherungsprodukten, die Schutz vor finanziellen Verlusten bieten. Themen wie Versicherungsmathematik, Vertragsgestaltung, Schadensregulierung und gesetzliche Rahmenbedingungen sind zentrale Bestandteile des Fachs. Versicherungen spielen eine wichtige Rolle in der Wirtschaft und im privaten Leben, um Unsicherheiten abzufedern.\n",
            "\n",
            "**English:**  \n",
            "\"Insurance\" is a field of study that focuses on the mitigation of risks. It involves the analysis, assessment, and management of risks, as well as the design of insurance products that provide protection against financial losses. Key topics include actuarial science, contract design, claims management, and regulatory frameworks. Insurance plays a crucial role in both the economy and private life by providing a safety net against uncertainties.\n"
          ]
        },
        {
          "output_type": "stream",
          "name": "stderr",
          "text": [
            "\r 48%|████▊     | 166/345 [54:38<44:51, 15.04s/it]"
          ]
        },
        {
          "output_type": "stream",
          "name": "stdout",
          "text": [
            "Werbewirtschaft, Öffentlichkeitsarbeit **German:**  \n",
            "Das Fach 'Werbewirtschaft, Öffentlichkeitsarbeit' befasst sich mit den Strategien, Methoden und Techniken der Werbung und Public Relations. Es umfasst die Planung, Gestaltung und Umsetzung von Kommunikationsmaßnahmen, um Produkte, Dienstleistungen oder Marken gezielt zu promoten und das Image von Unternehmen oder Organisationen zu stärken. Themen wie Marktforschung, Medienplanung, digitale Kommunikation und Krisen-PR sind zentrale Bestandteile dieses Fachgebiets.\n",
            "\n",
            "**English:**  \n",
            "The subject 'Advertising, Public Relations' focuses on the strategies, methods, and techniques of advertising and PR. It covers the planning, design, and implementation of communication measures to effectively promote products, services, or brands, as well as to enhance the image of companies or organizations. Key topics include market research, media planning, digital communication, and crisis PR.\n"
          ]
        },
        {
          "output_type": "stream",
          "name": "stderr",
          "text": [
            "\r 48%|████▊     | 167/345 [54:44<36:49, 12.41s/it]"
          ]
        },
        {
          "output_type": "stream",
          "name": "stdout",
          "text": [
            "Sprache (Allgemeines) **German:**  \n",
            "\"Sprache (Allgemeines)\" befasst sich mit der grundlegenden Erforschung von Sprache als menschlichem Kommunikationssystem. Es umfasst Themen wie Sprachursprung, Sprachstruktur, Sprachfunktion, Sprachvariation und Sprachwandel. Dieser Bereich untersucht sowohl die theoretischen Aspekte von Sprache als auch ihre praktische Anwendung in verschiedenen Kontexten.\n",
            "\n",
            "**English:**  \n",
            "\"Language (General)\" deals with the fundamental study of language as a human communication system. It encompasses topics such as the origin of language, language structure, language function, language variation, and language change. This field explores both the theoretical aspects of language and its practical application in various contexts.\n"
          ]
        },
        {
          "output_type": "stream",
          "name": "stderr",
          "text": [
            "\r 49%|████▊     | 168/345 [54:58<37:39, 12.77s/it]"
          ]
        },
        {
          "output_type": "stream",
          "name": "stdout",
          "text": [
            "Historische Sprachwissenschaft **German:**  \n",
            "Die Historische Sprachwissenschaft ist ein Teilgebiet der Linguistik, das sich mit der Entwicklung und Veränderung von Sprachen über die Zeit hinweg beschäftigt. Sie untersucht die Entstehung, den Wandel und den Untergang von Sprachen sowie die zugrunde liegenden Ursachen und Mechanismen. Dabei werden sowohl phonologische, morphologische, syntaktische als auch lexikalische Aspekte analysiert. Methoden wie die vergleichende Sprachwissenschaft und die Rekonstruktion von Protosprachen spielen eine zentrale Rolle.\n",
            "\n",
            "**English:**  \n",
            "Historical Linguistics is a subfield of linguistics that focuses on the evolution and change of languages over time. It examines the emergence, transformation, and decline of languages, as well as the underlying causes and mechanisms. This field analyzes phonological, morphological, syntactic, and lexical aspects. Key methods include comparative linguistics and the reconstruction of proto-languages.\n"
          ]
        },
        {
          "output_type": "stream",
          "name": "stderr",
          "text": [
            "\r 49%|████▉     | 169/345 [55:06<33:15, 11.34s/it]"
          ]
        },
        {
          "output_type": "stream",
          "name": "stdout",
          "text": [
            "Sprachliche Technik **German Description:**  \n",
            "'Sprachliche Technik' bezieht sich auf die gezielte Anwendung sprachlicher Mittel und Methoden, um effektiv und präzise zu kommunizieren. Dies umfasst Aspekte wie Wortwahl, Satzbau, Stilmittel und rhetorische Strategien, die eingesetzt werden, um eine bestimmte Wirkung zu erzielen. Es ist ein zentrales Thema in Sprachwissenschaft, Literatur und Kommunikation.\n",
            "\n",
            "**English Description:**  \n",
            "'Sprachliche Technik' (Linguistic Technique) refers to the deliberate use of linguistic tools and methods to communicate effectively and precisely. This includes aspects such as word choice, sentence structure, stylistic devices, and rhetorical strategies that are employed to achieve a specific effect. It is a central topic in linguistics, literature, and communication studies.\n"
          ]
        },
        {
          "output_type": "stream",
          "name": "stderr",
          "text": [
            "\r 49%|████▉     | 170/345 [55:16<32:20, 11.09s/it]"
          ]
        },
        {
          "output_type": "stream",
          "name": "stdout",
          "text": [
            "Allgemeine Sprachtheorie **Deutsch:**  \n",
            "Die Allgemeine Sprachtheorie befasst sich mit den grundlegenden Prinzipien und Strukturen, die allen Sprachen gemeinsam sind. Sie untersucht die universellen Merkmale der menschlichen Sprache, ihre Entstehung, Funktion und Organisation. Dieser Bereich umfasst Aspekte wie Phonetik, Syntax, Semantik und Pragmatik und zielt darauf ab, ein umfassendes Verständnis der Sprache als System zu entwickeln.  \n",
            "\n",
            "**English:**  \n",
            "General Linguistic Theory explores the fundamental principles and structures that are common to all languages. It investigates the universal features of human language, its origins, functions, and organization. This field encompasses aspects such as phonetics, syntax, semantics, and pragmatics, aiming to develop a comprehensive understanding of language as a system.\n"
          ]
        },
        {
          "output_type": "stream",
          "name": "stderr",
          "text": [
            "\r 50%|████▉     | 171/345 [55:26<30:43, 10.59s/it]"
          ]
        },
        {
          "output_type": "stream",
          "name": "stdout",
          "text": [
            "Grammatik **Deutsch:**  \n",
            "Grammatik ist ein zentraler Bereich der Sprachwissenschaft, der sich mit den Regeln und Strukturen einer Sprache beschäftigt. Sie umfasst die Bereiche Morphologie (Wortbildung), Syntax (Satzbau), Phonologie (Lautsystem) und Semantik (Bedeutung). Die Grammatik legt fest, wie Wörter gebildet, kombiniert und verwendet werden, um sinnvolle und korrekte Sätze zu erzeugen. Sie ist essenziell für das Verständnis und die korrekte Anwendung einer Sprache.\n",
            "\n",
            "**English:**  \n",
            "Grammar is a core area of linguistics that deals with the rules and structures of a language. It encompasses morphology (word formation), syntax (sentence structure), phonology (sound system), and semantics (meaning). Grammar defines how words are formed, combined, and used to create meaningful and correct sentences. It is essential for understanding and accurately applying a language.\n"
          ]
        },
        {
          "output_type": "stream",
          "name": "stderr",
          "text": [
            "\r 50%|████▉     | 172/345 [55:36<29:58, 10.39s/it]"
          ]
        },
        {
          "output_type": "stream",
          "name": "stdout",
          "text": [
            "Phonetik, Phonologie **German:**  \n",
            "Phonetik und Phonologie sind zwei zentrale Teilgebiete der Linguistik, die sich mit den lautlichen Aspekten der Sprache befassen. Die Phonetik untersucht die physische Produktion, Übertragung und Wahrnehmung von Sprachlauten, während die Phonologie die systematische Organisation und Funktion von Lauten in einer bestimmten Sprache analysiert. Zusammen bilden sie die Grundlage für das Verständnis, wie Laute in menschlicher Sprache strukturiert und verwendet werden.\n",
            "\n",
            "**English:**  \n",
            "Phonetics and Phonology are two core subfields of linguistics that deal with the sound aspects of language. Phonetics focuses on the physical production, transmission, and perception of speech sounds, while Phonology examines the systematic organization and function of sounds within a particular language. Together, they provide the foundation for understanding how sounds are structured and used in human language.\n"
          ]
        },
        {
          "output_type": "stream",
          "name": "stderr",
          "text": [
            "\r 50%|█████     | 173/345 [55:49<32:06, 11.20s/it]"
          ]
        },
        {
          "output_type": "stream",
          "name": "stdout",
          "text": [
            "Lexikologie **German:**  \n",
            "Lexikologie ist ein Teilgebiet der Linguistik, das sich mit der Erforschung des Wortschatzes einer Sprache beschäftigt. Sie untersucht die Struktur, Entstehung, Bedeutung und Entwicklung von Wörtern sowie deren Beziehungen zueinander. Ein zentraler Aspekt ist die Analyse von Lexemen, Wortfamilien, Synonymen, Antonymen und der historischen Veränderung des Vokabulars. Die Lexikologie bildet die theoretische Grundlage für die Lexikografie, die sich mit der Erstellung von Wörterbüchern befasst.\n",
            "\n",
            "**English:**  \n",
            "Lexicology is a branch of linguistics that focuses on the study of the vocabulary of a language. It examines the structure, origin, meaning, and evolution of words, as well as their relationships with one another. Key aspects include the analysis of lexemes, word families, synonyms, antonyms, and the historical changes in vocabulary. Lexicology provides the theoretical foundation for lexicography, which deals with the compilation of dictionaries.\n"
          ]
        },
        {
          "output_type": "stream",
          "name": "stderr",
          "text": [
            "\r 50%|█████     | 174/345 [55:58<30:09, 10.58s/it]"
          ]
        },
        {
          "output_type": "stream",
          "name": "stdout",
          "text": [
            "Namenkunde **Deutsch:**  \n",
            "Namenkunde, auch Onomastik genannt, ist die wissenschaftliche Disziplin, die sich mit der Erforschung von Namen beschäftigt. Sie untersucht die Herkunft, Bedeutung, Verbreitung und Entwicklung von Personen-, Orts- und anderen Eigennamen. Die Namenkunde verbindet dabei Methoden aus Sprachwissenschaft, Geschichte, Geographie und Kulturwissenschaft, um die Rolle von Namen in verschiedenen Gesellschaften und Zeitepochen zu verstehen.\n",
            "\n",
            "**English:**  \n",
            "Namenkunde, also known as onomastics, is the scholarly discipline dedicated to the study of names. It explores the origin, meaning, distribution, and evolution of personal names, place names, and other proper names. Onomastics integrates methods from linguistics, history, geography, and cultural studies to understand the role of names in different societies and historical periods.\n"
          ]
        },
        {
          "output_type": "stream",
          "name": "stderr",
          "text": [
            "\r 51%|█████     | 175/345 [58:35<2:34:36, 54.57s/it]"
          ]
        },
        {
          "output_type": "stream",
          "name": "stdout",
          "text": [
            "Fachsprache **German:**  \n",
            "Fachsprache bezeichnet die spezialisierte Sprache, die in einem bestimmten Beruf, einer Wissenschaft oder einem Fachgebiet verwendet wird. Sie zeichnet sich durch präzise Begriffe, Fachtermini und eine klare Struktur aus, die es Experten ermöglicht, komplexe Sachverhalte effizient zu kommunizieren. Beispiele sind Medizinersprache, Juristendeutsch oder technische Fachsprachen.\n",
            "\n",
            "**English:**  \n",
            "Fachsprache, or specialized language, refers to the specific terminology and linguistic style used within a particular profession, science, or field of study. It is characterized by precise terms, technical jargon, and a clear structure, enabling experts to communicate complex ideas efficiently. Examples include medical terminology, legal language, or technical jargon.\n"
          ]
        },
        {
          "output_type": "stream",
          "name": "stderr",
          "text": [
            "\r 51%|█████     | 176/345 [58:46<1:56:52, 41.49s/it]"
          ]
        },
        {
          "output_type": "stream",
          "name": "stdout",
          "text": [
            "Anonymes Werk als Sprachdenkmal **German:**  \n",
            "Das Thema „Anonymes Werk als Sprachdenkmal“ untersucht anonyme literarische oder sprachliche Werke, die als bedeutende Zeugnisse der Sprachgeschichte und Kultur betrachtet werden. Es geht darum, wie diese Werke, deren Urheber unbekannt sind, Einblicke in die Entwicklung von Sprache, Stil und gesellschaftlichen Normen ihrer Zeit bieten. Dabei werden oft Fragen nach Authentizität, Überlieferung und dem Einfluss auf spätere Generationen behandelt.\n",
            "\n",
            "**English:**  \n",
            "The subject \"Anonymous Work as a Linguistic Monument\" explores anonymous literary or linguistic works that are regarded as significant testimonies of language history and culture. It focuses on how these works, whose creators are unknown, provide insights into the development of language, style, and societal norms of their time. The topic often addresses questions of authenticity, transmission, and the influence of these works on later generations.\n"
          ]
        },
        {
          "output_type": "stream",
          "name": "stderr",
          "text": [
            "\r 51%|█████▏    | 177/345 [59:15<1:45:29, 37.68s/it]"
          ]
        },
        {
          "output_type": "stream",
          "name": "stdout",
          "text": [
            "Allgemeine Literaturwissenschaft **Deutsch:**  \n",
            "Allgemeine Literaturwissenschaft ist ein Fachbereich, der sich mit der theoretischen und methodischen Erforschung von Literatur in ihren vielfältigen Erscheinungsformen beschäftigt. Es umfasst die Analyse von Texten, literarischen Gattungen, Erzähltechniken, Stilmitteln sowie die Untersuchung von Literatur im kulturellen, historischen und sozialen Kontext. Im Gegensatz zu spezifischen Philologien (z. B. Germanistik oder Romanistik) betrachtet die Allgemeine Literaturwissenschaft Literatur übergreifend und interdisziplinär und bezieht dabei oft philosophische, linguistische und kulturwissenschaftliche Ansätze ein.\n",
            "\n",
            "**English:**  \n",
            "General Literary Studies is an academic discipline that focuses on the theoretical and methodological exploration of literature in its diverse forms. It encompasses the analysis of texts, literary genres, narrative techniques, stylistic devices, and the examination of literature within cultural, historical, and social contexts. Unlike specific philologies (e.g., German Studies or Romance Studies), General Literary Studies takes a broad and interdisciplinary approach to literature, often incorporating philosophical, linguistic, and cultural studies perspectives.\n"
          ]
        },
        {
          "output_type": "stream",
          "name": "stderr",
          "text": [
            "\r 52%|█████▏    | 178/345 [59:26<1:22:45, 29.73s/it]"
          ]
        },
        {
          "output_type": "stream",
          "name": "stdout",
          "text": [
            "Literarisches Leben **German:**  \n",
            "Das Fach \"Literarisches Leben\" beschäftigt sich mit der Untersuchung und Analyse der Dynamiken, Strukturen und Akteure des literarischen Feldes. Es umfasst die Entstehung, Verbreitung und Rezeption von Literatur sowie die sozialen, kulturellen und institutionellen Rahmenbedingungen, die das literarische Schaffen und Leben prägen. Themen wie literarische Netzwerke, Verlags- und Medienlandschaft, literarische Öffentlichkeit und die Rolle von Autorinnen und Autoren werden dabei beleuchtet.\n",
            "\n",
            "**English:**  \n",
            "The subject \"Literarisches Leben\" (Literary Life) focuses on the study and analysis of the dynamics, structures, and key players within the literary field. It encompasses the creation, dissemination, and reception of literature, as well as the social, cultural, and institutional frameworks that shape literary production and life. Topics such as literary networks, publishing and media landscapes, literary public spheres, and the role of authors are explored in this discipline.\n"
          ]
        },
        {
          "output_type": "stream",
          "name": "stderr",
          "text": [
            "\r 52%|█████▏    | 179/345 [59:44<1:12:58, 26.38s/it]"
          ]
        },
        {
          "output_type": "stream",
          "name": "stdout",
          "text": [
            "Literaturgeschichte **German:**  \n",
            "Literaturgeschichte ist das akademische Fach, das sich mit der Entwicklung der Literatur im historischen Kontext beschäftigt. Es untersucht literarische Werke, Strömungen, Autoren und deren Einflüsse in verschiedenen Epochen, Kulturen und Gesellschaften. Ziel ist es, die Bedeutung und den Wandel literarischer Formen, Themen und Stile im Laufe der Zeit zu verstehen und zu analysieren.\n",
            "\n",
            "**English:**  \n",
            "Literary history is the academic discipline that explores the development of literature within its historical context. It examines literary works, movements, authors, and their influences across different eras, cultures, and societies. The aim is to understand and analyze the significance and evolution of literary forms, themes, and styles over time.\n"
          ]
        },
        {
          "output_type": "stream",
          "name": "stderr",
          "text": [
            "\r 52%|█████▏    | 180/345 [1:00:05<1:08:03, 24.75s/it]"
          ]
        },
        {
          "output_type": "stream",
          "name": "stdout",
          "text": [
            "Anonyme literarische Werke **German Description:**  \n",
            "Das Fach \"Anonyme literarische Werke\" befasst sich mit Texten, deren Autorenschaft unbekannt oder nicht eindeutig zuzuordnen ist. Es untersucht die Entstehungsgeschichte, Überlieferung und Rezeption dieser Werke sowie deren Bedeutung in der Literaturgeschichte. Besonderes Augenmerk liegt auf der Analyse stilistischer Merkmale, historischer Kontexte und möglicher Hinweise auf die Identität der Verfasser.\n",
            "\n",
            "**English Description:**  \n",
            "The subject \"Anonymous Literary Works\" deals with texts whose authorship is unknown or cannot be clearly attributed. It explores the origins, transmission, and reception of these works, as well as their significance in literary history. Special attention is given to analyzing stylistic features, historical contexts, and potential clues to the identity of the authors.\n"
          ]
        },
        {
          "output_type": "stream",
          "name": "stderr",
          "text": [
            "\r 52%|█████▏    | 181/345 [1:00:13<53:33, 19.59s/it]  "
          ]
        },
        {
          "output_type": "stream",
          "name": "stdout",
          "text": [
            "Personen zu Literaturgeschichte (Schriftsteller) **German:**  \n",
            "Das Fach *Personen zu Literaturgeschichte (Schriftsteller)* befasst sich mit bedeutenden Autoren und deren Einfluss auf die Entwicklung der Literatur. Es untersucht ihr Leben, ihre Werke und ihren Beitrag zu literarischen Bewegungen, Epochen und Stilen. Ziel ist es, ein Verständnis für die Zusammenhänge zwischen individuellen Schriftstellern und der literarischen Geschichte zu entwickeln.\n",
            "\n",
            "**English:**  \n",
            "The subject *Persons in Literary History (Writers)* focuses on significant authors and their impact on the evolution of literature. It explores their lives, works, and contributions to literary movements, eras, and styles. The aim is to develop an understanding of the connections between individual writers and the broader context of literary history.\n"
          ]
        },
        {
          "output_type": "stream",
          "name": "stderr",
          "text": [
            "\r 53%|█████▎    | 182/345 [1:00:24<46:24, 17.08s/it]"
          ]
        },
        {
          "output_type": "stream",
          "name": "stdout",
          "text": [
            "Literaturgattung **German:**  \n",
            "Die 'Literaturgattung' bezieht sich auf die Einteilung von literarischen Werken in verschiedene Kategorien oder Genres basierend auf formalen, inhaltlichen oder strukturellen Merkmalen. Die drei Hauptgattungen sind Epik, Lyrik und Dramatik, die jeweils unterschiedliche Ausdrucksformen und Erzählweisen umfassen. Die Klassifizierung in Gattungen hilft dabei, literarische Texte zu analysieren, zu verstehen und in einen historischen oder kulturellen Kontext einzuordnen.\n",
            "\n",
            "**English:**  \n",
            "'Literaturgattung' (literary genre) refers to the classification of literary works into different categories or genres based on formal, thematic, or structural characteristics. The three main genres are epic (narrative), lyric, and drama, each encompassing distinct forms of expression and narrative styles. Classifying literature into genres aids in analyzing, understanding, and contextualizing texts within their historical or cultural framework.\n"
          ]
        },
        {
          "output_type": "stream",
          "name": "stderr",
          "text": [
            "\r 53%|█████▎    | 183/345 [1:00:36<41:37, 15.42s/it]"
          ]
        },
        {
          "output_type": "stream",
          "name": "stdout",
          "text": [
            "Literarische Motive, Stoffe, Gestalten **German Description:**  \n",
            "Das Fach \"Literarische Motive, Stoffe, Gestalten\" beschäftigt sich mit der Analyse und Interpretation wiederkehrender Themen, Stoffe und Figuren in der Literatur. Es untersucht, wie bestimmte Motive (z.B. Liebe, Tod, Heldentum) und archetypische Gestalten (z.B. der Held, der Bösewicht) in verschiedenen literarischen Werken und Epochen dargestellt und variiert werden. Dabei werden auch kulturhistorische und intertextuelle Bezüge beleuchtet, um die Entwicklung und Bedeutung dieser Elemente in der Literaturgeschichte zu verstehen.\n",
            "\n",
            "**English Description:**  \n",
            "The subject \"Literary Motifs, Themes, and Characters\" focuses on the analysis and interpretation of recurring themes, subjects, and figures in literature. It explores how specific motifs (e.g., love, death, heroism) and archetypal characters (e.g., the hero, the villain) are portrayed and varied across different literary works and periods. The study also examines cultural-historical and intertextual connections to understand the evolution and significance of these elements in literary history.\n"
          ]
        },
        {
          "output_type": "stream",
          "name": "stderr",
          "text": [
            "\r 53%|█████▎    | 184/345 [1:01:28<1:11:10, 26.52s/it]"
          ]
        },
        {
          "output_type": "stream",
          "name": "stdout",
          "text": [
            "Personen als literarisches Motiv **Deutsch:**  \n",
            "Das Fach „Personen als literarisches Motiv“ untersucht die Darstellung und Funktion von Figuren in der Literatur. Es beleuchtet, wie Charaktere als Träger von Handlung, Symbolik oder Ideen gestaltet werden und welche Rolle sie in der narrativen Struktur spielen. Dabei werden archetypische, historische oder kulturell geprägte Figuren analysiert, um deren Bedeutung und Einfluss auf den literarischen Text zu verstehen.  \n",
            "\n",
            "**English:**  \n",
            "The subject \"Persons as a Literary Motif\" explores the portrayal and function of characters in literature. It examines how characters are crafted as carriers of plot, symbolism, or ideas and their role within the narrative structure. Archetypal, historical, or culturally shaped figures are analyzed to understand their significance and impact on the literary text.\n"
          ]
        },
        {
          "output_type": "stream",
          "name": "stderr",
          "text": [
            "\r 54%|█████▎    | 185/345 [1:01:40<59:09, 22.18s/it]  "
          ]
        },
        {
          "output_type": "stream",
          "name": "stdout",
          "text": [
            "Geografische Namen als literarisches Motiv **German:**  \n",
            "\"Geografische Namen als literarisches Motiv\" untersucht die Verwendung und Bedeutung von Ortsnamen in der Literatur. Dabei wird analysiert, wie geografische Bezeichnungen als Stilmittel, Symbol oder kultureller Verweis fungieren und welche Rolle sie bei der Schaffung von Atmosphäre, Identität oder Handlungsrahmen spielen. Das Thema verbindet literaturwissenschaftliche Ansätze mit geografischen und kulturhistorischen Perspektiven.\n",
            "\n",
            "**English:**  \n",
            "\"Geographical Names as a Literary Motif\" explores the use and significance of place names in literature. It examines how geographical designations function as stylistic devices, symbols, or cultural references, and the role they play in creating atmosphere, identity, or narrative frameworks. The subject combines literary studies with geographical and cultural-historical perspectives.\n"
          ]
        },
        {
          "output_type": "stream",
          "name": "stderr",
          "text": [
            "\r 54%|█████▍    | 186/345 [1:01:48<46:56, 17.71s/it]"
          ]
        },
        {
          "output_type": "stream",
          "name": "stdout",
          "text": [
            "Bildende Kunst **German:**  \n",
            "\"Bildende Kunst\" umfasst die künstlerischen Disziplinen wie Malerei, Skulptur, Grafik, Fotografie und Installationen, bei denen visuelle und räumliche Gestaltung im Vordergrund steht. Sie beschäftigt sich mit der kreativen Darstellung von Ideen, Emotionen und Konzepten durch verschiedene Materialien und Techniken.  \n",
            "\n",
            "**English:**  \n",
            "\"Bildende Kunst\" (Visual Arts) encompasses artistic disciplines such as painting, sculpture, graphic arts, photography, and installations, focusing on visual and spatial design. It explores the creative expression of ideas, emotions, and concepts through various materials and techniques.\n"
          ]
        },
        {
          "output_type": "stream",
          "name": "stderr",
          "text": [
            "\r 54%|█████▍    | 187/345 [1:01:55<38:27, 14.60s/it]"
          ]
        },
        {
          "output_type": "stream",
          "name": "stdout",
          "text": [
            "Kunstgeschichte **Deutsch:**  \n",
            "Kunstgeschichte ist die wissenschaftliche Disziplin, die sich mit der Erforschung und Analyse von Kunstwerken, ihrer Entstehung, Entwicklung und Bedeutung im historischen und kulturellen Kontext beschäftigt. Sie umfasst verschiedene Epochen, Stile und Kulturen von der Antike bis zur Gegenwart und untersucht dabei Malerei, Skulptur, Architektur und andere künstlerische Ausdrucksformen.  \n",
            "\n",
            "**English:**  \n",
            "Art history is the academic discipline that focuses on the study and analysis of artworks, their creation, development, and significance within historical and cultural contexts. It encompasses various periods, styles, and cultures from antiquity to the present, examining painting, sculpture, architecture, and other forms of artistic expression.\n"
          ]
        },
        {
          "output_type": "stream",
          "name": "stderr",
          "text": [
            "\r 54%|█████▍    | 188/345 [1:02:12<40:01, 15.29s/it]"
          ]
        },
        {
          "output_type": "stream",
          "name": "stdout",
          "text": [
            "Sachliche Motive in der Kunst **Deutsch:**  \n",
            "\"*Sachliche Motive in der Kunst*\" bezieht sich auf die Darstellung realer, gegenständlicher Objekte oder Themen in künstlerischen Werken. Im Gegensatz zu abstrakten oder symbolischen Motiven liegt der Fokus hier auf der präzisen und detaillierten Wiedergabe von Gegenständen, Szenen oder Konzepten aus der realen Welt. Diese Motive können Alltagsgegenstände, Natur, Architektur oder sogar technische Elemente umfassen und sind oft in Stilen wie dem Realismus, der Neuen Sachlichkeit oder der Fotografie zu finden.  \n",
            "\n",
            "**English:**  \n",
            "\"*Sachliche Motive in der Kunst*\" (Objective Motives in Art) refers to the depiction of real, tangible objects or themes in artistic works. In contrast to abstract or symbolic motifs, the focus here is on the precise and detailed representation of objects, scenes, or concepts from the real world. These motifs can include everyday objects, nature, architecture, or even technical elements and are often found in styles such as Realism, New Objectivity, or photography.\n"
          ]
        },
        {
          "output_type": "stream",
          "name": "stderr",
          "text": [
            "\r 55%|█████▍    | 189/345 [1:02:22<35:47, 13.77s/it]"
          ]
        },
        {
          "output_type": "stream",
          "name": "stdout",
          "text": [
            "Personen als künstlerisches Motiv **German:**  \n",
            "\"Personen als künstlerisches Motiv\" ist ein Themengebiet, das sich mit der Darstellung von Individuen in verschiedenen Kunstformen beschäftigt. Es untersucht, wie Künstlerinnen und Künstler menschliche Figuren in Malerei, Skulptur, Fotografie und anderen Medien interpretieren und gestalten. Dabei werden Aspekte wie Porträtkunst, symbolische Repräsentationen, soziale und kulturelle Kontexte sowie die Beziehung zwischen Künstler und Modell beleuchtet.\n",
            "\n",
            "**English:**  \n",
            "\"Persons as an Artistic Motif\" is a subject area that focuses on the portrayal of individuals in various art forms. It explores how artists interpret and depict human figures in painting, sculpture, photography, and other media. The study examines aspects such as portraiture, symbolic representations, social and cultural contexts, and the relationship between the artist and the subject.\n"
          ]
        },
        {
          "output_type": "stream",
          "name": "stderr",
          "text": [
            "\r 55%|█████▌    | 190/345 [1:05:58<3:12:12, 74.40s/it]"
          ]
        },
        {
          "output_type": "stream",
          "name": "stdout",
          "text": [
            "Geografische Namen als künstlerisches Motiv **Deutsch:**  \n",
            "Das Thema „Geografische Namen als künstlerisches Motiv“ untersucht die Verwendung von Ortsnamen in Kunstwerken, sei es in der Literatur, Malerei, Musik oder anderen künstlerischen Ausdrucksformen. Es analysiert, wie geografische Namen Symbolik, Emotionen oder kulturelle Identitäten vermitteln und welche Rolle sie als Inspirationsquelle oder als Mittel zur Schaffung von Atmosphäre spielen. Dabei wird auch die Wechselwirkung zwischen Raum, Identität und künstlerischer Darstellung erforscht.\n",
            "\n",
            "**English:**  \n",
            "The subject “Geographic Names as an Artistic Motif” explores the use of place names in artworks, whether in literature, painting, music, or other artistic expressions. It analyzes how geographic names convey symbolism, emotions, or cultural identities and their role as a source of inspiration or a means of creating atmosphere. The interaction between space, identity, and artistic representation is also examined.\n"
          ]
        },
        {
          "output_type": "stream",
          "name": "stderr",
          "text": [
            "\r 55%|█████▌    | 191/345 [1:06:05<2:19:02, 54.17s/it]"
          ]
        },
        {
          "output_type": "stream",
          "name": "stdout",
          "text": [
            "Plastik **German:**  \n",
            "\"Plastik\" bezieht sich auf ein vielseitiges Material, das aus synthetischen oder halbsynthetischen Polymeren besteht und in zahlreichen Formen und Anwendungen verwendet wird. Es ist leicht, langlebig und kann in verschiedene Formen gebracht werden, was es zu einem wichtigen Bestandteil in Industrie, Haushalt und Kunst macht. Plastik ist jedoch auch umstritten, da es Umweltprobleme wie Verschmutzung und nicht abbaubare Abfälle verursacht.\n",
            "\n",
            "**English:**  \n",
            "\"Plastic\" refers to a versatile material made from synthetic or semi-synthetic polymers, used in a wide range of forms and applications. It is lightweight, durable, and can be molded into various shapes, making it a crucial component in industry, household, and art. However, plastic is also controversial due to its environmental impact, including pollution and non-biodegradable waste.\n"
          ]
        },
        {
          "output_type": "stream",
          "name": "stderr",
          "text": [
            "\r 56%|█████▌    | 192/345 [1:06:11<1:41:05, 39.65s/it]"
          ]
        },
        {
          "output_type": "stream",
          "name": "stdout",
          "text": [
            "Personen zu Plastik **German:**  \n",
            "\"Personen zu Plastik\" ist ein Thema, das sich mit der Transformation oder Darstellung von menschlichen Figuren in Kunstwerken aus Plastik oder anderen synthetischen Materialien beschäftigt. Es untersucht die künstlerischen, kulturellen und technischen Aspekte dieser Darstellungen sowie ihre Bedeutung in der modernen und zeitgenössischen Kunst.\n",
            "\n",
            "**English:**  \n",
            "\"Persons to Plastic\" is a subject that deals with the transformation or representation of human figures in artworks made of plastic or other synthetic materials. It explores the artistic, cultural, and technical aspects of these representations, as well as their significance in modern and contemporary art.\n"
          ]
        },
        {
          "output_type": "stream",
          "name": "stderr",
          "text": [
            "\r 56%|█████▌    | 193/345 [1:06:18<1:15:47, 29.92s/it]"
          ]
        },
        {
          "output_type": "stream",
          "name": "stdout",
          "text": [
            "Malerei **German:**  \n",
            "Malerei ist eine der bildenden Künste, bei der Farben und andere Materialien auf einer Fläche wie Leinwand, Papier oder Holz aufgetragen werden, um visuelle Kunstwerke zu schaffen. Sie umfasst verschiedene Stile, Techniken und Epochen, von der realistischen Darstellung bis zur abstrakten Expression. Malerei dient als Ausdrucksmittel für Künstler, um Emotionen, Ideen und Geschichten zu vermitteln.\n",
            "\n",
            "**English:**  \n",
            "Painting is one of the visual arts, involving the application of colors and other materials onto a surface such as canvas, paper, or wood to create visual artworks. It encompasses various styles, techniques, and eras, ranging from realistic representation to abstract expression. Painting serves as a medium for artists to convey emotions, ideas, and narratives.\n"
          ]
        },
        {
          "output_type": "stream",
          "name": "stderr",
          "text": [
            "\r 56%|█████▌    | 194/345 [1:06:43<1:11:53, 28.56s/it]"
          ]
        },
        {
          "output_type": "stream",
          "name": "stdout",
          "text": [
            "Zeichnung, Grafik **German:**  \n",
            "Das Fach 'Zeichnung, Grafik' befasst sich mit den künstlerischen Techniken des Zeichnens und der grafischen Gestaltung. Es umfasst sowohl traditionelle handwerkliche Methoden als auch digitale Verfahren. Studierende lernen, visuelle Aussagen zu entwickeln, Kompositionen zu gestalten und verschiedene Materialien und Werkzeuge einzusetzen. Das Fach fördert die kreative Ausdrucksfähigkeit und das Verständnis für ästhetische Prinzipien.\n",
            "\n",
            "**English:**  \n",
            "The subject 'Drawing, Graphic Art' focuses on the artistic techniques of drawing and graphic design. It encompasses both traditional manual methods and digital processes. Students learn to develop visual statements, create compositions, and use various materials and tools. The subject enhances creative expression and understanding of aesthetic principles.\n"
          ]
        },
        {
          "output_type": "stream",
          "name": "stderr",
          "text": [
            "\r 57%|█████▋    | 195/345 [1:08:41<2:18:20, 55.33s/it]"
          ]
        },
        {
          "output_type": "stream",
          "name": "stdout",
          "text": [
            "Fotografie **Deutsch:**  \n",
            "Fotografie ist die Kunst und Wissenschaft der Erzeugung von Bildern durch die Aufnahme von Licht auf lichtempfindlichen Materialien oder digitalen Sensoren. Sie umfasst verschiedene Techniken, Stile und Genres wie Porträt-, Landschafts-, Architektur- und Dokumentarfotografie. Fotografie dient sowohl als künstlerisches Ausdrucksmittel als auch als Werkzeug zur Dokumentation und Kommunikation.\n",
            "\n",
            "**English:**  \n",
            "Photography is the art and science of creating images by capturing light on light-sensitive materials or digital sensors. It encompasses various techniques, styles, and genres such as portrait, landscape, architecture, and documentary photography. Photography serves both as a means of artistic expression and as a tool for documentation and communication.\n"
          ]
        },
        {
          "output_type": "stream",
          "name": "stderr",
          "text": [
            "\r 57%|█████▋    | 196/345 [1:09:08<1:56:10, 46.78s/it]"
          ]
        },
        {
          "output_type": "stream",
          "name": "stdout",
          "text": [
            "Kunsthandwerk **German:**  \n",
            "Kunsthandwerk bezeichnet die handwerkliche Herstellung von Objekten, die sowohl künstlerisch als auch funktional sind. Es verbindet traditionelle Handwerkstechniken mit künstlerischem Ausdruck und umfasst Bereiche wie Keramik, Textilien, Schmuck, Holzverarbeitung und Glasbläserei. Kunsthandwerk betont die Einzigartigkeit und Qualität der handgefertigten Stücke im Gegensatz zur Massenproduktion.\n",
            "\n",
            "**English:**  \n",
            "Kunsthandwerk, or \"craft art,\" refers to the manual creation of objects that are both artistic and functional. It combines traditional craftsmanship with artistic expression and includes fields such as ceramics, textiles, jewelry, woodworking, and glassblowing. Kunsthandwerk emphasizes the uniqueness and quality of handmade pieces, contrasting them with mass-produced items.\n"
          ]
        },
        {
          "output_type": "stream",
          "name": "stderr",
          "text": [
            "\r 57%|█████▋    | 197/345 [1:09:46<1:49:21, 44.34s/it]"
          ]
        },
        {
          "output_type": "stream",
          "name": "stdout",
          "text": [
            "Personen zu Kunsthandwerk **German:**  \n",
            "Das Fach *Personen zu Kunsthandwerk* beschäftigt sich mit der Erforschung und Darstellung bedeutender Persönlichkeiten, die im Bereich des Kunsthandwerks tätig waren oder sind. Es beleuchtet deren Lebenswege, künstlerische Entwicklungen, Einflüsse und Beiträge zur Handwerkskunst. Dabei werden historische und zeitgenössische Künstler, Handwerker und Designer betrachtet, die durch ihre Arbeit das Kunsthandwerk geprägt haben.\n",
            "\n",
            "**English:**  \n",
            "The subject *Persons in Craftsmanship* focuses on the study and representation of significant individuals who have been active in the field of arts and crafts. It examines their life paths, artistic developments, influences, and contributions to craftwork. The subject covers both historical and contemporary artists, craftsmen, and designers who have shaped the world of craftsmanship through their work.\n"
          ]
        },
        {
          "output_type": "stream",
          "name": "stderr",
          "text": [
            "\r 57%|█████▋    | 198/345 [1:09:55<1:22:27, 33.66s/it]"
          ]
        },
        {
          "output_type": "stream",
          "name": "stdout",
          "text": [
            "Neue Formen der Kunst **Deutsch:**  \n",
            "\"Neue Formen der Kunst\" beschäftigt sich mit innovativen und experimentellen Ausdrucksweisen in der Kunst, die traditionelle Grenzen überschreiten. Dabei werden zeitgenössische Techniken, Medien und Konzepte erforscht, die sich mit gesellschaftlichen, technologischen und kulturellen Entwicklungen auseinandersetzen. Der Fokus liegt auf der Entstehung neuer künstlerischer Praktiken, die interdisziplinär und oft interaktiv sind.\n",
            "\n",
            "**English:**  \n",
            "\"Neue Formen der Kunst\" (New Forms of Art) explores innovative and experimental artistic expressions that transcend traditional boundaries. It delves into contemporary techniques, media, and concepts that engage with societal, technological, and cultural developments. The focus is on the emergence of new artistic practices that are often interdisciplinary and interactive in nature.\n"
          ]
        },
        {
          "output_type": "stream",
          "name": "stderr",
          "text": [
            "\r 58%|█████▊    | 199/345 [1:10:05<1:04:34, 26.54s/it]"
          ]
        },
        {
          "output_type": "stream",
          "name": "stdout",
          "text": [
            "Musik (Allgemeines), Musikgeschichte **Deutsch:**  \n",
            "Das Fach \"Musik (Allgemeines), Musikgeschichte\" befasst sich mit der umfassenden Erforschung und Darstellung von Musik in ihren vielfältigen Erscheinungsformen. Es umfasst sowohl die theoretischen Grundlagen der Musik als auch ihre historische Entwicklung von den Anfängen bis zur Gegenwart. Dabei werden kulturelle, gesellschaftliche und technologische Einflüsse auf die Musik untersucht, um ein vertieftes Verständnis für ihre Rolle und Bedeutung in verschiedenen Epochen und Kulturen zu schaffen.\n",
            "\n",
            "**English:**  \n",
            "The subject \"Music (General), Music History\" focuses on the comprehensive study and representation of music in its diverse forms. It includes both the theoretical foundations of music and its historical development from its origins to the present day. The field examines cultural, social, and technological influences on music to foster a deeper understanding of its role and significance across different eras and cultures.\n"
          ]
        },
        {
          "output_type": "stream",
          "name": "stderr",
          "text": [
            "\r 58%|█████▊    | 200/345 [1:10:21<56:43, 23.48s/it]  "
          ]
        },
        {
          "output_type": "stream",
          "name": "stdout",
          "text": [
            "Musikalische Form, Musikgattung **German:**  \n",
            "Das Fach 'Musikalische Form, Musikgattung' beschäftigt sich mit der Struktur, dem Aufbau und der Gestaltung von Musikstücken sowie den verschiedenen Gattungen und Genres in der Musik. Es untersucht, wie musikalische Elemente wie Themen, Motive, Sätze und Formen (z. B. Sonatenform, Rondo, Fuge) organisiert sind und wie sich diese im historischen und kulturellen Kontext entwickeln. Zudem werden unterschiedliche Musikgattungen wie Sinfonie, Oper, Kammermusik oder Lied analysiert und in ihren spezifischen Merkmalen und Funktionen beleuchtet.\n",
            "\n",
            "**English:**  \n",
            "The subject 'Musical Form, Music Genre' focuses on the structure, composition, and design of musical pieces, as well as the various genres and categories in music. It explores how musical elements such as themes, motifs, movements, and forms (e.g., sonata form, rondo, fugue) are organized and how they evolve within historical and cultural contexts. Additionally, different music genres like symphonies, operas, chamber music, or songs are analyzed, highlighting their specific characteristics and functions.\n"
          ]
        },
        {
          "output_type": "stream",
          "name": "stderr",
          "text": [
            "\r 58%|█████▊    | 201/345 [1:10:32<47:22, 19.74s/it]"
          ]
        },
        {
          "output_type": "stream",
          "name": "stdout",
          "text": [
            "Musikinstrumentenkunde, Musikinstrumentenbau **Deutsch:**  \n",
            "Musikinstrumentenkunde und Musikinstrumentenbau sind Fachgebiete, die sich mit der Erforschung, Klassifikation, Herstellung und Geschichte von Musikinstrumenten befassen. Die Musikinstrumentenkunde (Organologie) untersucht die Bauweise, Funktion und Klangerzeugung von Instrumenten, während der Musikinstrumentenbau die handwerkliche und technische Konstruktion sowie die Restauration von Instrumenten umfasst. Beide Disziplinen verbinden musikwissenschaftliche, handwerkliche und historische Aspekte.\n",
            "\n",
            "**English:**  \n",
            "Musikinstrumentenkunde and Musikinstrumentenbau are academic fields focused on the study, classification, construction, and history of musical instruments. Musikinstrumentenkunde (organology) explores the design, function, and sound production of instruments, while Musikinstrumentenbau involves the craftsmanship, technical construction, and restoration of instruments. Both disciplines combine musicological, artisanal, and historical perspectives.\n"
          ]
        },
        {
          "output_type": "stream",
          "name": "stderr",
          "text": [
            "\r 59%|█████▊    | 202/345 [1:10:42<39:48, 16.70s/it]"
          ]
        },
        {
          "output_type": "stream",
          "name": "stdout",
          "text": [
            "Systematische und Angewandte Musikwissenschaft **German:**  \n",
            "'Systematische und Angewandte Musikwissenschaft' ist ein Fachbereich, der sich mit der theoretischen Erforschung und praktischen Anwendung von Musik beschäftigt. Die systematische Musikwissenschaft untersucht musikbezogene Phänomene aus interdisziplinärer Perspektive, unter Einbeziehung von Psychologie, Akustik, Soziologie und anderen Wissenschaften. Die angewandte Musikwissenschaft konzentriert sich auf die praktische Umsetzung dieses Wissens in Bereichen wie Musikpädagogik, Musiktherapie, Musiktechnologie und Kulturmanagement.  \n",
            "\n",
            "**English:**  \n",
            "'Systematic and Applied Musicology' is a field that focuses on the theoretical study and practical application of music. Systematic musicology explores music-related phenomena from an interdisciplinary perspective, incorporating psychology, acoustics, sociology, and other sciences. Applied musicology emphasizes the practical implementation of this knowledge in areas such as music education, music therapy, music technology, and cultural management.\n"
          ]
        },
        {
          "output_type": "stream",
          "name": "stderr",
          "text": [
            "\r 59%|█████▉    | 203/345 [1:10:49<32:44, 13.84s/it]"
          ]
        },
        {
          "output_type": "stream",
          "name": "stdout",
          "text": [
            "Personen zu Musik **German:**  \n",
            "Das Fach 'Personen zu Musik' beschäftigt sich mit der Beziehung zwischen Individuen und Musik. Es untersucht, wie Menschen Musik erleben, interpretieren und gestalten, sowie den Einfluss von Musik auf Persönlichkeit, Kultur und Gesellschaft. Themen können historische Persönlichkeiten, Komponisten, Interpreten oder die Rolle des Publikums umfassen.\n",
            "\n",
            "**English:**  \n",
            "The subject 'Persons and Music' explores the relationship between individuals and music. It examines how people experience, interpret, and create music, as well as the influence of music on personality, culture, and society. Topics may include historical figures, composers, performers, or the role of the audience.\n"
          ]
        },
        {
          "output_type": "stream",
          "name": "stderr",
          "text": [
            "\r 59%|█████▉    | 204/345 [1:11:04<32:49, 13.97s/it]"
          ]
        },
        {
          "output_type": "stream",
          "name": "stdout",
          "text": [
            "Theater, Tanz **Deutsch:**  \n",
            "\"Das Fach 'Theater, Tanz' befasst sich mit den künstlerischen Ausdrucksformen des Schauspiels und der Bewegung. Es umfasst die theoretische und praktische Auseinandersetzung mit Dramaturgie, Choreografie, Performance und historischen sowie zeitgenössischen Entwicklungen in diesen Bereichen. Studierende erlernen Techniken der Darstellung, Inszenierung und Interpretation, um kreative und innovative Produktionen zu gestalten.\"\n",
            "\n",
            "**English:**  \n",
            "\"The subject 'Theater, Dance' explores the artistic expressions of theater and movement. It encompasses both theoretical and practical engagement with dramaturgy, choreography, performance, and historical as well as contemporary developments in these fields. Students learn techniques of acting, directing, and interpretation to create creative and innovative productions.\"\n"
          ]
        },
        {
          "output_type": "stream",
          "name": "stderr",
          "text": [
            "\r 59%|█████▉    | 205/345 [1:11:34<44:06, 18.90s/it]"
          ]
        },
        {
          "output_type": "stream",
          "name": "stdout",
          "text": [
            "Kabarett, Zirkus, Varieté **German Description:**  \n",
            "\"Kabarett, Zirkus, Varieté\" sind drei eigenständige, aber eng verwandte Formen der darstellenden Kunst. Das **Kabarett** zeichnet sich durch satirische, politische oder gesellschaftskritische Inhalte aus, oft kombiniert mit Musik und humorvollen Elementen. Der **Zirkus** ist geprägt von artistischen Darbietungen wie Akrobatik, Clownerie und Tierdressuren, die in einer spektakulären Show präsentiert werden. Das **Varieté** vereint verschiedene Unterhaltungsformen wie Tanz, Gesang, Magie und Comedy in einem abwechslungsreichen Programm. Alle drei Genres bieten eine Mischung aus Unterhaltung, Kunst und sozialer Reflexion.\n",
            "\n",
            "**English Description:**  \n",
            "\"Kabarett, Zirkus, Varieté\" are three distinct but closely related forms of performing arts. **Kabarett** is characterized by satirical, political, or socially critical content, often combined with music and humorous elements. The **circus** is defined by artistic performances such as acrobatics, clowning, and animal acts, presented in a spectacular show. **Varieté** (variety) combines different forms of entertainment like dance, singing, magic, and comedy in a diverse program. All three genres offer a mix of entertainment, art, and social reflection.\n"
          ]
        },
        {
          "output_type": "stream",
          "name": "stderr",
          "text": [
            "\r 60%|█████▉    | 206/345 [1:11:41<35:45, 15.44s/it]"
          ]
        },
        {
          "output_type": "stream",
          "name": "stdout",
          "text": [
            "Film **German:**  \n",
            "Das Fach Film befasst sich mit der Geschichte, Theorie und Praxis des Filmschaffens. Es umfasst die Analyse von Filmen, die Untersuchung filmischer Techniken sowie die Produktion eigener Filmprojekte. Studierende lernen, wie narrative Strukturen, visuelle Ästhetik und technische Aspekte wie Kameraarbeit, Schnitt und Ton zusammenwirken, um Geschichten zu erzählen und Emotionen zu vermitteln. Das Fach verbindet künstlerische, kulturelle und technische Perspektiven.\n",
            "\n",
            "**English:**  \n",
            "The subject of Film focuses on the history, theory, and practice of filmmaking. It includes the analysis of films, the study of cinematic techniques, and the production of original film projects. Students learn how narrative structures, visual aesthetics, and technical aspects such as cinematography, editing, and sound work together to tell stories and convey emotions. The subject combines artistic, cultural, and technical perspectives.\n"
          ]
        },
        {
          "output_type": "stream",
          "name": "stderr",
          "text": [
            "\r 60%|██████    | 207/345 [1:11:47<29:01, 12.62s/it]"
          ]
        },
        {
          "output_type": "stream",
          "name": "stdout",
          "text": [
            "Personen zu Film **German:**  \n",
            "Das Fach 'Personen zu Film' beschäftigt sich mit der Analyse und Interpretation der Rolle von Personen im Kontext des Films. Dabei werden sowohl Schauspieler:innen, Regisseur:innen, als auch andere Filmschaffende und ihre Beiträge zur Filmkunst untersucht. Der Fokus liegt auf der Bedeutung ihrer Arbeit, ihrem Einfluss auf die Filmgeschichte und ihrer Darstellung in verschiedenen filmischen Genres.  \n",
            "\n",
            "**English:**  \n",
            "The subject 'Persons in Film' focuses on the analysis and interpretation of the role of individuals within the context of cinema. It examines actors, directors, and other film professionals, exploring their contributions to the art of filmmaking. The emphasis is on the significance of their work, their influence on film history, and their representation across different cinematic genres.\n"
          ]
        },
        {
          "output_type": "stream",
          "name": "stderr",
          "text": [
            "\r 60%|██████    | 208/345 [1:11:56<26:25, 11.57s/it]"
          ]
        },
        {
          "output_type": "stream",
          "name": "stdout",
          "text": [
            "Rundfunk, Neue Medien **German:**  \n",
            "\"Rundfunk, Neue Medien\" ist ein akademisches Fach, das sich mit der Entwicklung, Rolle und Wirkung von Rundfunk (Radio und Fernsehen) sowie digitalen Medien in der Gesellschaft beschäftigt. Es umfasst Themen wie Medienrecht, Medienpolitik, technologische Innovationen, Mediennutzung und die Auswirkungen neuer Medien auf Kultur, Politik und Wirtschaft. Das Fach verbindet theoretische Ansätze mit praxisorientierten Analysen und bereitet Studierende auf Karrieren in der Medienbranche, Forschung oder Medienpolitik vor.\n",
            "\n",
            "**English:**  \n",
            "\"Broadcasting, New Media\" is an academic subject that explores the development, role, and impact of broadcasting (radio and television) as well as digital media in society. It covers topics such as media law, media policy, technological innovations, media usage, and the effects of new media on culture, politics, and the economy. The subject combines theoretical approaches with practical analyses and prepares students for careers in the media industry, research, or media policy.\n"
          ]
        },
        {
          "output_type": "stream",
          "name": "stderr",
          "text": [
            "\r 61%|██████    | 209/345 [1:12:16<31:48, 14.03s/it]"
          ]
        },
        {
          "output_type": "stream",
          "name": "stdout",
          "text": [
            "Personen zu Rundfunk, Neuen Medien **German:**  \n",
            "Das Fach \"Personen zu Rundfunk, Neuen Medien\" beschäftigt sich mit der Rolle und dem Einfluss von Persönlichkeiten in den Bereichen Rundfunk und digitale Medien. Es untersucht, wie Einzelpersonen – sei es als Moderatoren, Journalisten, Influencer oder Content-Creator – die Medienlandschaft prägen und welche Auswirkungen ihre Arbeit auf Gesellschaft, Kultur und Kommunikation hat. Dabei werden sowohl historische als auch aktuelle Entwicklungen betrachtet.\n",
            "\n",
            "**English:**  \n",
            "The subject \"Persons in Broadcasting and New Media\" focuses on the role and influence of individuals in the fields of broadcasting and digital media. It explores how personalities – whether as presenters, journalists, influencers, or content creators – shape the media landscape and the impact their work has on society, culture, and communication. Both historical and contemporary developments are examined.\n"
          ]
        },
        {
          "output_type": "stream",
          "name": "stderr",
          "text": [
            "\r 61%|██████    | 210/345 [1:12:36<35:08, 15.62s/it]"
          ]
        },
        {
          "output_type": "stream",
          "name": "stdout",
          "text": [
            "Geschichte (Allgemeines) **German:**  \n",
            "\"Geschichte (Allgemeines)\" befasst sich mit der Erforschung und Darstellung vergangener Ereignisse, Entwicklungen und Zusammenhänge in der menschlichen Gesellschaft. Dieser Bereich umfasst die Analyse von politischen, sozialen, wirtschaftlichen und kulturellen Aspekten über verschiedene Epochen hinweg. Ziel ist es, ein Verständnis für die Ursachen und Auswirkungen historischer Prozesse zu entwickeln und deren Einfluss auf die Gegenwart zu erfassen.\n",
            "\n",
            "**English:**  \n",
            "\"History (General)\" deals with the study and representation of past events, developments, and connections in human society. This field encompasses the analysis of political, social, economic, and cultural aspects across various eras. The aim is to develop an understanding of the causes and effects of historical processes and to comprehend their influence on the present.\n"
          ]
        },
        {
          "output_type": "stream",
          "name": "stderr",
          "text": [
            "\r 61%|██████    | 211/345 [1:12:47<31:52, 14.27s/it]"
          ]
        },
        {
          "output_type": "stream",
          "name": "stdout",
          "text": [
            "Quellen und Historische Hilfswissenschaften **German:**  \n",
            "Das Fach 'Quellen und Historische Hilfswissenschaften' beschäftigt sich mit der Erschließung, Analyse und Interpretation historischer Quellen. Es umfasst die Vermittlung von Methoden und Techniken, die zur kritischen Bearbeitung und Auswertung von Schrift-, Bild- und Sachquellen notwendig sind. Zudem werden Hilfswissenschaften wie Paläographie, Diplomatik, Chronologie, Sphragistik und Numismatik behandelt, die für die historische Forschung unverzichtbar sind. Ziel ist es, die Kompetenz im Umgang mit historischen Materialien zu fördern und ein vertieftes Verständnis für deren Kontext und Bedeutung zu entwickeln.\n",
            "\n",
            "**English:**  \n",
            "The subject 'Sources and Historical Auxiliary Sciences' focuses on the exploration, analysis, and interpretation of historical sources. It includes the teaching of methods and techniques necessary for the critical handling and evaluation of written, visual, and material sources. Additionally, auxiliary sciences such as paleography, diplomatics, chronology, sigillography, and numismatics are covered, which are essential for historical research. The aim is to enhance competence in working with historical materials and to develop a deeper understanding of their context and significance.\n"
          ]
        },
        {
          "output_type": "stream",
          "name": "stderr",
          "text": [
            "\r 61%|██████▏   | 212/345 [1:13:55<1:07:37, 30.51s/it]"
          ]
        },
        {
          "output_type": "stream",
          "name": "stdout",
          "text": [
            "Archäologie, Vor- und Frühgeschichte **German:**  \n",
            "Archäologie, Vor- und Frühgeschichte ist ein Fachgebiet, das sich mit der Erforschung der menschlichen Vergangenheit durch materielle Überreste beschäftigt. Es umfasst die Untersuchung von Kulturen und Gesellschaften von der Urgeschichte bis ins frühe Mittelalter. Dabei werden Funde wie Werkzeuge, Gebäude, Kunstwerke und Skelette analysiert, um Rückschlüsse auf Lebensweisen, Technologien und soziale Strukturen zu ziehen. Das Fach verbindet Methoden der Naturwissenschaften, Geisteswissenschaften und Sozialwissenschaften.\n",
            "\n",
            "**English:**  \n",
            "Archaeology, Prehistory, and Early History is a field of study focused on exploring the human past through material remains. It encompasses the investigation of cultures and societies from prehistory to the early Middle Ages. Artifacts such as tools, buildings, artworks, and skeletal remains are analyzed to draw conclusions about lifestyles, technologies, and social structures. The discipline combines methods from the natural sciences, humanities, and social sciences.\n"
          ]
        },
        {
          "output_type": "stream",
          "name": "stderr",
          "text": [
            "\r 62%|██████▏   | 213/345 [1:14:02<51:43, 23.51s/it]  "
          ]
        },
        {
          "output_type": "stream",
          "name": "stdout",
          "text": [
            "Geschichte überregionaler Gebiete **German Description:**  \n",
            "Das Fach „Geschichte überregionaler Gebiete“ befasst sich mit der historischen Entwicklung von Regionen, die über nationale oder lokale Grenzen hinausgehen. Es untersucht politische, kulturelle, wirtschaftliche und soziale Prozesse, die größere geografische Räume prägen, wie Kontinente, Handelsnetzwerke oder multinationale Reiche. Dabei werden transnationale Zusammenhänge und globalhistorische Perspektiven in den Vordergrund gestellt.\n",
            "\n",
            "**English Description:**  \n",
            "The subject \"History of Transregional Areas\" focuses on the historical development of regions that extend beyond national or local boundaries. It examines political, cultural, economic, and social processes that shape larger geographical areas, such as continents, trade networks, or multinational empires. The emphasis is on transnational connections and global historical perspectives.\n"
          ]
        },
        {
          "output_type": "stream",
          "name": "stderr",
          "text": [
            "\r 62%|██████▏   | 214/345 [1:14:15<44:08, 20.22s/it]"
          ]
        },
        {
          "output_type": "stream",
          "name": "stdout",
          "text": [
            "Geschichte überregionaler Gebiete: Altertum **German:**  \n",
            "Das Fach \"Geschichte überregionaler Gebiete: Altertum\" beschäftigt sich mit der Erforschung und Analyse historischer Entwicklungen, Kulturen und Zivilisationen in antiken überregionalen Räumen. Es umfasst die Untersuchung von politischen, sozialen, wirtschaftlichen und kulturellen Aspekten in Gebieten wie dem Mittelmeerraum, dem Nahen Osten, Asien oder anderen bedeutenden antiken Regionen. Der Schwerpunkt liegt auf der Analyse von Wechselwirkungen und Verbindungen zwischen verschiedenen Kulturen und Reichen in der Antike.\n",
            "\n",
            "**English:**  \n",
            "The subject \"History of Transregional Areas: Antiquity\" focuses on the study and analysis of historical developments, cultures, and civilizations in ancient transregional contexts. It encompasses the examination of political, social, economic, and cultural aspects in areas such as the Mediterranean, the Near East, Asia, or other significant ancient regions. The emphasis is on analyzing interactions and connections between different cultures and empires in antiquity.\n"
          ]
        },
        {
          "output_type": "stream",
          "name": "stderr",
          "text": [
            "\r 62%|██████▏   | 215/345 [1:15:38<1:24:33, 39.03s/it]"
          ]
        },
        {
          "output_type": "stream",
          "name": "stdout",
          "text": [
            "Geschichte überregionaler Gebiete: Mittelalter **German Description:**  \n",
            "Das Fach \"Geschichte überregionaler Gebiete: Mittelalter\" beschäftigt sich mit der historischen Entwicklung von Regionen, die über lokale oder nationale Grenzen hinausreichen, während des mittelalterlichen Zeitraums (ca. 500–1500 n. Chr.). Es untersucht politische, wirtschaftliche, soziale und kulturelle Zusammenhänge zwischen verschiedenen Gebieten, wie etwa Handelsrouten, Reiche, religiöse Netzwerke oder kulturelle Austauschprozesse. Der Fokus liegt auf der Analyse von Interaktionen und Verbindungen, die die mittelalterliche Welt geprägt haben.  \n",
            "\n",
            "**English Description:**  \n",
            "The subject \"History of Transregional Areas: Middle Ages\" focuses on the historical development of regions that extend beyond local or national boundaries during the medieval period (approx. 500–1500 AD). It explores political, economic, social, and cultural connections between different areas, such as trade routes, empires, religious networks, or cultural exchange processes. The emphasis is on analyzing the interactions and linkages that shaped the medieval world.\n"
          ]
        },
        {
          "output_type": "stream",
          "name": "stderr",
          "text": [
            "\r 63%|██████▎   | 216/345 [1:15:48<1:05:20, 30.40s/it]"
          ]
        },
        {
          "output_type": "stream",
          "name": "stdout",
          "text": [
            "Geschichte überregionaler Gebiete: Neuzeit **German:**  \n",
            "Das Fach \"Geschichte überregionaler Gebiete: Neuzeit\" beschäftigt sich mit der historischen Entwicklung von Regionen, die über die Grenzen einzelner Staaten oder Kulturen hinausgehen. Der Fokus liegt auf der Neuzeit (ca. 1500 bis zur Gegenwart) und beleuchtet politische, wirtschaftliche, soziale und kulturelle Prozesse, die überregionale Verbindungen, Konflikte und Austausch prägten. Themen können Kolonialismus, Globalisierung, internationale Beziehungen oder transnationale Bewegungen umfassen.\n",
            "\n",
            "**English:**  \n",
            "The subject \"History of Supraregional Areas: Modern Era\" focuses on the historical development of regions that extend beyond the borders of individual states or cultures. The emphasis is on the modern era (approximately 1500 to the present) and examines political, economic, social, and cultural processes that shaped supraregional connections, conflicts, and exchanges. Topics may include colonialism, globalization, international relations, or transnational movements.\n"
          ]
        },
        {
          "output_type": "stream",
          "name": "stderr",
          "text": [
            "\r 63%|██████▎   | 217/345 [1:15:58<51:37, 24.20s/it]  "
          ]
        },
        {
          "output_type": "stream",
          "name": "stdout",
          "text": [
            "Geschichte überregionaler Gebiete: Zeitgeschichte **German:**  \n",
            "Das Fach 'Geschichte überregionaler Gebiete: Zeitgeschichte' beschäftigt sich mit der Erforschung und Analyse historischer Entwicklungen und Ereignisse, die über die Grenzen einzelner Nationen oder Regionen hinausgehen. Der Fokus liegt dabei auf der jüngeren Geschichte, insbesondere dem 20. und 21. Jahrhundert. Themen können globale Konflikte, internationale Beziehungen, transnationale Bewegungen sowie kulturelle und wirtschaftliche Vernetzungen sein. Ziel ist es, übergreifende Muster und Zusammenhänge in der globalen Geschichte zu verstehen.\n",
            "\n",
            "**English:**  \n",
            "The subject 'History of Supraregional Areas: Contemporary History' focuses on the study and analysis of historical developments and events that extend beyond the borders of individual nations or regions. The emphasis is on recent history, particularly the 20th and 21st centuries. Topics may include global conflicts, international relations, transnational movements, and cultural and economic interconnections. The aim is to understand overarching patterns and relationships in global history.\n"
          ]
        },
        {
          "output_type": "stream",
          "name": "stderr",
          "text": [
            "\r 63%|██████▎   | 218/345 [1:16:03<39:16, 18.56s/it]"
          ]
        },
        {
          "output_type": "stream",
          "name": "stdout",
          "text": [
            "Geschichte einzelner Länder und Völker **German:**  \n",
            "\"Geschichte einzelner Länder und Völker\" befasst sich mit der Erforschung und Darstellung der historischen Entwicklungen spezifischer Nationen, Regionen oder ethnischer Gruppen. Dabei werden politische, soziale, kulturelle und wirtschaftliche Aspekte untersucht, um ein umfassendes Verständnis der Vergangenheit und ihrer Auswirkungen auf die Gegenwart zu gewinnen.  \n",
            "\n",
            "**English:**  \n",
            "\"History of individual countries and peoples\" focuses on the study and representation of the historical developments of specific nations, regions, or ethnic groups. It examines political, social, cultural, and economic aspects to gain a comprehensive understanding of the past and its impact on the present.\n"
          ]
        },
        {
          "output_type": "stream",
          "name": "stderr",
          "text": [
            "\r 63%|██████▎   | 219/345 [1:16:25<41:09, 19.60s/it]"
          ]
        },
        {
          "output_type": "stream",
          "name": "stdout",
          "text": [
            "Volkskunde, Völkerkunde (Allgemeines) **German:**  \n",
            "Volkskunde und Völkerkunde (Allgemeines) sind zwei verwandte Disziplinen der Kulturwissenschaften. Die Volkskunde, auch Europäische Ethnologie genannt, beschäftigt sich mit der Erforschung der Alltagskultur, Traditionen und Bräuche innerhalb einer Gesellschaft, oft mit Fokus auf Europa. Die Völkerkunde, heute häufig als Ethnologie oder Sozialanthropologie bezeichnet, untersucht die Kulturen, Sozialstrukturen und Lebensweisen von Ethnien weltweit, insbesondere außereuropäischer Gesellschaften. Beide Disziplinen analysieren kulturelle Phänomene im historischen und sozialen Kontext.\n",
            "\n",
            "**English:**  \n",
            "Volkskunde and Völkerkunde (General) are two related disciplines within cultural studies. Volkskunde, also known as European Ethnology, focuses on the study of everyday culture, traditions, and customs within a society, often with an emphasis on Europe. Völkerkunde, now commonly referred to as Ethnology or Social Anthropology, explores the cultures, social structures, and ways of life of ethnic groups worldwide, particularly non-European societies. Both disciplines analyze cultural phenomena within their historical and social contexts.\n"
          ]
        },
        {
          "output_type": "stream",
          "name": "stderr",
          "text": [
            "\r 64%|██████▍   | 220/345 [1:16:36<35:21, 16.97s/it]"
          ]
        },
        {
          "output_type": "stream",
          "name": "stdout",
          "text": [
            "Brauchtum, Volksglaube **German:**  \n",
            "'Brauchtum, Volksglaube' beschäftigt sich mit den traditionellen Bräuchen, Ritualen und dem überlieferten Glauben einer Gemeinschaft oder Kultur. Es umfasst sowohl festliche Anlässe als auch alltägliche Praktiken, die oft von Generation zu Generation weitergegeben werden und tief in der Identität einer Gesellschaft verwurzelt sind. Dieser Bereich untersucht auch den Einfluss von Mythen, Legenden und Aberglauben auf das kollektive Verhalten und Denken.\n",
            "\n",
            "**English:**  \n",
            "'Brauchtum, Volksglaube' (Customs, Folk Beliefs) focuses on the traditional customs, rituals, and inherited beliefs of a community or culture. It includes both festive occasions and everyday practices that are often passed down through generations and deeply rooted in a society's identity. This field also explores the influence of myths, legends, and superstitions on collective behavior and thinking.\n"
          ]
        },
        {
          "output_type": "stream",
          "name": "stderr",
          "text": [
            "\r 64%|██████▍   | 221/345 [1:17:50<1:10:40, 34.20s/it]"
          ]
        },
        {
          "output_type": "stream",
          "name": "stdout",
          "text": [
            "Sachkultur, Volkskunst **Deutsch:**  \n",
            "Das Fach *Sachkultur und Volkskunst* beschäftigt sich mit der materiellen Kultur und den künstlerischen Ausdrucksformen des alltäglichen Lebens, insbesondere in traditionellen und ländlichen Gemeinschaften. Es umfasst die Erforschung von Gebrauchsgegenständen, Textilien, Keramik, Möbeln und anderen handwerklichen Erzeugnissen sowie deren kulturelle und historische Bedeutung. Volkskunst, wie Schnitzereien, Malereien oder Stickereien, wird dabei als Ausdruck kollektiver Identität und kultureller Überlieferung betrachtet.\n",
            "\n",
            "**English:**  \n",
            "The subject *Material Culture and Folk Art* focuses on the material culture and artistic expressions of everyday life, particularly in traditional and rural communities. It involves the study of utilitarian objects, textiles, ceramics, furniture, and other artisanal products, as well as their cultural and historical significance. Folk art, such as carvings, paintings, or embroidery, is regarded as an expression of collective identity and cultural heritage.\n"
          ]
        },
        {
          "output_type": "stream",
          "name": "stderr",
          "text": [
            "\r 64%|██████▍   | 222/345 [1:18:23<1:09:16, 33.79s/it]"
          ]
        },
        {
          "output_type": "stream",
          "name": "stdout",
          "text": [
            "Volksliteratur, Volksmusik **German Description:**  \n",
            "'Volksliteratur, Volksmusik' befasst sich mit den traditionellen, mündlich überlieferten literarischen und musikalischen Ausdrucksformen eines Volkes oder einer Kultur. Diese Bereiche umfassen beispielsweise Märchen, Sagen, Volkslieder, Tänze und Bräuche, die oft eng mit der Identität und dem kulturellen Erbe einer Gemeinschaft verbunden sind. Die Erforschung dieser Phänomene gibt Einblicke in historische, soziale und kulturelle Entwicklungen.\n",
            "\n",
            "**English Description:**  \n",
            "'Volksliteratur, Volksmusik' (Folk Literature, Folk Music) explores the traditional, orally transmitted literary and musical expressions of a people or culture. This field includes fairy tales, legends, folk songs, dances, and customs, which are often deeply tied to the identity and cultural heritage of a community. The study of these phenomena provides insights into historical, social, and cultural developments.\n"
          ]
        },
        {
          "output_type": "stream",
          "name": "stderr",
          "text": [
            "\r 65%|██████▍   | 223/345 [1:18:33<53:47, 26.45s/it]  "
          ]
        },
        {
          "output_type": "stream",
          "name": "stdout",
          "text": [
            "Personen zu Volkskunde, Völkerkunde **German:**  \n",
            "Das Fach \"Personen zu Volkskunde, Völkerkunde\" befasst sich mit bedeutenden Persönlichkeiten, die einen wesentlichen Beitrag zur Erforschung und Dokumentation von Volkskunde (der Erforschung der eigenen Kultur) und Völkerkunde (der Erforschung fremder Kulturen) geleistet haben. Es untersucht ihr Leben, ihre Werke und ihren Einfluss auf die Entwicklung dieser wissenschaftlichen Disziplinen, die sich mit kulturellen Phänomenen, Traditionen und gesellschaftlichen Praktiken beschäftigen.  \n",
            "\n",
            "**English:**  \n",
            "The subject \"Persons in Folklore and Ethnology\" focuses on significant individuals who have made substantial contributions to the study and documentation of folklore (the study of one's own culture) and ethnology (the study of foreign cultures). It explores their lives, works, and their impact on the development of these academic disciplines, which deal with cultural phenomena, traditions, and societal practices.\n"
          ]
        },
        {
          "output_type": "stream",
          "name": "stderr",
          "text": [
            "\r 65%|██████▍   | 224/345 [1:18:42<42:57, 21.30s/it]"
          ]
        },
        {
          "output_type": "stream",
          "name": "stdout",
          "text": [
            "Natur, Naturwissenschaften allgemein **German:**  \n",
            "Das Fach \"Natur, Naturwissenschaften allgemein\" befasst sich mit den grundlegenden Prinzipien und Phänomenen der natürlichen Welt. Es umfasst ein breites Spektrum an Disziplinen wie Physik, Chemie, Biologie und Geowissenschaften, die gemeinsam das Verständnis der Naturgesetze und der Struktur der Materie sowie der Lebewesen fördern. Ziel ist es, naturwissenschaftliche Zusammenhänge zu erforschen, zu erklären und in einen interdisziplinären Kontext zu setzen.  \n",
            "\n",
            "**English:**  \n",
            "The subject \"Nature, General Natural Sciences\" deals with the fundamental principles and phenomena of the natural world. It encompasses a broad range of disciplines such as physics, chemistry, biology, and earth sciences, which together promote the understanding of natural laws, the structure of matter, and living organisms. The aim is to explore, explain, and contextualize scientific relationships within an interdisciplinary framework.\n"
          ]
        },
        {
          "output_type": "stream",
          "name": "stderr",
          "text": [
            "\r 65%|██████▌   | 225/345 [1:18:58<39:32, 19.77s/it]"
          ]
        },
        {
          "output_type": "stream",
          "name": "stdout",
          "text": [
            "Geowissenschaften **Deutsch:**  \n",
            "Geowissenschaften sind ein interdisziplinäres Fach, das sich mit der Erforschung der Erde und ihrer Prozesse beschäftigt. Dazu gehören Bereiche wie Geologie, Mineralogie, Paläontologie, Geophysik, Ozeanographie und Klimatologie. Ziel ist es, die Struktur, Entwicklung und Dynamik unseres Planeten zu verstehen sowie die Wechselwirkungen zwischen der Erde, der Atmosphäre, den Ozeanen und dem Leben. Die Geowissenschaften tragen wesentlich zur Bewältigung globaler Herausforderungen wie Klimawandel, Naturkatastrophen und Ressourcenmanagement bei.\n",
            "\n",
            "**English:**  \n",
            "Geosciences is an interdisciplinary field focused on the study of the Earth and its processes. It encompasses areas such as geology, mineralogy, paleontology, geophysics, oceanography, and climatology. The goal is to understand the structure, evolution, and dynamics of our planet, as well as the interactions between the Earth, atmosphere, oceans, and life. Geosciences play a crucial role in addressing global challenges like climate change, natural disasters, and resource management.\n"
          ]
        },
        {
          "output_type": "stream",
          "name": "stderr",
          "text": [
            "\r 66%|██████▌   | 226/345 [1:20:18<1:14:52, 37.75s/it]"
          ]
        },
        {
          "output_type": "stream",
          "name": "stdout",
          "text": [
            "Geografie, Heimat- und Länderkunde (Allgemeines) **German:**  \n",
            "\"Geografie, Heimat- und Länderkunde (Allgemeines)\" ist ein Fach, das sich mit der Erforschung der Erde, ihrer Landschaften, Kulturen und menschlichen Aktivitäten beschäftigt. Es umfasst sowohl physische Geografie, die natürliche Prozesse und Phänomene untersucht, als auch Humangeografie, die sich mit menschlichen Einflüssen auf die Umwelt befasst. Zusätzlich fördert es das Verständnis für lokale und globale Zusammenhänge sowie die Wertschätzung für die Heimat und andere Länder.\n",
            "\n",
            "**English:**  \n",
            "\"Geography, Homeland, and Regional Studies (General)\" is a subject that explores the Earth, its landscapes, cultures, and human activities. It includes both physical geography, which examines natural processes and phenomena, and human geography, which focuses on human impacts on the environment. Additionally, it promotes an understanding of local and global interconnections, as well as an appreciation for one’s homeland and other countries.\n"
          ]
        },
        {
          "output_type": "stream",
          "name": "stderr",
          "text": [
            "\r 66%|██████▌   | 227/345 [1:20:54<1:13:35, 37.42s/it]"
          ]
        },
        {
          "output_type": "stream",
          "name": "stdout",
          "text": [
            "Physische Geografie **Deutsch:**  \n",
            "Die Physische Geografie ist ein Teilgebiet der Geografie, das sich mit den natürlichen Prozessen und Strukturen der Erdoberfläche befasst. Sie untersucht Phänomene wie Klima, Boden, Vegetation, Gewässer, Geländeformen und die Wechselwirkungen zwischen diesen Elementen. Ziel ist es, die physischen Eigenschaften der Erde zu verstehen und zu erklären, wie sie die Umwelt und das Leben auf unserem Planeten beeinflussen.\n",
            "\n",
            "**English:**  \n",
            "Physical Geography is a branch of geography that focuses on the natural processes and structures of the Earth's surface. It examines phenomena such as climate, soil, vegetation, water bodies, landforms, and the interactions between these elements. The goal is to understand the physical characteristics of the Earth and explain how they influence the environment and life on our planet.\n"
          ]
        },
        {
          "output_type": "stream",
          "name": "stderr",
          "text": [
            "\r 66%|██████▌   | 228/345 [1:21:12<1:01:08, 31.36s/it]"
          ]
        },
        {
          "output_type": "stream",
          "name": "stdout",
          "text": [
            "Anthropogeografie **Deutsch:**  \n",
            "Anthropogeografie, auch als Humangeografie bezeichnet, ist ein Teilbereich der Geografie, der sich mit der räumlichen Verteilung und den Wechselwirkungen zwischen menschlichen Gesellschaften und ihrer Umwelt befasst. Sie untersucht Themen wie Siedlungsstrukturen, Bevölkerungsentwicklung, Wirtschaftsräume, Kulturlandschaften und die Auswirkungen menschlicher Aktivitäten auf die Natur. Ziel ist es, die komplexen Beziehungen zwischen Mensch und Raum zu verstehen und zu analysieren.\n",
            "\n",
            "**English:**  \n",
            "Anthropogeography, also known as human geography, is a subfield of geography that focuses on the spatial distribution and interactions between human societies and their environment. It explores topics such as settlement patterns, population dynamics, economic spaces, cultural landscapes, and the impacts of human activities on nature. The aim is to understand and analyze the complex relationships between humans and space.\n"
          ]
        },
        {
          "output_type": "stream",
          "name": "stderr",
          "text": [
            "\r 66%|██████▋   | 229/345 [1:21:19<47:00, 24.31s/it]  "
          ]
        },
        {
          "output_type": "stream",
          "name": "stdout",
          "text": [
            "Reise **Deutsch:**  \n",
            "Das Fach 'Reise' beschäftigt sich mit der Planung, Durchführung und Analyse von Reisen. Es umfasst Aspekte wie Reiseziele, Transportmittel, Unterkünfte, kulturelle Besonderheiten und die persönlichen Erfahrungen der Reisenden. Dabei wird sowohl auf praktische als auch auf theoretische Aspekte eingegangen, um ein umfassendes Verständnis für das Reisen zu vermitteln.\n",
            "\n",
            "**English:**  \n",
            "The subject 'Travel' focuses on the planning, execution, and analysis of journeys. It covers aspects such as destinations, modes of transportation, accommodations, cultural specifics, and the personal experiences of travelers. Both practical and theoretical elements are explored to provide a comprehensive understanding of travel.\n"
          ]
        },
        {
          "output_type": "stream",
          "name": "stderr",
          "text": [
            "\r 67%|██████▋   | 230/345 [1:21:27<37:01, 19.32s/it]"
          ]
        },
        {
          "output_type": "stream",
          "name": "stdout",
          "text": [
            "Personen zu Geodäsie, Kartografie **Deutsch:**  \n",
            "Das Fach \"Personen zu Geodäsie, Kartografie\" befasst sich mit der Erforschung und Darstellung bedeutender Persönlichkeiten, die maßgeblich zur Entwicklung der Geodäsie (Vermessungswesen) und Kartografie beigetragen haben. Es umfasst deren Lebenswerke, technische Innovationen und ihren Einfluss auf die moderne Vermessungs- und Kartierungstechnik.  \n",
            "\n",
            "**English:**  \n",
            "The subject \"Persons in Geodesy, Cartography\" focuses on the study and portrayal of significant individuals who have made substantial contributions to the development of geodesy (surveying) and cartography. It encompasses their life works, technical innovations, and their impact on modern surveying and mapping techniques.\n"
          ]
        },
        {
          "output_type": "stream",
          "name": "stderr",
          "text": [
            "\r 67%|██████▋   | 231/345 [1:21:57<42:39, 22.45s/it]"
          ]
        },
        {
          "output_type": "stream",
          "name": "stdout",
          "text": [
            "Hydrologie, Meereskunde **German:**  \n",
            "'Hydrologie, Meereskunde' ist ein interdisziplinäres Fach, das sich mit den Eigenschaften, Prozessen und Wechselwirkungen von Wasser in verschiedenen Umgebungen beschäftigt. Die Hydrologie konzentriert sich auf das Süßwasser in Flüssen, Seen und Grundwasser, während die Meereskunde (Ozeanographie) die physikalischen, chemischen, biologischen und geologischen Aspekte der Meere und Ozeane untersucht. Beide Bereiche sind entscheidend für das Verständnis von Wasserkreisläufen, Klimaänderungen und der nachhaltigen Nutzung von Wasserressourcen.\n",
            "\n",
            "**English:**  \n",
            "'Hydrology, Oceanography' is an interdisciplinary field that studies the properties, processes, and interactions of water in various environments. Hydrology focuses on freshwater in rivers, lakes, and groundwater, while oceanography examines the physical, chemical, biological, and geological aspects of seas and oceans. Both areas are crucial for understanding water cycles, climate change, and the sustainable management of water resources.\n"
          ]
        },
        {
          "output_type": "stream",
          "name": "stderr",
          "text": [
            "\r 67%|██████▋   | 232/345 [1:22:52<1:01:00, 32.39s/it]"
          ]
        },
        {
          "output_type": "stream",
          "name": "stdout",
          "text": [
            "Allgemeine Geologie, Geophysik **Deutsch:**  \n",
            "„Allgemeine Geologie und Geophysik“ ist ein Fachgebiet, das sich mit den grundlegenden Prozessen und Strukturen der Erde befasst. Es umfasst die Untersuchung der Entstehung, des Aufbaus und der Entwicklung der Erde sowie die physikalischen Eigenschaften und dynamischen Vorgänge im Erdinneren und an der Oberfläche. Themen wie Plattentektonik, Gesteinsbildung, Erdbeben, Vulkanismus und geomagnetische Felder werden behandelt. Das Fach verbindet geologische Beobachtungen mit geophysikalischen Messmethoden, um ein umfassendes Verständnis des Systems Erde zu erlangen.\n",
            "\n",
            "**English:**  \n",
            "\"General Geology and Geophysics\" is a field of study that focuses on the fundamental processes and structures of the Earth. It encompasses the investigation of the origin, composition, and evolution of the Earth, as well as the physical properties and dynamic processes within the Earth's interior and on its surface. Topics such as plate tectonics, rock formation, earthquakes, volcanism, and geomagnetic fields are explored. The discipline combines geological observations with geophysical measurement methods to gain a comprehensive understanding of the Earth as a system.\n"
          ]
        },
        {
          "output_type": "stream",
          "name": "stderr",
          "text": [
            "\r 68%|██████▊   | 233/345 [1:23:14<54:12, 29.04s/it]  "
          ]
        },
        {
          "output_type": "stream",
          "name": "stdout",
          "text": [
            "Historische Geologie **Deutsch:**  \n",
            "Die *Historische Geologie* ist ein Teilgebiet der Geowissenschaften, das sich mit der Entstehung und Entwicklung der Erde und ihrer geologischen Strukturen im Laufe der Zeit beschäftigt. Sie untersucht die Prozesse, die zur Bildung von Gesteinen, Fossilien und Landschaften geführt haben, sowie die zeitliche Einordnung dieser Ereignisse. Mithilfe von stratigraphischen Methoden und geologischen Zeitskalen rekonstruiert sie die Erdgeschichte von der Entstehung des Planeten bis zur Gegenwart.\n",
            "\n",
            "**English:**  \n",
            "*Historical Geology* is a branch of Earth sciences that focuses on the origin and evolution of the Earth and its geological structures over time. It studies the processes that have led to the formation of rocks, fossils, and landscapes, as well as the chronological sequencing of these events. Using stratigraphic methods and geological timescales, it reconstructs Earth's history from its formation to the present day.\n"
          ]
        },
        {
          "output_type": "stream",
          "name": "stderr",
          "text": [
            "\r 68%|██████▊   | 234/345 [1:23:25<43:52, 23.71s/it]"
          ]
        },
        {
          "output_type": "stream",
          "name": "stdout",
          "text": [
            "Mineralogie, Boden-, Gesteins- und Lagerstättenkunde **German:**  \n",
            "Die 'Mineralogie, Boden-, Gesteins- und Lagerstättenkunde' ist ein interdisziplinäres Fach, das sich mit der Erforschung von Mineralien, Böden, Gesteinen und Lagerstätten beschäftigt. Es umfasst die Entstehung, Zusammensetzung, Eigenschaften und Nutzung dieser Materialien sowie ihre Rolle in geologischen Prozessen und wirtschaftlichen Anwendungen. Das Fach verbindet Grundlagen der Geowissenschaften mit praktischen Aspekten der Rohstoffgewinnung und Umweltforschung.  \n",
            "\n",
            "**English:**  \n",
            "'Mineralogy, Soil, Rock, and Deposit Science' is an interdisciplinary field that focuses on the study of minerals, soils, rocks, and deposits. It covers their formation, composition, properties, and utilization, as well as their role in geological processes and economic applications. The subject combines fundamental geoscientific principles with practical aspects of resource extraction and environmental research.\n"
          ]
        },
        {
          "output_type": "stream",
          "name": "stderr",
          "text": [
            "\r 68%|██████▊   | 235/345 [1:23:33<34:49, 18.99s/it]"
          ]
        },
        {
          "output_type": "stream",
          "name": "stdout",
          "text": [
            "Paläontologie **German:**  \n",
            "Paläontologie ist die Wissenschaft, die sich mit der Erforschung der Lebewesen vergangener Erdzeitalter beschäftigt. Sie untersucht Fossilien, um Rückschlüsse auf die Evolution, die Umweltbedingungen und die Lebensweise ausgestorbener Organismen zu ziehen. Paläontologie verbindet dabei Aspekte der Biologie und Geologie.\n",
            "\n",
            "**English:**  \n",
            "Paleontology is the scientific study of life forms from past geological periods. It examines fossils to draw conclusions about evolution, environmental conditions, and the lifestyles of extinct organisms. Paleontology combines aspects of both biology and geology.\n"
          ]
        },
        {
          "output_type": "stream",
          "name": "stderr",
          "text": [
            "\r 68%|██████▊   | 236/345 [1:23:41<28:28, 15.68s/it]"
          ]
        },
        {
          "output_type": "stream",
          "name": "stdout",
          "text": [
            "Meteorologie, Klimatologie, Hochatmosphäre, Magnetosphäre **German:**  \n",
            "Die Meteorologie befasst sich mit der Erforschung der Atmosphäre und der kurzfristigen Wetterphänomene. Die Klimatologie untersucht langfristige Klimaveränderungen und -muster. Die Hochatmosphäre beschreibt die oberen Schichten der Atmosphäre, einschließlich der Ionosphäre und Exosphäre. Die Magnetosphäre ist der Bereich um die Erde, der durch das Erdmagnetfeld beeinflusst wird und vor solaren und kosmischen Strahlen schützt.  \n",
            "\n",
            "**English:**  \n",
            "Meteorology focuses on the study of the atmosphere and short-term weather phenomena. Climatology examines long-term climate patterns and changes. The upper atmosphere includes the higher layers of the atmosphere, such as the ionosphere and exosphere. The magnetosphere is the region surrounding the Earth influenced by its magnetic field, protecting it from solar and cosmic radiation.\n"
          ]
        },
        {
          "output_type": "stream",
          "name": "stderr",
          "text": [
            "\r 69%|██████▊   | 237/345 [1:23:52<25:49, 14.35s/it]"
          ]
        },
        {
          "output_type": "stream",
          "name": "stdout",
          "text": [
            "Astronomie, Weltraumforschung **Deutsch:**  \n",
            "Astronomie und Weltraumforschung sind wissenschaftliche Disziplinen, die sich mit der Erforschung des Universums, der Himmelskörper und der physikalischen Prozesse im Weltraum beschäftigen. Die Astronomie befasst sich mit der Beobachtung und Analyse von Sternen, Planeten, Galaxien und anderen Phänomenen, während die Weltraumforschung die technologische Erschließung des Weltraums durch Satelliten, Raumsonden und bemannte Missionen umfasst. Beide Bereiche tragen zum Verständnis unseres Platzes im Kosmos und zur Entwicklung zukunftsweisender Technologien bei.\n",
            "\n",
            "**English:**  \n",
            "Astronomy and space research are scientific disciplines focused on exploring the universe, celestial bodies, and physical processes in space. Astronomy involves the observation and analysis of stars, planets, galaxies, and other phenomena, while space research encompasses the technological exploration of space through satellites, probes, and manned missions. Both fields contribute to understanding our place in the cosmos and advancing groundbreaking technologies.\n"
          ]
        },
        {
          "output_type": "stream",
          "name": "stderr",
          "text": [
            "\r 69%|██████▉   | 238/345 [1:24:17<31:25, 17.62s/it]"
          ]
        },
        {
          "output_type": "stream",
          "name": "stdout",
          "text": [
            "Physik (Allgemeines), Mathematische Physik **Deutsch:**  \n",
            "Das Fach \"Physik (Allgemeines), Mathematische Physik\" befasst sich mit den grundlegenden Prinzipien und Gesetzen der Natur, die durch mathematische Modelle und Methoden beschrieben werden. Es umfasst sowohl experimentelle als auch theoretische Aspekte der Physik, wobei ein Schwerpunkt auf der Anwendung fortgeschrittener mathematischer Techniken zur Lösung physikalischer Probleme liegt. Themen wie Quantenmechanik, Thermodynamik, Elektrodynamik und statistische Physik werden oft behandelt.\n",
            "\n",
            "**English:**  \n",
            "The subject \"Physics (General), Mathematical Physics\" deals with the fundamental principles and laws of nature, described through mathematical models and methods. It encompasses both experimental and theoretical aspects of physics, with a focus on applying advanced mathematical techniques to solve physical problems. Topics such as quantum mechanics, thermodynamics, electrodynamics, and statistical physics are often covered.\n"
          ]
        },
        {
          "output_type": "stream",
          "name": "stderr",
          "text": [
            "\r 69%|██████▉   | 239/345 [1:24:28<27:36, 15.62s/it]"
          ]
        },
        {
          "output_type": "stream",
          "name": "stdout",
          "text": [
            "Mechanik, Wärme, Akustik **German:**  \n",
            "\"Mechanik, Wärme, Akustik\" ist ein grundlegendes Fachgebiet der Physik, das sich mit den Prinzipien der Bewegung, der Kräfte, der Energieumwandlung und der Schallausbreitung beschäftigt. Die Mechanik untersucht die Bewegung von Körpern und die wirkenden Kräfte, während die Wärmelehre (Thermodynamik) Prozesse wie Wärmeübertragung und Temperaturänderungen behandelt. Die Akustik befasst sich mit der Entstehung, Ausbreitung und Wahrnehmung von Schall. Dieses Fach bildet die Basis für ein tieferes Verständnis vieler physikalischer Phänomene und technischer Anwendungen.\n",
            "\n",
            "**English:**  \n",
            "\"Mechanics, Heat, Acoustics\" is a fundamental subject in physics that deals with the principles of motion, forces, energy conversion, and sound propagation. Mechanics studies the movement of bodies and the forces acting upon them, while heat (thermodynamics) explores processes such as heat transfer and temperature changes. Acoustics focuses on the generation, propagation, and perception of sound. This subject forms the basis for a deeper understanding of many physical phenomena and technical applications.\n"
          ]
        },
        {
          "output_type": "stream",
          "name": "stderr",
          "text": [
            "\r 70%|██████▉   | 240/345 [1:24:38<24:15, 13.86s/it]"
          ]
        },
        {
          "output_type": "stream",
          "name": "stdout",
          "text": [
            "Elektrizität, Magnetismus, Optik **German:**  \n",
            "Das Fach \"Elektrizität, Magnetismus, Optik\" beschäftigt sich mit den grundlegenden Phänomenen und Gesetzmäßigkeiten der Elektrizität, des Magnetismus und der Optik. Es umfasst die Untersuchung von elektrischen Ladungen, elektrischen und magnetischen Feldern, elektromagnetischer Induktion sowie der Ausbreitung, Reflexion und Brechung von Licht. Dieses Gebiet ist zentral für das Verständnis vieler technischer Anwendungen und physikalischer Prozesse in der Natur.\n",
            "\n",
            "**English:**  \n",
            "The subject \"Electricity, Magnetism, Optics\" focuses on the fundamental phenomena and laws of electricity, magnetism, and optics. It includes the study of electric charges, electric and magnetic fields, electromagnetic induction, as well as the propagation, reflection, and refraction of light. This field is central to understanding many technological applications and natural physical processes.\n"
          ]
        },
        {
          "output_type": "stream",
          "name": "stderr",
          "text": [
            "\r 70%|██████▉   | 241/345 [1:25:33<45:36, 26.31s/it]"
          ]
        },
        {
          "output_type": "stream",
          "name": "stdout",
          "text": [
            "Elementarteilchen, Kern-, Atom-, Molekularphysik **German:**  \n",
            "\"Elementarteilchen, Kern-, Atom-, Molekularphysik\" ist ein Fachgebiet der Physik, das sich mit den fundamentalen Bausteinen der Materie und ihren Wechselwirkungen beschäftigt. Es umfasst die Erforschung von Elementarteilchen (z.B. Quarks und Leptonen), den Aufbau und die Eigenschaften von Atomkernen, die Struktur und Dynamik von Atomen sowie die Wechselwirkungen und Bindungen in Molekülen. Dieses Gebiet verbindet theoretische Modelle mit experimentellen Methoden, um die grundlegenden Prinzipien der Natur zu verstehen.\n",
            "\n",
            "**English:**  \n",
            "\"Elementary Particles, Nuclear, Atomic, and Molecular Physics\" is a field of physics that focuses on the fundamental building blocks of matter and their interactions. It encompasses the study of elementary particles (e.g., quarks and leptons), the structure and properties of atomic nuclei, the behavior and dynamics of atoms, and the interactions and bonding within molecules. This field combines theoretical models with experimental techniques to explore the fundamental principles of nature.\n"
          ]
        },
        {
          "output_type": "stream",
          "name": "stderr",
          "text": [
            "\r 70%|███████   | 242/345 [1:25:40<35:10, 20.49s/it]"
          ]
        },
        {
          "output_type": "stream",
          "name": "stdout",
          "text": [
            "Plasma, Gas, Flüssigkeit, Festkörper **German:**  \n",
            "Das Fach \"Plasma, Gas, Flüssigkeit, Festkörper\" behandelt die vier grundlegenden Aggregatzustände der Materie. Es untersucht ihre physikalischen Eigenschaften, das Verhalten der Teilchen in diesen Zuständen sowie die Übergänge zwischen ihnen. Dabei werden Themen wie Thermodynamik, Teilchenbewegung, Wechselwirkungen und Anwendungen in Natur und Technik betrachtet.  \n",
            "\n",
            "**English:**  \n",
            "The subject \"Plasma, Gas, Liquid, Solid\" focuses on the four fundamental states of matter. It explores their physical properties, the behavior of particles in these states, and the transitions between them. Topics such as thermodynamics, particle motion, interactions, and applications in nature and technology are covered.\n"
          ]
        },
        {
          "output_type": "stream",
          "name": "stderr",
          "text": [
            "\r 70%|███████   | 243/345 [1:26:46<58:01, 34.13s/it]"
          ]
        },
        {
          "output_type": "stream",
          "name": "stdout",
          "text": [
            "Personen zu Physik **Deutsch:**  \n",
            "„Personen zu Physik“ ist ein Fach, das sich mit den bedeutenden Persönlichkeiten in der Geschichte der Physik befasst. Es untersucht deren Leben, Entdeckungen und Beiträge zur Entwicklung physikalischer Theorien und Technologien. Dabei wird der Einfluss dieser Personen auf die moderne Wissenschaft und Gesellschaft beleuchtet.\n",
            "\n",
            "**English:**  \n",
            "\"Persons in Physics\" is a subject that focuses on the significant figures in the history of physics. It explores their lives, discoveries, and contributions to the development of physical theories and technologies. The course also highlights the impact of these individuals on modern science and society.\n"
          ]
        },
        {
          "output_type": "stream",
          "name": "stderr",
          "text": [
            "\r 71%|███████   | 244/345 [1:26:59<46:23, 27.56s/it]"
          ]
        },
        {
          "output_type": "stream",
          "name": "stdout",
          "text": [
            "Chemie (Allgemeines) **German:**  \n",
            "\"Chemie (Allgemeines)\" ist ein Grundlagenfach, das sich mit der Untersuchung der Zusammensetzung, Struktur, Eigenschaften und Veränderungen von Materie befasst. Es umfasst die Prinzipien der anorganischen, organischen und physikalischen Chemie und legt den Schwerpunkt auf grundlegende Konzepte wie Atome, Moleküle, chemische Reaktionen, Bindungen und das Periodensystem. Das Fach bildet die Basis für das Verständnis chemischer Prozesse in Natur und Technik.\n",
            "\n",
            "**English:**  \n",
            "\"Chemistry (General)\" is a foundational subject that deals with the study of the composition, structure, properties, and transformations of matter. It encompasses the principles of inorganic, organic, and physical chemistry, with a focus on fundamental concepts such as atoms, molecules, chemical reactions, bonds, and the periodic table. The subject provides the basis for understanding chemical processes in nature and technology.\n"
          ]
        },
        {
          "output_type": "stream",
          "name": "stderr",
          "text": [
            "\r 71%|███████   | 245/345 [1:27:29<47:21, 28.41s/it]"
          ]
        },
        {
          "output_type": "stream",
          "name": "stdout",
          "text": [
            "Theoretische und Physikalische Chemie **Deutsch:**  \n",
            "„Theoretische und Physikalische Chemie“ ist ein Fachgebiet der Chemie, das sich mit den grundlegenden Prinzipien und Gesetzmäßigkeiten chemischer Prozesse beschäftigt. Es verbindet mathematische Modelle, physikalische Theorien und experimentelle Methoden, um Phänomene wie Molekülstrukturen, Reaktionskinetik, Thermodynamik und Quantenmechanik zu erklären. Das Ziel ist es, ein tieferes Verständnis der chemischen Eigenschaften und Verhaltensweisen von Materie auf atomarer und molekularer Ebene zu erlangen.\n",
            "\n",
            "**English:**  \n",
            "\"Theoretical and Physical Chemistry\" is a branch of chemistry that focuses on the fundamental principles and laws governing chemical processes. It combines mathematical models, physical theories, and experimental methods to explain phenomena such as molecular structures, reaction kinetics, thermodynamics, and quantum mechanics. The aim is to gain a deeper understanding of the chemical properties and behaviors of matter at the atomic and molecular levels.\n"
          ]
        },
        {
          "output_type": "stream",
          "name": "stderr",
          "text": [
            "\r 71%|███████▏  | 246/345 [1:27:38<37:21, 22.64s/it]"
          ]
        },
        {
          "output_type": "stream",
          "name": "stdout",
          "text": [
            "Analytische Chemie und Untersuchungsmethoden **Deutsch:**  \n",
            "\"Analytische Chemie und Untersuchungsmethoden\" ist ein Fachgebiet, das sich mit der Identifizierung, Charakterisierung und Quantifizierung von chemischen Substanzen beschäftigt. Es umfasst sowohl klassische Methoden wie Titration und Gravimetrie als auch moderne instrumentelle Techniken wie Spektroskopie, Chromatographie und Massenspektrometrie. Das Ziel ist es, die Zusammensetzung und Struktur von Materialien zu analysieren, um chemische Prozesse zu verstehen und Qualitätskontrollen durchzuführen.  \n",
            "\n",
            "**English:**  \n",
            "\"Analytical Chemistry and Investigation Methods\" is a field focused on the identification, characterization, and quantification of chemical substances. It includes both classical methods such as titration and gravimetry, as well as modern instrumental techniques like spectroscopy, chromatography, and mass spectrometry. The aim is to analyze the composition and structure of materials to understand chemical processes and perform quality control.\n"
          ]
        },
        {
          "output_type": "stream",
          "name": "stderr",
          "text": [
            "\r 72%|███████▏  | 247/345 [1:27:48<30:40, 18.78s/it]"
          ]
        },
        {
          "output_type": "stream",
          "name": "stdout",
          "text": [
            "Anorganische Chemie **Deutsch:**  \n",
            "Anorganische Chemie ist das Teilgebiet der Chemie, das sich mit den Eigenschaften, der Struktur und dem Verhalten anorganischer Verbindungen befasst. Dazu gehören alle Elemente des Periodensystems sowie deren Verbindungen, mit Ausnahme der organischen Kohlenstoffverbindungen (mit wenigen Ausnahmen). Sie umfasst die Erforschung von Metallen, Salzen, Mineralien, Säuren, Basen und anderen anorganischen Stoffen. Anorganische Chemie spielt eine zentrale Rolle in Bereichen wie Materialwissenschaft, Katalyse, Umweltchemie und der Entwicklung neuer Technologien.\n",
            "\n",
            "**English:**  \n",
            "Inorganic chemistry is the branch of chemistry that deals with the properties, structure, and behavior of inorganic compounds. This includes all elements of the periodic table and their compounds, excluding organic carbon-based compounds (with a few exceptions). It encompasses the study of metals, salts, minerals, acids, bases, and other inorganic substances. Inorganic chemistry plays a crucial role in fields such as materials science, catalysis, environmental chemistry, and the development of new technologies.\n"
          ]
        },
        {
          "output_type": "stream",
          "name": "stderr",
          "text": [
            "\r 72%|███████▏  | 248/345 [1:28:34<43:33, 26.95s/it]"
          ]
        },
        {
          "output_type": "stream",
          "name": "stdout",
          "text": [
            "Organische Chemie **German Description:**  \n",
            "Organische Chemie ist ein Teilgebiet der Chemie, das sich mit den Verbindungen des Kohlenstoffs beschäftigt. Sie untersucht die Struktur, Eigenschaften, Synthese und Reaktionen von organischen Molekülen, die häufig in lebenden Organismen vorkommen. Ein Schwerpunkt liegt auf Kohlenwasserstoffen und deren Derivaten, wie Alkoholen, Aminen, Carbonsäuren und Polymeren. Organische Chemie spielt eine zentrale Rolle in der Entwicklung von Medikamenten, Materialien und biologischen Prozessen.  \n",
            "\n",
            "**English Description:**  \n",
            "Organic chemistry is a branch of chemistry that deals with carbon-containing compounds. It focuses on the structure, properties, synthesis, and reactions of organic molecules, which are often found in living organisms. A key emphasis is placed on hydrocarbons and their derivatives, such as alcohols, amines, carboxylic acids, and polymers. Organic chemistry plays a crucial role in the development of pharmaceuticals, materials, and biological processes.\n"
          ]
        },
        {
          "output_type": "stream",
          "name": "stderr",
          "text": [
            "\r 72%|███████▏  | 249/345 [1:28:42<34:01, 21.27s/it]"
          ]
        },
        {
          "output_type": "stream",
          "name": "stdout",
          "text": [
            "Biologie allgemein **German:**  \n",
            "\"Biologie allgemein\" ist ein Überbegriff für die Wissenschaft, die sich mit dem Leben und lebenden Organismen beschäftigt. Sie umfasst die Erforschung von Strukturen, Funktionen, Wachstum, Entwicklung, Evolution und Interaktionen von Lebewesen. Dieses Fach beinhaltet Themen wie Zellbiologie, Genetik, Ökologie, Physiologie und Mikrobiologie und bietet ein grundlegendes Verständnis der Prozesse, die das Leben auf der Erde ausmachen.\n",
            "\n",
            "**English:**  \n",
            "\"Biologie allgemein\" (General Biology) is an overarching term for the science that deals with life and living organisms. It encompasses the study of structures, functions, growth, development, evolution, and interactions of living beings. This subject includes topics such as cell biology, genetics, ecology, physiology, and microbiology, providing a foundational understanding of the processes that constitute life on Earth.\n"
          ]
        },
        {
          "output_type": "stream",
          "name": "stderr",
          "text": [
            "\r 72%|███████▏  | 250/345 [1:28:49<26:56, 17.02s/it]"
          ]
        },
        {
          "output_type": "stream",
          "name": "stdout",
          "text": [
            "Genetik, Evolution **Deutsch:**  \n",
            "Das Fachgebiet \"Genetik, Evolution\" beschäftigt sich mit den Mechanismen der Vererbung, der genetischen Variation und den Prozessen, die zur Entstehung und Veränderung von Arten führen. Es umfasst die Erforschung von Genen, DNA, Mutationen, natürlicher Selektion und der Anpassung von Organismen an ihre Umwelt. Diese Disziplin verbindet molekulare Biologie mit evolutionären Prinzipien, um das Leben auf allen Ebenen zu verstehen.\n",
            "\n",
            "**English:**  \n",
            "The subject \"Genetics, Evolution\" focuses on the mechanisms of inheritance, genetic variation, and the processes that drive the origin and change of species. It involves the study of genes, DNA, mutations, natural selection, and the adaptation of organisms to their environment. This field bridges molecular biology with evolutionary principles to understand life at all levels.\n"
          ]
        },
        {
          "output_type": "stream",
          "name": "stderr",
          "text": [
            "\r 73%|███████▎  | 251/345 [1:29:08<27:23, 17.48s/it]"
          ]
        },
        {
          "output_type": "stream",
          "name": "stdout",
          "text": [
            "Biochemie, Biophysik, Zytologie **German:**  \n",
            "Das Fachgebiet 'Biochemie, Biophysik, Zytologie' vereint die Untersuchung der chemischen Prozesse in lebenden Organismen (Biochemie), die Anwendung physikalischer Methoden zur Erforschung biologischer Systeme (Biophysik) sowie die Erforschung der Struktur und Funktion von Zellen (Zytologie). Es bietet ein tiefes Verständnis der molekularen und zellulären Mechanismen, die das Leben auf fundamentaler Ebene steuern.  \n",
            "\n",
            "**English:**  \n",
            "The subject 'Biochemistry, Biophysics, Cytology' combines the study of chemical processes in living organisms (Biochemistry), the application of physical methods to explore biological systems (Biophysics), and the investigation of the structure and function of cells (Cytology). It provides a profound understanding of the molecular and cellular mechanisms that govern life at a fundamental level.\n"
          ]
        },
        {
          "output_type": "stream",
          "name": "stderr",
          "text": [
            "\r 73%|███████▎  | 252/345 [1:29:16<22:41, 14.63s/it]"
          ]
        },
        {
          "output_type": "stream",
          "name": "stdout",
          "text": [
            "Mikrobiologie **Deutsch:**  \n",
            "Mikrobiologie ist die Wissenschaft, die sich mit der Erforschung von Mikroorganismen wie Bakterien, Viren, Pilzen, Archaeen und Protozoen beschäftigt. Sie untersucht deren Struktur, Funktion, Lebensweise, genetische Eigenschaften sowie ihre Rolle in der Umwelt, Medizin, Industrie und Biotechnologie. Die Mikrobiologie spielt eine zentrale Rolle bei der Bekämpfung von Krankheiten, der Entwicklung von Antibiotika und der Erforschung von Ökosystemen.\n",
            "\n",
            "**English:**  \n",
            "Microbiology is the scientific study of microorganisms, including bacteria, viruses, fungi, archaea, and protozoa. It explores their structure, function, behavior, genetic makeup, and their roles in the environment, medicine, industry, and biotechnology. Microbiology is crucial for understanding and combating diseases, developing antibiotics, and researching ecosystems.\n"
          ]
        },
        {
          "output_type": "stream",
          "name": "stderr",
          "text": [
            "\r 73%|███████▎  | 253/345 [1:29:26<20:32, 13.40s/it]"
          ]
        },
        {
          "output_type": "stream",
          "name": "stdout",
          "text": [
            "Untersuchungsmethoden (Biologie) **German:**  \n",
            "'Untersuchungsmethoden (Biologie)' befasst sich mit den verschiedenen Techniken und Verfahren, die in der biologischen Forschung eingesetzt werden, um lebende Organismen, ihre Strukturen, Funktionen und Interaktionen zu analysieren. Dazu gehören mikroskopische Methoden, molekularbiologische Techniken, biochemische Assays, experimentelle Ansätze und statistische Auswertungen. Das Fach vermittelt theoretisches Wissen und praktische Fähigkeiten, um biologische Fragestellungen systematisch und wissenschaftlich fundiert zu untersuchen.\n",
            "\n",
            "**English:**  \n",
            "'Investigation Methods (Biology)' focuses on the various techniques and procedures used in biological research to analyze living organisms, their structures, functions, and interactions. This includes microscopic methods, molecular biological techniques, biochemical assays, experimental approaches, and statistical analyses. The subject provides theoretical knowledge and practical skills to systematically and scientifically investigate biological questions.\n"
          ]
        },
        {
          "output_type": "stream",
          "name": "stderr",
          "text": [
            "\r 74%|███████▎  | 254/345 [1:29:35<18:21, 12.10s/it]"
          ]
        },
        {
          "output_type": "stream",
          "name": "stdout",
          "text": [
            "Botanik (Allgemeines) **German Description:**  \n",
            "Botanik (Allgemeines) ist die wissenschaftliche Disziplin, die sich mit der Erforschung von Pflanzen beschäftigt. Sie umfasst die Untersuchung ihrer Struktur, Funktion, Entwicklung, Klassifikation, Verbreitung und ökologischen Beziehungen. Die Allgemeine Botanik legt den Grundstein für das Verständnis von Pflanzenleben und bildet die Basis für spezialisierte Bereiche wie Pflanzenphysiologie, Genetik, Taxonomie und Ökologie.\n",
            "\n",
            "**English Description:**  \n",
            "Botany (General) is the scientific discipline that focuses on the study of plants. It encompasses the examination of their structure, function, development, classification, distribution, and ecological relationships. General Botany provides the foundation for understanding plant life and serves as the basis for specialized fields such as plant physiology, genetics, taxonomy, and ecology.\n"
          ]
        },
        {
          "output_type": "stream",
          "name": "stderr",
          "text": [
            "\r 74%|███████▍  | 255/345 [1:29:45<17:05, 11.39s/it]"
          ]
        },
        {
          "output_type": "stream",
          "name": "stdout",
          "text": [
            "Allgemeine Botanik **Deutsch:**  \n",
            "Allgemeine Botanik ist ein grundlegendes Fachgebiet der Biologie, das sich mit der Erforschung von Pflanzen befasst. Es umfasst die Untersuchung von Struktur, Funktion, Wachstum, Entwicklung, Fortpflanzung, Evolution und Ökologie von Pflanzen. Themen wie Pflanzenzellen, Gewebe, Organe, Photosynthese, Stoffwechsel und Anpassungen an verschiedene Umweltbedingungen sind zentral. Allgemeine Botanik bildet die Basis für weiterführende Disziplinen wie Pflanzenphysiologie, Pflanzenökologie und Systematik.\n",
            "\n",
            "**English:**  \n",
            "General Botany is a fundamental field of biology that focuses on the study of plants. It encompasses the investigation of plant structure, function, growth, development, reproduction, evolution, and ecology. Key topics include plant cells, tissues, organs, photosynthesis, metabolism, and adaptations to various environmental conditions. General Botany serves as the foundation for advanced disciplines such as plant physiology, plant ecology, and systematics.\n"
          ]
        },
        {
          "output_type": "stream",
          "name": "stderr",
          "text": [
            "\r 74%|███████▍  | 256/345 [1:29:57<17:00, 11.47s/it]"
          ]
        },
        {
          "output_type": "stream",
          "name": "stdout",
          "text": [
            "Pflanzenanatomie, Pflanzenphysiologie **German:**  \n",
            "Pflanzenanatomie und Pflanzenphysiologie sind Teilbereiche der Botanik, die sich mit der Struktur und Funktion von Pflanzen beschäftigen. Die Pflanzenanatomie untersucht den Aufbau und die Organisation von Pflanzenzellen, -geweben und -organen, während die Pflanzenphysiologie die lebenswichtigen Prozesse wie Photosynthese, Atmung, Wasser- und Nährstofftransport sowie Wachstum und Entwicklung erforscht. Beide Disziplinen sind entscheidend, um das Leben und die Anpassungsfähigkeit von Pflanzen in verschiedenen Umgebungen zu verstehen.\n",
            "\n",
            "**English:**  \n",
            "Plant anatomy and plant physiology are subfields of botany that focus on the structure and function of plants. Plant anatomy studies the organization and construction of plant cells, tissues, and organs, while plant physiology explores vital processes such as photosynthesis, respiration, water and nutrient transport, as well as growth and development. Both disciplines are essential for understanding the life and adaptability of plants in various environments.\n"
          ]
        },
        {
          "output_type": "stream",
          "name": "stderr",
          "text": [
            "\r 74%|███████▍  | 257/345 [1:30:04<14:57, 10.19s/it]"
          ]
        },
        {
          "output_type": "stream",
          "name": "stdout",
          "text": [
            "Pflanzensoziologie, Pflanzenökologie, Pflanzengeografie **German:**  \n",
            "Die 'Pflanzensoziologie, Pflanzenökologie, Pflanzengeografie' ist ein interdisziplinäres Fach, das sich mit der Erforschung von Pflanzengemeinschaften, ihren Wechselwirkungen mit der Umwelt und ihrer geografischen Verbreitung befasst. Die Pflanzensoziologie untersucht die Zusammensetzung und Struktur von Pflanzengesellschaften, die Pflanzenökologie analysiert die Beziehungen zwischen Pflanzen und ihren ökologischen Bedingungen, und die Pflanzengeografie erforscht die räumliche Verteilung von Pflanzenarten und -gemeinschaften auf der Erde.  \n",
            "\n",
            "**English:**  \n",
            "'Plant Sociology, Plant Ecology, Plant Geography' is an interdisciplinary field that focuses on the study of plant communities, their interactions with the environment, and their geographical distribution. Plant sociology examines the composition and structure of plant societies, plant ecology analyzes the relationships between plants and their ecological conditions, and plant geography investigates the spatial distribution of plant species and communities across the Earth.\n"
          ]
        },
        {
          "output_type": "stream",
          "name": "stderr",
          "text": [
            "\r 75%|███████▍  | 258/345 [1:30:10<13:00,  8.97s/it]"
          ]
        },
        {
          "output_type": "stream",
          "name": "stdout",
          "text": [
            "Spezielle Botanik **German:**  \n",
            "'Spezielle Botanik' ist ein Teilgebiet der Botanik, das sich mit der detaillierten Untersuchung und Klassifizierung von Pflanzenarten befasst. Es umfasst die Morphologie, Anatomie, Physiologie, Systematik und Ökologie verschiedener Pflanzengruppen. Der Schwerpunkt liegt auf der Erforschung der Vielfalt und Anpassungsfähigkeit von Pflanzen sowie ihrer evolutionären Zusammenhänge.  \n",
            "\n",
            "**English:**  \n",
            "'Spezielle Botanik' (Special Botany) is a branch of botany that focuses on the detailed study and classification of plant species. It encompasses the morphology, anatomy, physiology, systematics, and ecology of various plant groups. The emphasis is on exploring the diversity and adaptability of plants, as well as their evolutionary relationships.\n"
          ]
        },
        {
          "output_type": "stream",
          "name": "stderr",
          "text": [
            "\r 75%|███████▌  | 259/345 [1:31:27<42:00, 29.30s/it]"
          ]
        },
        {
          "output_type": "stream",
          "name": "stdout",
          "text": [
            "Zoologie (Allgemeines) **German:**  \n",
            "Die Zoologie (Allgemeines) ist ein Teilgebiet der Biologie, das sich mit der Erforschung von Tieren, ihrer Struktur, Funktion, Entwicklung, Verbreitung und Klassifizierung befasst. Es umfasst sowohl die Untersuchung einzelner Arten als auch die Analyse von Tiergemeinschaften und ihren Wechselwirkungen mit der Umwelt. Die allgemeine Zoologie legt den Grundstein für spezialisierte Bereiche wie Verhaltensbiologie, Ökologie und Evolutionsbiologie.\n",
            "\n",
            "**English:**  \n",
            "Zoology (General) is a branch of biology that focuses on the study of animals, including their structure, function, development, distribution, and classification. It encompasses the examination of individual species as well as the analysis of animal communities and their interactions with the environment. General zoology provides the foundation for specialized fields such as behavioral biology, ecology, and evolutionary biology.\n"
          ]
        },
        {
          "output_type": "stream",
          "name": "stderr",
          "text": [
            "\r 75%|███████▌  | 260/345 [1:31:35<32:37, 23.03s/it]"
          ]
        },
        {
          "output_type": "stream",
          "name": "stdout",
          "text": [
            "Allgemeine Zoologie **Deutsch:**  \n",
            "Allgemeine Zoologie ist ein grundlegendes Fach der Biologie, das sich mit der Erforschung der Struktur, Funktion, Entwicklung, Evolution und Klassifikation von Tieren beschäftigt. Es umfasst die Untersuchung von Lebensprozessen, Verhaltensweisen und ökologischen Interaktionen im Tierreich. Das Fach legt den Schwerpunkt auf allgemeine Prinzipien, die für alle tierischen Organismen gelten, und bildet die Basis für spezialisierte zoologische Disziplinen.\n",
            "\n",
            "**English:**  \n",
            "General Zoology is a fundamental field of biology that focuses on the study of the structure, function, development, evolution, and classification of animals. It encompasses the examination of life processes, behaviors, and ecological interactions within the animal kingdom. The subject emphasizes general principles that apply to all animal organisms and serves as the foundation for specialized zoological disciplines.\n"
          ]
        },
        {
          "output_type": "stream",
          "name": "stderr",
          "text": [
            "\r 76%|███████▌  | 261/345 [1:31:55<30:57, 22.11s/it]"
          ]
        },
        {
          "output_type": "stream",
          "name": "stdout",
          "text": [
            "Anatomie, Tierphysiologie **German:**  \n",
            "'Anatomie, Tierphysiologie' ist ein wissenschaftliches Fach, das sich mit dem Aufbau (Anatomie) und den Funktionen (Physiologie) des tierischen Körpers beschäftigt. Es umfasst die Untersuchung von Organen, Geweben, Zellen und deren Wechselwirkungen sowie die physiologischen Prozesse, die das Leben und die Gesundheit von Tieren ermöglichen. Dieses Fach ist grundlegend für das Verständnis der Biologie von Tieren und hat Anwendungen in Veterinärmedizin, Zoologie und Tierhaltung.\n",
            "\n",
            "**English:**  \n",
            "'Anatomy, Animal Physiology' is a scientific discipline that focuses on the structure (anatomy) and functions (physiology) of the animal body. It involves the study of organs, tissues, cells, and their interactions, as well as the physiological processes that sustain life and health in animals. This subject is fundamental for understanding animal biology and has applications in veterinary medicine, zoology, and animal husbandry.\n"
          ]
        },
        {
          "output_type": "stream",
          "name": "stderr",
          "text": [
            "\r 76%|███████▌  | 262/345 [1:32:19<31:27, 22.74s/it]"
          ]
        },
        {
          "output_type": "stream",
          "name": "stdout",
          "text": [
            "Tiersoziologie, Tierökologie, Tiergeografie, Verhaltensforschung **German Description:**  \n",
            "'Tiersoziologie, Tierökologie, Tiergeografie, Verhaltensforschung' sind interdisziplinäre Fachgebiete der Biologie, die sich mit dem Sozialverhalten, der ökologischen Rolle, der geografischen Verbreitung und den Verhaltensmustern von Tieren befassen. Die Tiersoziologie untersucht soziale Strukturen und Interaktionen innerhalb von Tiergruppen, während die Tierökologie die Beziehungen zwischen Tieren und ihrer Umwelt analysiert. Die Tiergeografie erforscht die Verbreitung von Tierarten über verschiedene geografische Regionen hinweg, und die Verhaltensforschung (Ethologie) beschäftigt sich mit den angeborenen und erlernten Verhaltensweisen von Tieren.  \n",
            "\n",
            "**English Description:**  \n",
            "'Animal Sociology, Animal Ecology, Animal Geography, Behavioral Research' are interdisciplinary fields within biology that focus on the social behavior, ecological roles, geographic distribution, and behavioral patterns of animals. Animal Sociology examines social structures and interactions within animal groups, while Animal Ecology analyzes the relationships between animals and their environment. Animal Geography investigates the distribution of animal species across different geographic regions, and Behavioral Research (Ethology) studies the innate and learned behaviors of animals.\n"
          ]
        },
        {
          "output_type": "stream",
          "name": "stderr",
          "text": [
            "\r 76%|███████▌  | 263/345 [1:32:43<31:34, 23.10s/it]"
          ]
        },
        {
          "output_type": "stream",
          "name": "stdout",
          "text": [
            "Spezielle Zoologie **German:**  \n",
            "Spezielle Zoologie ist ein Teilgebiet der Zoologie, das sich mit der detaillierten Erforschung und Systematik von Tiergruppen beschäftigt. Es umfasst die Beschreibung, Klassifizierung und Analyse spezifischer Tierarten sowie deren Morphologie, Physiologie, Ökologie und Evolution. Dieser Bereich vertieft das Verständnis der Vielfalt und Anpassungen im Tierreich.\n",
            "\n",
            "**English:**  \n",
            "Special Zoology is a subfield of zoology that focuses on the detailed study and systematics of animal groups. It involves the description, classification, and analysis of specific animal species, including their morphology, physiology, ecology, and evolution. This area deepens the understanding of diversity and adaptations in the animal kingdom.\n"
          ]
        },
        {
          "output_type": "stream",
          "name": "stderr",
          "text": [
            "\r 77%|███████▋  | 264/345 [1:32:51<25:01, 18.54s/it]"
          ]
        },
        {
          "output_type": "stream",
          "name": "stdout",
          "text": [
            "Anthropologie **German:**  \n",
            "Anthropologie ist die Wissenschaft vom Menschen, die sowohl seine biologischen als auch seine kulturellen und sozialen Aspekte untersucht. Sie befasst sich mit der Evolution des Menschen, seiner körperlichen Entwicklung, seinen gesellschaftlichen Strukturen, Sprachen, Glaubenssystemen und kulturellen Praktiken. Die Anthropologie wird oft in verschiedene Teilbereiche unterteilt, wie z. B. biologische Anthropologie, Kulturanthropologie, linguistische Anthropologie und archäologische Anthropologie.\n",
            "\n",
            "**English:**  \n",
            "Anthropology is the study of humans, encompassing both their biological and cultural aspects. It examines human evolution, physical development, societal structures, languages, belief systems, and cultural practices. Anthropology is often divided into subfields, such as biological anthropology, cultural anthropology, linguistic anthropology, and archaeological anthropology.\n"
          ]
        },
        {
          "output_type": "stream",
          "name": "stderr",
          "text": [
            "\r 77%|███████▋  | 265/345 [1:33:02<21:30, 16.13s/it]"
          ]
        },
        {
          "output_type": "stream",
          "name": "stdout",
          "text": [
            "Medizin (Allgemeines) **Deutsche Beschreibung:**  \n",
            "\"Medizin (Allgemeines)\" ist ein umfassendes Fach, das sich mit den Grundlagen, Theorien und Praktiken der menschlichen Gesundheit und Krankheit befasst. Es umfasst die Erforschung von Anatomie, Physiologie, Pathologie, Diagnostik, Therapie und Prävention von Erkrankungen. Das Fach legt den Grundstein für das Verständnis des menschlichen Körpers, seiner Funktionen und der medizinischen Versorgung. Es ist die Basis für weiterführende Spezialisierungen in verschiedenen medizinischen Disziplinen.\n",
            "\n",
            "**English Description:**  \n",
            "\"Medicine (General)\" is a comprehensive subject that deals with the fundamentals, theories, and practices of human health and disease. It includes the study of anatomy, physiology, pathology, diagnostics, therapy, and prevention of illnesses. The subject provides the foundation for understanding the human body, its functions, and medical care. It serves as the basis for further specialization in various medical disciplines.\n"
          ]
        },
        {
          "output_type": "stream",
          "name": "stderr",
          "text": [
            "\r 77%|███████▋  | 266/345 [1:33:11<18:44, 14.24s/it]"
          ]
        },
        {
          "output_type": "stream",
          "name": "stdout",
          "text": [
            "Medizingeschichte **Deutsch:**  \n",
            "Medizingeschichte ist das Fachgebiet, das sich mit der historischen Entwicklung der Medizin, der medizinischen Praktiken, Theorien und Institutionen beschäftigt. Es untersucht, wie sich das Verständnis von Gesundheit, Krankheit und Heilung im Laufe der Zeit verändert hat, und berücksichtigt dabei kulturelle, soziale, politische und technologische Einflüsse. Die Medizingeschichte verbindet Aspekte der Geschichtswissenschaft, Medizin, Philosophie und Soziologie, um ein umfassendes Bild der menschlichen Gesundheitsversorgung zu zeichnen.\n",
            "\n",
            "**English:**  \n",
            "Medical history is the field of study that focuses on the historical development of medicine, medical practices, theories, and institutions. It explores how the understanding of health, illness, and healing has evolved over time, taking into account cultural, social, political, and technological influences. Medical history combines aspects of history, medicine, philosophy, and sociology to provide a comprehensive picture of human healthcare.\n"
          ]
        },
        {
          "output_type": "stream",
          "name": "stderr",
          "text": [
            "\r 77%|███████▋  | 267/345 [1:33:39<23:54, 18.39s/it]"
          ]
        },
        {
          "output_type": "stream",
          "name": "stdout",
          "text": [
            "Anatomie **German:**  \n",
            "Anatomie ist die Wissenschaft, die sich mit dem Aufbau und der Struktur des menschlichen Körpers sowie der Körperteile von Lebewesen beschäftigt. Sie untersucht Organe, Gewebe, Knochen und Systeme wie das Nerven-, Muskel- und Kreislaufsystem, um deren Form, Lage und Funktion zu verstehen.\n",
            "\n",
            "**English:**  \n",
            "Anatomy is the scientific study of the structure and organization of the human body and the body parts of living organisms. It examines organs, tissues, bones, and systems such as the nervous, muscular, and circulatory systems to understand their shape, location, and function.\n"
          ]
        },
        {
          "output_type": "stream",
          "name": "stderr",
          "text": [
            "\r 78%|███████▊  | 268/345 [1:33:49<20:06, 15.67s/it]"
          ]
        },
        {
          "output_type": "stream",
          "name": "stdout",
          "text": [
            "Physiologie (Allgemeines), Physiologische Chemie **German:**  \n",
            "Die 'Physiologie (Allgemeines), Physiologische Chemie' befasst sich mit den grundlegenden Lebensprozessen in Organismen und den chemischen Vorgängen, die diesen zugrunde liegen. Sie untersucht die Funktionsweise von Zellen, Geweben und Organen sowie die biochemischen Mechanismen, die den Stoffwechsel, die Energiegewinnung und die Regulation von Körperfunktionen steuern. Dieser Bereich verbindet biologische und chemische Prinzipien, um das Verständnis von Gesundheit und Krankheit zu vertiefen.\n",
            "\n",
            "**English:**  \n",
            "'Physiology (General), Physiological Chemistry' focuses on the fundamental life processes in organisms and the chemical processes underlying them. It examines the functioning of cells, tissues, and organs, as well as the biochemical mechanisms that regulate metabolism, energy production, and bodily functions. This field integrates biological and chemical principles to deepen the understanding of health and disease.\n"
          ]
        },
        {
          "output_type": "stream",
          "name": "stderr",
          "text": [
            "\r 78%|███████▊  | 269/345 [1:33:59<17:43, 14.00s/it]"
          ]
        },
        {
          "output_type": "stream",
          "name": "stdout",
          "text": [
            "Blut, Kardiovaskuläres System, Atmungsorgan **German:**  \n",
            "Das Fachgebiet \"Blut, Kardiovaskuläres System, Atmungsorgan\" befasst sich mit der Struktur, Funktion und den Erkrankungen des Blutes, des Herz-Kreislauf-Systems und der Atmungsorgane. Es umfasst die Untersuchung von Blutbestandteilen, der Herzfunktion, des Gefäßsystems sowie der Lunge und der Atemwege. Dieses Fach ist zentral für das Verständnis von physiologischen Prozessen und pathologischen Zuständen wie Anämien, Herzinfarkten, Bluthochdruck und Lungenerkrankungen.\n",
            "\n",
            "**English:**  \n",
            "The subject \"Blood, Cardiovascular System, Respiratory Organs\" focuses on the structure, function, and disorders of blood, the cardiovascular system, and the respiratory organs. It includes the study of blood components, heart function, the vascular system, as well as the lungs and airways. This field is essential for understanding physiological processes and pathological conditions such as anemia, heart attacks, hypertension, and lung diseases.\n"
          ]
        },
        {
          "output_type": "stream",
          "name": "stderr",
          "text": [
            "\r 78%|███████▊  | 270/345 [1:34:06<14:53, 11.91s/it]"
          ]
        },
        {
          "output_type": "stream",
          "name": "stdout",
          "text": [
            "Ernährung, Stoffwechsel, Inkretion **German:**  \n",
            "Das Fachgebiet 'Ernährung, Stoffwechsel, Inkretion' beschäftigt sich mit den Prozessen der Nahrungsaufnahme, der Verwertung von Nährstoffen im Körper sowie der Regulation durch Hormone. Es umfasst die physiologischen und biochemischen Grundlagen des Stoffwechsels, die Rolle der Ernährung für die Gesundheit und die Funktion der endokrinen Drüsen, die Hormone zur Steuerung verschiedener Körperfunktionen produzieren.  \n",
            "\n",
            "**English:**  \n",
            "The subject 'Nutrition, Metabolism, and Endocrinology' focuses on the processes of food intake, the utilization of nutrients in the body, and their regulation by hormones. It covers the physiological and biochemical foundations of metabolism, the role of nutrition in health, and the function of endocrine glands, which produce hormones to regulate various bodily functions.\n"
          ]
        },
        {
          "output_type": "stream",
          "name": "stderr",
          "text": [
            "\r 79%|███████▊  | 271/345 [1:34:35<20:55, 16.97s/it]"
          ]
        },
        {
          "output_type": "stream",
          "name": "stdout",
          "text": [
            "Haut, Knochen, Nerven, Muskeln, Sinnesorgane **German:**  \n",
            "Das Fachgebiet \"Haut, Knochen, Nerven, Muskeln, Sinnesorgane\" befasst sich mit der Anatomie, Physiologie und Pathologie dieser Strukturen und Systeme im menschlichen Körper. Es umfasst die Untersuchung der Haut als Schutzorgan, der Knochen als Stützgerüst, der Nerven als Leitungsbahnen, der Muskeln als Bewegungsapparat und der Sinnesorgane als Wahrnehmungssysteme. Dieses Wissen ist grundlegend für Medizin, Biologie und verwandte Disziplinen.\n",
            "\n",
            "**English:**  \n",
            "The subject \"Skin, Bones, Nerves, Muscles, Sensory Organs\" focuses on the anatomy, physiology, and pathology of these structures and systems in the human body. It includes the study of the skin as a protective organ, bones as the skeletal framework, nerves as conduits for signals, muscles as the motor system, and sensory organs as perception systems. This knowledge is fundamental to medicine, biology, and related disciplines.\n"
          ]
        },
        {
          "output_type": "stream",
          "name": "stderr",
          "text": [
            "\r 79%|███████▉  | 272/345 [1:34:45<18:11, 14.96s/it]"
          ]
        },
        {
          "output_type": "stream",
          "name": "stdout",
          "text": [
            "Harn- und Geschlechtsorgane **German:**  \n",
            "Das Fachgebiet 'Harn- und Geschlechtsorgane' befasst sich mit der Anatomie, Physiologie, Pathologie und Behandlung der Organe, die für die Harnproduktion und -ausscheidung sowie für die Fortpflanzung verantwortlich sind. Dazu gehören die Nieren, Harnleiter, Harnblase, Harnröhre sowie die Geschlechtsorgane wie Hoden, Eierstöcke, Gebärmutter und Prostata. Es ist ein zentraler Bereich in der Urologie, Gynäkologie und Nephrologie.\n",
            "\n",
            "**English:**  \n",
            "The subject 'Urinary and Reproductive Organs' deals with the anatomy, physiology, pathology, and treatment of the organs responsible for urine production and excretion, as well as reproduction. This includes the kidneys, ureters, bladder, urethra, and reproductive organs such as the testes, ovaries, uterus, and prostate. It is a central field in urology, gynecology, and nephrology.\n"
          ]
        },
        {
          "output_type": "stream",
          "name": "stderr",
          "text": [
            "\r 79%|███████▉  | 273/345 [1:34:52<15:07, 12.61s/it]"
          ]
        },
        {
          "output_type": "stream",
          "name": "stdout",
          "text": [
            "Allgemeine Pathologie, Onkologie, Experimentelle Medizin **German Description:**  \n",
            "\"Allgemeine Pathologie, Onkologie, Experimentelle Medizin\" ist ein interdisziplinäres Fach, das sich mit den grundlegenden Mechanismen von Krankheiten, insbesondere Krebs, sowie mit experimentellen Ansätzen zur Erforschung und Entwicklung neuer Therapien beschäftigt. Es umfasst die Untersuchung von Krankheitsursachen, pathologischen Prozessen auf zellulärer und molekularer Ebene sowie die Anwendung experimenteller Methoden in der Medizin, um neue Erkenntnisse und Behandlungsmöglichkeiten zu gewinnen.\n",
            "\n",
            "**English Description:**  \n",
            "\"General Pathology, Oncology, Experimental Medicine\" is an interdisciplinary field that focuses on the fundamental mechanisms of diseases, particularly cancer, and employs experimental approaches to research and develop new therapies. It involves the study of disease causes, pathological processes at the cellular and molecular level, and the application of experimental methods in medicine to gain new insights and treatment possibilities.\n"
          ]
        },
        {
          "output_type": "stream",
          "name": "stderr",
          "text": [
            "\r 79%|███████▉  | 274/345 [1:35:00<13:20, 11.28s/it]"
          ]
        },
        {
          "output_type": "stream",
          "name": "stdout",
          "text": [
            "Allgemeine Diagnostik **German:**  \n",
            "'Allgemeine Diagnostik' ist ein Fachgebiet, das sich mit den grundlegenden Methoden und Verfahren zur Erkennung und Beurteilung von Krankheiten oder gesundheitlichen Störungen beschäftigt. Es umfasst die systematische Sammlung und Analyse von klinischen Daten, die Anwendung verschiedener diagnostischer Werkzeuge sowie die Interpretation von Befunden, um eine präzise Diagnose zu stellen. Dieses Fach bildet die Basis für eine effektive Therapieplanung und Patientenversorgung.\n",
            "\n",
            "**English:**  \n",
            "'General Diagnostics' is a field of study that focuses on the fundamental methods and procedures for identifying and assessing diseases or health disorders. It involves the systematic collection and analysis of clinical data, the application of various diagnostic tools, and the interpretation of findings to establish an accurate diagnosis. This subject forms the foundation for effective treatment planning and patient care.\n"
          ]
        },
        {
          "output_type": "stream",
          "name": "stderr",
          "text": [
            "\r 80%|███████▉  | 275/345 [1:35:12<13:13, 11.34s/it]"
          ]
        },
        {
          "output_type": "stream",
          "name": "stdout",
          "text": [
            "Medizinische Radiologie, Nuklearmedizin **German:**  \n",
            "Die 'Medizinische Radiologie und Nuklearmedizin' ist ein Fachgebiet der Medizin, das sich mit der Anwendung bildgebender Verfahren zur Diagnose und Therapie von Erkrankungen beschäftigt. Die Radiologie umfasst Techniken wie Röntgen, Computertomographie (CT), Magnetresonanztomographie (MRT) und Ultraschall, während die Nuklearmedizin radioaktive Substanzen (Radiotracer) zur Darstellung von Stoffwechselvorgängen und Organfunktionen einsetzt, z. B. in der Positronen-Emissions-Tomographie (PET). Beide Bereiche spielen eine zentrale Rolle in der modernen Medizin, da sie präzise Einblicke in den Körper ermöglichen und gezielte Behandlungen unterstützen.  \n",
            "\n",
            "**English:**  \n",
            "'Medical Radiology and Nuclear Medicine' is a medical specialty focused on the use of imaging techniques for the diagnosis and treatment of diseases. Radiology includes methods such as X-rays, computed tomography (CT), magnetic resonance imaging (MRI), and ultrasound, while nuclear medicine utilizes radioactive substances (radiotracers) to visualize metabolic processes and organ functions, for example, in positron emission tomography (PET). Both fields play a central role in modern medicine, as they provide precise insights into the body and support targeted treatments.\n"
          ]
        },
        {
          "output_type": "stream",
          "name": "stderr",
          "text": [
            "\r 80%|████████  | 276/345 [1:35:29<15:14, 13.26s/it]"
          ]
        },
        {
          "output_type": "stream",
          "name": "stdout",
          "text": [
            "Allgemeine Therapie **German Description:**  \n",
            "\"Allgemeine Therapie\" bezieht sich auf die grundlegenden Prinzipien und Methoden der Behandlung von Krankheiten und gesundheitlichen Störungen. Dieses Fach umfasst die allgemeinen Aspekte der Diagnostik, Therapieplanung und -durchführung, unabhängig von spezifischen medizinischen Fachgebieten. Es legt den Schwerpunkt auf die ganzheitliche Betrachtung des Patienten, evidenzbasierte Behandlungsansätze und die Integration verschiedener Therapieformen.\n",
            "\n",
            "**English Description:**  \n",
            "\"General Therapy\" refers to the fundamental principles and methods of treating diseases and health disorders. This subject covers the general aspects of diagnosis, treatment planning, and implementation, regardless of specific medical specialties. It emphasizes a holistic approach to patient care, evidence-based treatment strategies, and the integration of various therapeutic methods.\n"
          ]
        },
        {
          "output_type": "stream",
          "name": "stderr",
          "text": [
            "\r 80%|████████  | 277/345 [1:36:58<40:29, 35.72s/it]"
          ]
        },
        {
          "output_type": "stream",
          "name": "stdout",
          "text": [
            "Pharmazie, Pharmakologie, Toxikologie **German Description:**  \n",
            "Pharmazie, Pharmakologie und Toxikologie sind interdisziplinäre Wissenschaften, die sich mit der Entwicklung, Wirkung, Anwendung und Sicherheit von Arzneimitteln befassen. Die Pharmazie konzentriert sich auf die Herstellung und Abgabe von Medikamenten, während die Pharmakologie die Wirkungsweise von Substanzen im Körper untersucht. Die Toxikologie beschäftigt sich mit den schädlichen Effekten von Chemikalien und Giftstoffen auf lebende Organismen. Zusammen bilden diese Disziplinen die Grundlage für die Entwicklung und den sicheren Einsatz von Therapien in der Medizin.\n",
            "\n",
            "**English Description:**  \n",
            "Pharmacy, Pharmacology, and Toxicology are interdisciplinary sciences that focus on the development, effects, application, and safety of pharmaceutical drugs. Pharmacy deals with the preparation and dispensing of medications, while Pharmacology studies how substances interact with the body. Toxicology examines the harmful effects of chemicals and toxins on living organisms. Together, these fields form the foundation for the development and safe use of therapies in medicine.\n"
          ]
        },
        {
          "output_type": "stream",
          "name": "stderr",
          "text": [
            "\r 81%|████████  | 278/345 [1:37:07<30:57, 27.72s/it]"
          ]
        },
        {
          "output_type": "stream",
          "name": "stdout",
          "text": [
            "Immunologie **German:**  \n",
            "Immunologie ist das wissenschaftliche Fachgebiet, das sich mit dem Immunsystem, seinen Funktionen und Mechanismen befasst. Es untersucht, wie der Körper sich gegen Krankheitserreger wie Bakterien, Viren, Pilze und Parasiten verteidigt, sowie die Rolle des Immunsystems bei Autoimmunerkrankungen, Allergien und Transplantationen. Die Immunologie kombiniert Aspekte der Biologie, Medizin und Biochemie, um die komplexen Wechselwirkungen zwischen Immunzellen, Molekülen und Organismen zu verstehen.\n",
            "\n",
            "**English:**  \n",
            "Immunology is the scientific discipline that focuses on the immune system, its functions, and mechanisms. It explores how the body defends itself against pathogens such as bacteria, viruses, fungi, and parasites, as well as the role of the immune system in autoimmune diseases, allergies, and transplantations. Immunology combines aspects of biology, medicine, and biochemistry to understand the complex interactions between immune cells, molecules, and organisms.\n"
          ]
        },
        {
          "output_type": "stream",
          "name": "stderr",
          "text": [
            "\r 81%|████████  | 279/345 [1:37:17<24:49, 22.56s/it]"
          ]
        },
        {
          "output_type": "stream",
          "name": "stdout",
          "text": [
            "Innere Medizin **Deutsch:**  \n",
            "\"Innere Medizin\" ist ein zentrales Fachgebiet der Medizin, das sich mit der Prävention, Diagnose und nicht-operativen Behandlung von Erkrankungen der inneren Organe beschäftigt. Dazu gehören unter anderem die Bereiche Kardiologie, Pneumologie, Gastroenterologie, Nephrologie, Endokrinologie und Hämatologie. Die Innere Medizin ist breit gefächert und spielt eine Schlüsselrolle in der Patientenversorgung, da sie oft als erste Anlaufstelle für komplexe und vielschichtige Krankheitsbilder dient.\n",
            "\n",
            "**English:**  \n",
            "\"Internal Medicine\" is a core discipline of medicine that focuses on the prevention, diagnosis, and non-surgical treatment of diseases affecting the internal organs. It encompasses areas such as cardiology, pulmonology, gastroenterology, nephrology, endocrinology, and hematology. Internal medicine is broad in scope and plays a key role in patient care, often serving as the first point of contact for complex and multifaceted medical conditions.\n"
          ]
        },
        {
          "output_type": "stream",
          "name": "stderr",
          "text": [
            "\r 81%|████████  | 280/345 [1:37:25<19:48, 18.28s/it]"
          ]
        },
        {
          "output_type": "stream",
          "name": "stdout",
          "text": [
            "Hämatologie, Kardiologie **German:**  \n",
            "Hämatologie und Kardiologie sind zwei zentrale Fachgebiete der Medizin. Die Hämatologie beschäftigt sich mit den Erkrankungen des Blutes und der blutbildenden Organe, wie Anämien, Leukämien und Blutgerinnungsstörungen. Die Kardiologie konzentriert sich auf das Herz-Kreislauf-System und behandelt Krankheiten wie Herzinsuffizienz, Herzrhythmusstörungen und koronare Herzkrankheiten. Beide Disziplinen sind eng miteinander verbunden, da das Blut eine entscheidende Rolle für die Herzgesundheit spielt.\n",
            "\n",
            "**English:**  \n",
            "Hematology and cardiology are two central fields of medicine. Hematology deals with disorders of the blood and blood-forming organs, such as anemia, leukemia, and coagulation disorders. Cardiology focuses on the cardiovascular system and treats conditions like heart failure, arrhythmias, and coronary artery disease. Both disciplines are closely interconnected, as blood plays a crucial role in heart health.\n"
          ]
        },
        {
          "output_type": "stream",
          "name": "stderr",
          "text": [
            "\r 81%|████████▏ | 281/345 [1:37:33<16:12, 15.19s/it]"
          ]
        },
        {
          "output_type": "stream",
          "name": "stdout",
          "text": [
            "Pulmonologie **German:**  \n",
            "Pulmonologie ist das medizinische Fachgebiet, das sich mit der Diagnose, Behandlung und Prävention von Erkrankungen der Atemwege und der Lunge befasst. Dazu gehören Krankheiten wie Asthma, chronisch obstruktive Lungenerkrankungen (COPD), Lungenentzündungen, Lungenkrebs und andere Atemwegserkrankungen. Pulmonologen verwenden verschiedene diagnostische Methoden wie Lungenfunktionstests, Bildgebung und Bronchoskopie, um Patienten zu behandeln und ihre Lebensqualität zu verbessern.\n",
            "\n",
            "**English:**  \n",
            "Pulmonology is the medical specialty focused on the diagnosis, treatment, and prevention of diseases related to the respiratory tract and lungs. This includes conditions such as asthma, chronic obstructive pulmonary disease (COPD), pneumonia, lung cancer, and other respiratory disorders. Pulmonologists employ various diagnostic techniques like pulmonary function tests, imaging, and bronchoscopy to manage patients and enhance their quality of life.\n"
          ]
        },
        {
          "output_type": "stream",
          "name": "stderr",
          "text": [
            "\r 82%|████████▏ | 282/345 [1:37:44<14:25, 13.74s/it]"
          ]
        },
        {
          "output_type": "stream",
          "name": "stdout",
          "text": [
            "Gastroenterologie, Endokrinopathie **German:**  \n",
            "Gastroenterologie und Endokrinopathie sind zwei medizinische Fachgebiete, die sich mit Erkrankungen des Verdauungssystems und hormonellen Störungen befassen. Die Gastroenterologie konzentriert sich auf die Diagnose und Behandlung von Krankheiten des Magen-Darm-Trakts, der Leber, der Gallenwege und der Bauchspeicheldrüse. Endokrinopathien hingegen betreffen Störungen der Hormondrüsen, wie der Schilddrüse, der Nebennieren oder der Hypophyse, die den Stoffwechsel, das Wachstum und andere Körperfunktionen beeinflussen. Beide Bereiche sind häufig miteinander verbunden, da hormonelle Ungleichgewichte die Funktion des Verdauungssystems beeinträchtigen können und umgekehrt.\n",
            "\n",
            "**English:**  \n",
            "Gastroenterology and endocrinopathy are two medical disciplines that deal with disorders of the digestive system and hormonal imbalances. Gastroenterology focuses on the diagnosis and treatment of diseases affecting the gastrointestinal tract, liver, bile ducts, and pancreas. Endocrinopathies, on the other hand, involve disorders of the hormone-producing glands, such as the thyroid, adrenal glands, or pituitary gland, which impact metabolism, growth, and other bodily functions. These two fields are often interconnected, as hormonal imbalances can affect digestive system function and vice versa.\n"
          ]
        },
        {
          "output_type": "stream",
          "name": "stderr",
          "text": [
            "\r 82%|████████▏ | 283/345 [1:37:54<13:07, 12.70s/it]"
          ]
        },
        {
          "output_type": "stream",
          "name": "stdout",
          "text": [
            "Urologie, Nephrologie, Andrologie **German:**  \n",
            "Die Fächer Urologie, Nephrologie und Andrologie beschäftigen sich mit der Diagnose und Behandlung von Erkrankungen des Harntrakts, der Nieren sowie der männlichen Geschlechtsorgane. Die Urologie umfasst chirurgische und nicht-chirurgische Aspekte von Harnwegserkrankungen, die Nephrologie konzentriert sich auf Nierenerkrankungen und deren systemische Auswirkungen, während die Andrologie speziell auf die männliche reproduktive Gesundheit und Hormonstörungen ausgerichtet ist.\n",
            "\n",
            "**English:**  \n",
            "The fields of Urology, Nephrology, and Andrology focus on the diagnosis and treatment of disorders related to the urinary tract, kidneys, and male reproductive organs. Urology covers both surgical and non-surgical aspects of urinary tract diseases, Nephrology specializes in kidney disorders and their systemic effects, while Andrology specifically addresses male reproductive health and hormonal imbalances.\n"
          ]
        },
        {
          "output_type": "stream",
          "name": "stderr",
          "text": [
            "\r 82%|████████▏ | 284/345 [1:38:01<11:05, 10.91s/it]"
          ]
        },
        {
          "output_type": "stream",
          "name": "stdout",
          "text": [
            "Knochen, Gelenke, Muskeln **German Description:**  \n",
            "Das Fach 'Knochen, Gelenke, Muskeln' beschäftigt sich mit der Anatomie und Funktion des Bewegungsapparates des menschlichen Körpers. Es umfasst die Struktur und Eigenschaften von Knochen, die Mechanik und Arten von Gelenken sowie die Physiologie und Aufbau der Muskeln. Dieses Thema ist grundlegend für das Verständnis von Bewegung, Haltung und Verletzungen des Körpers.  \n",
            "\n",
            "**English Description:**  \n",
            "The subject 'Bones, Joints, Muscles' focuses on the anatomy and function of the human musculoskeletal system. It covers the structure and characteristics of bones, the mechanics and types of joints, as well as the physiology and composition of muscles. This topic is essential for understanding movement, posture, and bodily injuries.\n"
          ]
        },
        {
          "output_type": "stream",
          "name": "stderr",
          "text": [
            "\r 83%|████████▎ | 285/345 [1:38:07<09:35,  9.60s/it]"
          ]
        },
        {
          "output_type": "stream",
          "name": "stdout",
          "text": [
            "Infektionen **German:**  \n",
            "Das Fach 'Infektionen' befasst sich mit der Entstehung, Verbreitung, Diagnose, Behandlung und Prävention von Infektionskrankheiten. Es umfasst das Studium von Krankheitserregern wie Bakterien, Viren, Pilzen und Parasiten sowie die Wechselwirkungen zwischen diesen Erregern und dem menschlichen Immunsystem. Ein Schwerpunkt liegt auf der Epidemiologie, der Entwicklung von Impfstoffen und antimikrobiellen Therapien.  \n",
            "\n",
            "**English:**  \n",
            "The subject 'Infections' focuses on the origin, spread, diagnosis, treatment, and prevention of infectious diseases. It involves the study of pathogens such as bacteria, viruses, fungi, and parasites, as well as the interactions between these pathogens and the human immune system. A key emphasis is placed on epidemiology, the development of vaccines, and antimicrobial therapies.\n"
          ]
        },
        {
          "output_type": "stream",
          "name": "stderr",
          "text": [
            "\r 83%|████████▎ | 286/345 [1:38:15<08:46,  8.93s/it]"
          ]
        },
        {
          "output_type": "stream",
          "name": "stdout",
          "text": [
            "Chirurgie, Orthopädie **German:**  \n",
            "'Chirurgie, Orthopädie' ist ein medizinisches Fachgebiet, das sich mit der Diagnose, Behandlung und Prävention von Erkrankungen, Verletzungen und Fehlbildungen des Bewegungsapparates befasst. Die Chirurgie umfasst operative Eingriffe an verschiedenen Körperteilen, während die Orthopädie speziell auf Knochen, Gelenke, Muskeln, Bänder und Sehnen fokussiert ist. Beide Disziplinen arbeiten eng zusammen, um Patienten eine umfassende Versorgung zu bieten.\n",
            "\n",
            "**English:**  \n",
            "'Surgery, Orthopedics' is a medical field that deals with the diagnosis, treatment, and prevention of diseases, injuries, and deformities of the musculoskeletal system. Surgery involves operative procedures on various parts of the body, while orthopedics specifically focuses on bones, joints, muscles, ligaments, and tendons. Both disciplines work closely together to provide comprehensive care for patients.\n"
          ]
        },
        {
          "output_type": "stream",
          "name": "stderr",
          "text": [
            "\r 83%|████████▎ | 287/345 [1:38:24<08:49,  9.14s/it]"
          ]
        },
        {
          "output_type": "stream",
          "name": "stdout",
          "text": [
            "Gynäkologie, Geburtshilfe **Deutsch:**  \n",
            "Gynäkologie und Geburtshilfe sind medizinische Fachgebiete, die sich mit der Gesundheit der weiblichen Geschlechtsorgane sowie mit Schwangerschaft, Geburt und dem Wochenbett befassen. Die Gynäkologie umfasst die Diagnose und Behandlung von Erkrankungen wie Menstruationsstörungen, Hormonstörungen, Infektionen und gynäkologischen Krebserkrankungen. Die Geburtshilfe konzentriert sich auf die Betreuung von Schwangeren, die Überwachung von Mutter und Kind während der Schwangerschaft sowie die Durchführung von Geburten und die Nachsorge nach der Entbindung. Beide Bereiche sind eng miteinander verbunden und spielen eine zentrale Rolle in der Frauenheilkunde.\n",
            "\n",
            "**English:**  \n",
            "Gynecology and obstetrics are medical specialties focused on the health of the female reproductive system, as well as pregnancy, childbirth, and the postpartum period. Gynecology involves the diagnosis and treatment of conditions such as menstrual disorders, hormonal imbalances, infections, and gynecological cancers. Obstetrics is centered on the care of pregnant women, monitoring the health of both mother and child during pregnancy, assisting in childbirth, and providing postpartum care. These two fields are closely interconnected and play a vital role in women's healthcare.\n"
          ]
        },
        {
          "output_type": "stream",
          "name": "stderr",
          "text": [
            "\r 83%|████████▎ | 288/345 [1:38:42<11:03, 11.65s/it]"
          ]
        },
        {
          "output_type": "stream",
          "name": "stdout",
          "text": [
            "Kinderheilkunde **German:**  \n",
            "Kinderheilkunde, auch Pädiatrie genannt, ist ein medizinisches Fachgebiet, das sich mit der Entwicklung, den Erkrankungen und der Behandlung von Kindern und Jugendlichen beschäftigt. Es umfasst die Prävention, Diagnose und Therapie von Krankheiten sowie die Förderung der körperlichen, geistigen und sozialen Gesundheit von Patienten bis zum 18. Lebensjahr.  \n",
            "\n",
            "**English:**  \n",
            "Pediatrics, also known as Kinderheilkunde in German, is a medical specialty focused on the development, diseases, and treatment of infants, children, and adolescents. It encompasses the prevention, diagnosis, and management of illnesses, as well as the promotion of physical, mental, and social well-being in patients up to the age of 18.\n"
          ]
        },
        {
          "output_type": "stream",
          "name": "stderr",
          "text": [
            "\r 84%|████████▍ | 289/345 [1:38:51<10:17, 11.02s/it]"
          ]
        },
        {
          "output_type": "stream",
          "name": "stdout",
          "text": [
            "Neurologie, Psychiatrie **German:**  \n",
            "Die Fächer Neurologie und Psychiatrie beschäftigen sich mit Erkrankungen des Nervensystems und der Psyche. Die Neurologie konzentriert sich auf organische Störungen des Gehirns, des Rückenmarks und der peripheren Nerven, wie z. B. Schlaganfälle, Epilepsie oder Multiple Sklerose. Die Psychiatrie befasst sich mit psychischen Erkrankungen wie Depressionen, Angststörungen, Schizophrenie und Suchterkrankungen. Beide Disziplinen überschneiden sich häufig, da neurologische und psychische Störungen oft eng miteinander verbunden sind.  \n",
            "\n",
            "**English:**  \n",
            "The fields of Neurology and Psychiatry deal with disorders of the nervous system and the mind. Neurology focuses on organic disorders of the brain, spinal cord, and peripheral nerves, such as strokes, epilepsy, or multiple sclerosis. Psychiatry addresses mental health conditions like depression, anxiety disorders, schizophrenia, and addiction. The two disciplines often overlap, as neurological and psychiatric disorders are frequently interconnected.\n"
          ]
        },
        {
          "output_type": "stream",
          "name": "stderr",
          "text": [
            "\r 84%|████████▍ | 290/345 [1:39:04<10:37, 11.59s/it]"
          ]
        },
        {
          "output_type": "stream",
          "name": "stdout",
          "text": [
            "Dermatologie, Venerologie **Deutsch:**  \n",
            "Die Dermatologie und Venerologie ist ein medizinisches Fachgebiet, das sich mit der Diagnose, Behandlung und Prävention von Haut-, Haar- und Nagelerkrankungen sowie mit sexuell übertragbaren Infektionen (STIs) befasst. Dermatologen und Venerologen beschäftigen sich mit einer Vielzahl von Erkrankungen, darunter Hautkrebs, Ekzeme, Psoriasis, Akne, Pilzinfektionen und Geschlechtskrankheiten wie Syphilis oder HIV. Das Fachgebiet kombiniert klinische Praxis, Forschung und kosmetische Dermatologie, um die Hautgesundheit und das Wohlbefinden der Patienten zu verbessern.\n",
            "\n",
            "**English:**  \n",
            "Dermatology and Venereology is a medical specialty focused on the diagnosis, treatment, and prevention of skin, hair, and nail disorders, as well as sexually transmitted infections (STIs). Dermatologists and venereologists address a wide range of conditions, including skin cancer, eczema, psoriasis, acne, fungal infections, and sexually transmitted diseases such as syphilis or HIV. The field combines clinical practice, research, and cosmetic dermatology to enhance skin health and patient well-being.\n"
          ]
        },
        {
          "output_type": "stream",
          "name": "stderr",
          "text": [
            "\r 84%|████████▍ | 291/345 [1:39:46<18:38, 20.72s/it]"
          ]
        },
        {
          "output_type": "stream",
          "name": "stdout",
          "text": [
            "Hals-Nasen-Ohren-Heilkunde **Deutsch:**  \n",
            "Die Hals-Nasen-Ohren-Heilkunde (HNO-Heilkunde) ist ein medizinisches Fachgebiet, das sich mit der Diagnose, Behandlung und Prävention von Erkrankungen, Verletzungen und Fehlbildungen im Bereich des Halses, der Nase, der Ohren sowie der benachbarten Strukturen wie der oberen Atemwege und der Speiseröhre befasst. Zu den typischen Erkrankungen gehören unter anderem Hörstörungen, Nasennebenhöhlenentzündungen, Schluckbeschwerden und Tumore im Kopf-Hals-Bereich. HNO-Ärzte führen auch chirurgische Eingriffe durch, wie z. B. die Entfernung der Mandeln oder die Korrektur von Nasenscheidewandverkrümmungen.\n",
            "\n",
            "**English:**  \n",
            "Otorhinolaryngology (ENT medicine) is a medical specialty that focuses on the diagnosis, treatment, and prevention of diseases, injuries, and malformations in the areas of the throat, nose, ears, and related structures such as the upper respiratory tract and the esophagus. Common conditions include hearing disorders, sinus infections, swallowing difficulties, and tumors in the head and neck region. ENT specialists also perform surgical procedures, such as tonsillectomies or the correction of deviated nasal septa.\n"
          ]
        },
        {
          "output_type": "stream",
          "name": "stderr",
          "text": [
            "\r 85%|████████▍ | 292/345 [1:40:29<24:09, 27.35s/it]"
          ]
        },
        {
          "output_type": "stream",
          "name": "stdout",
          "text": [
            "Augenheilkunde **German:**  \n",
            "Augenheilkunde, auch Ophthalmologie genannt, ist das medizinische Fachgebiet, das sich mit der Diagnose, Behandlung und Prävention von Erkrankungen und Störungen des Auges und des Sehsystems befasst. Dazu gehören unter anderem die Untersuchung von Sehschärfe, die Behandlung von Augenkrankheiten wie Grauer Star oder Glaukom, sowie chirurgische Eingriffe am Auge. Augenärzte (Ophthalmologen) sind speziell ausgebildet, um sowohl medizinische als auch operative Behandlungen durchzuführen.\n",
            "\n",
            "**English:**  \n",
            "Ophthalmology, also known as eye medicine, is the branch of medicine that deals with the diagnosis, treatment, and prevention of diseases and disorders of the eye and the visual system. This includes the examination of visual acuity, the treatment of eye conditions such as cataracts or glaucoma, as well as surgical procedures on the eye. Ophthalmologists are specially trained to perform both medical and surgical treatments.\n"
          ]
        },
        {
          "output_type": "stream",
          "name": "stderr",
          "text": [
            "\r 85%|████████▍ | 293/345 [1:40:53<22:42, 26.20s/it]"
          ]
        },
        {
          "output_type": "stream",
          "name": "stdout",
          "text": [
            "Zahnmedizin **German:**  \n",
            "Zahnmedizin, auch Zahnheilkunde genannt, ist ein medizinisches Fachgebiet, das sich mit der Diagnose, Prävention und Behandlung von Erkrankungen, Störungen und Verletzungen der Zähne, des Zahnfleischs, des Kiefers und der Mundhöhle beschäftigt. Zahnärzte arbeiten daran, die Mundgesundheit ihrer Patienten zu erhalten und wiederherzustellen, und bieten Leistungen wie Zahnreinigungen, Füllungen, Prothesen, Kieferorthopädie und chirurgische Eingriffe an.\n",
            "\n",
            "**English:**  \n",
            "Dentistry, also known as dental medicine, is a medical field focused on the diagnosis, prevention, and treatment of diseases, disorders, and injuries related to teeth, gums, the jaw, and the oral cavity. Dentists work to maintain and restore their patients' oral health, providing services such as cleanings, fillings, prosthetics, orthodontics, and surgical procedures.\n"
          ]
        },
        {
          "output_type": "stream",
          "name": "stderr",
          "text": [
            "\r 85%|████████▌ | 294/345 [1:41:11<20:17, 23.88s/it]"
          ]
        },
        {
          "output_type": "stream",
          "name": "stdout",
          "text": [
            "Sexualmedizin **German:**  \n",
            "Sexualmedizin ist ein interdisziplinäres Fachgebiet, das sich mit den körperlichen, psychischen und sozialen Aspekten der menschlichen Sexualität befasst. Es umfasst die Diagnose, Behandlung und Prävention von sexuellen Funktionsstörungen, Geschlechtskrankheiten sowie Fragen der sexuellen Gesundheit und Identität. Sexualmediziner arbeiten oft eng mit Psychologen, Gynäkologen, Urologen und anderen Fachärzten zusammen, um eine ganzheitliche Betreuung der Patienten zu gewährleisten.\n",
            "\n",
            "**English:**  \n",
            "Sexual medicine is an interdisciplinary field that deals with the physical, psychological, and social aspects of human sexuality. It includes the diagnosis, treatment, and prevention of sexual dysfunctions, sexually transmitted infections, as well as issues related to sexual health and identity. Sexual medicine specialists often collaborate closely with psychologists, gynecologists, urologists, and other medical professionals to provide comprehensive care for patients.\n"
          ]
        },
        {
          "output_type": "stream",
          "name": "stderr",
          "text": [
            "\r 86%|████████▌ | 295/345 [1:41:20<16:10, 19.41s/it]"
          ]
        },
        {
          "output_type": "stream",
          "name": "stdout",
          "text": [
            "Sondergebiete der Medizin **German:**  \n",
            "\"Sondergebiete der Medizin\" bezieht sich auf spezialisierte und fortgeschrittene Bereiche der medizinischen Wissenschaft, die über die grundlegenden Kenntnisse der allgemeinen Medizin hinausgehen. Dazu gehören Fachgebiete wie Kardiologie, Onkologie, Neurologie, Dermatologie und viele andere, die sich mit spezifischen Krankheiten, Diagnoseverfahren und Behandlungsmethoden befassen.  \n",
            "\n",
            "**English:**  \n",
            "\"Specialized Areas of Medicine\" refers to advanced and specialized fields within medical science that go beyond the foundational knowledge of general medicine. These include disciplines such as cardiology, oncology, neurology, dermatology, and many others, which focus on specific diseases, diagnostic techniques, and treatment methods.\n"
          ]
        },
        {
          "output_type": "stream",
          "name": "stderr",
          "text": [
            "\r 86%|████████▌ | 296/345 [1:41:26<12:38, 15.48s/it]"
          ]
        },
        {
          "output_type": "stream",
          "name": "stdout",
          "text": [
            "Hygiene, Gesundheitswesen **German Description:**  \n",
            "Das Fach \"Hygiene, Gesundheitswesen\" befasst sich mit der Erhaltung und Förderung der Gesundheit durch präventive Maßnahmen, saubere Lebensbedingungen und die Kontrolle von Krankheitserregern. Es umfasst Themen wie Infektionsschutz, Umweltgesundheit, öffentliche Gesundheitspflege und die Organisation des Gesundheitssystems. Ziel ist es, das Wohlbefinden der Bevölkerung zu sichern und Krankheiten vorzubeugen.\n",
            "\n",
            "**English Description:**  \n",
            "The subject \"Hygiene, Public Health\" focuses on maintaining and promoting health through preventive measures, clean living conditions, and the control of pathogens. It covers topics such as infection control, environmental health, public health care, and the organization of the healthcare system. The aim is to ensure the well-being of the population and prevent diseases.\n"
          ]
        },
        {
          "output_type": "stream",
          "name": "stderr",
          "text": [
            "\r 86%|████████▌ | 297/345 [1:41:44<12:53, 16.11s/it]"
          ]
        },
        {
          "output_type": "stream",
          "name": "stdout",
          "text": [
            "Tiermedizin **German:**  \n",
            "Tiermedizin, auch bekannt als Veterinärmedizin, ist das wissenschaftliche Fachgebiet, das sich mit der Gesundheit, den Krankheiten und der Behandlung von Tieren befasst. Es umfasst die Diagnose, Prävention und Therapie von tierischen Erkrankungen sowie die Forschung in Bereichen wie Tierernährung, Tierhaltung und Tierschutz. Tiermediziner arbeiten mit Haustieren, Nutztieren, Wildtieren und exotischen Tieren, um deren Wohlbefinden zu sichern und die öffentliche Gesundheit zu schützen.\n",
            "\n",
            "**English:**  \n",
            "Veterinary medicine, also known as animal medicine, is the scientific field concerned with the health, diseases, and treatment of animals. It encompasses the diagnosis, prevention, and therapy of animal illnesses, as well as research in areas such as animal nutrition, husbandry, and welfare. Veterinarians work with pets, livestock, wildlife, and exotic animals to ensure their well-being and protect public health.\n"
          ]
        },
        {
          "output_type": "stream",
          "name": "stderr",
          "text": [
            "\r 86%|████████▋ | 298/345 [1:42:41<22:11, 28.34s/it]"
          ]
        },
        {
          "output_type": "stream",
          "name": "stdout",
          "text": [
            "Mathematik **Deutsch:**  \n",
            "Mathematik ist die Wissenschaft der Zahlen, Strukturen, Räume und Veränderungen. Sie beschäftigt sich mit abstrakten Konzepten, Mustern und logischen Zusammenhängen und entwickelt Methoden zur Lösung von Problemen in verschiedenen Bereichen wie Naturwissenschaften, Technik, Wirtschaft und Alltagsleben. Mathematik umfasst Disziplinen wie Algebra, Geometrie, Analysis und Statistik.\n",
            "\n",
            "**English:**  \n",
            "Mathematics is the science of numbers, structures, spaces, and change. It deals with abstract concepts, patterns, and logical relationships, developing methods to solve problems in various fields such as natural sciences, engineering, economics, and everyday life. Mathematics includes disciplines like algebra, geometry, calculus, and statistics.\n"
          ]
        },
        {
          "output_type": "stream",
          "name": "stderr",
          "text": [
            "\r 87%|████████▋ | 299/345 [1:43:02<20:10, 26.31s/it]"
          ]
        },
        {
          "output_type": "stream",
          "name": "stdout",
          "text": [
            "Stochastik, Operations Research **German Description:**  \n",
            "Stochastik und Operations Research sind zwei zentrale Disziplinen in der angewandten Mathematik. Die Stochastik beschäftigt sich mit der Modellierung und Analyse von Zufallsprozessen, einschließlich Wahrscheinlichkeitstheorie und Statistik. Operations Research (OR) konzentriert sich auf die Optimierung von Entscheidungsprozessen in komplexen Systemen, oft unter Einsatz mathematischer Modelle und Algorithmen. Beide Bereiche finden breite Anwendung in Wirtschaft, Ingenieurwesen, Logistik und vielen anderen Feldern.\n",
            "\n",
            "**English Description:**  \n",
            "Stochastics and Operations Research are two key disciplines in applied mathematics. Stochastics deals with the modeling and analysis of random processes, including probability theory and statistics. Operations Research (OR) focuses on optimizing decision-making processes in complex systems, often using mathematical models and algorithms. Both fields are widely applied in economics, engineering, logistics, and many other areas.\n"
          ]
        },
        {
          "output_type": "stream",
          "name": "stderr",
          "text": [
            "\r 87%|████████▋ | 300/345 [1:43:19<17:36, 23.49s/it]"
          ]
        },
        {
          "output_type": "stream",
          "name": "stdout",
          "text": [
            "Informatik, Datenverarbeitung **German:**  \n",
            "'Informatik, Datenverarbeitung' ist ein Fachgebiet, das sich mit der systematischen Verarbeitung, Speicherung und Übertragung von Informationen befasst. Es umfasst die Grundlagen der Informatik, Programmierung, Algorithmen, Datenstrukturen sowie die Anwendung von Software und Hardware zur Lösung komplexer Probleme. Zudem werden Themen wie Datenbanken, Netzwerke und IT-Sicherheit behandelt.\n",
            "\n",
            "**English:**  \n",
            "'Informatics, Data Processing' is a field of study that focuses on the systematic processing, storage, and transmission of information. It covers the fundamentals of computer science, programming, algorithms, data structures, and the application of software and hardware to solve complex problems. Additionally, topics such as databases, networks, and IT security are addressed.\n"
          ]
        },
        {
          "output_type": "stream",
          "name": "stderr",
          "text": [
            "\r 87%|████████▋ | 301/345 [1:43:26<13:28, 18.38s/it]"
          ]
        },
        {
          "output_type": "stream",
          "name": "stdout",
          "text": [
            "Informatikprodukte (Hardware- und Softwareprodukte) **German Description:**  \n",
            "Das Fach \"Informatikprodukte (Hardware- und Softwareprodukte)\" befasst sich mit der Entwicklung, Herstellung und Anwendung von Hard- und Softwarelösungen. Es umfasst die Grundlagen der Informationstechnologie, die Gestaltung von Computersystemen, die Programmierung von Software sowie die Integration von Hard- und Softwarekomponenten. Ziel ist es, Produkte zu schaffen, die effizient, benutzerfreundlich und innovativ sind.  \n",
            "\n",
            "**English Description:**  \n",
            "The subject \"Informatics Products (Hardware and Software Products)\" focuses on the development, production, and application of hardware and software solutions. It covers the fundamentals of information technology, the design of computer systems, software programming, and the integration of hardware and software components. The aim is to create products that are efficient, user-friendly, and innovative.\n"
          ]
        },
        {
          "output_type": "stream",
          "name": "stderr",
          "text": [
            "\r 88%|████████▊ | 302/345 [1:43:42<12:46, 17.82s/it]"
          ]
        },
        {
          "output_type": "stream",
          "name": "stdout",
          "text": [
            "Technik (Allgemeines) **German:**  \n",
            "Das Fach 'Technik (Allgemeines)' bietet einen Überblick über grundlegende technische Prinzipien, Methoden und Anwendungen. Es behandelt Themen wie technische Systeme, Materialkunde, Energieumwandlung, Maschinenbau, Elektrotechnik und Informationstechnologie. Ziel ist es, ein Verständnis für die Funktionsweise und Entwicklung technischer Lösungen in verschiedenen Bereichen zu vermitteln.  \n",
            "\n",
            "**English:**  \n",
            "The subject 'Technology (General)' provides an overview of fundamental technical principles, methods, and applications. It covers topics such as technical systems, materials science, energy conversion, mechanical engineering, electrical engineering, and information technology. The aim is to foster an understanding of the functionality and development of technical solutions across various fields.\n"
          ]
        },
        {
          "output_type": "stream",
          "name": "stderr",
          "text": [
            "\r 88%|████████▊ | 303/345 [1:43:49<10:07, 14.46s/it]"
          ]
        },
        {
          "output_type": "stream",
          "name": "stdout",
          "text": [
            "Technische Physik, Technische Mathematik **German:**  \n",
            "\"Technische Physik und Technische Mathematik sind interdisziplinäre Fachgebiete, die physikalische und mathematische Prinzipien auf technische und ingenieurwissenschaftliche Fragestellungen anwenden. Sie umfassen die Modellierung, Simulation und Analyse komplexer Systeme sowie die Entwicklung innovativer Lösungen für technologische Herausforderungen. Diese Fächer verbinden theoretisches Wissen mit praktischen Anwendungen in Bereichen wie Maschinenbau, Elektrotechnik, Materialwissenschaften und Informationstechnologie.\"\n",
            "\n",
            "**English:**  \n",
            "\"Technical Physics and Technical Mathematics are interdisciplinary fields that apply physical and mathematical principles to engineering and technological problems. They involve the modeling, simulation, and analysis of complex systems, as well as the development of innovative solutions for technological challenges. These subjects combine theoretical knowledge with practical applications in areas such as mechanical engineering, electrical engineering, materials science, and information technology.\"\n"
          ]
        },
        {
          "output_type": "stream",
          "name": "stderr",
          "text": [
            "\r 88%|████████▊ | 304/345 [1:44:00<09:05, 13.31s/it]"
          ]
        },
        {
          "output_type": "stream",
          "name": "stdout",
          "text": [
            "Mess-, Steuerungs- und Regelungstechnik **German:**  \n",
            "'Mess-, Steuerungs- und Regelungstechnik' ist ein Fachgebiet, das sich mit der Erfassung, Verarbeitung und Regelung von physikalischen Größen in technischen Systemen beschäftigt. Es umfasst die Entwicklung und Anwendung von Sensoren zur Messung, Steuerungsalgorithmen zur gezielten Beeinflussung von Prozessen sowie Regelungstechniken zur automatischen Anpassung und Stabilisierung von Systemen. Dieses Fach ist grundlegend für die Automatisierungstechnik, Robotik und viele andere Ingenieurdisziplinen.\n",
            "\n",
            "**English:**  \n",
            "'Measurement, Control, and Automation Engineering' is a field that deals with the acquisition, processing, and regulation of physical quantities in technical systems. It encompasses the development and application of sensors for measurement, control algorithms for targeted process manipulation, and control techniques for the automatic adjustment and stabilization of systems. This subject is fundamental to automation engineering, robotics, and many other engineering disciplines.\n"
          ]
        },
        {
          "output_type": "stream",
          "name": "stderr",
          "text": [
            "\r 88%|████████▊ | 305/345 [1:44:08<07:51, 11.78s/it]"
          ]
        },
        {
          "output_type": "stream",
          "name": "stdout",
          "text": [
            "Werkstoffkunde, Werkstoffprüfung **Deutsch:**  \n",
            "Werkstoffkunde und Werkstoffprüfung ist ein Fachgebiet, das sich mit der Erforschung, Entwicklung, Charakterisierung und Prüfung von Materialien befasst. Es umfasst die Untersuchung der Eigenschaften, Strukturen und Verarbeitungsmethoden von Metallen, Keramiken, Polymeren und Verbundwerkstoffen. Ziel ist es, Materialien für spezifische Anwendungen zu optimieren und ihre Leistungsfähigkeit, Haltbarkeit und Sicherheit zu gewährleisten. Werkstoffprüfung umfasst dabei experimentelle Methoden zur Bestimmung mechanischer, thermischer, chemischer und physikalischer Eigenschaften.\n",
            "\n",
            "**English:**  \n",
            "Materials Science and Materials Testing is a field of study that focuses on the research, development, characterization, and testing of materials. It involves the examination of the properties, structures, and processing methods of metals, ceramics, polymers, and composite materials. The goal is to optimize materials for specific applications and ensure their performance, durability, and safety. Materials testing includes experimental methods to determine mechanical, thermal, chemical, and physical properties.\n"
          ]
        },
        {
          "output_type": "stream",
          "name": "stderr",
          "text": [
            "\r 89%|████████▊ | 306/345 [1:44:15<06:41, 10.29s/it]"
          ]
        },
        {
          "output_type": "stream",
          "name": "stdout",
          "text": [
            "Technikgeschichte **German:**  \n",
            "Technikgeschichte ist ein interdisziplinäres Fach, das sich mit der Entwicklung und dem Einfluss von Technologien im historischen Kontext beschäftigt. Es untersucht, wie technische Innovationen Gesellschaft, Kultur, Wirtschaft und Umwelt geprägt haben und umgekehrt. Dabei werden sowohl materielle Aspekte als auch soziale, politische und kulturelle Faktoren betrachtet. Technikgeschichte bietet Einblicke in die Wechselwirkungen zwischen technischem Fortschritt und menschlichem Handeln.\n",
            "\n",
            "**English:**  \n",
            "History of Technology is an interdisciplinary field that focuses on the development and impact of technologies within their historical context. It explores how technological innovations have shaped society, culture, economy, and the environment, and vice versa. The field considers both material aspects and social, political, and cultural factors. The History of Technology provides insights into the interplay between technological progress and human activity.\n"
          ]
        },
        {
          "output_type": "stream",
          "name": "stderr",
          "text": [
            "\r 89%|████████▉ | 307/345 [1:44:21<05:49,  9.20s/it]"
          ]
        },
        {
          "output_type": "stream",
          "name": "stdout",
          "text": [
            "Sanitärtechnik, Umwelttechnik **German:**  \n",
            "\"Sanitärtechnik, Umwelttechnik\" ist ein Fachgebiet, das sich mit der Planung, Installation und Wartung von sanitären Anlagen sowie mit Technologien zur Umweltschonung befasst. Es umfasst Themen wie Wasserversorgung, Abwasserentsorgung, Recycling, Energieeffizienz und nachhaltige Ressourcennutzung. Ziel ist es, technische Lösungen zu entwickeln, die sowohl den Komfort als auch den Schutz der Umwelt fördern.\n",
            "\n",
            "**English:**  \n",
            "\"Sanitary Engineering, Environmental Engineering\" is a field of study focused on the planning, installation, and maintenance of sanitary systems, as well as technologies for environmental protection. It covers topics such as water supply, wastewater management, recycling, energy efficiency, and sustainable resource use. The goal is to develop technical solutions that enhance both comfort and environmental conservation.\n"
          ]
        },
        {
          "output_type": "stream",
          "name": "stderr",
          "text": [
            "\r 89%|████████▉ | 308/345 [1:44:27<04:59,  8.11s/it]"
          ]
        },
        {
          "output_type": "stream",
          "name": "stdout",
          "text": [
            "Architektur **Deutsch:**  \n",
            "Architektur ist die Kunst und Wissenschaft des Entwerfens und Gestaltens von Gebäuden und Räumen. Sie umfasst sowohl ästhetische als auch funktionale Aspekte und beschäftigt sich mit der Beziehung zwischen Mensch, Raum und Umwelt. Architektur verbindet technisches Know-how mit kreativem Ausdruck und berücksichtigt dabei historische, kulturelle und soziale Kontexte.\n",
            "\n",
            "**English:**  \n",
            "Architecture is the art and science of designing and shaping buildings and spaces. It encompasses both aesthetic and functional aspects and explores the relationship between humans, space, and the environment. Architecture combines technical expertise with creative expression, taking into account historical, cultural, and social contexts.\n"
          ]
        },
        {
          "output_type": "stream",
          "name": "stderr",
          "text": [
            "\r 90%|████████▉ | 309/345 [1:44:47<07:06, 11.85s/it]"
          ]
        },
        {
          "output_type": "stream",
          "name": "stdout",
          "text": [
            "Ortsgebundene Bauwerke **German:**  \n",
            "'Ortsgebundene Bauwerke' bezieht sich auf Bauwerke, die aufgrund ihrer Konstruktion, Funktion oder Nutzung fest an einen bestimmten Ort gebunden sind. Diese Gebäude oder Strukturen können nicht ohne erheblichen Aufwand oder Zerstörung verlegt werden. Beispiele hierfür sind Brücken, Türme, Industrieanlagen oder historische Denkmäler. Das Fachgebiet umfasst Planung, Bau, Erhaltung und Bewertung solcher Bauwerke unter Berücksichtigung ihrer lokalen Gegebenheiten.  \n",
            "\n",
            "**English:**  \n",
            "'Ortsgebundene Bauwerke' (site-specific structures) refers to buildings or constructions that are inherently tied to a specific location due to their design, function, or purpose. These structures cannot be relocated without significant effort or destruction. Examples include bridges, towers, industrial facilities, or historical monuments. The field encompasses the planning, construction, maintenance, and evaluation of such structures, taking into account their local conditions and constraints.\n"
          ]
        },
        {
          "output_type": "stream",
          "name": "stderr",
          "text": [
            "\r 90%|████████▉ | 310/345 [1:44:55<06:08, 10.53s/it]"
          ]
        },
        {
          "output_type": "stream",
          "name": "stdout",
          "text": [
            "Bautechnik **German Description:**  \n",
            "Bautechnik ist ein Fachgebiet, das sich mit der Planung, Konstruktion und Ausführung von Bauwerken beschäftigt. Es umfasst technische, wirtschaftliche und gestalterische Aspekte des Bauens und bezieht sich auf verschiedene Bereiche wie Hochbau, Tiefbau, Gebäudetechnik und Baustoffkunde. Ziel ist es, sichere, nachhaltige und effiziente Bauwerke zu schaffen, die den Anforderungen von Nutzern und Umwelt gerecht werden.\n",
            "\n",
            "**English Description:**  \n",
            "Bautechnik, or construction technology, is a field that deals with the planning, design, and execution of structures. It encompasses technical, economic, and aesthetic aspects of construction, covering areas such as civil engineering, structural engineering, building services, and material science. The goal is to create safe, sustainable, and efficient structures that meet the needs of users and the environment.\n"
          ]
        },
        {
          "output_type": "stream",
          "name": "stderr",
          "text": [
            "\r 90%|█████████ | 311/345 [1:45:07<06:14, 11.02s/it]"
          ]
        },
        {
          "output_type": "stream",
          "name": "stdout",
          "text": [
            "Bergbau, Hüttentechnik **German Description:**  \n",
            "\"Bergbau, Hüttentechnik\" ist ein Fachgebiet, das sich mit der Gewinnung von Rohstoffen aus der Erde (Bergbau) und deren Verarbeitung zu metallischen und nichtmetallischen Produkten (Hüttentechnik) befasst. Es umfasst Technologien und Verfahren zur Erkundung, Förderung, Aufbereitung und Verhüttung von mineralischen Ressourcen sowie die damit verbundenen ingenieurwissenschaftlichen und ökologischen Aspekte.\n",
            "\n",
            "**English Description:**  \n",
            "\"Mining and Metallurgical Engineering\" is a field of study focused on the extraction of raw materials from the earth (mining) and their processing into metallic and non-metallic products (metallurgy). It encompasses technologies and methods for exploration, extraction, beneficiation, and smelting of mineral resources, as well as the associated engineering and environmental considerations.\n"
          ]
        },
        {
          "output_type": "stream",
          "name": "stderr",
          "text": [
            "\r 90%|█████████ | 312/345 [1:45:17<05:51, 10.64s/it]"
          ]
        },
        {
          "output_type": "stream",
          "name": "stdout",
          "text": [
            "Energietechnik, Kerntechnik **German Description:**  \n",
            "Energietechnik und Kerntechnik beschäftigen sich mit der Erzeugung, Umwandlung, Speicherung und Nutzung von Energie, insbesondere im Bereich der Kernenergie. Die Energietechnik umfasst dabei verschiedene Technologien wie fossile Brennstoffe, erneuerbare Energien und Kernkraft, während die Kerntechnik speziell auf die Nutzung der Kernspaltung zur Stromerzeugung sowie die Sicherheit und Entsorgung radioaktiver Abfälle fokussiert ist. Das Fachgebiet vereint ingenieurwissenschaftliche Grundlagen mit technologischen Anwendungen und befasst sich auch mit ökologischen, wirtschaftlichen und politischen Aspekten der Energieversorgung.\n",
            "\n",
            "**English Description:**  \n",
            "Energy Technology and Nuclear Engineering focus on the generation, conversion, storage, and utilization of energy, particularly in the field of nuclear power. Energy Technology encompasses various technologies such as fossil fuels, renewable energy, and nuclear power, while Nuclear Engineering specifically deals with the use of nuclear fission for electricity generation, as well as the safety and disposal of radioactive waste. This field combines engineering fundamentals with technological applications and also addresses environmental, economic, and political aspects of energy supply.\n"
          ]
        },
        {
          "output_type": "stream",
          "name": "stderr",
          "text": [
            "\r 91%|█████████ | 313/345 [1:45:35<06:56, 13.02s/it]"
          ]
        },
        {
          "output_type": "stream",
          "name": "stdout",
          "text": [
            "Maschinenbau **German:**  \n",
            "Maschinenbau ist eine Ingenieurwissenschaft, die sich mit der Entwicklung, Konstruktion, Produktion und Optimierung von Maschinen, Anlagen und technischen Systemen beschäftigt. Es umfasst Themen wie Mechanik, Thermodynamik, Werkstoffkunde und Fertigungstechnik und ist eine der vielseitigsten Disziplinen im Ingenieurwesen.\n",
            "\n",
            "**English:**  \n",
            "Mechanical engineering is an engineering discipline that focuses on the design, development, production, and optimization of machines, systems, and technical equipment. It covers areas such as mechanics, thermodynamics, materials science, and manufacturing technology, making it one of the most versatile fields in engineering.\n"
          ]
        },
        {
          "output_type": "stream",
          "name": "stderr",
          "text": [
            "\r 91%|█████████ | 314/345 [1:45:43<05:50, 11.31s/it]"
          ]
        },
        {
          "output_type": "stream",
          "name": "stdout",
          "text": [
            "Fahrzeugbau, Fördertechnik, Raumfahrttechnik **German Description:**  \n",
            "\"Fahrzeugbau, Fördertechnik, Raumfahrttechnik\" ist ein interdisziplinäres Fachgebiet, das sich mit der Konstruktion, Entwicklung und Optimierung von Fahrzeugen, Förderanlagen und Raumfahrtsystemen beschäftigt. Es umfasst Technologien und Methoden aus dem Maschinenbau, der Elektrotechnik und der Materialwissenschaft, um innovative Lösungen für den Land-, Luft- und Raumverkehr sowie für industrielle Fördersysteme zu entwickeln.  \n",
            "\n",
            "**English Description:**  \n",
            "\"Vehicle Engineering, Conveying Technology, Aerospace Engineering\" is an interdisciplinary field that focuses on the design, development, and optimization of vehicles, conveying systems, and aerospace systems. It integrates technologies and methods from mechanical engineering, electrical engineering, and materials science to create innovative solutions for land, air, and space transportation, as well as industrial conveying systems.\n"
          ]
        },
        {
          "output_type": "stream",
          "name": "stderr",
          "text": [
            "\r 91%|█████████▏| 315/345 [1:45:53<05:29, 10.97s/it]"
          ]
        },
        {
          "output_type": "stream",
          "name": "stdout",
          "text": [
            "Fertigungstechnik **Deutsch:**  \n",
            "Fertigungstechnik ist ein Fachgebiet der Ingenieurwissenschaften, das sich mit den Prozessen, Methoden und Technologien zur Herstellung von Produkten aus verschiedenen Materialien befasst. Es umfasst die Planung, Entwicklung und Optimierung von Fertigungsverfahren sowie die Anwendung von Maschinen und Werkzeugen. Ziel ist es, effiziente, präzise und wirtschaftliche Produktionsabläufe zu gewährleisten.\n",
            "\n",
            "**English:**  \n",
            "Manufacturing Technology is a field of engineering that focuses on the processes, methods, and technologies used to produce goods from various materials. It involves the planning, development, and optimization of manufacturing processes, as well as the application of machinery and tools. The goal is to ensure efficient, precise, and cost-effective production workflows.\n"
          ]
        },
        {
          "output_type": "stream",
          "name": "stderr",
          "text": [
            "\r 92%|█████████▏| 316/345 [1:46:02<04:58, 10.28s/it]"
          ]
        },
        {
          "output_type": "stream",
          "name": "stdout",
          "text": [
            "Feinwerktechnik **German:**  \n",
            "Feinwerktechnik ist ein Fachgebiet der Ingenieurwissenschaften, das sich mit der Entwicklung, Konstruktion und Herstellung von präzisen mechanischen und mechatronischen Systemen befasst. Es umfasst die Fertigung kleinster Bauteile und Komponenten, die hohe Genauigkeit und Zuverlässigkeit erfordern, wie sie beispielsweise in der Medizintechnik, Optik, Mikrosystemtechnik oder Robotik eingesetzt werden. Feinwerktechnik kombiniert Kenntnisse aus Mechanik, Elektronik, Materialwissenschaft und Fertigungstechnik, um innovative Lösungen für komplexe technische Herausforderungen zu entwickeln.\n",
            "\n",
            "**English:**  \n",
            "Precision Engineering (Feinwerktechnik) is a field of engineering that focuses on the development, design, and manufacturing of precise mechanical and mechatronic systems. It involves the production of small components and parts that require high accuracy and reliability, such as those used in medical technology, optics, microsystems technology, or robotics. Precision Engineering combines expertise in mechanics, electronics, materials science, and manufacturing technology to create innovative solutions for complex technical challenges.\n"
          ]
        },
        {
          "output_type": "stream",
          "name": "stderr",
          "text": [
            "\r 92%|█████████▏| 317/345 [1:46:10<04:31,  9.68s/it]"
          ]
        },
        {
          "output_type": "stream",
          "name": "stdout",
          "text": [
            "Elektrotechnik, Elektrische Energietechnik ### German Description:  \n",
            "Elektrotechnik, insbesondere die Elektrische Energietechnik, befasst sich mit der Erzeugung, Übertragung, Verteilung und Nutzung elektrischer Energie. Dieses Fachgebiet umfasst Technologien und Systeme wie Kraftwerke, Stromnetze, elektrische Maschinen und erneuerbare Energien. Ziel ist es, eine effiziente, sichere und nachhaltige Energieversorgung zu gewährleisten.  \n",
            "\n",
            "### English Description:  \n",
            "Electrical Engineering, specifically Electrical Power Engineering, deals with the generation, transmission, distribution, and utilization of electrical energy. This field encompasses technologies and systems such as power plants, electrical grids, electric machines, and renewable energy. The aim is to ensure efficient, safe, and sustainable energy supply.\n"
          ]
        },
        {
          "output_type": "stream",
          "name": "stderr",
          "text": [
            "\r 92%|█████████▏| 318/345 [1:46:17<04:00,  8.91s/it]"
          ]
        },
        {
          "output_type": "stream",
          "name": "stdout",
          "text": [
            "Elektronik, Nachrichtentechnik **German Description:**  \n",
            "\"Elektronik, Nachrichtentechnik\" ist ein Fachgebiet, das sich mit der Entwicklung, Anwendung und Optimierung elektronischer Systeme und Technologien zur Übertragung, Verarbeitung und Speicherung von Informationen befasst. Es umfasst Themen wie Schaltungsdesign, Signalverarbeitung, Telekommunikation, Funktechnik und digitale Systeme. Das Ziel ist es, effiziente und zuverlässige Lösungen für die Kommunikation und Datenverarbeitung in verschiedenen Anwendungsbereichen zu schaffen.\n",
            "\n",
            "**English Description:**  \n",
            "\"Electronics and Communication Engineering\" is a field that focuses on the design, application, and optimization of electronic systems and technologies for the transmission, processing, and storage of information. It covers topics such as circuit design, signal processing, telecommunications, radio technology, and digital systems. The aim is to create efficient and reliable solutions for communication and data processing in various application areas.\n"
          ]
        },
        {
          "output_type": "stream",
          "name": "stderr",
          "text": [
            "\r 92%|█████████▏| 319/345 [1:46:27<03:57,  9.13s/it]"
          ]
        },
        {
          "output_type": "stream",
          "name": "stdout",
          "text": [
            "Verfahrenstechnik, Technische Chemie **Deutsch:**  \n",
            "Verfahrenstechnik und Technische Chemie sind interdisziplinäre Fachgebiete, die sich mit der Umwandlung von Rohstoffen in wertvolle Produkte durch physikalische, chemische und biologische Prozesse befassen. Die Verfahrenstechnik konzentriert sich auf die Entwicklung, Optimierung und Skalierung von Prozessen, während die Technische Chemie die chemischen Grundlagen und Reaktionen zur Herstellung von Chemikalien, Materialien und Energie erforscht. Beide Disziplinen spielen eine Schlüsselrolle in der chemischen, pharmazeutischen und umwelttechnischen Industrie.\n",
            "\n",
            "**English:**  \n",
            "Process Engineering and Technical Chemistry are interdisciplinary fields that focus on the transformation of raw materials into valuable products through physical, chemical, and biological processes. Process Engineering deals with the development, optimization, and scaling of processes, while Technical Chemistry explores the chemical principles and reactions involved in the production of chemicals, materials, and energy. Both disciplines play a crucial role in the chemical, pharmaceutical, and environmental industries.\n"
          ]
        },
        {
          "output_type": "stream",
          "name": "stderr",
          "text": [
            "\r 93%|█████████▎| 320/345 [1:46:36<03:49,  9.16s/it]"
          ]
        },
        {
          "output_type": "stream",
          "name": "stdout",
          "text": [
            "Lebensmitteltechnologie **Lebensmitteltechnologie**  \n",
            "Die Lebensmitteltechnologie ist ein interdisziplinäres Fach, das sich mit der Herstellung, Verarbeitung, Konservierung und Qualitätssicherung von Lebensmitteln beschäftigt. Es kombiniert Kenntnisse aus den Bereichen Chemie, Biologie, Physik und Ingenieurwissenschaften, um sichere, nahrhafte und schmackhafte Lebensmittel zu produzieren. Studierende lernen Prozesse wie Fermentation, Pasteurisierung und Verpackungstechniken sowie die Anwendung moderner Technologien zur Verbesserung der Lebensmittelqualität und -sicherheit.\n",
            "\n",
            "**Food Technology**  \n",
            "Food Technology is an interdisciplinary field that focuses on the production, processing, preservation, and quality assurance of food. It combines knowledge from chemistry, biology, physics, and engineering to create safe, nutritious, and flavorful food products. Students learn about processes such as fermentation, pasteurization, and packaging techniques, as well as the application of modern technologies to enhance food quality and safety.\n"
          ]
        },
        {
          "output_type": "stream",
          "name": "stderr",
          "text": [
            "\r 93%|█████████▎| 321/345 [1:46:45<03:42,  9.26s/it]"
          ]
        },
        {
          "output_type": "stream",
          "name": "stdout",
          "text": [
            "Textiltechnik, Gummi- und Lederverarbeitung **Deutsch:**  \n",
            "Das Fachgebiet 'Textiltechnik, Gummi- und Lederverarbeitung' befasst sich mit der Herstellung, Verarbeitung und Veredelung von Textilien, Gummi und Leder. Es umfasst technologische Prozesse, Materialkunde, Maschinen- und Anlagentechnik sowie Qualitätsmanagement. Die Studierenden erlernen die Grundlagen der Faserherstellung, Web- und Stricktechniken, Veredelungsverfahren sowie die Verarbeitung von Gummi und Leder zu Endprodukten. Das Fach verbindet ingenieurwissenschaftliche Aspekte mit kreativen und nachhaltigen Ansätzen.\n",
            "\n",
            "**English:**  \n",
            "The subject 'Textile Technology, Rubber and Leather Processing' focuses on the production, processing, and refinement of textiles, rubber, and leather. It covers technological processes, material science, machinery and plant engineering, as well as quality management. Students learn the fundamentals of fiber production, weaving and knitting techniques, finishing methods, and the processing of rubber and leather into end products. The field combines engineering aspects with creative and sustainable approaches.\n"
          ]
        },
        {
          "output_type": "stream",
          "name": "stderr",
          "text": [
            "\r 93%|█████████▎| 322/345 [1:46:53<03:24,  8.88s/it]"
          ]
        },
        {
          "output_type": "stream",
          "name": "stdout",
          "text": [
            "Holzbearbeitung **German:**  \n",
            "Holzbearbeitung ist ein Fachgebiet, das sich mit der Verarbeitung und Gestaltung von Holz beschäftigt. Es umfasst Techniken wie Sägen, Hobeln, Fräsen, Schleifen und Verbinden von Holz, um Möbel, Bauwerke oder Kunstobjekte herzustellen. Das Fach kombiniert handwerkliches Können mit Kenntnissen über Holzarten, Werkzeuge und Maschinen.  \n",
            "\n",
            "**English:**  \n",
            "Holzbearbeitung (woodworking) is a field that focuses on the processing and shaping of wood. It includes techniques such as sawing, planing, milling, sanding, and joining wood to create furniture, structures, or art objects. The subject combines craftsmanship with knowledge of wood types, tools, and machinery.\n"
          ]
        },
        {
          "output_type": "stream",
          "name": "stderr",
          "text": [
            "\r 94%|█████████▎| 323/345 [1:47:14<04:30, 12.31s/it]"
          ]
        },
        {
          "output_type": "stream",
          "name": "stdout",
          "text": [
            "Papierherstellung, Grafische Technik **German Description:**  \n",
            "Das Fach \"Papierherstellung, Grafische Technik\" befasst sich mit den Prozessen der Papierproduktion sowie den verschiedenen Techniken des grafischen Gewerbes. Es umfasst die Herstellung von Papier aus Rohstoffen, die Verarbeitung zu unterschiedlichen Papierarten und die Anwendung grafischer Techniken wie Druckverfahren, Veredelung und Weiterverarbeitung. Ziel ist es, ein umfassendes Verständnis für die Materialien, Technologien und Verfahren in der Papier- und Druckindustrie zu vermitteln.\n",
            "\n",
            "**English Description:**  \n",
            "The subject \"Paper Production, Graphic Technology\" focuses on the processes of paper manufacturing and the various techniques in the graphic arts industry. It covers the production of paper from raw materials, the processing into different paper types, and the application of graphic techniques such as printing methods, finishing, and further processing. The aim is to provide a comprehensive understanding of the materials, technologies, and processes in the paper and printing industry.\n"
          ]
        },
        {
          "output_type": "stream",
          "name": "stderr",
          "text": [
            "\r 94%|█████████▍| 324/345 [1:47:21<03:48, 10.86s/it]"
          ]
        },
        {
          "output_type": "stream",
          "name": "stdout",
          "text": [
            "Glas, Keramik, Steine und Erden **German:**  \n",
            "Das Fachgebiet \"Glas, Keramik, Steine und Erden\" befasst sich mit der Herstellung, Verarbeitung und Anwendung von anorganischen, nicht-metallischen Materialien. Es umfasst die Untersuchung von Rohstoffen, Produktionstechnologien sowie die physikalischen und chemischen Eigenschaften dieser Materialien. Anwendungsbereiche reichen von der Bauindustrie über die Keramik- und Glasherstellung bis hin zu technischen Keramiken und modernen Werkstoffen.\n",
            "\n",
            "**English:**  \n",
            "The field of \"Glass, Ceramics, Stones, and Earth Materials\" focuses on the production, processing, and application of inorganic, non-metallic materials. It includes the study of raw materials, production technologies, and the physical and chemical properties of these materials. Applications range from the construction industry to the manufacture of ceramics and glass, as well as technical ceramics and advanced materials.\n"
          ]
        },
        {
          "output_type": "stream",
          "name": "stderr",
          "text": [
            "\r 94%|█████████▍| 325/345 [1:47:27<03:10,  9.52s/it]"
          ]
        },
        {
          "output_type": "stream",
          "name": "stdout",
          "text": [
            "Militärtechnik **Deutsch:**  \n",
            "Militärtechnik ist ein Fachgebiet, das sich mit der Entwicklung, Herstellung und Anwendung von Technologien und Systemen für militärische Zwecke beschäftigt. Es umfasst Bereiche wie Waffensysteme, Kommunikationstechnologie, Fahrzeug- und Flugzeugtechnik, Schutzausrüstung sowie strategische und taktische Planung. Ziel ist es, die Effizienz, Sicherheit und Überlegenheit militärischer Operationen zu gewährleisten.  \n",
            "\n",
            "**English:**  \n",
            "Military technology is a field of study focused on the development, production, and application of technologies and systems for military purposes. It encompasses areas such as weapon systems, communication technology, vehicle and aircraft engineering, protective gear, and strategic and tactical planning. The aim is to ensure the efficiency, safety, and superiority of military operations.\n"
          ]
        },
        {
          "output_type": "stream",
          "name": "stderr",
          "text": [
            "\r 94%|█████████▍| 326/345 [1:47:34<02:42,  8.54s/it]"
          ]
        },
        {
          "output_type": "stream",
          "name": "stdout",
          "text": [
            "Landwirtschaft allgemein **Deutsch:**  \n",
            "\"Landwirtschaft allgemein\" befasst sich mit den grundlegenden Prinzipien, Methoden und Techniken der landwirtschaftlichen Produktion. Dies umfasst den Anbau von Nutzpflanzen, die Tierhaltung, die Bodenbewirtschaftung sowie die nachhaltige Nutzung natürlicher Ressourcen. Das Fach behandelt auch die wirtschaftlichen, ökologischen und sozialen Aspekte der Landwirtschaft und deren Rolle in der globalen Nahrungsmittelversorgung.\n",
            "\n",
            "**English:**  \n",
            "\"General Agriculture\" focuses on the fundamental principles, methods, and techniques of agricultural production. This includes crop cultivation, animal husbandry, soil management, and the sustainable use of natural resources. The subject also covers the economic, environmental, and social aspects of agriculture and its role in global food supply.\n"
          ]
        },
        {
          "output_type": "stream",
          "name": "stderr",
          "text": [
            "\r 95%|█████████▍| 327/345 [1:47:40<02:23,  7.97s/it]"
          ]
        },
        {
          "output_type": "stream",
          "name": "stdout",
          "text": [
            "Landwirtschaftsgeschichte **Deutsch:**  \n",
            "Die Landwirtschaftsgeschichte beschäftigt sich mit der Entwicklung der Landwirtschaft von ihren Anfängen in der Jungsteinzeit bis zur modernen Agrarwirtschaft. Sie untersucht technologische Innovationen, soziale und ökonomische Strukturen, Umweltauswirkungen sowie kulturelle und politische Einflüsse, die die landwirtschaftliche Praxis geprägt haben. Diese Disziplin bietet Einblicke in die Beziehung zwischen Mensch und Natur und zeigt, wie landwirtschaftliche Veränderungen Gesellschaften und Ökosysteme beeinflusst haben.  \n",
            "\n",
            "**English:**  \n",
            "Agricultural history explores the development of agriculture from its origins in the Neolithic period to modern agribusiness. It examines technological innovations, social and economic structures, environmental impacts, and cultural and political influences that have shaped agricultural practices. This discipline provides insights into the relationship between humans and nature and highlights how agricultural changes have influenced societies and ecosystems.\n"
          ]
        },
        {
          "output_type": "stream",
          "name": "stderr",
          "text": [
            "\r 95%|█████████▌| 328/345 [1:48:15<04:31, 16.00s/it]"
          ]
        },
        {
          "output_type": "stream",
          "name": "stdout",
          "text": [
            "Agrarpolitik, Agrarmarkt, Landwirtschaftliche Betriebslehre **German Description:**  \n",
            "Das Fach 'Agrarpolitik, Agrarmarkt, Landwirtschaftliche Betriebslehre' befasst sich mit den politischen, wirtschaftlichen und betriebswirtschaftlichen Aspekten der Landwirtschaft. Es untersucht agrarpolitische Maßnahmen und deren Auswirkungen auf den Agrarsektor, analysiert die Strukturen und Dynamiken des Agrarmarktes und vermittelt Grundlagen der landwirtschaftlichen Betriebsführung. Dabei werden Themen wie Nachhaltigkeit, Ressourcenmanagement, Marktmechanismen und politische Rahmenbedingungen behandelt, um ein umfassendes Verständnis für die Herausforderungen und Chancen der modernen Landwirtschaft zu schaffen.\n",
            "\n",
            "**English Description:**  \n",
            "The subject 'Agricultural Policy, Agricultural Market, and Farm Management' deals with the political, economic, and managerial aspects of agriculture. It examines agricultural policies and their impacts on the sector, analyzes the structures and dynamics of agricultural markets, and provides fundamentals of farm management. Topics such as sustainability, resource management, market mechanisms, and political frameworks are covered to foster a comprehensive understanding of the challenges and opportunities in modern agriculture.\n"
          ]
        },
        {
          "output_type": "stream",
          "name": "stderr",
          "text": [
            "\r 95%|█████████▌| 329/345 [1:48:35<04:36, 17.31s/it]"
          ]
        },
        {
          "output_type": "stream",
          "name": "stdout",
          "text": [
            "Ackerbau **German:**  \n",
            "Ackerbau bezeichnet den Anbau von Nutzpflanzen auf Ackerflächen zur Produktion von Nahrungsmitteln, Futtermitteln oder Rohstoffen. Es umfasst Methoden wie Bodenbearbeitung, Aussaat, Düngung, Bewässerung und Ernte. Ziel ist es, nachhaltig hohe Erträge zu erzielen und die Bodenfruchtbarkeit zu erhalten. Ackerbau ist ein zentraler Bestandteil der Landwirtschaft und spielt eine wichtige Rolle in der Nahrungsmittelversorgung und der Wirtschaft.  \n",
            "\n",
            "**English:**  \n",
            "Ackerbau, or crop cultivation, refers to the growing of crops on arable land for the production of food, animal feed, or raw materials. It includes methods such as soil tillage, sowing, fertilization, irrigation, and harvesting. The goal is to achieve high yields sustainably while maintaining soil fertility. Crop cultivation is a central component of agriculture and plays a vital role in food supply and the economy.\n"
          ]
        },
        {
          "output_type": "stream",
          "name": "stderr",
          "text": [
            "\r 96%|█████████▌| 330/345 [1:48:44<03:42, 14.82s/it]"
          ]
        },
        {
          "output_type": "stream",
          "name": "stdout",
          "text": [
            "Gartenbau, Obstbau **German:**  \n",
            "Gartenbau und Obstbau sind Teilgebiete der Agrarwissenschaften, die sich mit dem Anbau, der Pflege und der Vermarktung von Zierpflanzen, Gemüse, Obst und anderen gärtnerischen Kulturen beschäftigen. Der Gartenbau umfasst dabei die Gestaltung von Gärten und Grünflächen, während der Obstbau speziell auf den Anbau von Obstbäumen und -sträuchern fokussiert ist. Beide Bereiche kombinieren traditionelles Wissen mit modernen Technologien, um nachhaltige und ertragreiche Produktionsmethoden zu entwickeln.\n",
            "\n",
            "**English:**  \n",
            "Horticulture and fruit growing are subfields of agricultural sciences that focus on the cultivation, care, and marketing of ornamental plants, vegetables, fruits, and other horticultural crops. Horticulture includes the design of gardens and green spaces, while fruit growing specifically concentrates on the cultivation of fruit trees and bushes. Both areas combine traditional knowledge with modern technologies to develop sustainable and high-yield production methods.\n"
          ]
        },
        {
          "output_type": "stream",
          "name": "stderr",
          "text": [
            "\r 96%|█████████▌| 331/345 [1:48:51<02:51, 12.26s/it]"
          ]
        },
        {
          "output_type": "stream",
          "name": "stdout",
          "text": [
            "Phytomedizin **German:**  \n",
            "Phytomedizin ist ein wissenschaftliches Fachgebiet, das sich mit der Erforschung, Vorbeugung und Bekämpfung von Krankheiten und Schädlingen bei Pflanzen beschäftigt. Es umfasst die Anwendung von biologischen, chemischen und physikalischen Methoden, um die Gesundheit von Kulturpflanzen zu erhalten und Ernteverluste zu minimieren. Phytomedizin verbindet Aspekte der Pflanzenpathologie, Entomologie, Unkrautkunde und des Pflanzenschutzes.\n",
            "\n",
            "**English:**  \n",
            "Phytomedicine is a scientific discipline focused on the research, prevention, and control of diseases and pests in plants. It involves the application of biological, chemical, and physical methods to maintain the health of crops and minimize yield losses. Phytomedicine integrates aspects of plant pathology, entomology, weed science, and plant protection.\n"
          ]
        },
        {
          "output_type": "stream",
          "name": "stderr",
          "text": [
            "\r 96%|█████████▌| 332/345 [1:48:57<02:16, 10.53s/it]"
          ]
        },
        {
          "output_type": "stream",
          "name": "stdout",
          "text": [
            "Tierzucht, Tierhaltung **German Description:**  \n",
            "\"Tierzucht und Tierhaltung\" ist ein Fachgebiet, das sich mit der Züchtung, Pflege und Haltung von Tieren befasst. Es umfasst wissenschaftliche und praktische Aspekte wie Genetik, Tierernährung, Gesundheit, Haltungssysteme und die Verbesserung von Tierrassen. Ziel ist es, die Produktivität, das Wohlbefinden und die Nachhaltigkeit in der Tierhaltung zu optimieren.\n",
            "\n",
            "**English Description:**  \n",
            "\"Animal Breeding and Husbandry\" is a field of study focused on the breeding, care, and management of animals. It encompasses scientific and practical aspects such as genetics, animal nutrition, health, housing systems, and the improvement of animal breeds. The goal is to optimize productivity, animal welfare, and sustainability in animal husbandry.\n"
          ]
        },
        {
          "output_type": "stream",
          "name": "stderr",
          "text": [
            "\r 97%|█████████▋| 333/345 [1:49:05<01:56,  9.72s/it]"
          ]
        },
        {
          "output_type": "stream",
          "name": "stdout",
          "text": [
            "Milchwirtschaft **Deutsch:**  \n",
            "Milchwirtschaft bezieht sich auf den Bereich der Landwirtschaft, der sich mit der Produktion, Verarbeitung und Vermarktung von Milch und Milchprodukten beschäftigt. Dies umfasst die Haltung von Milchkühen, die Gewinnung von Milch, deren Weiterverarbeitung zu Produkten wie Käse, Joghurt oder Butter sowie die wirtschaftlichen Aspekte des Milchmarktes. Die Milchwirtschaft spielt eine zentrale Rolle in der Agrarwirtschaft und trägt wesentlich zur Ernährungssicherung bei.\n",
            "\n",
            "**English:**  \n",
            "Dairy farming refers to the branch of agriculture that deals with the production, processing, and marketing of milk and dairy products. This includes the raising of dairy cows, the extraction of milk, its processing into products such as cheese, yogurt, or butter, as well as the economic aspects of the dairy market. Dairy farming plays a central role in the agricultural economy and contributes significantly to food security.\n"
          ]
        },
        {
          "output_type": "stream",
          "name": "stderr",
          "text": [
            "\r 97%|█████████▋| 334/345 [1:49:10<01:32,  8.42s/it]"
          ]
        },
        {
          "output_type": "stream",
          "name": "stdout",
          "text": [
            "Forstwirtschaft **German:**  \n",
            "Forstwirtschaft ist die planmäßige Bewirtschaftung von Wäldern zur nachhaltigen Gewinnung von Holz und anderen Waldprodukten sowie zur Erhaltung und Pflege der Waldökosysteme. Sie umfasst Aktivitäten wie Aufforstung, Waldpflege, Holzernte und Waldschutz, um ökologische, ökonomische und soziale Ziele in Einklang zu bringen.  \n",
            "\n",
            "**English:**  \n",
            "Forestry is the systematic management of forests for the sustainable production of timber and other forest products, as well as the conservation and maintenance of forest ecosystems. It includes activities such as afforestation, forest care, timber harvesting, and forest protection to balance ecological, economic, and social objectives.\n"
          ]
        },
        {
          "output_type": "stream",
          "name": "stderr",
          "text": [
            "\r 97%|█████████▋| 335/345 [1:49:16<01:15,  7.53s/it]"
          ]
        },
        {
          "output_type": "stream",
          "name": "stdout",
          "text": [
            "Jagd **German:**  \n",
            "Das Fach 'Jagd' befasst sich mit der Theorie und Praxis der Jagdausübung. Es umfasst Themen wie Wildtiermanagement, Jagdrecht, Waffenkunde, Wildkrankheiten und Ethik. Ziel ist es, eine verantwortungsvolle und nachhaltige Jagd zu fördern, die den Artenschutz und den Erhalt der Natur respektiert.\n",
            "\n",
            "**English:**  \n",
            "The subject 'Jagd' (Hunting) deals with the theory and practice of hunting. It covers topics such as wildlife management, hunting laws, weapon knowledge, wildlife diseases, and ethics. The aim is to promote responsible and sustainable hunting that respects species conservation and the preservation of nature.\n"
          ]
        },
        {
          "output_type": "stream",
          "name": "stderr",
          "text": [
            "\r 97%|█████████▋| 336/345 [1:49:23<01:05,  7.30s/it]"
          ]
        },
        {
          "output_type": "stream",
          "name": "stdout",
          "text": [
            "Fischerei, Fischzucht **Deutsch:**  \n",
            "Das Fachgebiet 'Fischerei, Fischzucht' befasst sich mit der nachhaltigen Nutzung und Bewirtschaftung von Fischbeständen in natürlichen Gewässern sowie der gezielten Zucht von Fischen in Aquakulturen. Es umfasst Aspekte wie Fischökologie, Fangmethoden, Zuchttechniken, Bestandsmanagement und Umweltschutz. Ziel ist es, die Ressourcen der Gewässer verantwortungsvoll zu nutzen und gleichzeitig die biologische Vielfalt zu erhalten.\n",
            "\n",
            "**English:**  \n",
            "The field of 'Fisheries, Fish Farming' focuses on the sustainable use and management of fish populations in natural waters, as well as the controlled breeding of fish in aquaculture. It encompasses aspects such as fish ecology, fishing methods, breeding techniques, stock management, and environmental protection. The aim is to responsibly utilize aquatic resources while preserving biodiversity.\n"
          ]
        },
        {
          "output_type": "stream",
          "name": "stderr",
          "text": [
            "\r 98%|█████████▊| 337/345 [1:49:29<00:55,  6.91s/it]"
          ]
        },
        {
          "output_type": "stream",
          "name": "stdout",
          "text": [
            "Personen zu Landwirtschaft, Garten **German Description:**  \n",
            "Das Fach 'Personen zu Landwirtschaft, Garten' befasst sich mit den individuellen Beiträgen und Leistungen von Personen, die in den Bereichen Landwirtschaft und Gartenbau tätig sind. Es untersucht deren Einfluss auf landwirtschaftliche Praktiken, Gartenkultur und die Entwicklung nachhaltiger Methoden. Dabei werden historische wie auch zeitgenössische Persönlichkeiten betrachtet, die diese Bereiche geprägt haben.\n",
            "\n",
            "**English Description:**  \n",
            "The subject 'Persons in Agriculture, Gardening' focuses on the individual contributions and achievements of people involved in agriculture and horticulture. It explores their influence on farming practices, garden culture, and the development of sustainable methods. Both historical and contemporary figures who have shaped these fields are examined.\n"
          ]
        },
        {
          "output_type": "stream",
          "name": "stderr",
          "text": [
            "\r 98%|█████████▊| 338/345 [1:49:36<00:48,  6.92s/it]"
          ]
        },
        {
          "output_type": "stream",
          "name": "stdout",
          "text": [
            "Hauswirtschaft, Körperpflege **German Description:**  \n",
            "Das Fach 'Hauswirtschaft, Körperpflege' befasst sich mit praktischen und theoretischen Aspekten der Haushaltsführung, Ernährung, Gesundheitspflege und persönlichen Hygiene. Es vermittelt Kenntnisse und Fähigkeiten, die für die Bewältigung alltäglicher Aufgaben im Haushalt sowie für die Pflege des eigenen Körpers und der Gesundheit wichtig sind. Themen wie Nahrungszubereitung, Haushaltsmanagement, Körperhygiene und Gesundheitsvorsorge stehen im Mittelpunkt.\n",
            "\n",
            "**English Description:**  \n",
            "The subject 'Home Economics, Personal Care' focuses on practical and theoretical aspects of household management, nutrition, health care, and personal hygiene. It provides knowledge and skills essential for managing everyday household tasks and caring for one's body and health. Key topics include food preparation, household management, personal hygiene, and health prevention.\n"
          ]
        },
        {
          "output_type": "stream",
          "name": "stderr",
          "text": [
            "\r 98%|█████████▊| 339/345 [1:49:42<00:40,  6.80s/it]"
          ]
        },
        {
          "output_type": "stream",
          "name": "stdout",
          "text": [
            "Kochen, Backen, Lebens- und Genussmittel, Küchengerät **German:**  \n",
            "Das Fach 'Kochen, Backen, Lebens- und Genussmittel, Küchengerät' befasst sich mit der Zubereitung von Speisen, der Herstellung von Backwaren, der Kenntnis verschiedener Lebensmittel und Genussmittel sowie der Verwendung und Funktion von Küchengeräten. Es vermittelt praktische Fähigkeiten und theoretisches Wissen rund um die Küche, Ernährung und die richtige Handhabung von Zutaten und Werkzeugen.\n",
            "\n",
            "**English:**  \n",
            "The subject 'Cooking, Baking, Food and Luxury Goods, Kitchen Equipment' focuses on the preparation of meals, the production of baked goods, the knowledge of various food and luxury items, as well as the use and function of kitchen appliances. It provides practical skills and theoretical knowledge related to the kitchen, nutrition, and the proper handling of ingredients and tools.\n"
          ]
        },
        {
          "output_type": "stream",
          "name": "stderr",
          "text": [
            "\r 99%|█████████▊| 340/345 [1:49:47<00:31,  6.22s/it]"
          ]
        },
        {
          "output_type": "stream",
          "name": "stdout",
          "text": [
            "Mode, Kleidung **German:**  \n",
            "Das Fach 'Mode, Kleidung' beschäftigt sich mit der Gestaltung, Herstellung und Bedeutung von Kleidung in verschiedenen kulturellen, historischen und sozialen Kontexten. Es umfasst Aspekte wie Modedesign, Textiltechnologie, Trends, Stilgeschichte und die soziokulturelle Funktion von Kleidung.\n",
            "\n",
            "**English:**  \n",
            "The subject 'Fashion, Clothing' focuses on the design, production, and significance of clothing in various cultural, historical, and social contexts. It covers aspects such as fashion design, textile technology, trends, style history, and the sociocultural function of clothing.\n"
          ]
        },
        {
          "output_type": "stream",
          "name": "stderr",
          "text": [
            "\r 99%|█████████▉| 341/345 [1:49:53<00:24,  6.23s/it]"
          ]
        },
        {
          "output_type": "stream",
          "name": "stdout",
          "text": [
            "Sport (Allgemeines) **German:**  \n",
            "Das Fach \"Sport (Allgemeines)\" befasst sich mit den grundlegenden Aspekten körperlicher Aktivität, Bewegung und Gesundheit. Es umfasst die theoretischen und praktischen Grundlagen verschiedener Sportarten, die Bedeutung von Fitness und Bewegung für das Wohlbefinden sowie die soziale und kulturelle Rolle des Sports in der Gesellschaft. Dabei werden Themen wie Trainingslehre, Sportphysiologie, Sportpsychologie und Sportpädagogik behandelt.  \n",
            "\n",
            "**English:**  \n",
            "The subject \"Sport (General)\" focuses on the fundamental aspects of physical activity, movement, and health. It covers the theoretical and practical foundations of various sports, the importance of fitness and exercise for well-being, and the social and cultural role of sports in society. Topics include training theory, sports physiology, sports psychology, and sports pedagogy.\n"
          ]
        },
        {
          "output_type": "stream",
          "name": "stderr",
          "text": [
            "\r 99%|█████████▉| 342/345 [1:50:14<00:32, 10.67s/it]"
          ]
        },
        {
          "output_type": "stream",
          "name": "stdout",
          "text": [
            "Geschichte des Sports **Deutsch:**  \n",
            "Die *Geschichte des Sports* ist ein Fachgebiet, das sich mit der Entwicklung und Bedeutung von Sport und körperlicher Betätigung in verschiedenen Kulturen und Epochen beschäftigt. Es untersucht, wie sich Sportarten, Wettkämpfe und Trainingsmethoden im Laufe der Zeit verändert haben und welche sozialen, politischen und kulturellen Einflüsse dabei eine Rolle spielten. Dabei werden auch Themen wie die Rolle des Sports in der Gesellschaft, die Entstehung von Sportorganisationen und die Bedeutung des Sports für Gesundheit und Identität beleuchtet.\n",
            "\n",
            "**English:**  \n",
            "The *History of Sports* is an academic field that explores the development and significance of sports and physical activities across different cultures and time periods. It examines how sports, competitions, and training methods have evolved over time and the social, political, and cultural influences that have shaped them. The discipline also addresses topics such as the role of sports in society, the emergence of sports organizations, and the importance of sports for health and identity.\n"
          ]
        },
        {
          "output_type": "stream",
          "name": "stderr",
          "text": [
            "\r 99%|█████████▉| 343/345 [1:50:30<00:24, 12.08s/it]"
          ]
        },
        {
          "output_type": "stream",
          "name": "stdout",
          "text": [
            "Einzelne Sportarten **German:**  \n",
            "\"Einzelne Sportarten\" bezieht sich auf die detaillierte Betrachtung und Analyse spezifischer Sportarten. Dabei werden Techniken, Regeln, Strategien, historische Entwicklungen und kulturelle Aspekte jeder Sportart untersucht. Das Fach ermöglicht ein vertieftes Verständnis der individuellen Merkmale und Anforderungen verschiedener sportlicher Disziplinen.\n",
            "\n",
            "**English:**  \n",
            "\"Einzelne Sportarten\" (Individual Sports) refers to the detailed examination and analysis of specific sports. This includes the study of techniques, rules, strategies, historical developments, and cultural aspects of each sport. The subject provides an in-depth understanding of the unique characteristics and demands of various athletic disciplines.\n"
          ]
        },
        {
          "output_type": "stream",
          "name": "stderr",
          "text": [
            "\r100%|█████████▉| 344/345 [1:50:37<00:10, 10.59s/it]"
          ]
        },
        {
          "output_type": "stream",
          "name": "stdout",
          "text": [
            "Spiel, Unterhaltung **German:**  \n",
            "Das Thema \"Spiel, Unterhaltung\" befasst sich mit verschiedenen Formen der Freizeitaktivitäten, die der Erholung, dem Vergnügen und der sozialen Interaktion dienen. Es umfasst sowohl traditionelle Spiele wie Brett- und Kartenspiele als auch moderne Unterhaltungsformen wie Videospiele, Filme, Musik und digitale Medien. Dabei werden kulturelle, psychologische und soziale Aspekte beleuchtet, die das Spielen und die Unterhaltung in verschiedenen Gesellschaften prägen.\n",
            "\n",
            "**English:**  \n",
            "The subject of \"Play, Entertainment\" explores various forms of leisure activities that serve relaxation, enjoyment, and social interaction. It encompasses traditional games like board and card games as well as modern forms of entertainment such as video games, movies, music, and digital media. The topic also examines cultural, psychological, and social aspects that shape play and entertainment in different societies.\n"
          ]
        },
        {
          "output_type": "stream",
          "name": "stderr",
          "text": [
            "100%|██████████| 345/345 [1:50:45<00:00, 19.26s/it]"
          ]
        },
        {
          "output_type": "stream",
          "name": "stdout",
          "text": [
            "Basteln, Handarbeiten, Heimwerken **German Description:**  \n",
            "\"Basteln, Handarbeiten, Heimwerken\" umfasst kreative und praktische Tätigkeiten, bei denen man mit verschiedenen Materialien und Werkzeugen arbeitet, um individuelle Projekte zu gestalten. Dazu gehören Handarbeiten wie Stricken, Häkeln und Nähen, Basteln mit Papier, Holz oder anderen Materialien sowie Heimwerken, bei dem man Reparaturen oder Bauprojekte im Haushalt selbst durchführt. Diese Aktivitäten fördern Kreativität, handwerkliches Geschick und bieten oft eine entspannende und erfüllende Beschäftigung.\n",
            "\n",
            "**English Description:**  \n",
            "\"Crafting, Handicrafts, and DIY\" encompasses creative and practical activities involving the use of various materials and tools to design individual projects. This includes handicrafts like knitting, crocheting, and sewing, crafting with paper, wood, or other materials, as well as DIY projects involving repairs or construction tasks around the home. These activities promote creativity, manual skills, and often provide a relaxing and fulfilling pastime.\n"
          ]
        },
        {
          "output_type": "stream",
          "name": "stderr",
          "text": [
            "\n"
          ]
        }
      ]
    },
    {
      "cell_type": "code",
      "source": [
        "german_descriptions = []\n",
        "english_descriptions = []\n",
        "for description in descriptions:\n",
        "  try:\n",
        "    parts = description.split(\"**\")\n",
        "    german_descriptions.append(parts[2].strip())\n",
        "    english_descriptions.append(parts[4].strip())\n",
        "  except:\n",
        "    parts = description.split(\"###\")\n",
        "    german_descriptions.append(parts[1].split(\":\")[1].strip())\n",
        "    english_descriptions.append(parts[2].split(\":\")[1].strip())\n",
        "filtered_gnd_subject_names['German Description'] = german_descriptions\n",
        "filtered_gnd_subject_names['English Description'] = english_descriptions\n",
        "filtered_gnd_subject_names.head()"
      ],
      "metadata": {
        "id": "xSue6vi86jjQ",
        "outputId": "e6571c95-bd41-42f9-ee5b-316d15b92050",
        "colab": {
          "base_uri": "https://localhost:8080/",
          "height": 625
        }
      },
      "execution_count": 13,
      "outputs": [
        {
          "output_type": "stream",
          "name": "stderr",
          "text": [
            "<ipython-input-13-aea14eb033cb>:12: SettingWithCopyWarning: \n",
            "A value is trying to be set on a copy of a slice from a DataFrame.\n",
            "Try using .loc[row_indexer,col_indexer] = value instead\n",
            "\n",
            "See the caveats in the documentation: https://pandas.pydata.org/pandas-docs/stable/user_guide/indexing.html#returning-a-view-versus-a-copy\n",
            "  filtered_gnd_subject_names['German Description'] = german_descriptions\n",
            "<ipython-input-13-aea14eb033cb>:13: SettingWithCopyWarning: \n",
            "A value is trying to be set on a copy of a slice from a DataFrame.\n",
            "Try using .loc[row_indexer,col_indexer] = value instead\n",
            "\n",
            "See the caveats in the documentation: https://pandas.pydata.org/pandas-docs/stable/user_guide/indexing.html#returning-a-view-versus-a-copy\n",
            "  filtered_gnd_subject_names['English Description'] = english_descriptions\n"
          ]
        },
        {
          "output_type": "execute_result",
          "data": {
            "text/plain": [
              "  Code                                            Name  TIB Core  \\\n",
              "0   00                   Unspezifische Allgemeinwörter      True   \n",
              "3    1  Allgemeines, Interdisziplinäre Allgemeinwörter      True   \n",
              "5  2.1                     Schrift, Handschriftenkunde     False   \n",
              "7  2.2                    Buchwissenschaft, Buchhandel     False   \n",
              "9  2.3                                          Presse     False   \n",
              "\n",
              "                                  German Description  \\\n",
              "0  'Unspezifische Allgemeinwörter' bezeichnen Wör...   \n",
              "3  'Allgemeines, Interdisziplinäre Allgemeinwörte...   \n",
              "5  'Schrift, Handschriftenkunde' ist ein Fachgebi...   \n",
              "7  Buchwissenschaft und Buchhandel sind interdisz...   \n",
              "9  Das Fach 'Presse' befasst sich mit der Erforsc...   \n",
              "\n",
              "                                 English Description  \n",
              "0  'Unspezifische Allgemeinwörter' (non-specific ...  \n",
              "3  'General, Interdisciplinary General Knowledge'...  \n",
              "5  'Schrift, Handschriftenkunde' (Paleography and...  \n",
              "7  Book studies and book trade are interdisciplin...  \n",
              "9  The subject 'Press' deals with the study and a...  "
            ],
            "text/html": [
              "\n",
              "  <div id=\"df-d3469f77-8dd2-47bd-8500-51a91a6ca838\" class=\"colab-df-container\">\n",
              "    <div>\n",
              "<style scoped>\n",
              "    .dataframe tbody tr th:only-of-type {\n",
              "        vertical-align: middle;\n",
              "    }\n",
              "\n",
              "    .dataframe tbody tr th {\n",
              "        vertical-align: top;\n",
              "    }\n",
              "\n",
              "    .dataframe thead th {\n",
              "        text-align: right;\n",
              "    }\n",
              "</style>\n",
              "<table border=\"1\" class=\"dataframe\">\n",
              "  <thead>\n",
              "    <tr style=\"text-align: right;\">\n",
              "      <th></th>\n",
              "      <th>Code</th>\n",
              "      <th>Name</th>\n",
              "      <th>TIB Core</th>\n",
              "      <th>German Description</th>\n",
              "      <th>English Description</th>\n",
              "    </tr>\n",
              "  </thead>\n",
              "  <tbody>\n",
              "    <tr>\n",
              "      <th>0</th>\n",
              "      <td>00</td>\n",
              "      <td>Unspezifische Allgemeinwörter</td>\n",
              "      <td>True</td>\n",
              "      <td>'Unspezifische Allgemeinwörter' bezeichnen Wör...</td>\n",
              "      <td>'Unspezifische Allgemeinwörter' (non-specific ...</td>\n",
              "    </tr>\n",
              "    <tr>\n",
              "      <th>3</th>\n",
              "      <td>1</td>\n",
              "      <td>Allgemeines, Interdisziplinäre Allgemeinwörter</td>\n",
              "      <td>True</td>\n",
              "      <td>'Allgemeines, Interdisziplinäre Allgemeinwörte...</td>\n",
              "      <td>'General, Interdisciplinary General Knowledge'...</td>\n",
              "    </tr>\n",
              "    <tr>\n",
              "      <th>5</th>\n",
              "      <td>2.1</td>\n",
              "      <td>Schrift, Handschriftenkunde</td>\n",
              "      <td>False</td>\n",
              "      <td>'Schrift, Handschriftenkunde' ist ein Fachgebi...</td>\n",
              "      <td>'Schrift, Handschriftenkunde' (Paleography and...</td>\n",
              "    </tr>\n",
              "    <tr>\n",
              "      <th>7</th>\n",
              "      <td>2.2</td>\n",
              "      <td>Buchwissenschaft, Buchhandel</td>\n",
              "      <td>False</td>\n",
              "      <td>Buchwissenschaft und Buchhandel sind interdisz...</td>\n",
              "      <td>Book studies and book trade are interdisciplin...</td>\n",
              "    </tr>\n",
              "    <tr>\n",
              "      <th>9</th>\n",
              "      <td>2.3</td>\n",
              "      <td>Presse</td>\n",
              "      <td>False</td>\n",
              "      <td>Das Fach 'Presse' befasst sich mit der Erforsc...</td>\n",
              "      <td>The subject 'Press' deals with the study and a...</td>\n",
              "    </tr>\n",
              "  </tbody>\n",
              "</table>\n",
              "</div>\n",
              "    <div class=\"colab-df-buttons\">\n",
              "\n",
              "  <div class=\"colab-df-container\">\n",
              "    <button class=\"colab-df-convert\" onclick=\"convertToInteractive('df-d3469f77-8dd2-47bd-8500-51a91a6ca838')\"\n",
              "            title=\"Convert this dataframe to an interactive table.\"\n",
              "            style=\"display:none;\">\n",
              "\n",
              "  <svg xmlns=\"http://www.w3.org/2000/svg\" height=\"24px\" viewBox=\"0 -960 960 960\">\n",
              "    <path d=\"M120-120v-720h720v720H120Zm60-500h600v-160H180v160Zm220 220h160v-160H400v160Zm0 220h160v-160H400v160ZM180-400h160v-160H180v160Zm440 0h160v-160H620v160ZM180-180h160v-160H180v160Zm440 0h160v-160H620v160Z\"/>\n",
              "  </svg>\n",
              "    </button>\n",
              "\n",
              "  <style>\n",
              "    .colab-df-container {\n",
              "      display:flex;\n",
              "      gap: 12px;\n",
              "    }\n",
              "\n",
              "    .colab-df-convert {\n",
              "      background-color: #E8F0FE;\n",
              "      border: none;\n",
              "      border-radius: 50%;\n",
              "      cursor: pointer;\n",
              "      display: none;\n",
              "      fill: #1967D2;\n",
              "      height: 32px;\n",
              "      padding: 0 0 0 0;\n",
              "      width: 32px;\n",
              "    }\n",
              "\n",
              "    .colab-df-convert:hover {\n",
              "      background-color: #E2EBFA;\n",
              "      box-shadow: 0px 1px 2px rgba(60, 64, 67, 0.3), 0px 1px 3px 1px rgba(60, 64, 67, 0.15);\n",
              "      fill: #174EA6;\n",
              "    }\n",
              "\n",
              "    .colab-df-buttons div {\n",
              "      margin-bottom: 4px;\n",
              "    }\n",
              "\n",
              "    [theme=dark] .colab-df-convert {\n",
              "      background-color: #3B4455;\n",
              "      fill: #D2E3FC;\n",
              "    }\n",
              "\n",
              "    [theme=dark] .colab-df-convert:hover {\n",
              "      background-color: #434B5C;\n",
              "      box-shadow: 0px 1px 3px 1px rgba(0, 0, 0, 0.15);\n",
              "      filter: drop-shadow(0px 1px 2px rgba(0, 0, 0, 0.3));\n",
              "      fill: #FFFFFF;\n",
              "    }\n",
              "  </style>\n",
              "\n",
              "    <script>\n",
              "      const buttonEl =\n",
              "        document.querySelector('#df-d3469f77-8dd2-47bd-8500-51a91a6ca838 button.colab-df-convert');\n",
              "      buttonEl.style.display =\n",
              "        google.colab.kernel.accessAllowed ? 'block' : 'none';\n",
              "\n",
              "      async function convertToInteractive(key) {\n",
              "        const element = document.querySelector('#df-d3469f77-8dd2-47bd-8500-51a91a6ca838');\n",
              "        const dataTable =\n",
              "          await google.colab.kernel.invokeFunction('convertToInteractive',\n",
              "                                                    [key], {});\n",
              "        if (!dataTable) return;\n",
              "\n",
              "        const docLinkHtml = 'Like what you see? Visit the ' +\n",
              "          '<a target=\"_blank\" href=https://colab.research.google.com/notebooks/data_table.ipynb>data table notebook</a>'\n",
              "          + ' to learn more about interactive tables.';\n",
              "        element.innerHTML = '';\n",
              "        dataTable['output_type'] = 'display_data';\n",
              "        await google.colab.output.renderOutput(dataTable, element);\n",
              "        const docLink = document.createElement('div');\n",
              "        docLink.innerHTML = docLinkHtml;\n",
              "        element.appendChild(docLink);\n",
              "      }\n",
              "    </script>\n",
              "  </div>\n",
              "\n",
              "\n",
              "<div id=\"df-3fde7b8b-7ea5-4715-bfd7-9360b3e98622\">\n",
              "  <button class=\"colab-df-quickchart\" onclick=\"quickchart('df-3fde7b8b-7ea5-4715-bfd7-9360b3e98622')\"\n",
              "            title=\"Suggest charts\"\n",
              "            style=\"display:none;\">\n",
              "\n",
              "<svg xmlns=\"http://www.w3.org/2000/svg\" height=\"24px\"viewBox=\"0 0 24 24\"\n",
              "     width=\"24px\">\n",
              "    <g>\n",
              "        <path d=\"M19 3H5c-1.1 0-2 .9-2 2v14c0 1.1.9 2 2 2h14c1.1 0 2-.9 2-2V5c0-1.1-.9-2-2-2zM9 17H7v-7h2v7zm4 0h-2V7h2v10zm4 0h-2v-4h2v4z\"/>\n",
              "    </g>\n",
              "</svg>\n",
              "  </button>\n",
              "\n",
              "<style>\n",
              "  .colab-df-quickchart {\n",
              "      --bg-color: #E8F0FE;\n",
              "      --fill-color: #1967D2;\n",
              "      --hover-bg-color: #E2EBFA;\n",
              "      --hover-fill-color: #174EA6;\n",
              "      --disabled-fill-color: #AAA;\n",
              "      --disabled-bg-color: #DDD;\n",
              "  }\n",
              "\n",
              "  [theme=dark] .colab-df-quickchart {\n",
              "      --bg-color: #3B4455;\n",
              "      --fill-color: #D2E3FC;\n",
              "      --hover-bg-color: #434B5C;\n",
              "      --hover-fill-color: #FFFFFF;\n",
              "      --disabled-bg-color: #3B4455;\n",
              "      --disabled-fill-color: #666;\n",
              "  }\n",
              "\n",
              "  .colab-df-quickchart {\n",
              "    background-color: var(--bg-color);\n",
              "    border: none;\n",
              "    border-radius: 50%;\n",
              "    cursor: pointer;\n",
              "    display: none;\n",
              "    fill: var(--fill-color);\n",
              "    height: 32px;\n",
              "    padding: 0;\n",
              "    width: 32px;\n",
              "  }\n",
              "\n",
              "  .colab-df-quickchart:hover {\n",
              "    background-color: var(--hover-bg-color);\n",
              "    box-shadow: 0 1px 2px rgba(60, 64, 67, 0.3), 0 1px 3px 1px rgba(60, 64, 67, 0.15);\n",
              "    fill: var(--button-hover-fill-color);\n",
              "  }\n",
              "\n",
              "  .colab-df-quickchart-complete:disabled,\n",
              "  .colab-df-quickchart-complete:disabled:hover {\n",
              "    background-color: var(--disabled-bg-color);\n",
              "    fill: var(--disabled-fill-color);\n",
              "    box-shadow: none;\n",
              "  }\n",
              "\n",
              "  .colab-df-spinner {\n",
              "    border: 2px solid var(--fill-color);\n",
              "    border-color: transparent;\n",
              "    border-bottom-color: var(--fill-color);\n",
              "    animation:\n",
              "      spin 1s steps(1) infinite;\n",
              "  }\n",
              "\n",
              "  @keyframes spin {\n",
              "    0% {\n",
              "      border-color: transparent;\n",
              "      border-bottom-color: var(--fill-color);\n",
              "      border-left-color: var(--fill-color);\n",
              "    }\n",
              "    20% {\n",
              "      border-color: transparent;\n",
              "      border-left-color: var(--fill-color);\n",
              "      border-top-color: var(--fill-color);\n",
              "    }\n",
              "    30% {\n",
              "      border-color: transparent;\n",
              "      border-left-color: var(--fill-color);\n",
              "      border-top-color: var(--fill-color);\n",
              "      border-right-color: var(--fill-color);\n",
              "    }\n",
              "    40% {\n",
              "      border-color: transparent;\n",
              "      border-right-color: var(--fill-color);\n",
              "      border-top-color: var(--fill-color);\n",
              "    }\n",
              "    60% {\n",
              "      border-color: transparent;\n",
              "      border-right-color: var(--fill-color);\n",
              "    }\n",
              "    80% {\n",
              "      border-color: transparent;\n",
              "      border-right-color: var(--fill-color);\n",
              "      border-bottom-color: var(--fill-color);\n",
              "    }\n",
              "    90% {\n",
              "      border-color: transparent;\n",
              "      border-bottom-color: var(--fill-color);\n",
              "    }\n",
              "  }\n",
              "</style>\n",
              "\n",
              "  <script>\n",
              "    async function quickchart(key) {\n",
              "      const quickchartButtonEl =\n",
              "        document.querySelector('#' + key + ' button');\n",
              "      quickchartButtonEl.disabled = true;  // To prevent multiple clicks.\n",
              "      quickchartButtonEl.classList.add('colab-df-spinner');\n",
              "      try {\n",
              "        const charts = await google.colab.kernel.invokeFunction(\n",
              "            'suggestCharts', [key], {});\n",
              "      } catch (error) {\n",
              "        console.error('Error during call to suggestCharts:', error);\n",
              "      }\n",
              "      quickchartButtonEl.classList.remove('colab-df-spinner');\n",
              "      quickchartButtonEl.classList.add('colab-df-quickchart-complete');\n",
              "    }\n",
              "    (() => {\n",
              "      let quickchartButtonEl =\n",
              "        document.querySelector('#df-3fde7b8b-7ea5-4715-bfd7-9360b3e98622 button');\n",
              "      quickchartButtonEl.style.display =\n",
              "        google.colab.kernel.accessAllowed ? 'block' : 'none';\n",
              "    })();\n",
              "  </script>\n",
              "</div>\n",
              "\n",
              "    </div>\n",
              "  </div>\n"
            ],
            "application/vnd.google.colaboratory.intrinsic+json": {
              "type": "dataframe",
              "variable_name": "filtered_gnd_subject_names",
              "summary": "{\n  \"name\": \"filtered_gnd_subject_names\",\n  \"rows\": 345,\n  \"fields\": [\n    {\n      \"column\": \"Code\",\n      \"properties\": {\n        \"dtype\": \"string\",\n        \"num_unique_values\": 345,\n        \"samples\": [\n          \"13.5\",\n          \"10.11i\",\n          \"19.1a\"\n        ],\n        \"semantic_type\": \"\",\n        \"description\": \"\"\n      }\n    },\n    {\n      \"column\": \"Name\",\n      \"properties\": {\n        \"dtype\": \"string\",\n        \"num_unique_values\": 344,\n        \"samples\": [\n          \"Kunsthandwerk\",\n          \"Spezielle Informationssysteme, Programme\",\n          \"Physische Geografie\"\n        ],\n        \"semantic_type\": \"\",\n        \"description\": \"\"\n      }\n    },\n    {\n      \"column\": \"TIB Core\",\n      \"properties\": {\n        \"dtype\": \"boolean\",\n        \"num_unique_values\": 2,\n        \"samples\": [\n          false,\n          true\n        ],\n        \"semantic_type\": \"\",\n        \"description\": \"\"\n      }\n    },\n    {\n      \"column\": \"German Description\",\n      \"properties\": {\n        \"dtype\": \"string\",\n        \"num_unique_values\": 345,\n        \"samples\": [\n          \"Fotografie ist die Kunst und Wissenschaft der Erzeugung von Bildern durch die Aufnahme von Licht auf lichtempfindlichen Materialien oder digitalen Sensoren. Sie umfasst verschiedene Techniken, Stile und Genres wie Portr\\u00e4t-, Landschafts-, Architektur- und Dokumentarfotografie. Fotografie dient sowohl als k\\u00fcnstlerisches Ausdrucksmittel als auch als Werkzeug zur Dokumentation und Kommunikation.\",\n          \"Das Fach 'B\\u00fcro, B\\u00fcrokommunikation' befasst sich mit den grundlegenden Kenntnissen und F\\u00e4higkeiten, die f\\u00fcr die effiziente Organisation und Kommunikation in einem B\\u00fcroumfeld erforderlich sind. Es umfasst Themen wie B\\u00fcroorganisation, Schriftverkehr, elektronische Kommunikation, Terminplanung, Datenschutz und die Nutzung von B\\u00fcrotechnologien. Ziel ist es, die Teilnehmer auf die Anforderungen moderner B\\u00fcroarbeit vorzubereiten und ihre Kompetenzen in der professionellen Kommunikation und Verwaltung zu st\\u00e4rken.\"\n        ],\n        \"semantic_type\": \"\",\n        \"description\": \"\"\n      }\n    },\n    {\n      \"column\": \"English Description\",\n      \"properties\": {\n        \"dtype\": \"string\",\n        \"num_unique_values\": 345,\n        \"samples\": [\n          \"Photography is the art and science of creating images by capturing light on light-sensitive materials or digital sensors. It encompasses various techniques, styles, and genres such as portrait, landscape, architecture, and documentary photography. Photography serves both as a means of artistic expression and as a tool for documentation and communication.\",\n          \"The subject 'Office, Office Communication' focuses on the essential knowledge and skills required for efficient organization and communication in an office environment. It covers topics such as office organization, correspondence, electronic communication, scheduling, data protection, and the use of office technologies. The aim is to prepare participants for the demands of modern office work and to enhance their competencies in professional communication and administration.\"\n        ],\n        \"semantic_type\": \"\",\n        \"description\": \"\"\n      }\n    }\n  ]\n}"
            }
          },
          "metadata": {},
          "execution_count": 13
        }
      ]
    },
    {
      "cell_type": "code",
      "source": [
        "#save to csv\n",
        "filtered_gnd_subject_names.to_csv('gnd_subject_names_descriptions.csv', index=False)"
      ],
      "metadata": {
        "id": "CPVFgrYFc_QJ"
      },
      "execution_count": 14,
      "outputs": []
    },
    {
      "cell_type": "code",
      "source": [],
      "metadata": {
        "id": "eLqnho_Hg5dj"
      },
      "execution_count": null,
      "outputs": []
    }
  ],
  "metadata": {
    "colab": {
      "provenance": [],
      "authorship_tag": "ABX9TyMqAFUL0ch+9xx6IBRbDyXr",
      "include_colab_link": true
    },
    "kernelspec": {
      "display_name": "Python 3",
      "name": "python3"
    },
    "language_info": {
      "name": "python"
    }
  },
  "nbformat": 4,
  "nbformat_minor": 0
}