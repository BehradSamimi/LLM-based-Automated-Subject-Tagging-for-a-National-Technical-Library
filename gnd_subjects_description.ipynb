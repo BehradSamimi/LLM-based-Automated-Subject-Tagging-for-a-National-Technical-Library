{
  "cells": [
    {
      "cell_type": "markdown",
      "metadata": {
        "id": "view-in-github",
        "colab_type": "text"
      },
      "source": [
        "<a href=\"https://colab.research.google.com/github/BehradSamimi/semEval-task5-2025/blob/main/gnd_subjects_description.ipynb\" target=\"_parent\"><img src=\"https://colab.research.google.com/assets/colab-badge.svg\" alt=\"Open In Colab\"/></a>"
      ]
    },
    {
      "cell_type": "code",
      "execution_count": 17,
      "metadata": {
        "id": "sziituDBGmTl"
      },
      "outputs": [],
      "source": [
        "import requests\n",
        "import json\n",
        "import pandas as pd\n",
        "\n",
        "# URL of the raw JSON file in the GitHub repository\n",
        "\n",
        "url1 = \"https://raw.githubusercontent.com/jd-coderepos/llms4subjects/refs/heads/main/shared-task-datasets/GND/dataset/gnd-classification-for-gnd-subjects.json\"\n",
        "url2 = \"https://raw.githubusercontent.com/jd-coderepos/llms4subjects/refs/heads/main/shared-task-datasets/GND/dataset/GND-Subjects-all.json\"\n",
        "url3 = \"https://raw.githubusercontent.com/jd-coderepos/llms4subjects/refs/heads/main/shared-task-datasets/GND/dataset/GND-Subjects-tib-core.json\"\n",
        "urls = [url1, url2, url3]\n",
        "\n",
        "data = []\n",
        "for url in urls:\n",
        "  try:\n",
        "      # Send a GET request to fetch the content of the JSON file\n",
        "      response = requests.get(url)\n",
        "      response.raise_for_status()  # Raise an error for HTTP status codes 4xx/5xx\n",
        "\n",
        "      # Parse the JSON content\n",
        "      data.append(response.json())\n",
        "\n",
        "  except requests.exceptions.RequestException as e:\n",
        "      print(f\"Error fetching the JSON file: {e}\")\n",
        "  except json.JSONDecodeError:\n",
        "      print(\"Error decoding JSON. Please check the file format.\")\n",
        "\n",
        "gnd_subject_names = pd.DataFrame(data[0])\n",
        "gnd_subject_all = pd.DataFrame(data[1])\n",
        "gnd_subject_tib_core = pd.DataFrame(data[2])\n",
        "\n"
      ]
    },
    {
      "cell_type": "code",
      "execution_count": 18,
      "metadata": {
        "colab": {
          "base_uri": "https://localhost:8080/"
        },
        "id": "QjSRusd8Hid-",
        "outputId": "6a367096-de7e-4040-ba9c-6cf94097d11e"
      },
      "outputs": [
        {
          "output_type": "stream",
          "name": "stdout",
          "text": [
            "  Code                                              Name  TIB Core\n",
            "0   00                     Unspezifische Allgemeinwörter      True\n",
            "1  00m  Maschinell eingespielte Datensätze (Platzhalter)      True\n",
            "2  00p          Sachlich nicht klassifizierbare Personen      True\n",
            "3    1    Allgemeines, Interdisziplinäre Allgemeinwörter      True\n",
            "4    2                             Schrift, Buch, Presse     False\n",
            "(483, 3)\n",
            "            Code Classification Number            Classification Name  \\\n",
            "0  gnd:4003694-7                    00  Unspezifische Allgemeinwörter   \n",
            "1  gnd:4032393-6                    00  Unspezifische Allgemeinwörter   \n",
            "2  gnd:4038971-6                    00  Unspezifische Allgemeinwörter   \n",
            "3  gnd:4043744-9                    00  Unspezifische Allgemeinwörter   \n",
            "4  gnd:4048300-9                    00  Unspezifische Allgemeinwörter   \n",
            "\n",
            "           Name                                     Alternate Name  \\\n",
            "0   Ausbreitung                                                 []   \n",
            "1  Koordination                                    [Koordinierung]   \n",
            "2       Methode  [Methodik, Verfahren,Methode, Technik,Methode,...   \n",
            "3       Ordnung                                                 []   \n",
            "4        Rahmen                                                 []   \n",
            "\n",
            "      Related Subjects Source  \\\n",
            "0                   []    Du.   \n",
            "1                   []   M 1.   \n",
            "2       [Methodologie]      M   \n",
            "3  [Unordnung, Ordnen]   M 1.   \n",
            "4                   []      M   \n",
            "\n",
            "                                          Definition Source URL  \n",
            "0                                                NaN        NaN  \n",
            "1                    Verknüpfe mit Anwendungsgebiet        NaN  \n",
            "2                                                NaN        NaN  \n",
            "3  Allgemeinbegriff, verknüpfe mit Anwendungsgebiet        NaN  \n",
            "4  Etwas, was einer Sache ein bestimmtes (äußere...        NaN  \n",
            "(204739, 9)\n",
            "            Code Classification Number            Classification Name  \\\n",
            "0  gnd:4003694-7                    00  Unspezifische Allgemeinwörter   \n",
            "1  gnd:4032393-6                    00  Unspezifische Allgemeinwörter   \n",
            "2  gnd:4038971-6                    00  Unspezifische Allgemeinwörter   \n",
            "3  gnd:4043744-9                    00  Unspezifische Allgemeinwörter   \n",
            "4  gnd:4048300-9                    00  Unspezifische Allgemeinwörter   \n",
            "\n",
            "           Name                                     Alternate Name  \\\n",
            "0   Ausbreitung                                                 []   \n",
            "1  Koordination                                    [Koordinierung]   \n",
            "2       Methode  [Methodik, Verfahren,Methode, Technik,Methode,...   \n",
            "3       Ordnung                                                 []   \n",
            "4        Rahmen                                                 []   \n",
            "\n",
            "      Related Subjects Source  \\\n",
            "0                   []    Du.   \n",
            "1                   []   M 1.   \n",
            "2       [Methodologie]      M   \n",
            "3  [Unordnung, Ordnen]   M 1.   \n",
            "4                   []      M   \n",
            "\n",
            "                                          Definition Source URL  \n",
            "0                                                NaN        NaN  \n",
            "1                    Verknüpfe mit Anwendungsgebiet        NaN  \n",
            "2                                                NaN        NaN  \n",
            "3  Allgemeinbegriff, verknüpfe mit Anwendungsgebiet        NaN  \n",
            "4  Etwas, was einer Sache ein bestimmtes (äußere...        NaN  \n",
            "(79427, 9)\n"
          ]
        }
      ],
      "source": [
        "print(gnd_subject_names.head())\n",
        "print(gnd_subject_names.shape)\n",
        "print(gnd_subject_all.head())\n",
        "print(gnd_subject_all.shape)\n",
        "print(gnd_subject_tib_core.head())\n",
        "print(gnd_subject_tib_core.shape)\n"
      ]
    },
    {
      "cell_type": "code",
      "execution_count": 24,
      "metadata": {
        "colab": {
          "base_uri": "https://localhost:8080/"
        },
        "id": "S0T19uVGHsk8",
        "outputId": "1a66f1d8-e329-44f7-ff6c-0e8696bbc6b4"
      },
      "outputs": [
        {
          "output_type": "stream",
          "name": "stdout",
          "text": [
            "  Code                                            Name  TIB Core\n",
            "0   00                   Unspezifische Allgemeinwörter      True\n",
            "3    1  Allgemeines, Interdisziplinäre Allgemeinwörter      True\n",
            "5  2.1                     Schrift, Handschriftenkunde     False\n",
            "7  2.2                    Buchwissenschaft, Buchhandel     False\n",
            "9  2.3                                          Presse     False\n",
            "(345, 3)\n",
            "      Code                                            Name  TIB Core\n",
            "0       00                   Unspezifische Allgemeinwörter      True\n",
            "3        1  Allgemeines, Interdisziplinäre Allgemeinwörter      True\n",
            "196  10.6a                   Telekommunikation und Verkehr      True\n",
            "197  10.6b   Fremdenverkehr, Hotel- und Gaststättengewerbe      True\n",
            "200  10.7a                   Umweltschutz, Umweltbelastung      True\n",
            "(66, 3)\n"
          ]
        }
      ],
      "source": [
        "filtered_gnd_subject_names = gnd_subject_names[gnd_subject_names['Code'].isin(gnd_subject_all['Classification Number'])]\n",
        "print(filtered_gnd_subject_names.head())\n",
        "print(filtered_gnd_subject_names.shape)\n",
        "filtered_gnd_subject_tib_core = filtered_gnd_subject_names[filtered_gnd_subject_names['TIB Core'] == True]\n",
        "print(filtered_gnd_subject_tib_core.head())\n",
        "print(filtered_gnd_subject_tib_core.shape)"
      ]
    },
    {
      "cell_type": "code",
      "source": [],
      "metadata": {
        "id": "m2WGLjRfPr8b"
      },
      "execution_count": null,
      "outputs": []
    }
  ],
  "metadata": {
    "colab": {
      "provenance": [],
      "authorship_tag": "ABX9TyObH4Q6aXSqQW6/8l1USWJ+",
      "include_colab_link": true
    },
    "kernelspec": {
      "display_name": "Python 3",
      "name": "python3"
    },
    "language_info": {
      "name": "python"
    }
  },
  "nbformat": 4,
  "nbformat_minor": 0
}